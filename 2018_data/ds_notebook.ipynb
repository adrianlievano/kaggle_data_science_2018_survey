{
 "cells": [
  {
   "cell_type": "code",
   "execution_count": 22,
   "metadata": {},
   "outputs": [],
   "source": [
    "import pandas as pd\n",
    "import numpy as np\n",
    "import matplotlib as plt\n",
    "import plotly.express as px"
   ]
  },
  {
   "cell_type": "markdown",
   "metadata": {},
   "source": [
    "How is the data science industry changing over time?\n",
    "\n",
    "\n",
    "WHAT ARE THE DEMOGRAPHICS OF THE DATA SCIENCE INDUSTRY AND HOW HAS THAT CHANGED OVER TIME? 2018-(Q1, Q2, Q3, Q4, Q9, Q5)\n",
    "1.) Gender/Pay breakdown\n",
    "2.) Education/Age breakdown \n",
    "3.) Undergraduate degree\n",
    "3.) Country distribution over time how is that changing\n",
    "\n",
    "\n",
    "HOW ARE DATA SCIENTISTS BECOMING DATA SCIENTISTS? 2018-(Q6, Q8, Q18, Q24, Q26, Q35, Q36, Q37, Q38, Q39, Q40)\n",
    "1.) \n",
    "\n",
    "WHAT TOOLS/PROGRAMMING LANGUAGES/ENVIRONMENTS DO DATA SCIENTISTS USE AND HOW HAS THAT CHANGED OVER TIME? 2018-(Q12, Q13, Q14, Q15, Q16, Q17, Q19, Q20, Q21, Q22, Q49, Q27, Q28, Q29, Q30, Q31, Q32, Q33, Q49, Q50)\n",
    "6.) Most used Programming Language? What languages are recommended to learn?\n",
    "7.) Is data science happening more often in the cloud or locally? What type of IDEs?\n",
    "3.) Tools they're using\n",
    "\n",
    "WHAT TYPE OF DATA ARE DATA SCIENTISTS DEALING WITH? \n",
    "1.) Size of data\n",
    "2.) Frequency of data\n",
    "\n",
    "WHAT DO DATA SCIENTISTS DO ON A DAILY BASIS? The Role: 2018-(Q11, Q47, Q48, Q50, Q51, Q23, Q34, Q47)\n",
    "1.) % breakdown of modeling, cleaning, wrangling, communicating, etc.\n",
    "5.) Activities that are part of their job\n",
    "2.) Major barriers to accomplishing their work\n",
    "4.) \n",
    "\n",
    "\n",
    "BIAS IN DATA: WHAT ARE WE DOING TO ADDRESS IT? 2018-(Q41, Q43, Q45, Q46, Q48)\n",
    "1.) Do DS/ML believe in data bias in their algorithms?\n",
    "2\n",
    "\n",
    "INDUSTRY BREAKDOWN: WHERE ARE THE MOST DATA SCIENTISTS? IS IT INDUSTRY AGNOSTIC? 2018-(Q7, Q10, Q42, Q44)"
   ]
  },
  {
   "cell_type": "markdown",
   "metadata": {},
   "source": [
    "# 2019, 2018, 2017 Kaggle ML & DS Survey #\n",
    "### A Comprehensive Survey Analysis of 24,000 Machine Learning & Data Science Practioners####\n",
    "\n",
    "This year, as last year, we set out to conduct an industry-wide survey that presents a truly comprehensive view of the state of data science and machine learning. The survey was live for one week in October, and after cleaning the data we finished with 23,859 responses, a 49% increase over last year!\n",
    "\n",
    "There's a lot to explore here. The results include raw numbers about who is working with data, what’s happening with machine learning in different industries, and the best ways for new data scientists to break into the field. We've published the data in as raw a format as possible without compromising anonymization, which makes it an unusual example of a survey dataset.\n",
    "\n",
    "The challenge objective: tell a data story about a subset of the data science community represented in this survey, through a combination of both narrative text and data exploration. A “story” could be defined any number of ways, and that’s deliberate. The challenge is to deeply explore (through data) the impact, priorities, or concerns of a specific group of data science and machine learning practitioners. That group can be defined in the macro (for example: anyone who does most of their coding in Python) or the micro (for example: female data science students studying machine learning in masters programs). This is an opportunity to be creative and tell the story of a community you identify with or are passionate about!\n",
    "\n",
    "Submissions will be evaluated on the following:\n",
    "\n",
    "Composition - Is there a clear narrative thread to the story that’s articulated and supported by data? The subject should be well defined, well researched, and well supported through the use of data and visualizations.\n",
    "Originality - Does the reader learn something new through this submission? Or is the reader challenged to think about something in a new way? A great entry will be informative, thought provoking, and fresh all at the same time.\n",
    "Documentation - Are your code, and kernel, and additional data sources well documented so a reader can understand what you did? Are your sources clearly cited? A high quality analysis should be concise and clear at each step so the rationale is easy to follow and the process is reproducible"
   ]
  },
  {
   "cell_type": "code",
   "execution_count": 23,
   "metadata": {},
   "outputs": [
    {
     "name": "stderr",
     "output_type": "stream",
     "text": [
      "/Users/adrianlievano/anaconda3/lib/python3.6/site-packages/IPython/core/interactiveshell.py:2728: DtypeWarning:\n",
      "\n",
      "Columns (25) have mixed types. Specify dtype option on import or set low_memory=False.\n",
      "\n",
      "/Users/adrianlievano/anaconda3/lib/python3.6/site-packages/IPython/core/interactiveshell.py:2728: DtypeWarning:\n",
      "\n",
      "Columns (0,2,8,10,21,23,24,25,26,27,28,44,56,64,83,85,87,107,109,123,125,150,157,172,174,194,210,218,219,223,246,249,262,264,276,277,278,279,280,281,282,283,284,285,286,287,288,289,290,304,306,325,326,329,341,368,371,384,385,389,390,391,393,394) have mixed types. Specify dtype option on import or set low_memory=False.\n",
      "\n"
     ]
    }
   ],
   "source": [
    "df_freeForm = pd.read_csv('kaggle-survey-2018/freeFormResponses.csv')\n",
    "df_multi_choice = pd.read_csv('kaggle-survey-2018/multipleChoiceResponses.csv')\n",
    "df_survey_schema = pd.read_csv('kaggle-survey-2018/SurveySchema.csv')"
   ]
  },
  {
   "cell_type": "code",
   "execution_count": 24,
   "metadata": {},
   "outputs": [
    {
     "data": {
      "text/html": [
       "<div>\n",
       "<style scoped>\n",
       "    .dataframe tbody tr th:only-of-type {\n",
       "        vertical-align: middle;\n",
       "    }\n",
       "\n",
       "    .dataframe tbody tr th {\n",
       "        vertical-align: top;\n",
       "    }\n",
       "\n",
       "    .dataframe thead th {\n",
       "        text-align: right;\n",
       "    }\n",
       "</style>\n",
       "<table border=\"1\" class=\"dataframe\">\n",
       "  <thead>\n",
       "    <tr style=\"text-align: right;\">\n",
       "      <th></th>\n",
       "      <th>2018 Kaggle Machine Learning and Data Science Survey</th>\n",
       "      <th>Q1</th>\n",
       "      <th>Q10</th>\n",
       "      <th>Q11</th>\n",
       "      <th>Q12</th>\n",
       "      <th>Q13</th>\n",
       "      <th>Q14</th>\n",
       "      <th>Q15</th>\n",
       "      <th>Q16</th>\n",
       "      <th>Q17</th>\n",
       "      <th>...</th>\n",
       "      <th>Q47</th>\n",
       "      <th>Q48</th>\n",
       "      <th>Q49</th>\n",
       "      <th>Q5</th>\n",
       "      <th>Q50</th>\n",
       "      <th>Q6</th>\n",
       "      <th>Q7</th>\n",
       "      <th>Q8</th>\n",
       "      <th>Q9</th>\n",
       "      <th>Time from Start to Finish (seconds)</th>\n",
       "    </tr>\n",
       "  </thead>\n",
       "  <tbody>\n",
       "    <tr>\n",
       "      <th>0</th>\n",
       "      <td>Question:</td>\n",
       "      <td>What is your gender? - Selected Choice</td>\n",
       "      <td>Does your current employer incorporate machine...</td>\n",
       "      <td>Select any activities that make up an importan...</td>\n",
       "      <td>What is the primary tool that you use at work ...</td>\n",
       "      <td>Which of the following integrated development ...</td>\n",
       "      <td>Which of the following hosted notebooks have y...</td>\n",
       "      <td>Which of the following cloud computing service...</td>\n",
       "      <td>What programming languages do you use on a reg...</td>\n",
       "      <td>What specific programming language do you use ...</td>\n",
       "      <td>...</td>\n",
       "      <td>What methods do you prefer for explaining and/...</td>\n",
       "      <td>Do you consider ML models to be \"black boxes\" ...</td>\n",
       "      <td>What tools and methods do you use to make your...</td>\n",
       "      <td>Which best describes your undergraduate major?...</td>\n",
       "      <td>What barriers prevent you from making your wor...</td>\n",
       "      <td>Select the title most similar to your current ...</td>\n",
       "      <td>In what industry is your current employer/cont...</td>\n",
       "      <td>How many years of experience do you have in yo...</td>\n",
       "      <td>What is your current yearly compensation (appr...</td>\n",
       "      <td>Duration (in seconds)</td>\n",
       "    </tr>\n",
       "    <tr>\n",
       "      <th>1</th>\n",
       "      <td># of Respondents:</td>\n",
       "      <td>23860</td>\n",
       "      <td>20670</td>\n",
       "      <td>19518</td>\n",
       "      <td>19199</td>\n",
       "      <td>19117</td>\n",
       "      <td>18971</td>\n",
       "      <td>18864</td>\n",
       "      <td>18828</td>\n",
       "      <td>15223</td>\n",
       "      <td>...</td>\n",
       "      <td>13418</td>\n",
       "      <td>13369</td>\n",
       "      <td>12891</td>\n",
       "      <td>22948</td>\n",
       "      <td>12814</td>\n",
       "      <td>22901</td>\n",
       "      <td>21686</td>\n",
       "      <td>21102</td>\n",
       "      <td>20186</td>\n",
       "      <td>23860</td>\n",
       "    </tr>\n",
       "    <tr>\n",
       "      <th>2</th>\n",
       "      <td>Who was excluded? (0 = not excluded; 1 = exclu...</td>\n",
       "      <td>0</td>\n",
       "      <td>0</td>\n",
       "      <td>0</td>\n",
       "      <td>0</td>\n",
       "      <td>0</td>\n",
       "      <td>0</td>\n",
       "      <td>0</td>\n",
       "      <td>0</td>\n",
       "      <td>0</td>\n",
       "      <td>...</td>\n",
       "      <td>0</td>\n",
       "      <td>0</td>\n",
       "      <td>0</td>\n",
       "      <td>0</td>\n",
       "      <td>0</td>\n",
       "      <td>0</td>\n",
       "      <td>0</td>\n",
       "      <td>0</td>\n",
       "      <td>0</td>\n",
       "      <td>0</td>\n",
       "    </tr>\n",
       "    <tr>\n",
       "      <th>3</th>\n",
       "      <td>If What is your age (# years)? 0-17 Is Selecte...</td>\n",
       "      <td>0</td>\n",
       "      <td>1</td>\n",
       "      <td>1</td>\n",
       "      <td>1</td>\n",
       "      <td>1</td>\n",
       "      <td>1</td>\n",
       "      <td>1</td>\n",
       "      <td>1</td>\n",
       "      <td>1</td>\n",
       "      <td>...</td>\n",
       "      <td>1</td>\n",
       "      <td>1</td>\n",
       "      <td>1</td>\n",
       "      <td>1</td>\n",
       "      <td>1</td>\n",
       "      <td>1</td>\n",
       "      <td>1</td>\n",
       "      <td>1</td>\n",
       "      <td>1</td>\n",
       "      <td>0</td>\n",
       "    </tr>\n",
       "    <tr>\n",
       "      <th>4</th>\n",
       "      <td>If What is the highest level of formal educati...</td>\n",
       "      <td>0</td>\n",
       "      <td>0</td>\n",
       "      <td>0</td>\n",
       "      <td>0</td>\n",
       "      <td>0</td>\n",
       "      <td>0</td>\n",
       "      <td>0</td>\n",
       "      <td>0</td>\n",
       "      <td>0</td>\n",
       "      <td>...</td>\n",
       "      <td>0</td>\n",
       "      <td>0</td>\n",
       "      <td>0</td>\n",
       "      <td>1</td>\n",
       "      <td>0</td>\n",
       "      <td>0</td>\n",
       "      <td>0</td>\n",
       "      <td>0</td>\n",
       "      <td>0</td>\n",
       "      <td>0</td>\n",
       "    </tr>\n",
       "  </tbody>\n",
       "</table>\n",
       "<p>5 rows × 52 columns</p>\n",
       "</div>"
      ],
      "text/plain": [
       "  2018 Kaggle Machine Learning and Data Science Survey  \\\n",
       "0                                          Question:     \n",
       "1                                  # of Respondents:     \n",
       "2  Who was excluded? (0 = not excluded; 1 = exclu...     \n",
       "3  If What is your age (# years)? 0-17 Is Selecte...     \n",
       "4  If What is the highest level of formal educati...     \n",
       "\n",
       "                                       Q1  \\\n",
       "0  What is your gender? - Selected Choice   \n",
       "1                                   23860   \n",
       "2                                       0   \n",
       "3                                       0   \n",
       "4                                       0   \n",
       "\n",
       "                                                 Q10  \\\n",
       "0  Does your current employer incorporate machine...   \n",
       "1                                              20670   \n",
       "2                                                  0   \n",
       "3                                                  1   \n",
       "4                                                  0   \n",
       "\n",
       "                                                 Q11  \\\n",
       "0  Select any activities that make up an importan...   \n",
       "1                                              19518   \n",
       "2                                                  0   \n",
       "3                                                  1   \n",
       "4                                                  0   \n",
       "\n",
       "                                                 Q12  \\\n",
       "0  What is the primary tool that you use at work ...   \n",
       "1                                              19199   \n",
       "2                                                  0   \n",
       "3                                                  1   \n",
       "4                                                  0   \n",
       "\n",
       "                                                 Q13  \\\n",
       "0  Which of the following integrated development ...   \n",
       "1                                              19117   \n",
       "2                                                  0   \n",
       "3                                                  1   \n",
       "4                                                  0   \n",
       "\n",
       "                                                 Q14  \\\n",
       "0  Which of the following hosted notebooks have y...   \n",
       "1                                              18971   \n",
       "2                                                  0   \n",
       "3                                                  1   \n",
       "4                                                  0   \n",
       "\n",
       "                                                 Q15  \\\n",
       "0  Which of the following cloud computing service...   \n",
       "1                                              18864   \n",
       "2                                                  0   \n",
       "3                                                  1   \n",
       "4                                                  0   \n",
       "\n",
       "                                                 Q16  \\\n",
       "0  What programming languages do you use on a reg...   \n",
       "1                                              18828   \n",
       "2                                                  0   \n",
       "3                                                  1   \n",
       "4                                                  0   \n",
       "\n",
       "                                                 Q17  \\\n",
       "0  What specific programming language do you use ...   \n",
       "1                                              15223   \n",
       "2                                                  0   \n",
       "3                                                  1   \n",
       "4                                                  0   \n",
       "\n",
       "                  ...                  \\\n",
       "0                 ...                   \n",
       "1                 ...                   \n",
       "2                 ...                   \n",
       "3                 ...                   \n",
       "4                 ...                   \n",
       "\n",
       "                                                 Q47  \\\n",
       "0  What methods do you prefer for explaining and/...   \n",
       "1                                              13418   \n",
       "2                                                  0   \n",
       "3                                                  1   \n",
       "4                                                  0   \n",
       "\n",
       "                                                 Q48  \\\n",
       "0  Do you consider ML models to be \"black boxes\" ...   \n",
       "1                                              13369   \n",
       "2                                                  0   \n",
       "3                                                  1   \n",
       "4                                                  0   \n",
       "\n",
       "                                                 Q49  \\\n",
       "0  What tools and methods do you use to make your...   \n",
       "1                                              12891   \n",
       "2                                                  0   \n",
       "3                                                  1   \n",
       "4                                                  0   \n",
       "\n",
       "                                                  Q5  \\\n",
       "0  Which best describes your undergraduate major?...   \n",
       "1                                              22948   \n",
       "2                                                  0   \n",
       "3                                                  1   \n",
       "4                                                  1   \n",
       "\n",
       "                                                 Q50  \\\n",
       "0  What barriers prevent you from making your wor...   \n",
       "1                                              12814   \n",
       "2                                                  0   \n",
       "3                                                  1   \n",
       "4                                                  0   \n",
       "\n",
       "                                                  Q6  \\\n",
       "0  Select the title most similar to your current ...   \n",
       "1                                              22901   \n",
       "2                                                  0   \n",
       "3                                                  1   \n",
       "4                                                  0   \n",
       "\n",
       "                                                  Q7  \\\n",
       "0  In what industry is your current employer/cont...   \n",
       "1                                              21686   \n",
       "2                                                  0   \n",
       "3                                                  1   \n",
       "4                                                  0   \n",
       "\n",
       "                                                  Q8  \\\n",
       "0  How many years of experience do you have in yo...   \n",
       "1                                              21102   \n",
       "2                                                  0   \n",
       "3                                                  1   \n",
       "4                                                  0   \n",
       "\n",
       "                                                  Q9  \\\n",
       "0  What is your current yearly compensation (appr...   \n",
       "1                                              20186   \n",
       "2                                                  0   \n",
       "3                                                  1   \n",
       "4                                                  0   \n",
       "\n",
       "  Time from Start to Finish (seconds)  \n",
       "0               Duration (in seconds)  \n",
       "1                               23860  \n",
       "2                                   0  \n",
       "3                                   0  \n",
       "4                                   0  \n",
       "\n",
       "[5 rows x 52 columns]"
      ]
     },
     "execution_count": 24,
     "metadata": {},
     "output_type": "execute_result"
    }
   ],
   "source": [
    "df_survey_schema.head()"
   ]
  },
  {
   "cell_type": "code",
   "execution_count": 25,
   "metadata": {},
   "outputs": [
    {
     "data": {
      "text/plain": [
       "52"
      ]
     },
     "execution_count": 25,
     "metadata": {},
     "output_type": "execute_result"
    }
   ],
   "source": [
    "columns = df_survey_schema.columns[0:]\n",
    "len(columns)"
   ]
  },
  {
   "cell_type": "markdown",
   "metadata": {},
   "source": [
    "## Print and format all the questions in the 2018 Kaggle Survey "
   ]
  },
  {
   "cell_type": "code",
   "execution_count": 26,
   "metadata": {},
   "outputs": [
    {
     "name": "stdout",
     "output_type": "stream",
     "text": [
      "There are 52 questions in this survey\n",
      " \n",
      "2018 Kaggle Machine Learning and Data Science Survey\n",
      "Question:\n",
      " \n",
      " \n",
      "Q1\n",
      "What is your gender? - Selected Choice\n",
      " \n",
      " \n",
      "Q10\n",
      "Does your current employer incorporate machine learning methods into their business?\n",
      " \n",
      " \n",
      "Q11\n",
      "Select any activities that make up an important part of your role at work: (Select all that apply) - Selected Choice\n",
      " \n",
      " \n",
      "Q12\n",
      "What is the primary tool that you use at work or school to analyze data? (include text response) - Selected Choice\n",
      " \n",
      " \n",
      "Q13\n",
      "Which of the following integrated development environments (IDE's) have you used at work or school in the last 5 years? (Select all that apply) - Selected Choice\n",
      " \n",
      " \n",
      "Q14\n",
      "Which of the following hosted notebooks have you used at work or school in the last 5 years? (Select all that apply) - Selected Choice\n",
      " \n",
      " \n",
      "Q15\n",
      "Which of the following cloud computing services have you used at work or school in the last 5 years? (Select all that apply) - Selected Choice\n",
      " \n",
      " \n",
      "Q16\n",
      "What programming languages do you use on a regular basis? (Select all that apply) - Selected Choice\n",
      " \n",
      " \n",
      "Q17\n",
      "What specific programming language do you use most often? - Selected Choice\n",
      " \n",
      " \n",
      "Q18\n",
      "What programming language would you recommend an aspiring data scientist to learn first? - Selected Choice\n",
      " \n",
      " \n",
      "Q19\n",
      "What machine learning frameworks have you used in the past 5 years? (Select all that apply) - Selected Choice\n",
      " \n",
      " \n",
      "Q2\n",
      "What is your age (# years)?\n",
      " \n",
      " \n",
      "Q20\n",
      "Of the choices that you selected in the previous question, which ML library have you used the most? - Selected Choice\n",
      " \n",
      " \n",
      "Q21\n",
      "What data visualization libraries or tools have you used in the past 5 years? (Select all that apply) - Selected Choice\n",
      " \n",
      " \n",
      "Q22\n",
      "Of the choices that you selected in the previous question, which specific data visualization library or tool have you used the most? - Selected Choice\n",
      " \n",
      " \n",
      "Q23\n",
      "Approximately what percent of your time at work or school is spent actively coding?\n",
      " \n",
      " \n",
      "Q24\n",
      "How long have you been writing code to analyze data?\n",
      " \n",
      " \n",
      "Q25\n",
      "For how many years have you used machine learning methods (at work or in school)?\n",
      " \n",
      " \n",
      "Q26\n",
      "Do you consider yourself to be a data scientist?\n",
      " \n",
      " \n",
      "Q27\n",
      "Which of the following cloud computing products have you used at work or school in the last 5 years (Select all that apply)? - Selected Choice\n",
      " \n",
      " \n",
      "Q28\n",
      "Which of the following machine learning products have you used at work or school in the last 5 years? (Select all that apply) - Selected Choice\n",
      " \n",
      " \n",
      "Q29\n",
      "Which of the following relational database products have you used at work or school in the last 5 years? (Select all that apply) - Selected Choice\n",
      " \n",
      " \n",
      "Q3\n",
      "In which country do you currently reside?\n",
      " \n",
      " \n",
      "Q30\n",
      "Which of the following big data and analytics products have you used at work or school in the last 5 years? (Select all that apply) - Selected Choice\n",
      " \n",
      " \n",
      "Q31\n",
      "Which types of data do you currently interact with most often at work or school? (Select all that apply) - Selected Choice\n",
      " \n",
      " \n",
      "Q32\n",
      "What is the type of data that you currently interact with most often at work or school? - Selected Choice\n",
      " \n",
      " \n",
      "Q33\n",
      "Where do you find public datasets? (Select all that apply) - Selected Choice\n",
      " \n",
      " \n",
      "Q34\n",
      "During a typical data science project at work or school, approximately what proportion of your time is devoted to the following? (Answers must add up to 100%) - Cleaning data\n",
      " \n",
      " \n",
      "Q35\n",
      "What percentage of your current machine learning/data science training falls under each category? (Answers must add up to 100%) - Self-taught\n",
      " \n",
      " \n",
      "Q36\n",
      "On which online platforms have you begun or completed data science courses? (Select all that apply) - Selected Choice\n",
      " \n",
      " \n",
      "Q37\n",
      "On which online platform have you spent the most amount of time? - Selected Choice\n",
      " \n",
      " \n",
      "Q38\n",
      "Who/what are your favorite media sources that report on data science topics? (Select all that apply) - Selected Choice\n",
      " \n",
      " \n",
      "Q39\n",
      "How do you perceive the quality of online learning platforms and in-person bootcamps as compared to the quality of the education provided by traditional brick and mortar institutions? - Online learning platforms and MOOCs:\n",
      " \n",
      " \n",
      "Q4\n",
      "What is the highest level of formal education that you have attained or plan to attain within the next 2 years?\n",
      " \n",
      " \n",
      "Q40\n",
      "Which better demonstrates expertise in data science: academic achievements or independent projects? - Your views:\n",
      " \n",
      " \n",
      "Q41\n",
      "How do you perceive the importance of the following topics? - Fairness and bias in ML algorithms:\n",
      " \n",
      " \n",
      "Q42\n",
      "What metrics do you or your organization use to determine whether or not your models were successful? (Select all that apply) - Selected Choice\n",
      " \n",
      " \n",
      "Q43\n",
      "Approximately what percent of your data projects involved exploring unfair bias in the dataset and/or algorithm?\n",
      " \n",
      " \n",
      "Q44\n",
      "What do you find most difficult about ensuring that your algorithms are fair and unbiased? (Select all that apply)\n",
      " \n",
      " \n",
      "Q45\n",
      "In what circumstances would you explore model insights and interpret your model's predictions? (Select all that apply)\n",
      " \n",
      " \n",
      "Q46\n",
      "Approximately what percent of your data projects involve exploring model insights?\n",
      " \n",
      " \n",
      "Q47\n",
      "What methods do you prefer for explaining and/or interpreting decisions that are made by ML models? (Select all that apply) - Selected Choice\n",
      " \n",
      " \n",
      "Q48\n",
      "Do you consider ML models to be \"black boxes\" with outputs that are difficult or impossible to explain?\n",
      " \n",
      " \n",
      "Q49\n",
      "What tools and methods do you use to make your work easy to reproduce? (Select all that apply) - Selected Choice\n",
      " \n",
      " \n",
      "Q5\n",
      "Which best describes your undergraduate major? - Selected Choice\n",
      " \n",
      " \n",
      "Q50\n",
      "What barriers prevent you from making your work even easier to reuse and reproduce? (Select all that apply) - Selected Choice\n",
      " \n",
      " \n",
      "Q6\n",
      "Select the title most similar to your current role (or most recent title if retired): - Selected Choice\n",
      " \n",
      " \n",
      "Q7\n",
      "In what industry is your current employer/contract (or your most recent employer if retired)? - Selected Choice\n",
      " \n",
      " \n",
      "Q8\n",
      "How many years of experience do you have in your current role?\n",
      " \n",
      " \n",
      "Q9\n",
      "What is your current yearly compensation (approximate $USD)?\n",
      " \n",
      " \n",
      "Time from Start to Finish (seconds)\n",
      "Duration (in seconds)\n",
      " \n"
     ]
    }
   ],
   "source": [
    "print('There are {} questions in this survey'.format(len(df_survey_schema.iloc[0])))\n",
    "\n",
    "for i in range(len(df_survey_schema.iloc[0])):\n",
    "    \n",
    "    print(' ')\n",
    "    print(columns[i])\n",
    "    print(df_survey_schema.iloc[0][i])\n",
    "    print(' ')\n",
    "    "
   ]
  },
  {
   "cell_type": "code",
   "execution_count": 27,
   "metadata": {},
   "outputs": [
    {
     "data": {
      "text/html": [
       "<div>\n",
       "<style scoped>\n",
       "    .dataframe tbody tr th:only-of-type {\n",
       "        vertical-align: middle;\n",
       "    }\n",
       "\n",
       "    .dataframe tbody tr th {\n",
       "        vertical-align: top;\n",
       "    }\n",
       "\n",
       "    .dataframe thead th {\n",
       "        text-align: right;\n",
       "    }\n",
       "</style>\n",
       "<table border=\"1\" class=\"dataframe\">\n",
       "  <thead>\n",
       "    <tr style=\"text-align: right;\">\n",
       "      <th></th>\n",
       "      <th>Time from Start to Finish (seconds)</th>\n",
       "      <th>Q1</th>\n",
       "      <th>Q1_OTHER_TEXT</th>\n",
       "      <th>Q2</th>\n",
       "      <th>Q3</th>\n",
       "      <th>Q4</th>\n",
       "      <th>Q5</th>\n",
       "      <th>Q6</th>\n",
       "      <th>Q6_OTHER_TEXT</th>\n",
       "      <th>Q7</th>\n",
       "      <th>...</th>\n",
       "      <th>Q49_OTHER_TEXT</th>\n",
       "      <th>Q50_Part_1</th>\n",
       "      <th>Q50_Part_2</th>\n",
       "      <th>Q50_Part_3</th>\n",
       "      <th>Q50_Part_4</th>\n",
       "      <th>Q50_Part_5</th>\n",
       "      <th>Q50_Part_6</th>\n",
       "      <th>Q50_Part_7</th>\n",
       "      <th>Q50_Part_8</th>\n",
       "      <th>Q50_OTHER_TEXT</th>\n",
       "    </tr>\n",
       "  </thead>\n",
       "  <tbody>\n",
       "    <tr>\n",
       "      <th>1</th>\n",
       "      <td>710</td>\n",
       "      <td>Female</td>\n",
       "      <td>-1</td>\n",
       "      <td>45-49</td>\n",
       "      <td>United States of America</td>\n",
       "      <td>Doctoral degree</td>\n",
       "      <td>Other</td>\n",
       "      <td>Consultant</td>\n",
       "      <td>-1</td>\n",
       "      <td>Other</td>\n",
       "      <td>...</td>\n",
       "      <td>-1</td>\n",
       "      <td>NaN</td>\n",
       "      <td>NaN</td>\n",
       "      <td>NaN</td>\n",
       "      <td>NaN</td>\n",
       "      <td>NaN</td>\n",
       "      <td>NaN</td>\n",
       "      <td>NaN</td>\n",
       "      <td>NaN</td>\n",
       "      <td>-1</td>\n",
       "    </tr>\n",
       "    <tr>\n",
       "      <th>2</th>\n",
       "      <td>434</td>\n",
       "      <td>Male</td>\n",
       "      <td>-1</td>\n",
       "      <td>30-34</td>\n",
       "      <td>Indonesia</td>\n",
       "      <td>Bachelor’s degree</td>\n",
       "      <td>Engineering (non-computer focused)</td>\n",
       "      <td>Other</td>\n",
       "      <td>0</td>\n",
       "      <td>Manufacturing/Fabrication</td>\n",
       "      <td>...</td>\n",
       "      <td>-1</td>\n",
       "      <td>NaN</td>\n",
       "      <td>NaN</td>\n",
       "      <td>NaN</td>\n",
       "      <td>NaN</td>\n",
       "      <td>NaN</td>\n",
       "      <td>NaN</td>\n",
       "      <td>NaN</td>\n",
       "      <td>NaN</td>\n",
       "      <td>-1</td>\n",
       "    </tr>\n",
       "    <tr>\n",
       "      <th>3</th>\n",
       "      <td>718</td>\n",
       "      <td>Female</td>\n",
       "      <td>-1</td>\n",
       "      <td>30-34</td>\n",
       "      <td>United States of America</td>\n",
       "      <td>Master’s degree</td>\n",
       "      <td>Computer science (software engineering, etc.)</td>\n",
       "      <td>Data Scientist</td>\n",
       "      <td>-1</td>\n",
       "      <td>I am a student</td>\n",
       "      <td>...</td>\n",
       "      <td>-1</td>\n",
       "      <td>NaN</td>\n",
       "      <td>Too time-consuming</td>\n",
       "      <td>NaN</td>\n",
       "      <td>NaN</td>\n",
       "      <td>NaN</td>\n",
       "      <td>NaN</td>\n",
       "      <td>NaN</td>\n",
       "      <td>NaN</td>\n",
       "      <td>-1</td>\n",
       "    </tr>\n",
       "    <tr>\n",
       "      <th>4</th>\n",
       "      <td>621</td>\n",
       "      <td>Male</td>\n",
       "      <td>-1</td>\n",
       "      <td>35-39</td>\n",
       "      <td>United States of America</td>\n",
       "      <td>Master’s degree</td>\n",
       "      <td>Social sciences (anthropology, psychology, soc...</td>\n",
       "      <td>Not employed</td>\n",
       "      <td>-1</td>\n",
       "      <td>NaN</td>\n",
       "      <td>...</td>\n",
       "      <td>-1</td>\n",
       "      <td>NaN</td>\n",
       "      <td>NaN</td>\n",
       "      <td>Requires too much technical knowledge</td>\n",
       "      <td>NaN</td>\n",
       "      <td>Not enough incentives to share my work</td>\n",
       "      <td>NaN</td>\n",
       "      <td>NaN</td>\n",
       "      <td>NaN</td>\n",
       "      <td>-1</td>\n",
       "    </tr>\n",
       "    <tr>\n",
       "      <th>5</th>\n",
       "      <td>731</td>\n",
       "      <td>Male</td>\n",
       "      <td>-1</td>\n",
       "      <td>22-24</td>\n",
       "      <td>India</td>\n",
       "      <td>Master’s degree</td>\n",
       "      <td>Mathematics or statistics</td>\n",
       "      <td>Data Analyst</td>\n",
       "      <td>-1</td>\n",
       "      <td>I am a student</td>\n",
       "      <td>...</td>\n",
       "      <td>-1</td>\n",
       "      <td>NaN</td>\n",
       "      <td>Too time-consuming</td>\n",
       "      <td>NaN</td>\n",
       "      <td>NaN</td>\n",
       "      <td>Not enough incentives to share my work</td>\n",
       "      <td>NaN</td>\n",
       "      <td>NaN</td>\n",
       "      <td>NaN</td>\n",
       "      <td>-1</td>\n",
       "    </tr>\n",
       "  </tbody>\n",
       "</table>\n",
       "<p>5 rows × 395 columns</p>\n",
       "</div>"
      ],
      "text/plain": [
       "  Time from Start to Finish (seconds)      Q1 Q1_OTHER_TEXT     Q2  \\\n",
       "1                                 710  Female            -1  45-49   \n",
       "2                                 434    Male            -1  30-34   \n",
       "3                                 718  Female            -1  30-34   \n",
       "4                                 621    Male            -1  35-39   \n",
       "5                                 731    Male            -1  22-24   \n",
       "\n",
       "                         Q3                 Q4  \\\n",
       "1  United States of America    Doctoral degree   \n",
       "2                 Indonesia  Bachelor’s degree   \n",
       "3  United States of America    Master’s degree   \n",
       "4  United States of America    Master’s degree   \n",
       "5                     India    Master’s degree   \n",
       "\n",
       "                                                  Q5              Q6  \\\n",
       "1                                              Other      Consultant   \n",
       "2                 Engineering (non-computer focused)           Other   \n",
       "3      Computer science (software engineering, etc.)  Data Scientist   \n",
       "4  Social sciences (anthropology, psychology, soc...    Not employed   \n",
       "5                          Mathematics or statistics    Data Analyst   \n",
       "\n",
       "  Q6_OTHER_TEXT                         Q7      ...       Q49_OTHER_TEXT  \\\n",
       "1            -1                      Other      ...                   -1   \n",
       "2             0  Manufacturing/Fabrication      ...                   -1   \n",
       "3            -1             I am a student      ...                   -1   \n",
       "4            -1                        NaN      ...                   -1   \n",
       "5            -1             I am a student      ...                   -1   \n",
       "\n",
       "  Q50_Part_1          Q50_Part_2                             Q50_Part_3  \\\n",
       "1        NaN                 NaN                                    NaN   \n",
       "2        NaN                 NaN                                    NaN   \n",
       "3        NaN  Too time-consuming                                    NaN   \n",
       "4        NaN                 NaN  Requires too much technical knowledge   \n",
       "5        NaN  Too time-consuming                                    NaN   \n",
       "\n",
       "  Q50_Part_4                              Q50_Part_5 Q50_Part_6 Q50_Part_7  \\\n",
       "1        NaN                                     NaN        NaN        NaN   \n",
       "2        NaN                                     NaN        NaN        NaN   \n",
       "3        NaN                                     NaN        NaN        NaN   \n",
       "4        NaN  Not enough incentives to share my work        NaN        NaN   \n",
       "5        NaN  Not enough incentives to share my work        NaN        NaN   \n",
       "\n",
       "  Q50_Part_8 Q50_OTHER_TEXT  \n",
       "1        NaN             -1  \n",
       "2        NaN             -1  \n",
       "3        NaN             -1  \n",
       "4        NaN             -1  \n",
       "5        NaN             -1  \n",
       "\n",
       "[5 rows x 395 columns]"
      ]
     },
     "execution_count": 27,
     "metadata": {},
     "output_type": "execute_result"
    }
   ],
   "source": [
    "#Remove row 1 and reset index to 0 to make analysis easier\n",
    "df_multi_choice = df_multi_choice[1:]\n",
    "df_multi_choice.head()"
   ]
  },
  {
   "cell_type": "code",
   "execution_count": 28,
   "metadata": {},
   "outputs": [
    {
     "data": {
      "text/html": [
       "<div>\n",
       "<style scoped>\n",
       "    .dataframe tbody tr th:only-of-type {\n",
       "        vertical-align: middle;\n",
       "    }\n",
       "\n",
       "    .dataframe tbody tr th {\n",
       "        vertical-align: top;\n",
       "    }\n",
       "\n",
       "    .dataframe thead th {\n",
       "        text-align: right;\n",
       "    }\n",
       "</style>\n",
       "<table border=\"1\" class=\"dataframe\">\n",
       "  <thead>\n",
       "    <tr style=\"text-align: right;\">\n",
       "      <th></th>\n",
       "      <th>Q1</th>\n",
       "      <th>Q9</th>\n",
       "      <th>count</th>\n",
       "    </tr>\n",
       "  </thead>\n",
       "  <tbody>\n",
       "    <tr>\n",
       "      <th>36</th>\n",
       "      <td>Male</td>\n",
       "      <td>I do not wish to disclose my approximate yearl...</td>\n",
       "      <td>3759</td>\n",
       "    </tr>\n",
       "    <tr>\n",
       "      <th>18</th>\n",
       "      <td>Male</td>\n",
       "      <td>0-10,000</td>\n",
       "      <td>3610</td>\n",
       "    </tr>\n",
       "    <tr>\n",
       "      <th>19</th>\n",
       "      <td>Male</td>\n",
       "      <td>10-20,000</td>\n",
       "      <td>1616</td>\n",
       "    </tr>\n",
       "    <tr>\n",
       "      <th>23</th>\n",
       "      <td>Male</td>\n",
       "      <td>20-30,000</td>\n",
       "      <td>1181</td>\n",
       "    </tr>\n",
       "    <tr>\n",
       "      <th>26</th>\n",
       "      <td>Male</td>\n",
       "      <td>30-40,000</td>\n",
       "      <td>933</td>\n",
       "    </tr>\n",
       "  </tbody>\n",
       "</table>\n",
       "</div>"
      ],
      "text/plain": [
       "      Q1                                                 Q9  count\n",
       "36  Male  I do not wish to disclose my approximate yearl...   3759\n",
       "18  Male                                           0-10,000   3610\n",
       "19  Male                                          10-20,000   1616\n",
       "23  Male                                          20-30,000   1181\n",
       "26  Male                                          30-40,000    933"
      ]
     },
     "execution_count": 28,
     "metadata": {},
     "output_type": "execute_result"
    }
   ],
   "source": [
    "df_test = pd.DataFrame({'count' : df_multi_choice.groupby([ \"Q1\", \"Q9\"] ).size()}).reset_index().sort_values(by = 'count', ascending = False)\n",
    "df_test.head()\n",
    "\n"
   ]
  },
  {
   "cell_type": "code",
   "execution_count": 29,
   "metadata": {},
   "outputs": [
    {
     "data": {
      "application/vnd.plotly.v1+json": {
       "config": {
        "plotlyServerURL": "https://plot.ly"
       },
       "data": [
        {
         "alignmentgroup": "True",
         "hoverlabel": {
          "namelength": 0
         },
         "hovertemplate": "Q1=Male<br>Q9=%{x}<br>count=%{y}",
         "legendgroup": "Q1=Male",
         "marker": {
          "color": "#636efa"
         },
         "name": "Q1=Male",
         "offsetgroup": "Q1=Male",
         "orientation": "v",
         "showlegend": true,
         "textposition": "auto",
         "type": "bar",
         "x": [
          "I do not wish to disclose my approximate yearly compensation",
          "0-10,000",
          "10-20,000",
          "20-30,000",
          "30-40,000",
          "40-50,000",
          "50-60,000",
          "100-125,000",
          "60-70,000",
          "70-80,000",
          "90-100,000",
          "125-150,000",
          "150-200,000",
          "80-90,000",
          "200-250,000",
          "250-300,000",
          "300-400,000",
          "500,000+",
          "400-500,000"
         ],
         "xaxis": "x",
         "y": [
          3759,
          3610,
          1616,
          1181,
          933,
          792,
          758,
          713,
          621,
          582,
          477,
          441,
          403,
          399,
          163,
          67,
          45,
          42,
          23
         ],
         "yaxis": "y"
        },
        {
         "alignmentgroup": "True",
         "hoverlabel": {
          "namelength": 0
         },
         "hovertemplate": "Q1=Female<br>Q9=%{x}<br>count=%{y}",
         "legendgroup": "Q1=Female",
         "marker": {
          "color": "#EF553B"
         },
         "name": "Q1=Female",
         "offsetgroup": "Q1=Female",
         "orientation": "v",
         "showlegend": true,
         "textposition": "auto",
         "type": "bar",
         "x": [
          "I do not wish to disclose my approximate yearly compensation",
          "0-10,000",
          "10-20,000",
          "20-30,000",
          "30-40,000",
          "40-50,000",
          "50-60,000",
          "100-125,000",
          "60-70,000",
          "80-90,000",
          "70-80,000",
          "125-150,000",
          "90-100,000",
          "150-200,000",
          "500,000+",
          "250-300,000",
          "200-250,000",
          "300-400,000"
         ],
         "xaxis": "x",
         "y": [
          864,
          753,
          293,
          199,
          176,
          158,
          150,
          118,
          102,
          101,
          91,
          87,
          82,
          46,
          8,
          7,
          5,
          4
         ],
         "yaxis": "y"
        },
        {
         "alignmentgroup": "True",
         "hoverlabel": {
          "namelength": 0
         },
         "hovertemplate": "Q1=Prefer not to say<br>Q9=%{x}<br>count=%{y}",
         "legendgroup": "Q1=Prefer not to say",
         "marker": {
          "color": "#00cc96"
         },
         "name": "Q1=Prefer not to say",
         "offsetgroup": "Q1=Prefer not to say",
         "orientation": "v",
         "showlegend": true,
         "textposition": "auto",
         "type": "bar",
         "x": [
          "I do not wish to disclose my approximate yearly compensation",
          "10-20,000",
          "0-10,000",
          "40-50,000",
          "50-60,000",
          "20-30,000",
          "100-125,000",
          "150-200,000",
          "500,000+",
          "30-40,000",
          "70-80,000",
          "80-90,000",
          "90-100,000",
          "125-150,000",
          "300-400,000",
          "200-250,000",
          "60-70,000"
         ],
         "xaxis": "x",
         "y": [
          115,
          24,
          23,
          12,
          10,
          9,
          8,
          7,
          6,
          6,
          4,
          4,
          4,
          4,
          3,
          3,
          3
         ],
         "yaxis": "y"
        },
        {
         "alignmentgroup": "True",
         "hoverlabel": {
          "namelength": 0
         },
         "hovertemplate": "Q1=Prefer to self-describe<br>Q9=%{x}<br>count=%{y}",
         "legendgroup": "Q1=Prefer to self-describe",
         "marker": {
          "color": "#ab63fa"
         },
         "name": "Q1=Prefer to self-describe",
         "offsetgroup": "Q1=Prefer to self-describe",
         "orientation": "v",
         "showlegend": true,
         "textposition": "auto",
         "type": "bar",
         "x": [
          "I do not wish to disclose my approximate yearly compensation",
          "0-10,000",
          "500,000+",
          "20-30,000",
          "30-40,000",
          "10-20,000",
          "100-125,000",
          "90-100,000",
          "60-70,000",
          "40-50,000",
          "80-90,000",
          "250-300,000",
          "200-250,000",
          "50-60,000",
          "125-150,000",
          "150-200,000"
         ],
         "xaxis": "x",
         "y": [
          18,
          12,
          7,
          6,
          4,
          4,
          4,
          3,
          3,
          3,
          2,
          1,
          1,
          1,
          1,
          1
         ],
         "yaxis": "y"
        }
       ],
       "layout": {
        "barmode": "group",
        "height": 600,
        "legend": {
         "tracegroupgap": 0
        },
        "template": {
         "data": {
          "bar": [
           {
            "error_x": {
             "color": "#2a3f5f"
            },
            "error_y": {
             "color": "#2a3f5f"
            },
            "marker": {
             "line": {
              "color": "#E5ECF6",
              "width": 0.5
             }
            },
            "type": "bar"
           }
          ],
          "barpolar": [
           {
            "marker": {
             "line": {
              "color": "#E5ECF6",
              "width": 0.5
             }
            },
            "type": "barpolar"
           }
          ],
          "carpet": [
           {
            "aaxis": {
             "endlinecolor": "#2a3f5f",
             "gridcolor": "white",
             "linecolor": "white",
             "minorgridcolor": "white",
             "startlinecolor": "#2a3f5f"
            },
            "baxis": {
             "endlinecolor": "#2a3f5f",
             "gridcolor": "white",
             "linecolor": "white",
             "minorgridcolor": "white",
             "startlinecolor": "#2a3f5f"
            },
            "type": "carpet"
           }
          ],
          "choropleth": [
           {
            "colorbar": {
             "outlinewidth": 0,
             "ticks": ""
            },
            "type": "choropleth"
           }
          ],
          "contour": [
           {
            "colorbar": {
             "outlinewidth": 0,
             "ticks": ""
            },
            "colorscale": [
             [
              0,
              "#0d0887"
             ],
             [
              0.1111111111111111,
              "#46039f"
             ],
             [
              0.2222222222222222,
              "#7201a8"
             ],
             [
              0.3333333333333333,
              "#9c179e"
             ],
             [
              0.4444444444444444,
              "#bd3786"
             ],
             [
              0.5555555555555556,
              "#d8576b"
             ],
             [
              0.6666666666666666,
              "#ed7953"
             ],
             [
              0.7777777777777778,
              "#fb9f3a"
             ],
             [
              0.8888888888888888,
              "#fdca26"
             ],
             [
              1,
              "#f0f921"
             ]
            ],
            "type": "contour"
           }
          ],
          "contourcarpet": [
           {
            "colorbar": {
             "outlinewidth": 0,
             "ticks": ""
            },
            "type": "contourcarpet"
           }
          ],
          "heatmap": [
           {
            "colorbar": {
             "outlinewidth": 0,
             "ticks": ""
            },
            "colorscale": [
             [
              0,
              "#0d0887"
             ],
             [
              0.1111111111111111,
              "#46039f"
             ],
             [
              0.2222222222222222,
              "#7201a8"
             ],
             [
              0.3333333333333333,
              "#9c179e"
             ],
             [
              0.4444444444444444,
              "#bd3786"
             ],
             [
              0.5555555555555556,
              "#d8576b"
             ],
             [
              0.6666666666666666,
              "#ed7953"
             ],
             [
              0.7777777777777778,
              "#fb9f3a"
             ],
             [
              0.8888888888888888,
              "#fdca26"
             ],
             [
              1,
              "#f0f921"
             ]
            ],
            "type": "heatmap"
           }
          ],
          "heatmapgl": [
           {
            "colorbar": {
             "outlinewidth": 0,
             "ticks": ""
            },
            "colorscale": [
             [
              0,
              "#0d0887"
             ],
             [
              0.1111111111111111,
              "#46039f"
             ],
             [
              0.2222222222222222,
              "#7201a8"
             ],
             [
              0.3333333333333333,
              "#9c179e"
             ],
             [
              0.4444444444444444,
              "#bd3786"
             ],
             [
              0.5555555555555556,
              "#d8576b"
             ],
             [
              0.6666666666666666,
              "#ed7953"
             ],
             [
              0.7777777777777778,
              "#fb9f3a"
             ],
             [
              0.8888888888888888,
              "#fdca26"
             ],
             [
              1,
              "#f0f921"
             ]
            ],
            "type": "heatmapgl"
           }
          ],
          "histogram": [
           {
            "marker": {
             "colorbar": {
              "outlinewidth": 0,
              "ticks": ""
             }
            },
            "type": "histogram"
           }
          ],
          "histogram2d": [
           {
            "colorbar": {
             "outlinewidth": 0,
             "ticks": ""
            },
            "colorscale": [
             [
              0,
              "#0d0887"
             ],
             [
              0.1111111111111111,
              "#46039f"
             ],
             [
              0.2222222222222222,
              "#7201a8"
             ],
             [
              0.3333333333333333,
              "#9c179e"
             ],
             [
              0.4444444444444444,
              "#bd3786"
             ],
             [
              0.5555555555555556,
              "#d8576b"
             ],
             [
              0.6666666666666666,
              "#ed7953"
             ],
             [
              0.7777777777777778,
              "#fb9f3a"
             ],
             [
              0.8888888888888888,
              "#fdca26"
             ],
             [
              1,
              "#f0f921"
             ]
            ],
            "type": "histogram2d"
           }
          ],
          "histogram2dcontour": [
           {
            "colorbar": {
             "outlinewidth": 0,
             "ticks": ""
            },
            "colorscale": [
             [
              0,
              "#0d0887"
             ],
             [
              0.1111111111111111,
              "#46039f"
             ],
             [
              0.2222222222222222,
              "#7201a8"
             ],
             [
              0.3333333333333333,
              "#9c179e"
             ],
             [
              0.4444444444444444,
              "#bd3786"
             ],
             [
              0.5555555555555556,
              "#d8576b"
             ],
             [
              0.6666666666666666,
              "#ed7953"
             ],
             [
              0.7777777777777778,
              "#fb9f3a"
             ],
             [
              0.8888888888888888,
              "#fdca26"
             ],
             [
              1,
              "#f0f921"
             ]
            ],
            "type": "histogram2dcontour"
           }
          ],
          "mesh3d": [
           {
            "colorbar": {
             "outlinewidth": 0,
             "ticks": ""
            },
            "type": "mesh3d"
           }
          ],
          "parcoords": [
           {
            "line": {
             "colorbar": {
              "outlinewidth": 0,
              "ticks": ""
             }
            },
            "type": "parcoords"
           }
          ],
          "scatter": [
           {
            "marker": {
             "colorbar": {
              "outlinewidth": 0,
              "ticks": ""
             }
            },
            "type": "scatter"
           }
          ],
          "scatter3d": [
           {
            "line": {
             "colorbar": {
              "outlinewidth": 0,
              "ticks": ""
             }
            },
            "marker": {
             "colorbar": {
              "outlinewidth": 0,
              "ticks": ""
             }
            },
            "type": "scatter3d"
           }
          ],
          "scattercarpet": [
           {
            "marker": {
             "colorbar": {
              "outlinewidth": 0,
              "ticks": ""
             }
            },
            "type": "scattercarpet"
           }
          ],
          "scattergeo": [
           {
            "marker": {
             "colorbar": {
              "outlinewidth": 0,
              "ticks": ""
             }
            },
            "type": "scattergeo"
           }
          ],
          "scattergl": [
           {
            "marker": {
             "colorbar": {
              "outlinewidth": 0,
              "ticks": ""
             }
            },
            "type": "scattergl"
           }
          ],
          "scattermapbox": [
           {
            "marker": {
             "colorbar": {
              "outlinewidth": 0,
              "ticks": ""
             }
            },
            "type": "scattermapbox"
           }
          ],
          "scatterpolar": [
           {
            "marker": {
             "colorbar": {
              "outlinewidth": 0,
              "ticks": ""
             }
            },
            "type": "scatterpolar"
           }
          ],
          "scatterpolargl": [
           {
            "marker": {
             "colorbar": {
              "outlinewidth": 0,
              "ticks": ""
             }
            },
            "type": "scatterpolargl"
           }
          ],
          "scatterternary": [
           {
            "marker": {
             "colorbar": {
              "outlinewidth": 0,
              "ticks": ""
             }
            },
            "type": "scatterternary"
           }
          ],
          "surface": [
           {
            "colorbar": {
             "outlinewidth": 0,
             "ticks": ""
            },
            "colorscale": [
             [
              0,
              "#0d0887"
             ],
             [
              0.1111111111111111,
              "#46039f"
             ],
             [
              0.2222222222222222,
              "#7201a8"
             ],
             [
              0.3333333333333333,
              "#9c179e"
             ],
             [
              0.4444444444444444,
              "#bd3786"
             ],
             [
              0.5555555555555556,
              "#d8576b"
             ],
             [
              0.6666666666666666,
              "#ed7953"
             ],
             [
              0.7777777777777778,
              "#fb9f3a"
             ],
             [
              0.8888888888888888,
              "#fdca26"
             ],
             [
              1,
              "#f0f921"
             ]
            ],
            "type": "surface"
           }
          ],
          "table": [
           {
            "cells": {
             "fill": {
              "color": "#EBF0F8"
             },
             "line": {
              "color": "white"
             }
            },
            "header": {
             "fill": {
              "color": "#C8D4E3"
             },
             "line": {
              "color": "white"
             }
            },
            "type": "table"
           }
          ]
         },
         "layout": {
          "annotationdefaults": {
           "arrowcolor": "#2a3f5f",
           "arrowhead": 0,
           "arrowwidth": 1
          },
          "colorscale": {
           "diverging": [
            [
             0,
             "#8e0152"
            ],
            [
             0.1,
             "#c51b7d"
            ],
            [
             0.2,
             "#de77ae"
            ],
            [
             0.3,
             "#f1b6da"
            ],
            [
             0.4,
             "#fde0ef"
            ],
            [
             0.5,
             "#f7f7f7"
            ],
            [
             0.6,
             "#e6f5d0"
            ],
            [
             0.7,
             "#b8e186"
            ],
            [
             0.8,
             "#7fbc41"
            ],
            [
             0.9,
             "#4d9221"
            ],
            [
             1,
             "#276419"
            ]
           ],
           "sequential": [
            [
             0,
             "#0d0887"
            ],
            [
             0.1111111111111111,
             "#46039f"
            ],
            [
             0.2222222222222222,
             "#7201a8"
            ],
            [
             0.3333333333333333,
             "#9c179e"
            ],
            [
             0.4444444444444444,
             "#bd3786"
            ],
            [
             0.5555555555555556,
             "#d8576b"
            ],
            [
             0.6666666666666666,
             "#ed7953"
            ],
            [
             0.7777777777777778,
             "#fb9f3a"
            ],
            [
             0.8888888888888888,
             "#fdca26"
            ],
            [
             1,
             "#f0f921"
            ]
           ],
           "sequentialminus": [
            [
             0,
             "#0d0887"
            ],
            [
             0.1111111111111111,
             "#46039f"
            ],
            [
             0.2222222222222222,
             "#7201a8"
            ],
            [
             0.3333333333333333,
             "#9c179e"
            ],
            [
             0.4444444444444444,
             "#bd3786"
            ],
            [
             0.5555555555555556,
             "#d8576b"
            ],
            [
             0.6666666666666666,
             "#ed7953"
            ],
            [
             0.7777777777777778,
             "#fb9f3a"
            ],
            [
             0.8888888888888888,
             "#fdca26"
            ],
            [
             1,
             "#f0f921"
            ]
           ]
          },
          "colorway": [
           "#636efa",
           "#EF553B",
           "#00cc96",
           "#ab63fa",
           "#FFA15A",
           "#19d3f3",
           "#FF6692",
           "#B6E880",
           "#FF97FF",
           "#FECB52"
          ],
          "font": {
           "color": "#2a3f5f"
          },
          "geo": {
           "bgcolor": "white",
           "lakecolor": "white",
           "landcolor": "#E5ECF6",
           "showlakes": true,
           "showland": true,
           "subunitcolor": "white"
          },
          "hoverlabel": {
           "align": "left"
          },
          "hovermode": "closest",
          "mapbox": {
           "style": "light"
          },
          "paper_bgcolor": "white",
          "plot_bgcolor": "#E5ECF6",
          "polar": {
           "angularaxis": {
            "gridcolor": "white",
            "linecolor": "white",
            "ticks": ""
           },
           "bgcolor": "#E5ECF6",
           "radialaxis": {
            "gridcolor": "white",
            "linecolor": "white",
            "ticks": ""
           }
          },
          "scene": {
           "xaxis": {
            "backgroundcolor": "#E5ECF6",
            "gridcolor": "white",
            "gridwidth": 2,
            "linecolor": "white",
            "showbackground": true,
            "ticks": "",
            "zerolinecolor": "white"
           },
           "yaxis": {
            "backgroundcolor": "#E5ECF6",
            "gridcolor": "white",
            "gridwidth": 2,
            "linecolor": "white",
            "showbackground": true,
            "ticks": "",
            "zerolinecolor": "white"
           },
           "zaxis": {
            "backgroundcolor": "#E5ECF6",
            "gridcolor": "white",
            "gridwidth": 2,
            "linecolor": "white",
            "showbackground": true,
            "ticks": "",
            "zerolinecolor": "white"
           }
          },
          "shapedefaults": {
           "line": {
            "color": "#2a3f5f"
           }
          },
          "ternary": {
           "aaxis": {
            "gridcolor": "white",
            "linecolor": "white",
            "ticks": ""
           },
           "baxis": {
            "gridcolor": "white",
            "linecolor": "white",
            "ticks": ""
           },
           "bgcolor": "#E5ECF6",
           "caxis": {
            "gridcolor": "white",
            "linecolor": "white",
            "ticks": ""
           }
          },
          "title": {
           "x": 0.05
          },
          "xaxis": {
           "automargin": true,
           "gridcolor": "white",
           "linecolor": "white",
           "ticks": "",
           "zerolinecolor": "white",
           "zerolinewidth": 2
          },
          "yaxis": {
           "automargin": true,
           "gridcolor": "white",
           "linecolor": "white",
           "ticks": "",
           "zerolinecolor": "white",
           "zerolinewidth": 2
          }
         }
        },
        "title": {
         "text": "Compensation breakdown per Gender Category"
        },
        "xaxis": {
         "anchor": "y",
         "domain": [
          0,
          0.98
         ],
         "title": {
          "text": "Q9"
         }
        },
        "yaxis": {
         "anchor": "x",
         "domain": [
          0,
          1
         ],
         "title": {
          "text": "count"
         }
        }
       }
      },
      "text/html": [
       "<div>\n",
       "        \n",
       "        \n",
       "            <div id=\"2ef01c59-6077-4a19-98cf-39cf627c1a07\" class=\"plotly-graph-div\" style=\"height:600px; width:100%;\"></div>\n",
       "            <script type=\"text/javascript\">\n",
       "                require([\"plotly\"], function(Plotly) {\n",
       "                    window.PLOTLYENV=window.PLOTLYENV || {};\n",
       "                    \n",
       "                if (document.getElementById(\"2ef01c59-6077-4a19-98cf-39cf627c1a07\")) {\n",
       "                    Plotly.newPlot(\n",
       "                        '2ef01c59-6077-4a19-98cf-39cf627c1a07',\n",
       "                        [{\"alignmentgroup\": \"True\", \"hoverlabel\": {\"namelength\": 0}, \"hovertemplate\": \"Q1=Male<br>Q9=%{x}<br>count=%{y}\", \"legendgroup\": \"Q1=Male\", \"marker\": {\"color\": \"#636efa\"}, \"name\": \"Q1=Male\", \"offsetgroup\": \"Q1=Male\", \"orientation\": \"v\", \"showlegend\": true, \"textposition\": \"auto\", \"type\": \"bar\", \"x\": [\"I do not wish to disclose my approximate yearly compensation\", \"0-10,000\", \"10-20,000\", \"20-30,000\", \"30-40,000\", \"40-50,000\", \"50-60,000\", \"100-125,000\", \"60-70,000\", \"70-80,000\", \"90-100,000\", \"125-150,000\", \"150-200,000\", \"80-90,000\", \"200-250,000\", \"250-300,000\", \"300-400,000\", \"500,000+\", \"400-500,000\"], \"xaxis\": \"x\", \"y\": [3759, 3610, 1616, 1181, 933, 792, 758, 713, 621, 582, 477, 441, 403, 399, 163, 67, 45, 42, 23], \"yaxis\": \"y\"}, {\"alignmentgroup\": \"True\", \"hoverlabel\": {\"namelength\": 0}, \"hovertemplate\": \"Q1=Female<br>Q9=%{x}<br>count=%{y}\", \"legendgroup\": \"Q1=Female\", \"marker\": {\"color\": \"#EF553B\"}, \"name\": \"Q1=Female\", \"offsetgroup\": \"Q1=Female\", \"orientation\": \"v\", \"showlegend\": true, \"textposition\": \"auto\", \"type\": \"bar\", \"x\": [\"I do not wish to disclose my approximate yearly compensation\", \"0-10,000\", \"10-20,000\", \"20-30,000\", \"30-40,000\", \"40-50,000\", \"50-60,000\", \"100-125,000\", \"60-70,000\", \"80-90,000\", \"70-80,000\", \"125-150,000\", \"90-100,000\", \"150-200,000\", \"500,000+\", \"250-300,000\", \"200-250,000\", \"300-400,000\"], \"xaxis\": \"x\", \"y\": [864, 753, 293, 199, 176, 158, 150, 118, 102, 101, 91, 87, 82, 46, 8, 7, 5, 4], \"yaxis\": \"y\"}, {\"alignmentgroup\": \"True\", \"hoverlabel\": {\"namelength\": 0}, \"hovertemplate\": \"Q1=Prefer not to say<br>Q9=%{x}<br>count=%{y}\", \"legendgroup\": \"Q1=Prefer not to say\", \"marker\": {\"color\": \"#00cc96\"}, \"name\": \"Q1=Prefer not to say\", \"offsetgroup\": \"Q1=Prefer not to say\", \"orientation\": \"v\", \"showlegend\": true, \"textposition\": \"auto\", \"type\": \"bar\", \"x\": [\"I do not wish to disclose my approximate yearly compensation\", \"10-20,000\", \"0-10,000\", \"40-50,000\", \"50-60,000\", \"20-30,000\", \"100-125,000\", \"150-200,000\", \"500,000+\", \"30-40,000\", \"70-80,000\", \"80-90,000\", \"90-100,000\", \"125-150,000\", \"300-400,000\", \"200-250,000\", \"60-70,000\"], \"xaxis\": \"x\", \"y\": [115, 24, 23, 12, 10, 9, 8, 7, 6, 6, 4, 4, 4, 4, 3, 3, 3], \"yaxis\": \"y\"}, {\"alignmentgroup\": \"True\", \"hoverlabel\": {\"namelength\": 0}, \"hovertemplate\": \"Q1=Prefer to self-describe<br>Q9=%{x}<br>count=%{y}\", \"legendgroup\": \"Q1=Prefer to self-describe\", \"marker\": {\"color\": \"#ab63fa\"}, \"name\": \"Q1=Prefer to self-describe\", \"offsetgroup\": \"Q1=Prefer to self-describe\", \"orientation\": \"v\", \"showlegend\": true, \"textposition\": \"auto\", \"type\": \"bar\", \"x\": [\"I do not wish to disclose my approximate yearly compensation\", \"0-10,000\", \"500,000+\", \"20-30,000\", \"30-40,000\", \"10-20,000\", \"100-125,000\", \"90-100,000\", \"60-70,000\", \"40-50,000\", \"80-90,000\", \"250-300,000\", \"200-250,000\", \"50-60,000\", \"125-150,000\", \"150-200,000\"], \"xaxis\": \"x\", \"y\": [18, 12, 7, 6, 4, 4, 4, 3, 3, 3, 2, 1, 1, 1, 1, 1], \"yaxis\": \"y\"}],\n",
       "                        {\"barmode\": \"group\", \"height\": 600, \"legend\": {\"tracegroupgap\": 0}, \"template\": {\"data\": {\"bar\": [{\"error_x\": {\"color\": \"#2a3f5f\"}, \"error_y\": {\"color\": \"#2a3f5f\"}, \"marker\": {\"line\": {\"color\": \"#E5ECF6\", \"width\": 0.5}}, \"type\": \"bar\"}], \"barpolar\": [{\"marker\": {\"line\": {\"color\": \"#E5ECF6\", \"width\": 0.5}}, \"type\": \"barpolar\"}], \"carpet\": [{\"aaxis\": {\"endlinecolor\": \"#2a3f5f\", \"gridcolor\": \"white\", \"linecolor\": \"white\", \"minorgridcolor\": \"white\", \"startlinecolor\": \"#2a3f5f\"}, \"baxis\": {\"endlinecolor\": \"#2a3f5f\", \"gridcolor\": \"white\", \"linecolor\": \"white\", \"minorgridcolor\": \"white\", \"startlinecolor\": \"#2a3f5f\"}, \"type\": \"carpet\"}], \"choropleth\": [{\"colorbar\": {\"outlinewidth\": 0, \"ticks\": \"\"}, \"type\": \"choropleth\"}], \"contour\": [{\"colorbar\": {\"outlinewidth\": 0, \"ticks\": \"\"}, \"colorscale\": [[0.0, \"#0d0887\"], [0.1111111111111111, \"#46039f\"], [0.2222222222222222, \"#7201a8\"], [0.3333333333333333, \"#9c179e\"], [0.4444444444444444, \"#bd3786\"], [0.5555555555555556, \"#d8576b\"], [0.6666666666666666, \"#ed7953\"], [0.7777777777777778, \"#fb9f3a\"], [0.8888888888888888, \"#fdca26\"], [1.0, \"#f0f921\"]], \"type\": \"contour\"}], \"contourcarpet\": [{\"colorbar\": {\"outlinewidth\": 0, \"ticks\": \"\"}, \"type\": \"contourcarpet\"}], \"heatmap\": [{\"colorbar\": {\"outlinewidth\": 0, \"ticks\": \"\"}, \"colorscale\": [[0.0, \"#0d0887\"], [0.1111111111111111, \"#46039f\"], [0.2222222222222222, \"#7201a8\"], [0.3333333333333333, \"#9c179e\"], [0.4444444444444444, \"#bd3786\"], [0.5555555555555556, \"#d8576b\"], [0.6666666666666666, \"#ed7953\"], [0.7777777777777778, \"#fb9f3a\"], [0.8888888888888888, \"#fdca26\"], [1.0, \"#f0f921\"]], \"type\": \"heatmap\"}], \"heatmapgl\": [{\"colorbar\": {\"outlinewidth\": 0, \"ticks\": \"\"}, \"colorscale\": [[0.0, \"#0d0887\"], [0.1111111111111111, \"#46039f\"], [0.2222222222222222, \"#7201a8\"], [0.3333333333333333, \"#9c179e\"], [0.4444444444444444, \"#bd3786\"], [0.5555555555555556, \"#d8576b\"], [0.6666666666666666, \"#ed7953\"], [0.7777777777777778, \"#fb9f3a\"], [0.8888888888888888, \"#fdca26\"], [1.0, \"#f0f921\"]], \"type\": \"heatmapgl\"}], \"histogram\": [{\"marker\": {\"colorbar\": {\"outlinewidth\": 0, \"ticks\": \"\"}}, \"type\": \"histogram\"}], \"histogram2d\": [{\"colorbar\": {\"outlinewidth\": 0, \"ticks\": \"\"}, \"colorscale\": [[0.0, \"#0d0887\"], [0.1111111111111111, \"#46039f\"], [0.2222222222222222, \"#7201a8\"], [0.3333333333333333, \"#9c179e\"], [0.4444444444444444, \"#bd3786\"], [0.5555555555555556, \"#d8576b\"], [0.6666666666666666, \"#ed7953\"], [0.7777777777777778, \"#fb9f3a\"], [0.8888888888888888, \"#fdca26\"], [1.0, \"#f0f921\"]], \"type\": \"histogram2d\"}], \"histogram2dcontour\": [{\"colorbar\": {\"outlinewidth\": 0, \"ticks\": \"\"}, \"colorscale\": [[0.0, \"#0d0887\"], [0.1111111111111111, \"#46039f\"], [0.2222222222222222, \"#7201a8\"], [0.3333333333333333, \"#9c179e\"], [0.4444444444444444, \"#bd3786\"], [0.5555555555555556, \"#d8576b\"], [0.6666666666666666, \"#ed7953\"], [0.7777777777777778, \"#fb9f3a\"], [0.8888888888888888, \"#fdca26\"], [1.0, \"#f0f921\"]], \"type\": \"histogram2dcontour\"}], \"mesh3d\": [{\"colorbar\": {\"outlinewidth\": 0, \"ticks\": \"\"}, \"type\": \"mesh3d\"}], \"parcoords\": [{\"line\": {\"colorbar\": {\"outlinewidth\": 0, \"ticks\": \"\"}}, \"type\": \"parcoords\"}], \"scatter\": [{\"marker\": {\"colorbar\": {\"outlinewidth\": 0, \"ticks\": \"\"}}, \"type\": \"scatter\"}], \"scatter3d\": [{\"line\": {\"colorbar\": {\"outlinewidth\": 0, \"ticks\": \"\"}}, \"marker\": {\"colorbar\": {\"outlinewidth\": 0, \"ticks\": \"\"}}, \"type\": \"scatter3d\"}], \"scattercarpet\": [{\"marker\": {\"colorbar\": {\"outlinewidth\": 0, \"ticks\": \"\"}}, \"type\": \"scattercarpet\"}], \"scattergeo\": [{\"marker\": {\"colorbar\": {\"outlinewidth\": 0, \"ticks\": \"\"}}, \"type\": \"scattergeo\"}], \"scattergl\": [{\"marker\": {\"colorbar\": {\"outlinewidth\": 0, \"ticks\": \"\"}}, \"type\": \"scattergl\"}], \"scattermapbox\": [{\"marker\": {\"colorbar\": {\"outlinewidth\": 0, \"ticks\": \"\"}}, \"type\": \"scattermapbox\"}], \"scatterpolar\": [{\"marker\": {\"colorbar\": {\"outlinewidth\": 0, \"ticks\": \"\"}}, \"type\": \"scatterpolar\"}], \"scatterpolargl\": [{\"marker\": {\"colorbar\": {\"outlinewidth\": 0, \"ticks\": \"\"}}, \"type\": \"scatterpolargl\"}], \"scatterternary\": [{\"marker\": {\"colorbar\": {\"outlinewidth\": 0, \"ticks\": \"\"}}, \"type\": \"scatterternary\"}], \"surface\": [{\"colorbar\": {\"outlinewidth\": 0, \"ticks\": \"\"}, \"colorscale\": [[0.0, \"#0d0887\"], [0.1111111111111111, \"#46039f\"], [0.2222222222222222, \"#7201a8\"], [0.3333333333333333, \"#9c179e\"], [0.4444444444444444, \"#bd3786\"], [0.5555555555555556, \"#d8576b\"], [0.6666666666666666, \"#ed7953\"], [0.7777777777777778, \"#fb9f3a\"], [0.8888888888888888, \"#fdca26\"], [1.0, \"#f0f921\"]], \"type\": \"surface\"}], \"table\": [{\"cells\": {\"fill\": {\"color\": \"#EBF0F8\"}, \"line\": {\"color\": \"white\"}}, \"header\": {\"fill\": {\"color\": \"#C8D4E3\"}, \"line\": {\"color\": \"white\"}}, \"type\": \"table\"}]}, \"layout\": {\"annotationdefaults\": {\"arrowcolor\": \"#2a3f5f\", \"arrowhead\": 0, \"arrowwidth\": 1}, \"colorscale\": {\"diverging\": [[0, \"#8e0152\"], [0.1, \"#c51b7d\"], [0.2, \"#de77ae\"], [0.3, \"#f1b6da\"], [0.4, \"#fde0ef\"], [0.5, \"#f7f7f7\"], [0.6, \"#e6f5d0\"], [0.7, \"#b8e186\"], [0.8, \"#7fbc41\"], [0.9, \"#4d9221\"], [1, \"#276419\"]], \"sequential\": [[0.0, \"#0d0887\"], [0.1111111111111111, \"#46039f\"], [0.2222222222222222, \"#7201a8\"], [0.3333333333333333, \"#9c179e\"], [0.4444444444444444, \"#bd3786\"], [0.5555555555555556, \"#d8576b\"], [0.6666666666666666, \"#ed7953\"], [0.7777777777777778, \"#fb9f3a\"], [0.8888888888888888, \"#fdca26\"], [1.0, \"#f0f921\"]], \"sequentialminus\": [[0.0, \"#0d0887\"], [0.1111111111111111, \"#46039f\"], [0.2222222222222222, \"#7201a8\"], [0.3333333333333333, \"#9c179e\"], [0.4444444444444444, \"#bd3786\"], [0.5555555555555556, \"#d8576b\"], [0.6666666666666666, \"#ed7953\"], [0.7777777777777778, \"#fb9f3a\"], [0.8888888888888888, \"#fdca26\"], [1.0, \"#f0f921\"]]}, \"colorway\": [\"#636efa\", \"#EF553B\", \"#00cc96\", \"#ab63fa\", \"#FFA15A\", \"#19d3f3\", \"#FF6692\", \"#B6E880\", \"#FF97FF\", \"#FECB52\"], \"font\": {\"color\": \"#2a3f5f\"}, \"geo\": {\"bgcolor\": \"white\", \"lakecolor\": \"white\", \"landcolor\": \"#E5ECF6\", \"showlakes\": true, \"showland\": true, \"subunitcolor\": \"white\"}, \"hoverlabel\": {\"align\": \"left\"}, \"hovermode\": \"closest\", \"mapbox\": {\"style\": \"light\"}, \"paper_bgcolor\": \"white\", \"plot_bgcolor\": \"#E5ECF6\", \"polar\": {\"angularaxis\": {\"gridcolor\": \"white\", \"linecolor\": \"white\", \"ticks\": \"\"}, \"bgcolor\": \"#E5ECF6\", \"radialaxis\": {\"gridcolor\": \"white\", \"linecolor\": \"white\", \"ticks\": \"\"}}, \"scene\": {\"xaxis\": {\"backgroundcolor\": \"#E5ECF6\", \"gridcolor\": \"white\", \"gridwidth\": 2, \"linecolor\": \"white\", \"showbackground\": true, \"ticks\": \"\", \"zerolinecolor\": \"white\"}, \"yaxis\": {\"backgroundcolor\": \"#E5ECF6\", \"gridcolor\": \"white\", \"gridwidth\": 2, \"linecolor\": \"white\", \"showbackground\": true, \"ticks\": \"\", \"zerolinecolor\": \"white\"}, \"zaxis\": {\"backgroundcolor\": \"#E5ECF6\", \"gridcolor\": \"white\", \"gridwidth\": 2, \"linecolor\": \"white\", \"showbackground\": true, \"ticks\": \"\", \"zerolinecolor\": \"white\"}}, \"shapedefaults\": {\"line\": {\"color\": \"#2a3f5f\"}}, \"ternary\": {\"aaxis\": {\"gridcolor\": \"white\", \"linecolor\": \"white\", \"ticks\": \"\"}, \"baxis\": {\"gridcolor\": \"white\", \"linecolor\": \"white\", \"ticks\": \"\"}, \"bgcolor\": \"#E5ECF6\", \"caxis\": {\"gridcolor\": \"white\", \"linecolor\": \"white\", \"ticks\": \"\"}}, \"title\": {\"x\": 0.05}, \"xaxis\": {\"automargin\": true, \"gridcolor\": \"white\", \"linecolor\": \"white\", \"ticks\": \"\", \"zerolinecolor\": \"white\", \"zerolinewidth\": 2}, \"yaxis\": {\"automargin\": true, \"gridcolor\": \"white\", \"linecolor\": \"white\", \"ticks\": \"\", \"zerolinecolor\": \"white\", \"zerolinewidth\": 2}}}, \"title\": {\"text\": \"Compensation breakdown per Gender Category\"}, \"xaxis\": {\"anchor\": \"y\", \"domain\": [0.0, 0.98], \"title\": {\"text\": \"Q9\"}}, \"yaxis\": {\"anchor\": \"x\", \"domain\": [0.0, 1.0], \"title\": {\"text\": \"count\"}}},\n",
       "                        {\"responsive\": true}\n",
       "                    ).then(function(){\n",
       "                            \n",
       "var gd = document.getElementById('2ef01c59-6077-4a19-98cf-39cf627c1a07');\n",
       "var x = new MutationObserver(function (mutations, observer) {{\n",
       "        var display = window.getComputedStyle(gd).display;\n",
       "        if (!display || display === 'none') {{\n",
       "            console.log([gd, 'removed!']);\n",
       "            Plotly.purge(gd);\n",
       "            observer.disconnect();\n",
       "        }}\n",
       "}});\n",
       "\n",
       "// Listen for the removal of the full notebook cells\n",
       "var notebookContainer = gd.closest('#notebook-container');\n",
       "if (notebookContainer) {{\n",
       "    x.observe(notebookContainer, {childList: true});\n",
       "}}\n",
       "\n",
       "// Listen for the clearing of the current output cell\n",
       "var outputEl = gd.closest('.output');\n",
       "if (outputEl) {{\n",
       "    x.observe(outputEl, {childList: true});\n",
       "}}\n",
       "\n",
       "                        })\n",
       "                };\n",
       "                });\n",
       "            </script>\n",
       "        </div>"
      ]
     },
     "metadata": {},
     "output_type": "display_data"
    }
   ],
   "source": [
    "fig = px.bar(df_test, x = 'Q9', y = 'count', color = 'Q1', barmode = 'group', title= 'Compensation breakdown per Gender Category')\n",
    "fig.show()"
   ]
  },
  {
   "cell_type": "code",
   "execution_count": 30,
   "metadata": {},
   "outputs": [
    {
     "data": {
      "application/vnd.plotly.v1+json": {
       "config": {
        "plotlyServerURL": "https://plot.ly"
       },
       "data": [
        {
         "alignmentgroup": "True",
         "hoverlabel": {
          "namelength": 0
         },
         "hovertemplate": "Q4=%{x}<br>count=%{y}",
         "legendgroup": "",
         "marker": {
          "color": "#636efa"
         },
         "name": "",
         "offsetgroup": "",
         "orientation": "v",
         "showlegend": false,
         "textposition": "auto",
         "type": "bar",
         "x": [
          "Master’s degree",
          "Bachelor’s degree",
          "Doctoral degree",
          "Some college/university study without earning a bachelor’s degree",
          "Professional degree",
          "I prefer not to answer",
          "No formal education past high school"
         ],
         "xaxis": "x",
         "y": [
          10855,
          7083,
          3357,
          967,
          599,
          345,
          232
         ],
         "yaxis": "y"
        }
       ],
       "layout": {
        "barmode": "relative",
        "height": 600,
        "legend": {
         "tracegroupgap": 0
        },
        "template": {
         "data": {
          "bar": [
           {
            "error_x": {
             "color": "#2a3f5f"
            },
            "error_y": {
             "color": "#2a3f5f"
            },
            "marker": {
             "line": {
              "color": "#E5ECF6",
              "width": 0.5
             }
            },
            "type": "bar"
           }
          ],
          "barpolar": [
           {
            "marker": {
             "line": {
              "color": "#E5ECF6",
              "width": 0.5
             }
            },
            "type": "barpolar"
           }
          ],
          "carpet": [
           {
            "aaxis": {
             "endlinecolor": "#2a3f5f",
             "gridcolor": "white",
             "linecolor": "white",
             "minorgridcolor": "white",
             "startlinecolor": "#2a3f5f"
            },
            "baxis": {
             "endlinecolor": "#2a3f5f",
             "gridcolor": "white",
             "linecolor": "white",
             "minorgridcolor": "white",
             "startlinecolor": "#2a3f5f"
            },
            "type": "carpet"
           }
          ],
          "choropleth": [
           {
            "colorbar": {
             "outlinewidth": 0,
             "ticks": ""
            },
            "type": "choropleth"
           }
          ],
          "contour": [
           {
            "colorbar": {
             "outlinewidth": 0,
             "ticks": ""
            },
            "colorscale": [
             [
              0,
              "#0d0887"
             ],
             [
              0.1111111111111111,
              "#46039f"
             ],
             [
              0.2222222222222222,
              "#7201a8"
             ],
             [
              0.3333333333333333,
              "#9c179e"
             ],
             [
              0.4444444444444444,
              "#bd3786"
             ],
             [
              0.5555555555555556,
              "#d8576b"
             ],
             [
              0.6666666666666666,
              "#ed7953"
             ],
             [
              0.7777777777777778,
              "#fb9f3a"
             ],
             [
              0.8888888888888888,
              "#fdca26"
             ],
             [
              1,
              "#f0f921"
             ]
            ],
            "type": "contour"
           }
          ],
          "contourcarpet": [
           {
            "colorbar": {
             "outlinewidth": 0,
             "ticks": ""
            },
            "type": "contourcarpet"
           }
          ],
          "heatmap": [
           {
            "colorbar": {
             "outlinewidth": 0,
             "ticks": ""
            },
            "colorscale": [
             [
              0,
              "#0d0887"
             ],
             [
              0.1111111111111111,
              "#46039f"
             ],
             [
              0.2222222222222222,
              "#7201a8"
             ],
             [
              0.3333333333333333,
              "#9c179e"
             ],
             [
              0.4444444444444444,
              "#bd3786"
             ],
             [
              0.5555555555555556,
              "#d8576b"
             ],
             [
              0.6666666666666666,
              "#ed7953"
             ],
             [
              0.7777777777777778,
              "#fb9f3a"
             ],
             [
              0.8888888888888888,
              "#fdca26"
             ],
             [
              1,
              "#f0f921"
             ]
            ],
            "type": "heatmap"
           }
          ],
          "heatmapgl": [
           {
            "colorbar": {
             "outlinewidth": 0,
             "ticks": ""
            },
            "colorscale": [
             [
              0,
              "#0d0887"
             ],
             [
              0.1111111111111111,
              "#46039f"
             ],
             [
              0.2222222222222222,
              "#7201a8"
             ],
             [
              0.3333333333333333,
              "#9c179e"
             ],
             [
              0.4444444444444444,
              "#bd3786"
             ],
             [
              0.5555555555555556,
              "#d8576b"
             ],
             [
              0.6666666666666666,
              "#ed7953"
             ],
             [
              0.7777777777777778,
              "#fb9f3a"
             ],
             [
              0.8888888888888888,
              "#fdca26"
             ],
             [
              1,
              "#f0f921"
             ]
            ],
            "type": "heatmapgl"
           }
          ],
          "histogram": [
           {
            "marker": {
             "colorbar": {
              "outlinewidth": 0,
              "ticks": ""
             }
            },
            "type": "histogram"
           }
          ],
          "histogram2d": [
           {
            "colorbar": {
             "outlinewidth": 0,
             "ticks": ""
            },
            "colorscale": [
             [
              0,
              "#0d0887"
             ],
             [
              0.1111111111111111,
              "#46039f"
             ],
             [
              0.2222222222222222,
              "#7201a8"
             ],
             [
              0.3333333333333333,
              "#9c179e"
             ],
             [
              0.4444444444444444,
              "#bd3786"
             ],
             [
              0.5555555555555556,
              "#d8576b"
             ],
             [
              0.6666666666666666,
              "#ed7953"
             ],
             [
              0.7777777777777778,
              "#fb9f3a"
             ],
             [
              0.8888888888888888,
              "#fdca26"
             ],
             [
              1,
              "#f0f921"
             ]
            ],
            "type": "histogram2d"
           }
          ],
          "histogram2dcontour": [
           {
            "colorbar": {
             "outlinewidth": 0,
             "ticks": ""
            },
            "colorscale": [
             [
              0,
              "#0d0887"
             ],
             [
              0.1111111111111111,
              "#46039f"
             ],
             [
              0.2222222222222222,
              "#7201a8"
             ],
             [
              0.3333333333333333,
              "#9c179e"
             ],
             [
              0.4444444444444444,
              "#bd3786"
             ],
             [
              0.5555555555555556,
              "#d8576b"
             ],
             [
              0.6666666666666666,
              "#ed7953"
             ],
             [
              0.7777777777777778,
              "#fb9f3a"
             ],
             [
              0.8888888888888888,
              "#fdca26"
             ],
             [
              1,
              "#f0f921"
             ]
            ],
            "type": "histogram2dcontour"
           }
          ],
          "mesh3d": [
           {
            "colorbar": {
             "outlinewidth": 0,
             "ticks": ""
            },
            "type": "mesh3d"
           }
          ],
          "parcoords": [
           {
            "line": {
             "colorbar": {
              "outlinewidth": 0,
              "ticks": ""
             }
            },
            "type": "parcoords"
           }
          ],
          "scatter": [
           {
            "marker": {
             "colorbar": {
              "outlinewidth": 0,
              "ticks": ""
             }
            },
            "type": "scatter"
           }
          ],
          "scatter3d": [
           {
            "line": {
             "colorbar": {
              "outlinewidth": 0,
              "ticks": ""
             }
            },
            "marker": {
             "colorbar": {
              "outlinewidth": 0,
              "ticks": ""
             }
            },
            "type": "scatter3d"
           }
          ],
          "scattercarpet": [
           {
            "marker": {
             "colorbar": {
              "outlinewidth": 0,
              "ticks": ""
             }
            },
            "type": "scattercarpet"
           }
          ],
          "scattergeo": [
           {
            "marker": {
             "colorbar": {
              "outlinewidth": 0,
              "ticks": ""
             }
            },
            "type": "scattergeo"
           }
          ],
          "scattergl": [
           {
            "marker": {
             "colorbar": {
              "outlinewidth": 0,
              "ticks": ""
             }
            },
            "type": "scattergl"
           }
          ],
          "scattermapbox": [
           {
            "marker": {
             "colorbar": {
              "outlinewidth": 0,
              "ticks": ""
             }
            },
            "type": "scattermapbox"
           }
          ],
          "scatterpolar": [
           {
            "marker": {
             "colorbar": {
              "outlinewidth": 0,
              "ticks": ""
             }
            },
            "type": "scatterpolar"
           }
          ],
          "scatterpolargl": [
           {
            "marker": {
             "colorbar": {
              "outlinewidth": 0,
              "ticks": ""
             }
            },
            "type": "scatterpolargl"
           }
          ],
          "scatterternary": [
           {
            "marker": {
             "colorbar": {
              "outlinewidth": 0,
              "ticks": ""
             }
            },
            "type": "scatterternary"
           }
          ],
          "surface": [
           {
            "colorbar": {
             "outlinewidth": 0,
             "ticks": ""
            },
            "colorscale": [
             [
              0,
              "#0d0887"
             ],
             [
              0.1111111111111111,
              "#46039f"
             ],
             [
              0.2222222222222222,
              "#7201a8"
             ],
             [
              0.3333333333333333,
              "#9c179e"
             ],
             [
              0.4444444444444444,
              "#bd3786"
             ],
             [
              0.5555555555555556,
              "#d8576b"
             ],
             [
              0.6666666666666666,
              "#ed7953"
             ],
             [
              0.7777777777777778,
              "#fb9f3a"
             ],
             [
              0.8888888888888888,
              "#fdca26"
             ],
             [
              1,
              "#f0f921"
             ]
            ],
            "type": "surface"
           }
          ],
          "table": [
           {
            "cells": {
             "fill": {
              "color": "#EBF0F8"
             },
             "line": {
              "color": "white"
             }
            },
            "header": {
             "fill": {
              "color": "#C8D4E3"
             },
             "line": {
              "color": "white"
             }
            },
            "type": "table"
           }
          ]
         },
         "layout": {
          "annotationdefaults": {
           "arrowcolor": "#2a3f5f",
           "arrowhead": 0,
           "arrowwidth": 1
          },
          "colorscale": {
           "diverging": [
            [
             0,
             "#8e0152"
            ],
            [
             0.1,
             "#c51b7d"
            ],
            [
             0.2,
             "#de77ae"
            ],
            [
             0.3,
             "#f1b6da"
            ],
            [
             0.4,
             "#fde0ef"
            ],
            [
             0.5,
             "#f7f7f7"
            ],
            [
             0.6,
             "#e6f5d0"
            ],
            [
             0.7,
             "#b8e186"
            ],
            [
             0.8,
             "#7fbc41"
            ],
            [
             0.9,
             "#4d9221"
            ],
            [
             1,
             "#276419"
            ]
           ],
           "sequential": [
            [
             0,
             "#0d0887"
            ],
            [
             0.1111111111111111,
             "#46039f"
            ],
            [
             0.2222222222222222,
             "#7201a8"
            ],
            [
             0.3333333333333333,
             "#9c179e"
            ],
            [
             0.4444444444444444,
             "#bd3786"
            ],
            [
             0.5555555555555556,
             "#d8576b"
            ],
            [
             0.6666666666666666,
             "#ed7953"
            ],
            [
             0.7777777777777778,
             "#fb9f3a"
            ],
            [
             0.8888888888888888,
             "#fdca26"
            ],
            [
             1,
             "#f0f921"
            ]
           ],
           "sequentialminus": [
            [
             0,
             "#0d0887"
            ],
            [
             0.1111111111111111,
             "#46039f"
            ],
            [
             0.2222222222222222,
             "#7201a8"
            ],
            [
             0.3333333333333333,
             "#9c179e"
            ],
            [
             0.4444444444444444,
             "#bd3786"
            ],
            [
             0.5555555555555556,
             "#d8576b"
            ],
            [
             0.6666666666666666,
             "#ed7953"
            ],
            [
             0.7777777777777778,
             "#fb9f3a"
            ],
            [
             0.8888888888888888,
             "#fdca26"
            ],
            [
             1,
             "#f0f921"
            ]
           ]
          },
          "colorway": [
           "#636efa",
           "#EF553B",
           "#00cc96",
           "#ab63fa",
           "#FFA15A",
           "#19d3f3",
           "#FF6692",
           "#B6E880",
           "#FF97FF",
           "#FECB52"
          ],
          "font": {
           "color": "#2a3f5f"
          },
          "geo": {
           "bgcolor": "white",
           "lakecolor": "white",
           "landcolor": "#E5ECF6",
           "showlakes": true,
           "showland": true,
           "subunitcolor": "white"
          },
          "hoverlabel": {
           "align": "left"
          },
          "hovermode": "closest",
          "mapbox": {
           "style": "light"
          },
          "paper_bgcolor": "white",
          "plot_bgcolor": "#E5ECF6",
          "polar": {
           "angularaxis": {
            "gridcolor": "white",
            "linecolor": "white",
            "ticks": ""
           },
           "bgcolor": "#E5ECF6",
           "radialaxis": {
            "gridcolor": "white",
            "linecolor": "white",
            "ticks": ""
           }
          },
          "scene": {
           "xaxis": {
            "backgroundcolor": "#E5ECF6",
            "gridcolor": "white",
            "gridwidth": 2,
            "linecolor": "white",
            "showbackground": true,
            "ticks": "",
            "zerolinecolor": "white"
           },
           "yaxis": {
            "backgroundcolor": "#E5ECF6",
            "gridcolor": "white",
            "gridwidth": 2,
            "linecolor": "white",
            "showbackground": true,
            "ticks": "",
            "zerolinecolor": "white"
           },
           "zaxis": {
            "backgroundcolor": "#E5ECF6",
            "gridcolor": "white",
            "gridwidth": 2,
            "linecolor": "white",
            "showbackground": true,
            "ticks": "",
            "zerolinecolor": "white"
           }
          },
          "shapedefaults": {
           "line": {
            "color": "#2a3f5f"
           }
          },
          "ternary": {
           "aaxis": {
            "gridcolor": "white",
            "linecolor": "white",
            "ticks": ""
           },
           "baxis": {
            "gridcolor": "white",
            "linecolor": "white",
            "ticks": ""
           },
           "bgcolor": "#E5ECF6",
           "caxis": {
            "gridcolor": "white",
            "linecolor": "white",
            "ticks": ""
           }
          },
          "title": {
           "x": 0.05
          },
          "xaxis": {
           "automargin": true,
           "gridcolor": "white",
           "linecolor": "white",
           "ticks": "",
           "zerolinecolor": "white",
           "zerolinewidth": 2
          },
          "yaxis": {
           "automargin": true,
           "gridcolor": "white",
           "linecolor": "white",
           "ticks": "",
           "zerolinecolor": "white",
           "zerolinewidth": 2
          }
         }
        },
        "title": {
         "text": "Education of Respondents in 2018"
        },
        "xaxis": {
         "anchor": "y",
         "domain": [
          0,
          0.98
         ],
         "title": {
          "text": "Q4"
         }
        },
        "yaxis": {
         "anchor": "x",
         "domain": [
          0,
          1
         ],
         "title": {
          "text": "count"
         }
        }
       }
      },
      "text/html": [
       "<div>\n",
       "        \n",
       "        \n",
       "            <div id=\"dd185f74-237f-4ea8-836b-8002f7b45eed\" class=\"plotly-graph-div\" style=\"height:600px; width:100%;\"></div>\n",
       "            <script type=\"text/javascript\">\n",
       "                require([\"plotly\"], function(Plotly) {\n",
       "                    window.PLOTLYENV=window.PLOTLYENV || {};\n",
       "                    \n",
       "                if (document.getElementById(\"dd185f74-237f-4ea8-836b-8002f7b45eed\")) {\n",
       "                    Plotly.newPlot(\n",
       "                        'dd185f74-237f-4ea8-836b-8002f7b45eed',\n",
       "                        [{\"alignmentgroup\": \"True\", \"hoverlabel\": {\"namelength\": 0}, \"hovertemplate\": \"Q4=%{x}<br>count=%{y}\", \"legendgroup\": \"\", \"marker\": {\"color\": \"#636efa\"}, \"name\": \"\", \"offsetgroup\": \"\", \"orientation\": \"v\", \"showlegend\": false, \"textposition\": \"auto\", \"type\": \"bar\", \"x\": [\"Master\\u2019s degree\", \"Bachelor\\u2019s degree\", \"Doctoral degree\", \"Some college/university study without earning a bachelor\\u2019s degree\", \"Professional degree\", \"I prefer not to answer\", \"No formal education past high school\"], \"xaxis\": \"x\", \"y\": [10855, 7083, 3357, 967, 599, 345, 232], \"yaxis\": \"y\"}],\n",
       "                        {\"barmode\": \"relative\", \"height\": 600, \"legend\": {\"tracegroupgap\": 0}, \"template\": {\"data\": {\"bar\": [{\"error_x\": {\"color\": \"#2a3f5f\"}, \"error_y\": {\"color\": \"#2a3f5f\"}, \"marker\": {\"line\": {\"color\": \"#E5ECF6\", \"width\": 0.5}}, \"type\": \"bar\"}], \"barpolar\": [{\"marker\": {\"line\": {\"color\": \"#E5ECF6\", \"width\": 0.5}}, \"type\": \"barpolar\"}], \"carpet\": [{\"aaxis\": {\"endlinecolor\": \"#2a3f5f\", \"gridcolor\": \"white\", \"linecolor\": \"white\", \"minorgridcolor\": \"white\", \"startlinecolor\": \"#2a3f5f\"}, \"baxis\": {\"endlinecolor\": \"#2a3f5f\", \"gridcolor\": \"white\", \"linecolor\": \"white\", \"minorgridcolor\": \"white\", \"startlinecolor\": \"#2a3f5f\"}, \"type\": \"carpet\"}], \"choropleth\": [{\"colorbar\": {\"outlinewidth\": 0, \"ticks\": \"\"}, \"type\": \"choropleth\"}], \"contour\": [{\"colorbar\": {\"outlinewidth\": 0, \"ticks\": \"\"}, \"colorscale\": [[0.0, \"#0d0887\"], [0.1111111111111111, \"#46039f\"], [0.2222222222222222, \"#7201a8\"], [0.3333333333333333, \"#9c179e\"], [0.4444444444444444, \"#bd3786\"], [0.5555555555555556, \"#d8576b\"], [0.6666666666666666, \"#ed7953\"], [0.7777777777777778, \"#fb9f3a\"], [0.8888888888888888, \"#fdca26\"], [1.0, \"#f0f921\"]], \"type\": \"contour\"}], \"contourcarpet\": [{\"colorbar\": {\"outlinewidth\": 0, \"ticks\": \"\"}, \"type\": \"contourcarpet\"}], \"heatmap\": [{\"colorbar\": {\"outlinewidth\": 0, \"ticks\": \"\"}, \"colorscale\": [[0.0, \"#0d0887\"], [0.1111111111111111, \"#46039f\"], [0.2222222222222222, \"#7201a8\"], [0.3333333333333333, \"#9c179e\"], [0.4444444444444444, \"#bd3786\"], [0.5555555555555556, \"#d8576b\"], [0.6666666666666666, \"#ed7953\"], [0.7777777777777778, \"#fb9f3a\"], [0.8888888888888888, \"#fdca26\"], [1.0, \"#f0f921\"]], \"type\": \"heatmap\"}], \"heatmapgl\": [{\"colorbar\": {\"outlinewidth\": 0, \"ticks\": \"\"}, \"colorscale\": [[0.0, \"#0d0887\"], [0.1111111111111111, \"#46039f\"], [0.2222222222222222, \"#7201a8\"], [0.3333333333333333, \"#9c179e\"], [0.4444444444444444, \"#bd3786\"], [0.5555555555555556, \"#d8576b\"], [0.6666666666666666, \"#ed7953\"], [0.7777777777777778, \"#fb9f3a\"], [0.8888888888888888, \"#fdca26\"], [1.0, \"#f0f921\"]], \"type\": \"heatmapgl\"}], \"histogram\": [{\"marker\": {\"colorbar\": {\"outlinewidth\": 0, \"ticks\": \"\"}}, \"type\": \"histogram\"}], \"histogram2d\": [{\"colorbar\": {\"outlinewidth\": 0, \"ticks\": \"\"}, \"colorscale\": [[0.0, \"#0d0887\"], [0.1111111111111111, \"#46039f\"], [0.2222222222222222, \"#7201a8\"], [0.3333333333333333, \"#9c179e\"], [0.4444444444444444, \"#bd3786\"], [0.5555555555555556, \"#d8576b\"], [0.6666666666666666, \"#ed7953\"], [0.7777777777777778, \"#fb9f3a\"], [0.8888888888888888, \"#fdca26\"], [1.0, \"#f0f921\"]], \"type\": \"histogram2d\"}], \"histogram2dcontour\": [{\"colorbar\": {\"outlinewidth\": 0, \"ticks\": \"\"}, \"colorscale\": [[0.0, \"#0d0887\"], [0.1111111111111111, \"#46039f\"], [0.2222222222222222, \"#7201a8\"], [0.3333333333333333, \"#9c179e\"], [0.4444444444444444, \"#bd3786\"], [0.5555555555555556, \"#d8576b\"], [0.6666666666666666, \"#ed7953\"], [0.7777777777777778, \"#fb9f3a\"], [0.8888888888888888, \"#fdca26\"], [1.0, \"#f0f921\"]], \"type\": \"histogram2dcontour\"}], \"mesh3d\": [{\"colorbar\": {\"outlinewidth\": 0, \"ticks\": \"\"}, \"type\": \"mesh3d\"}], \"parcoords\": [{\"line\": {\"colorbar\": {\"outlinewidth\": 0, \"ticks\": \"\"}}, \"type\": \"parcoords\"}], \"scatter\": [{\"marker\": {\"colorbar\": {\"outlinewidth\": 0, \"ticks\": \"\"}}, \"type\": \"scatter\"}], \"scatter3d\": [{\"line\": {\"colorbar\": {\"outlinewidth\": 0, \"ticks\": \"\"}}, \"marker\": {\"colorbar\": {\"outlinewidth\": 0, \"ticks\": \"\"}}, \"type\": \"scatter3d\"}], \"scattercarpet\": [{\"marker\": {\"colorbar\": {\"outlinewidth\": 0, \"ticks\": \"\"}}, \"type\": \"scattercarpet\"}], \"scattergeo\": [{\"marker\": {\"colorbar\": {\"outlinewidth\": 0, \"ticks\": \"\"}}, \"type\": \"scattergeo\"}], \"scattergl\": [{\"marker\": {\"colorbar\": {\"outlinewidth\": 0, \"ticks\": \"\"}}, \"type\": \"scattergl\"}], \"scattermapbox\": [{\"marker\": {\"colorbar\": {\"outlinewidth\": 0, \"ticks\": \"\"}}, \"type\": \"scattermapbox\"}], \"scatterpolar\": [{\"marker\": {\"colorbar\": {\"outlinewidth\": 0, \"ticks\": \"\"}}, \"type\": \"scatterpolar\"}], \"scatterpolargl\": [{\"marker\": {\"colorbar\": {\"outlinewidth\": 0, \"ticks\": \"\"}}, \"type\": \"scatterpolargl\"}], \"scatterternary\": [{\"marker\": {\"colorbar\": {\"outlinewidth\": 0, \"ticks\": \"\"}}, \"type\": \"scatterternary\"}], \"surface\": [{\"colorbar\": {\"outlinewidth\": 0, \"ticks\": \"\"}, \"colorscale\": [[0.0, \"#0d0887\"], [0.1111111111111111, \"#46039f\"], [0.2222222222222222, \"#7201a8\"], [0.3333333333333333, \"#9c179e\"], [0.4444444444444444, \"#bd3786\"], [0.5555555555555556, \"#d8576b\"], [0.6666666666666666, \"#ed7953\"], [0.7777777777777778, \"#fb9f3a\"], [0.8888888888888888, \"#fdca26\"], [1.0, \"#f0f921\"]], \"type\": \"surface\"}], \"table\": [{\"cells\": {\"fill\": {\"color\": \"#EBF0F8\"}, \"line\": {\"color\": \"white\"}}, \"header\": {\"fill\": {\"color\": \"#C8D4E3\"}, \"line\": {\"color\": \"white\"}}, \"type\": \"table\"}]}, \"layout\": {\"annotationdefaults\": {\"arrowcolor\": \"#2a3f5f\", \"arrowhead\": 0, \"arrowwidth\": 1}, \"colorscale\": {\"diverging\": [[0, \"#8e0152\"], [0.1, \"#c51b7d\"], [0.2, \"#de77ae\"], [0.3, \"#f1b6da\"], [0.4, \"#fde0ef\"], [0.5, \"#f7f7f7\"], [0.6, \"#e6f5d0\"], [0.7, \"#b8e186\"], [0.8, \"#7fbc41\"], [0.9, \"#4d9221\"], [1, \"#276419\"]], \"sequential\": [[0.0, \"#0d0887\"], [0.1111111111111111, \"#46039f\"], [0.2222222222222222, \"#7201a8\"], [0.3333333333333333, \"#9c179e\"], [0.4444444444444444, \"#bd3786\"], [0.5555555555555556, \"#d8576b\"], [0.6666666666666666, \"#ed7953\"], [0.7777777777777778, \"#fb9f3a\"], [0.8888888888888888, \"#fdca26\"], [1.0, \"#f0f921\"]], \"sequentialminus\": [[0.0, \"#0d0887\"], [0.1111111111111111, \"#46039f\"], [0.2222222222222222, \"#7201a8\"], [0.3333333333333333, \"#9c179e\"], [0.4444444444444444, \"#bd3786\"], [0.5555555555555556, \"#d8576b\"], [0.6666666666666666, \"#ed7953\"], [0.7777777777777778, \"#fb9f3a\"], [0.8888888888888888, \"#fdca26\"], [1.0, \"#f0f921\"]]}, \"colorway\": [\"#636efa\", \"#EF553B\", \"#00cc96\", \"#ab63fa\", \"#FFA15A\", \"#19d3f3\", \"#FF6692\", \"#B6E880\", \"#FF97FF\", \"#FECB52\"], \"font\": {\"color\": \"#2a3f5f\"}, \"geo\": {\"bgcolor\": \"white\", \"lakecolor\": \"white\", \"landcolor\": \"#E5ECF6\", \"showlakes\": true, \"showland\": true, \"subunitcolor\": \"white\"}, \"hoverlabel\": {\"align\": \"left\"}, \"hovermode\": \"closest\", \"mapbox\": {\"style\": \"light\"}, \"paper_bgcolor\": \"white\", \"plot_bgcolor\": \"#E5ECF6\", \"polar\": {\"angularaxis\": {\"gridcolor\": \"white\", \"linecolor\": \"white\", \"ticks\": \"\"}, \"bgcolor\": \"#E5ECF6\", \"radialaxis\": {\"gridcolor\": \"white\", \"linecolor\": \"white\", \"ticks\": \"\"}}, \"scene\": {\"xaxis\": {\"backgroundcolor\": \"#E5ECF6\", \"gridcolor\": \"white\", \"gridwidth\": 2, \"linecolor\": \"white\", \"showbackground\": true, \"ticks\": \"\", \"zerolinecolor\": \"white\"}, \"yaxis\": {\"backgroundcolor\": \"#E5ECF6\", \"gridcolor\": \"white\", \"gridwidth\": 2, \"linecolor\": \"white\", \"showbackground\": true, \"ticks\": \"\", \"zerolinecolor\": \"white\"}, \"zaxis\": {\"backgroundcolor\": \"#E5ECF6\", \"gridcolor\": \"white\", \"gridwidth\": 2, \"linecolor\": \"white\", \"showbackground\": true, \"ticks\": \"\", \"zerolinecolor\": \"white\"}}, \"shapedefaults\": {\"line\": {\"color\": \"#2a3f5f\"}}, \"ternary\": {\"aaxis\": {\"gridcolor\": \"white\", \"linecolor\": \"white\", \"ticks\": \"\"}, \"baxis\": {\"gridcolor\": \"white\", \"linecolor\": \"white\", \"ticks\": \"\"}, \"bgcolor\": \"#E5ECF6\", \"caxis\": {\"gridcolor\": \"white\", \"linecolor\": \"white\", \"ticks\": \"\"}}, \"title\": {\"x\": 0.05}, \"xaxis\": {\"automargin\": true, \"gridcolor\": \"white\", \"linecolor\": \"white\", \"ticks\": \"\", \"zerolinecolor\": \"white\", \"zerolinewidth\": 2}, \"yaxis\": {\"automargin\": true, \"gridcolor\": \"white\", \"linecolor\": \"white\", \"ticks\": \"\", \"zerolinecolor\": \"white\", \"zerolinewidth\": 2}}}, \"title\": {\"text\": \"Education of Respondents in 2018\"}, \"xaxis\": {\"anchor\": \"y\", \"domain\": [0.0, 0.98], \"title\": {\"text\": \"Q4\"}}, \"yaxis\": {\"anchor\": \"x\", \"domain\": [0.0, 1.0], \"title\": {\"text\": \"count\"}}},\n",
       "                        {\"responsive\": true}\n",
       "                    ).then(function(){\n",
       "                            \n",
       "var gd = document.getElementById('dd185f74-237f-4ea8-836b-8002f7b45eed');\n",
       "var x = new MutationObserver(function (mutations, observer) {{\n",
       "        var display = window.getComputedStyle(gd).display;\n",
       "        if (!display || display === 'none') {{\n",
       "            console.log([gd, 'removed!']);\n",
       "            Plotly.purge(gd);\n",
       "            observer.disconnect();\n",
       "        }}\n",
       "}});\n",
       "\n",
       "// Listen for the removal of the full notebook cells\n",
       "var notebookContainer = gd.closest('#notebook-container');\n",
       "if (notebookContainer) {{\n",
       "    x.observe(notebookContainer, {childList: true});\n",
       "}}\n",
       "\n",
       "// Listen for the clearing of the current output cell\n",
       "var outputEl = gd.closest('.output');\n",
       "if (outputEl) {{\n",
       "    x.observe(outputEl, {childList: true});\n",
       "}}\n",
       "\n",
       "                        })\n",
       "                };\n",
       "                });\n",
       "            </script>\n",
       "        </div>"
      ]
     },
     "metadata": {},
     "output_type": "display_data"
    }
   ],
   "source": [
    "df_test = pd.DataFrame({'count' : df_multi_choice.groupby([ \"Q4\"] ).size()}).reset_index().sort_values(by = 'count', ascending = False)\n",
    "df_test.head()\n",
    "\n",
    "fig = px.bar(df_test, x = 'Q4', y = 'count', title= 'Education of Respondents in 2018')\n",
    "fig.show()"
   ]
  },
  {
   "cell_type": "markdown",
   "metadata": {},
   "source": [
    "## Age Breakdown"
   ]
  },
  {
   "cell_type": "code",
   "execution_count": 31,
   "metadata": {},
   "outputs": [
    {
     "data": {
      "application/vnd.plotly.v1+json": {
       "config": {
        "plotlyServerURL": "https://plot.ly"
       },
       "data": [
        {
         "alignmentgroup": "True",
         "hoverlabel": {
          "namelength": 0
         },
         "hovertemplate": "Q2=18-21<br>Q6=%{x}<br>count=%{y}",
         "legendgroup": "Q2=18-21",
         "marker": {
          "color": "#636efa"
         },
         "name": "Q2=18-21",
         "offsetgroup": "Q2=18-21",
         "orientation": "v",
         "showlegend": true,
         "textposition": "auto",
         "type": "bar",
         "x": [
          "Student",
          "Data Scientist",
          "Software Engineer",
          "Data Analyst",
          "Not employed",
          "Research Assistant",
          "Business Analyst",
          "Other",
          "Data Engineer",
          "Research Scientist",
          "Statistician",
          "Salesperson",
          "Chief Officer",
          "Consultant",
          "Manager",
          "Product/Project Manager",
          "Developer Advocate",
          "DBA/Database Engineer",
          "Marketing Analyst"
         ],
         "xaxis": "x",
         "y": [
          2048,
          223,
          200,
          135,
          62,
          42,
          36,
          34,
          31,
          21,
          12,
          7,
          7,
          6,
          6,
          5,
          4,
          1,
          1
         ],
         "yaxis": "y"
        },
        {
         "alignmentgroup": "True",
         "hoverlabel": {
          "namelength": 0
         },
         "hovertemplate": "Q2=22-24<br>Q6=%{x}<br>count=%{y}",
         "legendgroup": "Q2=22-24",
         "marker": {
          "color": "#EF553B"
         },
         "name": "Q2=22-24",
         "offsetgroup": "Q2=22-24",
         "orientation": "v",
         "showlegend": true,
         "textposition": "auto",
         "type": "bar",
         "x": [
          "Student",
          "Data Scientist",
          "Software Engineer",
          "Data Analyst",
          "Not employed",
          "Other",
          "Research Assistant",
          "Data Engineer",
          "Business Analyst",
          "Research Scientist",
          "Consultant",
          "Statistician",
          "Product/Project Manager",
          "Developer Advocate",
          "DBA/Database Engineer",
          "Marketing Analyst",
          "Salesperson",
          "Chief Officer",
          "Manager",
          "Data Journalist",
          "Principal Investigator"
         ],
         "xaxis": "x",
         "y": [
          1909,
          714,
          688,
          447,
          210,
          174,
          158,
          143,
          130,
          105,
          60,
          40,
          24,
          22,
          20,
          20,
          12,
          12,
          12,
          3,
          2
         ],
         "yaxis": "y"
        },
        {
         "alignmentgroup": "True",
         "hoverlabel": {
          "namelength": 0
         },
         "hovertemplate": "Q2=25-29<br>Q6=%{x}<br>count=%{y}",
         "legendgroup": "Q2=25-29",
         "marker": {
          "color": "#00cc96"
         },
         "name": "Q2=25-29",
         "offsetgroup": "Q2=25-29",
         "orientation": "v",
         "showlegend": true,
         "textposition": "auto",
         "type": "bar",
         "x": [
          "Data Scientist",
          "Student",
          "Software Engineer",
          "Data Analyst",
          "Other",
          "Research Scientist",
          "Business Analyst",
          "Not employed",
          "Data Engineer",
          "Research Assistant",
          "Consultant",
          "Product/Project Manager",
          "Statistician",
          "Manager",
          "Chief Officer",
          "Marketing Analyst",
          "Developer Advocate",
          "DBA/Database Engineer",
          "Salesperson",
          "Data Journalist",
          "Principal Investigator"
         ],
         "xaxis": "x",
         "y": [
          1369,
          930,
          907,
          632,
          315,
          294,
          248,
          239,
          228,
          222,
          182,
          65,
          60,
          55,
          39,
          38,
          32,
          31,
          23,
          5,
          3
         ],
         "yaxis": "y"
        },
        {
         "alignmentgroup": "True",
         "hoverlabel": {
          "namelength": 0
         },
         "hovertemplate": "Q2=30-34<br>Q6=%{x}<br>count=%{y}",
         "legendgroup": "Q2=30-34",
         "marker": {
          "color": "#ab63fa"
         },
         "name": "Q2=30-34",
         "offsetgroup": "Q2=30-34",
         "orientation": "v",
         "showlegend": true,
         "textposition": "auto",
         "type": "bar",
         "x": [
          "Data Scientist",
          "Software Engineer",
          "Data Analyst",
          "Research Scientist",
          "Other",
          "Student",
          "Business Analyst",
          "Consultant",
          "Data Engineer",
          "Not employed",
          "Manager",
          "Research Assistant",
          "Product/Project Manager",
          "Chief Officer",
          "Statistician",
          "DBA/Database Engineer",
          "Salesperson",
          "Marketing Analyst",
          "Developer Advocate",
          "Principal Investigator",
          "Data Journalist"
         ],
         "xaxis": "x",
         "y": [
          873,
          565,
          352,
          285,
          246,
          224,
          164,
          144,
          141,
          119,
          116,
          111,
          90,
          55,
          43,
          41,
          22,
          20,
          15,
          14,
          5
         ],
         "yaxis": "y"
        },
        {
         "alignmentgroup": "True",
         "hoverlabel": {
          "namelength": 0
         },
         "hovertemplate": "Q2=35-39<br>Q6=%{x}<br>count=%{y}",
         "legendgroup": "Q2=35-39",
         "marker": {
          "color": "#FFA15A"
         },
         "name": "Q2=35-39",
         "offsetgroup": "Q2=35-39",
         "orientation": "v",
         "showlegend": true,
         "textposition": "auto",
         "type": "bar",
         "x": [
          "Data Scientist",
          "Software Engineer",
          "Other",
          "Research Scientist",
          "Data Analyst",
          "Manager",
          "Consultant",
          "Data Engineer",
          "Student",
          "Business Analyst",
          "Not employed",
          "Product/Project Manager",
          "Chief Officer",
          "Research Assistant",
          "Principal Investigator",
          "DBA/Database Engineer",
          "Statistician",
          "Marketing Analyst",
          "Developer Advocate",
          "Salesperson",
          "Data Journalist"
         ],
         "xaxis": "x",
         "y": [
          462,
          337,
          202,
          188,
          158,
          139,
          101,
          96,
          85,
          77,
          69,
          66,
          57,
          45,
          21,
          19,
          19,
          15,
          10,
          8,
          1
         ],
         "yaxis": "y"
        },
        {
         "alignmentgroup": "True",
         "hoverlabel": {
          "namelength": 0
         },
         "hovertemplate": "Q2=40-44<br>Q6=%{x}<br>count=%{y}",
         "legendgroup": "Q2=40-44",
         "marker": {
          "color": "#19d3f3"
         },
         "name": "Q2=40-44",
         "offsetgroup": "Q2=40-44",
         "orientation": "v",
         "showlegend": true,
         "textposition": "auto",
         "type": "bar",
         "x": [
          "Data Scientist",
          "Software Engineer",
          "Other",
          "Research Scientist",
          "Manager",
          "Data Analyst",
          "Consultant",
          "Product/Project Manager",
          "Chief Officer",
          "Business Analyst",
          "Data Engineer",
          "Not employed",
          "Student",
          "Statistician",
          "Principal Investigator",
          "Developer Advocate",
          "Research Assistant",
          "Salesperson",
          "DBA/Database Engineer",
          "Marketing Analyst",
          "Data Journalist"
         ],
         "xaxis": "x",
         "y": [
          220,
          187,
          125,
          119,
          97,
          86,
          80,
          73,
          53,
          51,
          47,
          38,
          32,
          26,
          16,
          14,
          14,
          12,
          9,
          7,
          2
         ],
         "yaxis": "y"
        },
        {
         "alignmentgroup": "True",
         "hoverlabel": {
          "namelength": 0
         },
         "hovertemplate": "Q2=45-49<br>Q6=%{x}<br>count=%{y}",
         "legendgroup": "Q2=45-49",
         "marker": {
          "color": "#FF6692"
         },
         "name": "Q2=45-49",
         "offsetgroup": "Q2=45-49",
         "orientation": "v",
         "showlegend": true,
         "textposition": "auto",
         "type": "bar",
         "x": [
          "Software Engineer",
          "Data Scientist",
          "Other",
          "Manager",
          "Consultant",
          "Chief Officer",
          "Research Scientist",
          "Product/Project Manager",
          "Data Analyst",
          "Not employed",
          "Business Analyst",
          "Data Engineer",
          "Statistician",
          "Principal Investigator",
          "Developer Advocate",
          "Student",
          "Salesperson",
          "DBA/Database Engineer",
          "Marketing Analyst",
          "Research Assistant",
          "Data Journalist"
         ],
         "xaxis": "x",
         "y": [
          115,
          112,
          85,
          74,
          67,
          62,
          60,
          49,
          49,
          31,
          29,
          24,
          16,
          12,
          10,
          9,
          9,
          8,
          6,
          4,
          2
         ],
         "yaxis": "y"
        },
        {
         "alignmentgroup": "True",
         "hoverlabel": {
          "namelength": 0
         },
         "hovertemplate": "Q2=50-54<br>Q6=%{x}<br>count=%{y}",
         "legendgroup": "Q2=50-54",
         "marker": {
          "color": "#B6E880"
         },
         "name": "Q2=50-54",
         "offsetgroup": "Q2=50-54",
         "orientation": "v",
         "showlegend": true,
         "textposition": "auto",
         "type": "bar",
         "x": [
          "Data Scientist",
          "Software Engineer",
          "Manager",
          "Consultant",
          "Other",
          "Research Scientist",
          "Chief Officer",
          "Product/Project Manager",
          "Data Analyst",
          "Not employed",
          "Business Analyst",
          "Principal Investigator",
          "Data Engineer",
          "DBA/Database Engineer",
          "Student",
          "Developer Advocate",
          "Statistician",
          "Marketing Analyst",
          "Salesperson",
          "Research Assistant",
          "Data Journalist"
         ],
         "xaxis": "x",
         "y": [
          75,
          69,
          53,
          52,
          51,
          49,
          37,
          34,
          29,
          26,
          23,
          15,
          12,
          9,
          9,
          4,
          4,
          4,
          3,
          3,
          1
         ],
         "yaxis": "y"
        },
        {
         "alignmentgroup": "True",
         "hoverlabel": {
          "namelength": 0
         },
         "hovertemplate": "Q2=55-59<br>Q6=%{x}<br>count=%{y}",
         "legendgroup": "Q2=55-59",
         "marker": {
          "color": "#FF97FF"
         },
         "name": "Q2=55-59",
         "offsetgroup": "Q2=55-59",
         "orientation": "v",
         "showlegend": true,
         "textposition": "auto",
         "type": "bar",
         "x": [
          "Data Scientist",
          "Consultant",
          "Other",
          "Software Engineer",
          "Research Scientist",
          "Chief Officer",
          "Not employed",
          "Data Analyst",
          "Manager",
          "Product/Project Manager",
          "Statistician",
          "Business Analyst",
          "Student",
          "Data Engineer",
          "Developer Advocate",
          "Salesperson",
          "Principal Investigator",
          "DBA/Database Engineer",
          "Marketing Analyst"
         ],
         "xaxis": "x",
         "y": [
          54,
          38,
          36,
          33,
          29,
          19,
          19,
          18,
          17,
          14,
          9,
          9,
          5,
          5,
          4,
          4,
          4,
          3,
          2
         ],
         "yaxis": "y"
        },
        {
         "alignmentgroup": "True",
         "hoverlabel": {
          "namelength": 0
         },
         "hovertemplate": "Q2=60-69<br>Q6=%{x}<br>count=%{y}",
         "legendgroup": "Q2=60-69",
         "marker": {
          "color": "#FECB52"
         },
         "name": "Q2=60-69",
         "offsetgroup": "Q2=60-69",
         "orientation": "v",
         "showlegend": true,
         "textposition": "auto",
         "type": "bar",
         "x": [
          "Other",
          "Consultant",
          "Data Scientist",
          "Research Scientist",
          "Software Engineer",
          "Manager",
          "Not employed",
          "Chief Officer",
          "Data Analyst",
          "Data Engineer",
          "Product/Project Manager",
          "Principal Investigator",
          "Statistician",
          "Business Analyst",
          "DBA/Database Engineer",
          "Marketing Analyst",
          "Student",
          "Developer Advocate",
          "Salesperson"
         ],
         "xaxis": "x",
         "y": [
          43,
          41,
          29,
          27,
          24,
          19,
          18,
          14,
          11,
          9,
          7,
          7,
          6,
          5,
          4,
          2,
          1,
          1,
          1
         ],
         "yaxis": "y"
        },
        {
         "alignmentgroup": "True",
         "hoverlabel": {
          "namelength": 0
         },
         "hovertemplate": "Q2=70-79<br>Q6=%{x}<br>count=%{y}",
         "legendgroup": "Q2=70-79",
         "marker": {
          "color": "#636efa"
         },
         "name": "Q2=70-79",
         "offsetgroup": "Q2=70-79",
         "orientation": "v",
         "showlegend": true,
         "textposition": "auto",
         "type": "bar",
         "x": [
          "Consultant",
          "Research Scientist",
          "Other",
          "Not employed",
          "Data Analyst",
          "Chief Officer",
          "Data Scientist",
          "Statistician",
          "Software Engineer",
          "Principal Investigator",
          "Product/Project Manager",
          "Data Engineer",
          "Manager"
         ],
         "xaxis": "x",
         "y": [
          12,
          10,
          5,
          5,
          3,
          3,
          3,
          2,
          2,
          1,
          1,
          1,
          1
         ],
         "yaxis": "y"
        },
        {
         "alignmentgroup": "True",
         "hoverlabel": {
          "namelength": 0
         },
         "hovertemplate": "Q2=80+<br>Q6=%{x}<br>count=%{y}",
         "legendgroup": "Q2=80+",
         "marker": {
          "color": "#EF553B"
         },
         "name": "Q2=80+",
         "offsetgroup": "Q2=80+",
         "orientation": "v",
         "showlegend": true,
         "textposition": "auto",
         "type": "bar",
         "x": [
          "Other",
          "Not employed",
          "Software Engineer",
          "Data Scientist",
          "Research Scientist",
          "Consultant",
          "Data Analyst",
          "Principal Investigator",
          "Chief Officer",
          "Research Assistant",
          "Manager",
          "Data Journalist",
          "Developer Advocate",
          "Salesperson",
          "Student"
         ],
         "xaxis": "x",
         "y": [
          6,
          6,
          3,
          3,
          2,
          2,
          2,
          2,
          2,
          1,
          1,
          1,
          1,
          1,
          1
         ],
         "yaxis": "y"
        }
       ],
       "layout": {
        "barmode": "group",
        "height": 600,
        "legend": {
         "tracegroupgap": 0
        },
        "template": {
         "data": {
          "bar": [
           {
            "error_x": {
             "color": "#2a3f5f"
            },
            "error_y": {
             "color": "#2a3f5f"
            },
            "marker": {
             "line": {
              "color": "#E5ECF6",
              "width": 0.5
             }
            },
            "type": "bar"
           }
          ],
          "barpolar": [
           {
            "marker": {
             "line": {
              "color": "#E5ECF6",
              "width": 0.5
             }
            },
            "type": "barpolar"
           }
          ],
          "carpet": [
           {
            "aaxis": {
             "endlinecolor": "#2a3f5f",
             "gridcolor": "white",
             "linecolor": "white",
             "minorgridcolor": "white",
             "startlinecolor": "#2a3f5f"
            },
            "baxis": {
             "endlinecolor": "#2a3f5f",
             "gridcolor": "white",
             "linecolor": "white",
             "minorgridcolor": "white",
             "startlinecolor": "#2a3f5f"
            },
            "type": "carpet"
           }
          ],
          "choropleth": [
           {
            "colorbar": {
             "outlinewidth": 0,
             "ticks": ""
            },
            "type": "choropleth"
           }
          ],
          "contour": [
           {
            "colorbar": {
             "outlinewidth": 0,
             "ticks": ""
            },
            "colorscale": [
             [
              0,
              "#0d0887"
             ],
             [
              0.1111111111111111,
              "#46039f"
             ],
             [
              0.2222222222222222,
              "#7201a8"
             ],
             [
              0.3333333333333333,
              "#9c179e"
             ],
             [
              0.4444444444444444,
              "#bd3786"
             ],
             [
              0.5555555555555556,
              "#d8576b"
             ],
             [
              0.6666666666666666,
              "#ed7953"
             ],
             [
              0.7777777777777778,
              "#fb9f3a"
             ],
             [
              0.8888888888888888,
              "#fdca26"
             ],
             [
              1,
              "#f0f921"
             ]
            ],
            "type": "contour"
           }
          ],
          "contourcarpet": [
           {
            "colorbar": {
             "outlinewidth": 0,
             "ticks": ""
            },
            "type": "contourcarpet"
           }
          ],
          "heatmap": [
           {
            "colorbar": {
             "outlinewidth": 0,
             "ticks": ""
            },
            "colorscale": [
             [
              0,
              "#0d0887"
             ],
             [
              0.1111111111111111,
              "#46039f"
             ],
             [
              0.2222222222222222,
              "#7201a8"
             ],
             [
              0.3333333333333333,
              "#9c179e"
             ],
             [
              0.4444444444444444,
              "#bd3786"
             ],
             [
              0.5555555555555556,
              "#d8576b"
             ],
             [
              0.6666666666666666,
              "#ed7953"
             ],
             [
              0.7777777777777778,
              "#fb9f3a"
             ],
             [
              0.8888888888888888,
              "#fdca26"
             ],
             [
              1,
              "#f0f921"
             ]
            ],
            "type": "heatmap"
           }
          ],
          "heatmapgl": [
           {
            "colorbar": {
             "outlinewidth": 0,
             "ticks": ""
            },
            "colorscale": [
             [
              0,
              "#0d0887"
             ],
             [
              0.1111111111111111,
              "#46039f"
             ],
             [
              0.2222222222222222,
              "#7201a8"
             ],
             [
              0.3333333333333333,
              "#9c179e"
             ],
             [
              0.4444444444444444,
              "#bd3786"
             ],
             [
              0.5555555555555556,
              "#d8576b"
             ],
             [
              0.6666666666666666,
              "#ed7953"
             ],
             [
              0.7777777777777778,
              "#fb9f3a"
             ],
             [
              0.8888888888888888,
              "#fdca26"
             ],
             [
              1,
              "#f0f921"
             ]
            ],
            "type": "heatmapgl"
           }
          ],
          "histogram": [
           {
            "marker": {
             "colorbar": {
              "outlinewidth": 0,
              "ticks": ""
             }
            },
            "type": "histogram"
           }
          ],
          "histogram2d": [
           {
            "colorbar": {
             "outlinewidth": 0,
             "ticks": ""
            },
            "colorscale": [
             [
              0,
              "#0d0887"
             ],
             [
              0.1111111111111111,
              "#46039f"
             ],
             [
              0.2222222222222222,
              "#7201a8"
             ],
             [
              0.3333333333333333,
              "#9c179e"
             ],
             [
              0.4444444444444444,
              "#bd3786"
             ],
             [
              0.5555555555555556,
              "#d8576b"
             ],
             [
              0.6666666666666666,
              "#ed7953"
             ],
             [
              0.7777777777777778,
              "#fb9f3a"
             ],
             [
              0.8888888888888888,
              "#fdca26"
             ],
             [
              1,
              "#f0f921"
             ]
            ],
            "type": "histogram2d"
           }
          ],
          "histogram2dcontour": [
           {
            "colorbar": {
             "outlinewidth": 0,
             "ticks": ""
            },
            "colorscale": [
             [
              0,
              "#0d0887"
             ],
             [
              0.1111111111111111,
              "#46039f"
             ],
             [
              0.2222222222222222,
              "#7201a8"
             ],
             [
              0.3333333333333333,
              "#9c179e"
             ],
             [
              0.4444444444444444,
              "#bd3786"
             ],
             [
              0.5555555555555556,
              "#d8576b"
             ],
             [
              0.6666666666666666,
              "#ed7953"
             ],
             [
              0.7777777777777778,
              "#fb9f3a"
             ],
             [
              0.8888888888888888,
              "#fdca26"
             ],
             [
              1,
              "#f0f921"
             ]
            ],
            "type": "histogram2dcontour"
           }
          ],
          "mesh3d": [
           {
            "colorbar": {
             "outlinewidth": 0,
             "ticks": ""
            },
            "type": "mesh3d"
           }
          ],
          "parcoords": [
           {
            "line": {
             "colorbar": {
              "outlinewidth": 0,
              "ticks": ""
             }
            },
            "type": "parcoords"
           }
          ],
          "scatter": [
           {
            "marker": {
             "colorbar": {
              "outlinewidth": 0,
              "ticks": ""
             }
            },
            "type": "scatter"
           }
          ],
          "scatter3d": [
           {
            "line": {
             "colorbar": {
              "outlinewidth": 0,
              "ticks": ""
             }
            },
            "marker": {
             "colorbar": {
              "outlinewidth": 0,
              "ticks": ""
             }
            },
            "type": "scatter3d"
           }
          ],
          "scattercarpet": [
           {
            "marker": {
             "colorbar": {
              "outlinewidth": 0,
              "ticks": ""
             }
            },
            "type": "scattercarpet"
           }
          ],
          "scattergeo": [
           {
            "marker": {
             "colorbar": {
              "outlinewidth": 0,
              "ticks": ""
             }
            },
            "type": "scattergeo"
           }
          ],
          "scattergl": [
           {
            "marker": {
             "colorbar": {
              "outlinewidth": 0,
              "ticks": ""
             }
            },
            "type": "scattergl"
           }
          ],
          "scattermapbox": [
           {
            "marker": {
             "colorbar": {
              "outlinewidth": 0,
              "ticks": ""
             }
            },
            "type": "scattermapbox"
           }
          ],
          "scatterpolar": [
           {
            "marker": {
             "colorbar": {
              "outlinewidth": 0,
              "ticks": ""
             }
            },
            "type": "scatterpolar"
           }
          ],
          "scatterpolargl": [
           {
            "marker": {
             "colorbar": {
              "outlinewidth": 0,
              "ticks": ""
             }
            },
            "type": "scatterpolargl"
           }
          ],
          "scatterternary": [
           {
            "marker": {
             "colorbar": {
              "outlinewidth": 0,
              "ticks": ""
             }
            },
            "type": "scatterternary"
           }
          ],
          "surface": [
           {
            "colorbar": {
             "outlinewidth": 0,
             "ticks": ""
            },
            "colorscale": [
             [
              0,
              "#0d0887"
             ],
             [
              0.1111111111111111,
              "#46039f"
             ],
             [
              0.2222222222222222,
              "#7201a8"
             ],
             [
              0.3333333333333333,
              "#9c179e"
             ],
             [
              0.4444444444444444,
              "#bd3786"
             ],
             [
              0.5555555555555556,
              "#d8576b"
             ],
             [
              0.6666666666666666,
              "#ed7953"
             ],
             [
              0.7777777777777778,
              "#fb9f3a"
             ],
             [
              0.8888888888888888,
              "#fdca26"
             ],
             [
              1,
              "#f0f921"
             ]
            ],
            "type": "surface"
           }
          ],
          "table": [
           {
            "cells": {
             "fill": {
              "color": "#EBF0F8"
             },
             "line": {
              "color": "white"
             }
            },
            "header": {
             "fill": {
              "color": "#C8D4E3"
             },
             "line": {
              "color": "white"
             }
            },
            "type": "table"
           }
          ]
         },
         "layout": {
          "annotationdefaults": {
           "arrowcolor": "#2a3f5f",
           "arrowhead": 0,
           "arrowwidth": 1
          },
          "colorscale": {
           "diverging": [
            [
             0,
             "#8e0152"
            ],
            [
             0.1,
             "#c51b7d"
            ],
            [
             0.2,
             "#de77ae"
            ],
            [
             0.3,
             "#f1b6da"
            ],
            [
             0.4,
             "#fde0ef"
            ],
            [
             0.5,
             "#f7f7f7"
            ],
            [
             0.6,
             "#e6f5d0"
            ],
            [
             0.7,
             "#b8e186"
            ],
            [
             0.8,
             "#7fbc41"
            ],
            [
             0.9,
             "#4d9221"
            ],
            [
             1,
             "#276419"
            ]
           ],
           "sequential": [
            [
             0,
             "#0d0887"
            ],
            [
             0.1111111111111111,
             "#46039f"
            ],
            [
             0.2222222222222222,
             "#7201a8"
            ],
            [
             0.3333333333333333,
             "#9c179e"
            ],
            [
             0.4444444444444444,
             "#bd3786"
            ],
            [
             0.5555555555555556,
             "#d8576b"
            ],
            [
             0.6666666666666666,
             "#ed7953"
            ],
            [
             0.7777777777777778,
             "#fb9f3a"
            ],
            [
             0.8888888888888888,
             "#fdca26"
            ],
            [
             1,
             "#f0f921"
            ]
           ],
           "sequentialminus": [
            [
             0,
             "#0d0887"
            ],
            [
             0.1111111111111111,
             "#46039f"
            ],
            [
             0.2222222222222222,
             "#7201a8"
            ],
            [
             0.3333333333333333,
             "#9c179e"
            ],
            [
             0.4444444444444444,
             "#bd3786"
            ],
            [
             0.5555555555555556,
             "#d8576b"
            ],
            [
             0.6666666666666666,
             "#ed7953"
            ],
            [
             0.7777777777777778,
             "#fb9f3a"
            ],
            [
             0.8888888888888888,
             "#fdca26"
            ],
            [
             1,
             "#f0f921"
            ]
           ]
          },
          "colorway": [
           "#636efa",
           "#EF553B",
           "#00cc96",
           "#ab63fa",
           "#FFA15A",
           "#19d3f3",
           "#FF6692",
           "#B6E880",
           "#FF97FF",
           "#FECB52"
          ],
          "font": {
           "color": "#2a3f5f"
          },
          "geo": {
           "bgcolor": "white",
           "lakecolor": "white",
           "landcolor": "#E5ECF6",
           "showlakes": true,
           "showland": true,
           "subunitcolor": "white"
          },
          "hoverlabel": {
           "align": "left"
          },
          "hovermode": "closest",
          "mapbox": {
           "style": "light"
          },
          "paper_bgcolor": "white",
          "plot_bgcolor": "#E5ECF6",
          "polar": {
           "angularaxis": {
            "gridcolor": "white",
            "linecolor": "white",
            "ticks": ""
           },
           "bgcolor": "#E5ECF6",
           "radialaxis": {
            "gridcolor": "white",
            "linecolor": "white",
            "ticks": ""
           }
          },
          "scene": {
           "xaxis": {
            "backgroundcolor": "#E5ECF6",
            "gridcolor": "white",
            "gridwidth": 2,
            "linecolor": "white",
            "showbackground": true,
            "ticks": "",
            "zerolinecolor": "white"
           },
           "yaxis": {
            "backgroundcolor": "#E5ECF6",
            "gridcolor": "white",
            "gridwidth": 2,
            "linecolor": "white",
            "showbackground": true,
            "ticks": "",
            "zerolinecolor": "white"
           },
           "zaxis": {
            "backgroundcolor": "#E5ECF6",
            "gridcolor": "white",
            "gridwidth": 2,
            "linecolor": "white",
            "showbackground": true,
            "ticks": "",
            "zerolinecolor": "white"
           }
          },
          "shapedefaults": {
           "line": {
            "color": "#2a3f5f"
           }
          },
          "ternary": {
           "aaxis": {
            "gridcolor": "white",
            "linecolor": "white",
            "ticks": ""
           },
           "baxis": {
            "gridcolor": "white",
            "linecolor": "white",
            "ticks": ""
           },
           "bgcolor": "#E5ECF6",
           "caxis": {
            "gridcolor": "white",
            "linecolor": "white",
            "ticks": ""
           }
          },
          "title": {
           "x": 0.05
          },
          "xaxis": {
           "automargin": true,
           "gridcolor": "white",
           "linecolor": "white",
           "ticks": "",
           "zerolinecolor": "white",
           "zerolinewidth": 2
          },
          "yaxis": {
           "automargin": true,
           "gridcolor": "white",
           "linecolor": "white",
           "ticks": "",
           "zerolinecolor": "white",
           "zerolinewidth": 2
          }
         }
        },
        "title": {
         "text": "Age and Role of Survey Respondents in 2018"
        },
        "xaxis": {
         "anchor": "y",
         "domain": [
          0,
          0.98
         ],
         "title": {
          "text": "Q6"
         }
        },
        "yaxis": {
         "anchor": "x",
         "domain": [
          0,
          1
         ],
         "title": {
          "text": "count"
         }
        }
       }
      },
      "text/html": [
       "<div>\n",
       "        \n",
       "        \n",
       "            <div id=\"aba4c3fd-ba94-4347-b214-594fbda8d7ef\" class=\"plotly-graph-div\" style=\"height:600px; width:100%;\"></div>\n",
       "            <script type=\"text/javascript\">\n",
       "                require([\"plotly\"], function(Plotly) {\n",
       "                    window.PLOTLYENV=window.PLOTLYENV || {};\n",
       "                    \n",
       "                if (document.getElementById(\"aba4c3fd-ba94-4347-b214-594fbda8d7ef\")) {\n",
       "                    Plotly.newPlot(\n",
       "                        'aba4c3fd-ba94-4347-b214-594fbda8d7ef',\n",
       "                        [{\"alignmentgroup\": \"True\", \"hoverlabel\": {\"namelength\": 0}, \"hovertemplate\": \"Q2=18-21<br>Q6=%{x}<br>count=%{y}\", \"legendgroup\": \"Q2=18-21\", \"marker\": {\"color\": \"#636efa\"}, \"name\": \"Q2=18-21\", \"offsetgroup\": \"Q2=18-21\", \"orientation\": \"v\", \"showlegend\": true, \"textposition\": \"auto\", \"type\": \"bar\", \"x\": [\"Student\", \"Data Scientist\", \"Software Engineer\", \"Data Analyst\", \"Not employed\", \"Research Assistant\", \"Business Analyst\", \"Other\", \"Data Engineer\", \"Research Scientist\", \"Statistician\", \"Salesperson\", \"Chief Officer\", \"Consultant\", \"Manager\", \"Product/Project Manager\", \"Developer Advocate\", \"DBA/Database Engineer\", \"Marketing Analyst\"], \"xaxis\": \"x\", \"y\": [2048, 223, 200, 135, 62, 42, 36, 34, 31, 21, 12, 7, 7, 6, 6, 5, 4, 1, 1], \"yaxis\": \"y\"}, {\"alignmentgroup\": \"True\", \"hoverlabel\": {\"namelength\": 0}, \"hovertemplate\": \"Q2=22-24<br>Q6=%{x}<br>count=%{y}\", \"legendgroup\": \"Q2=22-24\", \"marker\": {\"color\": \"#EF553B\"}, \"name\": \"Q2=22-24\", \"offsetgroup\": \"Q2=22-24\", \"orientation\": \"v\", \"showlegend\": true, \"textposition\": \"auto\", \"type\": \"bar\", \"x\": [\"Student\", \"Data Scientist\", \"Software Engineer\", \"Data Analyst\", \"Not employed\", \"Other\", \"Research Assistant\", \"Data Engineer\", \"Business Analyst\", \"Research Scientist\", \"Consultant\", \"Statistician\", \"Product/Project Manager\", \"Developer Advocate\", \"DBA/Database Engineer\", \"Marketing Analyst\", \"Salesperson\", \"Chief Officer\", \"Manager\", \"Data Journalist\", \"Principal Investigator\"], \"xaxis\": \"x\", \"y\": [1909, 714, 688, 447, 210, 174, 158, 143, 130, 105, 60, 40, 24, 22, 20, 20, 12, 12, 12, 3, 2], \"yaxis\": \"y\"}, {\"alignmentgroup\": \"True\", \"hoverlabel\": {\"namelength\": 0}, \"hovertemplate\": \"Q2=25-29<br>Q6=%{x}<br>count=%{y}\", \"legendgroup\": \"Q2=25-29\", \"marker\": {\"color\": \"#00cc96\"}, \"name\": \"Q2=25-29\", \"offsetgroup\": \"Q2=25-29\", \"orientation\": \"v\", \"showlegend\": true, \"textposition\": \"auto\", \"type\": \"bar\", \"x\": [\"Data Scientist\", \"Student\", \"Software Engineer\", \"Data Analyst\", \"Other\", \"Research Scientist\", \"Business Analyst\", \"Not employed\", \"Data Engineer\", \"Research Assistant\", \"Consultant\", \"Product/Project Manager\", \"Statistician\", \"Manager\", \"Chief Officer\", \"Marketing Analyst\", \"Developer Advocate\", \"DBA/Database Engineer\", \"Salesperson\", \"Data Journalist\", \"Principal Investigator\"], \"xaxis\": \"x\", \"y\": [1369, 930, 907, 632, 315, 294, 248, 239, 228, 222, 182, 65, 60, 55, 39, 38, 32, 31, 23, 5, 3], \"yaxis\": \"y\"}, {\"alignmentgroup\": \"True\", \"hoverlabel\": {\"namelength\": 0}, \"hovertemplate\": \"Q2=30-34<br>Q6=%{x}<br>count=%{y}\", \"legendgroup\": \"Q2=30-34\", \"marker\": {\"color\": \"#ab63fa\"}, \"name\": \"Q2=30-34\", \"offsetgroup\": \"Q2=30-34\", \"orientation\": \"v\", \"showlegend\": true, \"textposition\": \"auto\", \"type\": \"bar\", \"x\": [\"Data Scientist\", \"Software Engineer\", \"Data Analyst\", \"Research Scientist\", \"Other\", \"Student\", \"Business Analyst\", \"Consultant\", \"Data Engineer\", \"Not employed\", \"Manager\", \"Research Assistant\", \"Product/Project Manager\", \"Chief Officer\", \"Statistician\", \"DBA/Database Engineer\", \"Salesperson\", \"Marketing Analyst\", \"Developer Advocate\", \"Principal Investigator\", \"Data Journalist\"], \"xaxis\": \"x\", \"y\": [873, 565, 352, 285, 246, 224, 164, 144, 141, 119, 116, 111, 90, 55, 43, 41, 22, 20, 15, 14, 5], \"yaxis\": \"y\"}, {\"alignmentgroup\": \"True\", \"hoverlabel\": {\"namelength\": 0}, \"hovertemplate\": \"Q2=35-39<br>Q6=%{x}<br>count=%{y}\", \"legendgroup\": \"Q2=35-39\", \"marker\": {\"color\": \"#FFA15A\"}, \"name\": \"Q2=35-39\", \"offsetgroup\": \"Q2=35-39\", \"orientation\": \"v\", \"showlegend\": true, \"textposition\": \"auto\", \"type\": \"bar\", \"x\": [\"Data Scientist\", \"Software Engineer\", \"Other\", \"Research Scientist\", \"Data Analyst\", \"Manager\", \"Consultant\", \"Data Engineer\", \"Student\", \"Business Analyst\", \"Not employed\", \"Product/Project Manager\", \"Chief Officer\", \"Research Assistant\", \"Principal Investigator\", \"DBA/Database Engineer\", \"Statistician\", \"Marketing Analyst\", \"Developer Advocate\", \"Salesperson\", \"Data Journalist\"], \"xaxis\": \"x\", \"y\": [462, 337, 202, 188, 158, 139, 101, 96, 85, 77, 69, 66, 57, 45, 21, 19, 19, 15, 10, 8, 1], \"yaxis\": \"y\"}, {\"alignmentgroup\": \"True\", \"hoverlabel\": {\"namelength\": 0}, \"hovertemplate\": \"Q2=40-44<br>Q6=%{x}<br>count=%{y}\", \"legendgroup\": \"Q2=40-44\", \"marker\": {\"color\": \"#19d3f3\"}, \"name\": \"Q2=40-44\", \"offsetgroup\": \"Q2=40-44\", \"orientation\": \"v\", \"showlegend\": true, \"textposition\": \"auto\", \"type\": \"bar\", \"x\": [\"Data Scientist\", \"Software Engineer\", \"Other\", \"Research Scientist\", \"Manager\", \"Data Analyst\", \"Consultant\", \"Product/Project Manager\", \"Chief Officer\", \"Business Analyst\", \"Data Engineer\", \"Not employed\", \"Student\", \"Statistician\", \"Principal Investigator\", \"Developer Advocate\", \"Research Assistant\", \"Salesperson\", \"DBA/Database Engineer\", \"Marketing Analyst\", \"Data Journalist\"], \"xaxis\": \"x\", \"y\": [220, 187, 125, 119, 97, 86, 80, 73, 53, 51, 47, 38, 32, 26, 16, 14, 14, 12, 9, 7, 2], \"yaxis\": \"y\"}, {\"alignmentgroup\": \"True\", \"hoverlabel\": {\"namelength\": 0}, \"hovertemplate\": \"Q2=45-49<br>Q6=%{x}<br>count=%{y}\", \"legendgroup\": \"Q2=45-49\", \"marker\": {\"color\": \"#FF6692\"}, \"name\": \"Q2=45-49\", \"offsetgroup\": \"Q2=45-49\", \"orientation\": \"v\", \"showlegend\": true, \"textposition\": \"auto\", \"type\": \"bar\", \"x\": [\"Software Engineer\", \"Data Scientist\", \"Other\", \"Manager\", \"Consultant\", \"Chief Officer\", \"Research Scientist\", \"Product/Project Manager\", \"Data Analyst\", \"Not employed\", \"Business Analyst\", \"Data Engineer\", \"Statistician\", \"Principal Investigator\", \"Developer Advocate\", \"Student\", \"Salesperson\", \"DBA/Database Engineer\", \"Marketing Analyst\", \"Research Assistant\", \"Data Journalist\"], \"xaxis\": \"x\", \"y\": [115, 112, 85, 74, 67, 62, 60, 49, 49, 31, 29, 24, 16, 12, 10, 9, 9, 8, 6, 4, 2], \"yaxis\": \"y\"}, {\"alignmentgroup\": \"True\", \"hoverlabel\": {\"namelength\": 0}, \"hovertemplate\": \"Q2=50-54<br>Q6=%{x}<br>count=%{y}\", \"legendgroup\": \"Q2=50-54\", \"marker\": {\"color\": \"#B6E880\"}, \"name\": \"Q2=50-54\", \"offsetgroup\": \"Q2=50-54\", \"orientation\": \"v\", \"showlegend\": true, \"textposition\": \"auto\", \"type\": \"bar\", \"x\": [\"Data Scientist\", \"Software Engineer\", \"Manager\", \"Consultant\", \"Other\", \"Research Scientist\", \"Chief Officer\", \"Product/Project Manager\", \"Data Analyst\", \"Not employed\", \"Business Analyst\", \"Principal Investigator\", \"Data Engineer\", \"DBA/Database Engineer\", \"Student\", \"Developer Advocate\", \"Statistician\", \"Marketing Analyst\", \"Salesperson\", \"Research Assistant\", \"Data Journalist\"], \"xaxis\": \"x\", \"y\": [75, 69, 53, 52, 51, 49, 37, 34, 29, 26, 23, 15, 12, 9, 9, 4, 4, 4, 3, 3, 1], \"yaxis\": \"y\"}, {\"alignmentgroup\": \"True\", \"hoverlabel\": {\"namelength\": 0}, \"hovertemplate\": \"Q2=55-59<br>Q6=%{x}<br>count=%{y}\", \"legendgroup\": \"Q2=55-59\", \"marker\": {\"color\": \"#FF97FF\"}, \"name\": \"Q2=55-59\", \"offsetgroup\": \"Q2=55-59\", \"orientation\": \"v\", \"showlegend\": true, \"textposition\": \"auto\", \"type\": \"bar\", \"x\": [\"Data Scientist\", \"Consultant\", \"Other\", \"Software Engineer\", \"Research Scientist\", \"Chief Officer\", \"Not employed\", \"Data Analyst\", \"Manager\", \"Product/Project Manager\", \"Statistician\", \"Business Analyst\", \"Student\", \"Data Engineer\", \"Developer Advocate\", \"Salesperson\", \"Principal Investigator\", \"DBA/Database Engineer\", \"Marketing Analyst\"], \"xaxis\": \"x\", \"y\": [54, 38, 36, 33, 29, 19, 19, 18, 17, 14, 9, 9, 5, 5, 4, 4, 4, 3, 2], \"yaxis\": \"y\"}, {\"alignmentgroup\": \"True\", \"hoverlabel\": {\"namelength\": 0}, \"hovertemplate\": \"Q2=60-69<br>Q6=%{x}<br>count=%{y}\", \"legendgroup\": \"Q2=60-69\", \"marker\": {\"color\": \"#FECB52\"}, \"name\": \"Q2=60-69\", \"offsetgroup\": \"Q2=60-69\", \"orientation\": \"v\", \"showlegend\": true, \"textposition\": \"auto\", \"type\": \"bar\", \"x\": [\"Other\", \"Consultant\", \"Data Scientist\", \"Research Scientist\", \"Software Engineer\", \"Manager\", \"Not employed\", \"Chief Officer\", \"Data Analyst\", \"Data Engineer\", \"Product/Project Manager\", \"Principal Investigator\", \"Statistician\", \"Business Analyst\", \"DBA/Database Engineer\", \"Marketing Analyst\", \"Student\", \"Developer Advocate\", \"Salesperson\"], \"xaxis\": \"x\", \"y\": [43, 41, 29, 27, 24, 19, 18, 14, 11, 9, 7, 7, 6, 5, 4, 2, 1, 1, 1], \"yaxis\": \"y\"}, {\"alignmentgroup\": \"True\", \"hoverlabel\": {\"namelength\": 0}, \"hovertemplate\": \"Q2=70-79<br>Q6=%{x}<br>count=%{y}\", \"legendgroup\": \"Q2=70-79\", \"marker\": {\"color\": \"#636efa\"}, \"name\": \"Q2=70-79\", \"offsetgroup\": \"Q2=70-79\", \"orientation\": \"v\", \"showlegend\": true, \"textposition\": \"auto\", \"type\": \"bar\", \"x\": [\"Consultant\", \"Research Scientist\", \"Other\", \"Not employed\", \"Data Analyst\", \"Chief Officer\", \"Data Scientist\", \"Statistician\", \"Software Engineer\", \"Principal Investigator\", \"Product/Project Manager\", \"Data Engineer\", \"Manager\"], \"xaxis\": \"x\", \"y\": [12, 10, 5, 5, 3, 3, 3, 2, 2, 1, 1, 1, 1], \"yaxis\": \"y\"}, {\"alignmentgroup\": \"True\", \"hoverlabel\": {\"namelength\": 0}, \"hovertemplate\": \"Q2=80+<br>Q6=%{x}<br>count=%{y}\", \"legendgroup\": \"Q2=80+\", \"marker\": {\"color\": \"#EF553B\"}, \"name\": \"Q2=80+\", \"offsetgroup\": \"Q2=80+\", \"orientation\": \"v\", \"showlegend\": true, \"textposition\": \"auto\", \"type\": \"bar\", \"x\": [\"Other\", \"Not employed\", \"Software Engineer\", \"Data Scientist\", \"Research Scientist\", \"Consultant\", \"Data Analyst\", \"Principal Investigator\", \"Chief Officer\", \"Research Assistant\", \"Manager\", \"Data Journalist\", \"Developer Advocate\", \"Salesperson\", \"Student\"], \"xaxis\": \"x\", \"y\": [6, 6, 3, 3, 2, 2, 2, 2, 2, 1, 1, 1, 1, 1, 1], \"yaxis\": \"y\"}],\n",
       "                        {\"barmode\": \"group\", \"height\": 600, \"legend\": {\"tracegroupgap\": 0}, \"template\": {\"data\": {\"bar\": [{\"error_x\": {\"color\": \"#2a3f5f\"}, \"error_y\": {\"color\": \"#2a3f5f\"}, \"marker\": {\"line\": {\"color\": \"#E5ECF6\", \"width\": 0.5}}, \"type\": \"bar\"}], \"barpolar\": [{\"marker\": {\"line\": {\"color\": \"#E5ECF6\", \"width\": 0.5}}, \"type\": \"barpolar\"}], \"carpet\": [{\"aaxis\": {\"endlinecolor\": \"#2a3f5f\", \"gridcolor\": \"white\", \"linecolor\": \"white\", \"minorgridcolor\": \"white\", \"startlinecolor\": \"#2a3f5f\"}, \"baxis\": {\"endlinecolor\": \"#2a3f5f\", \"gridcolor\": \"white\", \"linecolor\": \"white\", \"minorgridcolor\": \"white\", \"startlinecolor\": \"#2a3f5f\"}, \"type\": \"carpet\"}], \"choropleth\": [{\"colorbar\": {\"outlinewidth\": 0, \"ticks\": \"\"}, \"type\": \"choropleth\"}], \"contour\": [{\"colorbar\": {\"outlinewidth\": 0, \"ticks\": \"\"}, \"colorscale\": [[0.0, \"#0d0887\"], [0.1111111111111111, \"#46039f\"], [0.2222222222222222, \"#7201a8\"], [0.3333333333333333, \"#9c179e\"], [0.4444444444444444, \"#bd3786\"], [0.5555555555555556, \"#d8576b\"], [0.6666666666666666, \"#ed7953\"], [0.7777777777777778, \"#fb9f3a\"], [0.8888888888888888, \"#fdca26\"], [1.0, \"#f0f921\"]], \"type\": \"contour\"}], \"contourcarpet\": [{\"colorbar\": {\"outlinewidth\": 0, \"ticks\": \"\"}, \"type\": \"contourcarpet\"}], \"heatmap\": [{\"colorbar\": {\"outlinewidth\": 0, \"ticks\": \"\"}, \"colorscale\": [[0.0, \"#0d0887\"], [0.1111111111111111, \"#46039f\"], [0.2222222222222222, \"#7201a8\"], [0.3333333333333333, \"#9c179e\"], [0.4444444444444444, \"#bd3786\"], [0.5555555555555556, \"#d8576b\"], [0.6666666666666666, \"#ed7953\"], [0.7777777777777778, \"#fb9f3a\"], [0.8888888888888888, \"#fdca26\"], [1.0, \"#f0f921\"]], \"type\": \"heatmap\"}], \"heatmapgl\": [{\"colorbar\": {\"outlinewidth\": 0, \"ticks\": \"\"}, \"colorscale\": [[0.0, \"#0d0887\"], [0.1111111111111111, \"#46039f\"], [0.2222222222222222, \"#7201a8\"], [0.3333333333333333, \"#9c179e\"], [0.4444444444444444, \"#bd3786\"], [0.5555555555555556, \"#d8576b\"], [0.6666666666666666, \"#ed7953\"], [0.7777777777777778, \"#fb9f3a\"], [0.8888888888888888, \"#fdca26\"], [1.0, \"#f0f921\"]], \"type\": \"heatmapgl\"}], \"histogram\": [{\"marker\": {\"colorbar\": {\"outlinewidth\": 0, \"ticks\": \"\"}}, \"type\": \"histogram\"}], \"histogram2d\": [{\"colorbar\": {\"outlinewidth\": 0, \"ticks\": \"\"}, \"colorscale\": [[0.0, \"#0d0887\"], [0.1111111111111111, \"#46039f\"], [0.2222222222222222, \"#7201a8\"], [0.3333333333333333, \"#9c179e\"], [0.4444444444444444, \"#bd3786\"], [0.5555555555555556, \"#d8576b\"], [0.6666666666666666, \"#ed7953\"], [0.7777777777777778, \"#fb9f3a\"], [0.8888888888888888, \"#fdca26\"], [1.0, \"#f0f921\"]], \"type\": \"histogram2d\"}], \"histogram2dcontour\": [{\"colorbar\": {\"outlinewidth\": 0, \"ticks\": \"\"}, \"colorscale\": [[0.0, \"#0d0887\"], [0.1111111111111111, \"#46039f\"], [0.2222222222222222, \"#7201a8\"], [0.3333333333333333, \"#9c179e\"], [0.4444444444444444, \"#bd3786\"], [0.5555555555555556, \"#d8576b\"], [0.6666666666666666, \"#ed7953\"], [0.7777777777777778, \"#fb9f3a\"], [0.8888888888888888, \"#fdca26\"], [1.0, \"#f0f921\"]], \"type\": \"histogram2dcontour\"}], \"mesh3d\": [{\"colorbar\": {\"outlinewidth\": 0, \"ticks\": \"\"}, \"type\": \"mesh3d\"}], \"parcoords\": [{\"line\": {\"colorbar\": {\"outlinewidth\": 0, \"ticks\": \"\"}}, \"type\": \"parcoords\"}], \"scatter\": [{\"marker\": {\"colorbar\": {\"outlinewidth\": 0, \"ticks\": \"\"}}, \"type\": \"scatter\"}], \"scatter3d\": [{\"line\": {\"colorbar\": {\"outlinewidth\": 0, \"ticks\": \"\"}}, \"marker\": {\"colorbar\": {\"outlinewidth\": 0, \"ticks\": \"\"}}, \"type\": \"scatter3d\"}], \"scattercarpet\": [{\"marker\": {\"colorbar\": {\"outlinewidth\": 0, \"ticks\": \"\"}}, \"type\": \"scattercarpet\"}], \"scattergeo\": [{\"marker\": {\"colorbar\": {\"outlinewidth\": 0, \"ticks\": \"\"}}, \"type\": \"scattergeo\"}], \"scattergl\": [{\"marker\": {\"colorbar\": {\"outlinewidth\": 0, \"ticks\": \"\"}}, \"type\": \"scattergl\"}], \"scattermapbox\": [{\"marker\": {\"colorbar\": {\"outlinewidth\": 0, \"ticks\": \"\"}}, \"type\": \"scattermapbox\"}], \"scatterpolar\": [{\"marker\": {\"colorbar\": {\"outlinewidth\": 0, \"ticks\": \"\"}}, \"type\": \"scatterpolar\"}], \"scatterpolargl\": [{\"marker\": {\"colorbar\": {\"outlinewidth\": 0, \"ticks\": \"\"}}, \"type\": \"scatterpolargl\"}], \"scatterternary\": [{\"marker\": {\"colorbar\": {\"outlinewidth\": 0, \"ticks\": \"\"}}, \"type\": \"scatterternary\"}], \"surface\": [{\"colorbar\": {\"outlinewidth\": 0, \"ticks\": \"\"}, \"colorscale\": [[0.0, \"#0d0887\"], [0.1111111111111111, \"#46039f\"], [0.2222222222222222, \"#7201a8\"], [0.3333333333333333, \"#9c179e\"], [0.4444444444444444, \"#bd3786\"], [0.5555555555555556, \"#d8576b\"], [0.6666666666666666, \"#ed7953\"], [0.7777777777777778, \"#fb9f3a\"], [0.8888888888888888, \"#fdca26\"], [1.0, \"#f0f921\"]], \"type\": \"surface\"}], \"table\": [{\"cells\": {\"fill\": {\"color\": \"#EBF0F8\"}, \"line\": {\"color\": \"white\"}}, \"header\": {\"fill\": {\"color\": \"#C8D4E3\"}, \"line\": {\"color\": \"white\"}}, \"type\": \"table\"}]}, \"layout\": {\"annotationdefaults\": {\"arrowcolor\": \"#2a3f5f\", \"arrowhead\": 0, \"arrowwidth\": 1}, \"colorscale\": {\"diverging\": [[0, \"#8e0152\"], [0.1, \"#c51b7d\"], [0.2, \"#de77ae\"], [0.3, \"#f1b6da\"], [0.4, \"#fde0ef\"], [0.5, \"#f7f7f7\"], [0.6, \"#e6f5d0\"], [0.7, \"#b8e186\"], [0.8, \"#7fbc41\"], [0.9, \"#4d9221\"], [1, \"#276419\"]], \"sequential\": [[0.0, \"#0d0887\"], [0.1111111111111111, \"#46039f\"], [0.2222222222222222, \"#7201a8\"], [0.3333333333333333, \"#9c179e\"], [0.4444444444444444, \"#bd3786\"], [0.5555555555555556, \"#d8576b\"], [0.6666666666666666, \"#ed7953\"], [0.7777777777777778, \"#fb9f3a\"], [0.8888888888888888, \"#fdca26\"], [1.0, \"#f0f921\"]], \"sequentialminus\": [[0.0, \"#0d0887\"], [0.1111111111111111, \"#46039f\"], [0.2222222222222222, \"#7201a8\"], [0.3333333333333333, \"#9c179e\"], [0.4444444444444444, \"#bd3786\"], [0.5555555555555556, \"#d8576b\"], [0.6666666666666666, \"#ed7953\"], [0.7777777777777778, \"#fb9f3a\"], [0.8888888888888888, \"#fdca26\"], [1.0, \"#f0f921\"]]}, \"colorway\": [\"#636efa\", \"#EF553B\", \"#00cc96\", \"#ab63fa\", \"#FFA15A\", \"#19d3f3\", \"#FF6692\", \"#B6E880\", \"#FF97FF\", \"#FECB52\"], \"font\": {\"color\": \"#2a3f5f\"}, \"geo\": {\"bgcolor\": \"white\", \"lakecolor\": \"white\", \"landcolor\": \"#E5ECF6\", \"showlakes\": true, \"showland\": true, \"subunitcolor\": \"white\"}, \"hoverlabel\": {\"align\": \"left\"}, \"hovermode\": \"closest\", \"mapbox\": {\"style\": \"light\"}, \"paper_bgcolor\": \"white\", \"plot_bgcolor\": \"#E5ECF6\", \"polar\": {\"angularaxis\": {\"gridcolor\": \"white\", \"linecolor\": \"white\", \"ticks\": \"\"}, \"bgcolor\": \"#E5ECF6\", \"radialaxis\": {\"gridcolor\": \"white\", \"linecolor\": \"white\", \"ticks\": \"\"}}, \"scene\": {\"xaxis\": {\"backgroundcolor\": \"#E5ECF6\", \"gridcolor\": \"white\", \"gridwidth\": 2, \"linecolor\": \"white\", \"showbackground\": true, \"ticks\": \"\", \"zerolinecolor\": \"white\"}, \"yaxis\": {\"backgroundcolor\": \"#E5ECF6\", \"gridcolor\": \"white\", \"gridwidth\": 2, \"linecolor\": \"white\", \"showbackground\": true, \"ticks\": \"\", \"zerolinecolor\": \"white\"}, \"zaxis\": {\"backgroundcolor\": \"#E5ECF6\", \"gridcolor\": \"white\", \"gridwidth\": 2, \"linecolor\": \"white\", \"showbackground\": true, \"ticks\": \"\", \"zerolinecolor\": \"white\"}}, \"shapedefaults\": {\"line\": {\"color\": \"#2a3f5f\"}}, \"ternary\": {\"aaxis\": {\"gridcolor\": \"white\", \"linecolor\": \"white\", \"ticks\": \"\"}, \"baxis\": {\"gridcolor\": \"white\", \"linecolor\": \"white\", \"ticks\": \"\"}, \"bgcolor\": \"#E5ECF6\", \"caxis\": {\"gridcolor\": \"white\", \"linecolor\": \"white\", \"ticks\": \"\"}}, \"title\": {\"x\": 0.05}, \"xaxis\": {\"automargin\": true, \"gridcolor\": \"white\", \"linecolor\": \"white\", \"ticks\": \"\", \"zerolinecolor\": \"white\", \"zerolinewidth\": 2}, \"yaxis\": {\"automargin\": true, \"gridcolor\": \"white\", \"linecolor\": \"white\", \"ticks\": \"\", \"zerolinecolor\": \"white\", \"zerolinewidth\": 2}}}, \"title\": {\"text\": \"Age and Role of Survey Respondents in 2018\"}, \"xaxis\": {\"anchor\": \"y\", \"domain\": [0.0, 0.98], \"title\": {\"text\": \"Q6\"}}, \"yaxis\": {\"anchor\": \"x\", \"domain\": [0.0, 1.0], \"title\": {\"text\": \"count\"}}},\n",
       "                        {\"responsive\": true}\n",
       "                    ).then(function(){\n",
       "                            \n",
       "var gd = document.getElementById('aba4c3fd-ba94-4347-b214-594fbda8d7ef');\n",
       "var x = new MutationObserver(function (mutations, observer) {{\n",
       "        var display = window.getComputedStyle(gd).display;\n",
       "        if (!display || display === 'none') {{\n",
       "            console.log([gd, 'removed!']);\n",
       "            Plotly.purge(gd);\n",
       "            observer.disconnect();\n",
       "        }}\n",
       "}});\n",
       "\n",
       "// Listen for the removal of the full notebook cells\n",
       "var notebookContainer = gd.closest('#notebook-container');\n",
       "if (notebookContainer) {{\n",
       "    x.observe(notebookContainer, {childList: true});\n",
       "}}\n",
       "\n",
       "// Listen for the clearing of the current output cell\n",
       "var outputEl = gd.closest('.output');\n",
       "if (outputEl) {{\n",
       "    x.observe(outputEl, {childList: true});\n",
       "}}\n",
       "\n",
       "                        })\n",
       "                };\n",
       "                });\n",
       "            </script>\n",
       "        </div>"
      ]
     },
     "metadata": {},
     "output_type": "display_data"
    }
   ],
   "source": [
    "df_test = pd.DataFrame({'count' : df_multi_choice.groupby([ \"Q6\", \"Q2\"] ).size()}).reset_index().sort_values(by = 'count', ascending = False)\n",
    "df_test.head()\n",
    "\n",
    "fig = px.bar(df_test, x = 'Q6', y = 'count', title= 'Age and Role of Survey Respondents in 2018', color = 'Q2' , barmode='group')\n",
    "fig.show()"
   ]
  },
  {
   "cell_type": "markdown",
   "metadata": {},
   "source": [
    "Notes:\n",
    "    1. The figure above is interactive. Drag and drop a box around the role you want to learn more about. The purpose of this figure is to enable readers to explore - at a high level - the data."
   ]
  },
  {
   "cell_type": "code",
   "execution_count": 32,
   "metadata": {},
   "outputs": [
    {
     "data": {
      "text/html": [
       "<div>\n",
       "<style scoped>\n",
       "    .dataframe tbody tr th:only-of-type {\n",
       "        vertical-align: middle;\n",
       "    }\n",
       "\n",
       "    .dataframe tbody tr th {\n",
       "        vertical-align: top;\n",
       "    }\n",
       "\n",
       "    .dataframe thead th {\n",
       "        text-align: right;\n",
       "    }\n",
       "</style>\n",
       "<table border=\"1\" class=\"dataframe\">\n",
       "  <thead>\n",
       "    <tr style=\"text-align: right;\">\n",
       "      <th></th>\n",
       "      <th>Q3</th>\n",
       "      <th>Q1</th>\n",
       "      <th>count</th>\n",
       "    </tr>\n",
       "  </thead>\n",
       "  <tbody>\n",
       "    <tr>\n",
       "      <th>67</th>\n",
       "      <td>India</td>\n",
       "      <td>Male</td>\n",
       "      <td>3719</td>\n",
       "    </tr>\n",
       "    <tr>\n",
       "      <th>177</th>\n",
       "      <td>United States of America</td>\n",
       "      <td>Male</td>\n",
       "      <td>3530</td>\n",
       "    </tr>\n",
       "    <tr>\n",
       "      <th>28</th>\n",
       "      <td>China</td>\n",
       "      <td>Male</td>\n",
       "      <td>1337</td>\n",
       "    </tr>\n",
       "    <tr>\n",
       "      <th>176</th>\n",
       "      <td>United States of America</td>\n",
       "      <td>Female</td>\n",
       "      <td>1082</td>\n",
       "    </tr>\n",
       "    <tr>\n",
       "      <th>113</th>\n",
       "      <td>Other</td>\n",
       "      <td>Male</td>\n",
       "      <td>849</td>\n",
       "    </tr>\n",
       "  </tbody>\n",
       "</table>\n",
       "</div>"
      ],
      "text/plain": [
       "                           Q3      Q1  count\n",
       "67                      India    Male   3719\n",
       "177  United States of America    Male   3530\n",
       "28                      China    Male   1337\n",
       "176  United States of America  Female   1082\n",
       "113                     Other    Male    849"
      ]
     },
     "execution_count": 32,
     "metadata": {},
     "output_type": "execute_result"
    }
   ],
   "source": [
    "df_test = pd.DataFrame({'count' : df_multi_choice.groupby([ \"Q3\", \"Q1\"] ).size()}).reset_index().sort_values(by = 'count', ascending = False)\n",
    "df_test.head()\n"
   ]
  },
  {
   "cell_type": "code",
   "execution_count": 33,
   "metadata": {},
   "outputs": [
    {
     "data": {
      "application/vnd.plotly.v1+json": {
       "config": {
        "plotlyServerURL": "https://plot.ly"
       },
       "data": [
        {
         "alignmentgroup": "True",
         "hoverlabel": {
          "namelength": 0
         },
         "hovertemplate": "Q1=Male<br>Q3=%{x}<br>count=%{y}",
         "legendgroup": "Q1=Male",
         "marker": {
          "color": "#636efa"
         },
         "name": "Q1=Male",
         "offsetgroup": "Q1=Male",
         "orientation": "v",
         "showlegend": true,
         "textposition": "auto",
         "type": "bar",
         "x": [
          "India",
          "United States of America",
          "China",
          "Other",
          "Russia",
          "Brazil",
          "Germany",
          "Japan",
          "United Kingdom of Great Britain and Northern Ireland",
          "France",
          "Canada",
          "Spain",
          "Italy",
          "Australia",
          "Turkey",
          "I do not wish to disclose my location",
          "Poland",
          "Netherlands",
          "Ukraine",
          "Nigeria",
          "Mexico",
          "South Korea",
          "Israel",
          "Singapore",
          "Switzerland",
          "Indonesia",
          "Pakistan",
          "Sweden",
          "Portugal",
          "Viet Nam",
          "South Africa",
          "Colombia",
          "Argentina",
          "Belgium",
          "Greece",
          "Denmark",
          "Bangladesh",
          "Ireland",
          "Iran, Islamic Republic of...",
          "Malaysia",
          "Hungary",
          "Belarus",
          "Egypt",
          "Finland",
          "Peru",
          "Kenya",
          "Czech Republic",
          "Chile",
          "Hong Kong (S.A.R.)",
          "Norway",
          "New Zealand",
          "Republic of Korea",
          "Romania",
          "Thailand",
          "Philippines",
          "Austria",
          "Morocco",
          "Tunisia"
         ],
         "xaxis": "x",
         "y": [
          3719,
          3530,
          1337,
          849,
          750,
          666,
          621,
          557,
          554,
          494,
          475,
          406,
          303,
          272,
          267,
          250,
          243,
          225,
          218,
          177,
          166,
          154,
          145,
          141,
          140,
          135,
          133,
          126,
          123,
          122,
          116,
          111,
          104,
          102,
          100,
          96,
          94,
          87,
          85,
          81,
          81,
          75,
          73,
          70,
          70,
          67,
          67,
          66,
          63,
          63,
          62,
          62,
          61,
          60,
          57,
          55,
          54,
          50
         ],
         "yaxis": "y"
        },
        {
         "alignmentgroup": "True",
         "hoverlabel": {
          "namelength": 0
         },
         "hovertemplate": "Q1=Female<br>Q3=%{x}<br>count=%{y}",
         "legendgroup": "Q1=Female",
         "marker": {
          "color": "#EF553B"
         },
         "name": "Q1=Female",
         "offsetgroup": "Q1=Female",
         "orientation": "v",
         "showlegend": true,
         "textposition": "auto",
         "type": "bar",
         "x": [
          "United States of America",
          "India",
          "China",
          "Other",
          "United Kingdom of Great Britain and Northern Ireland",
          "Canada",
          "Russia",
          "France",
          "Germany",
          "I do not wish to disclose my location",
          "Spain",
          "Brazil",
          "Turkey",
          "Poland",
          "Australia",
          "Italy",
          "Singapore",
          "Netherlands",
          "Mexico",
          "Japan",
          "Indonesia",
          "Portugal",
          "South Korea",
          "Nigeria",
          "Ukraine",
          "Malaysia",
          "South Africa",
          "Pakistan",
          "Iran, Islamic Republic of...",
          "Israel",
          "Sweden",
          "Tunisia",
          "Egypt",
          "Viet Nam",
          "Switzerland",
          "Greece",
          "Romania",
          "Morocco",
          "Kenya",
          "Colombia",
          "Belarus",
          "Philippines",
          "New Zealand",
          "Ireland",
          "Bangladesh",
          "Thailand",
          "Argentina",
          "Hungary",
          "Peru",
          "Hong Kong (S.A.R.)",
          "Chile",
          "Norway",
          "Belgium",
          "Republic of Korea",
          "Denmark",
          "Austria",
          "Finland",
          "Czech Republic"
         ],
         "xaxis": "x",
         "y": [
          1082,
          657,
          267,
          165,
          131,
          123,
          113,
          104,
          103,
          83,
          75,
          65,
          56,
          54,
          51,
          47,
          41,
          41,
          34,
          34,
          33,
          32,
          32,
          31,
          31,
          30,
          29,
          28,
          27,
          25,
          25,
          23,
          22,
          21,
          21,
          20,
          18,
          17,
          17,
          17,
          16,
          14,
          14,
          13,
          13,
          12,
          12,
          12,
          11,
          10,
          10,
          9,
          8,
          8,
          7,
          7,
          5,
          4
         ],
         "yaxis": "y"
        },
        {
         "alignmentgroup": "True",
         "hoverlabel": {
          "namelength": 0
         },
         "hovertemplate": "Q1=Prefer not to say<br>Q3=%{x}<br>count=%{y}",
         "legendgroup": "Q1=Prefer not to say",
         "marker": {
          "color": "#00cc96"
         },
         "name": "Q1=Prefer not to say",
         "offsetgroup": "Q1=Prefer not to say",
         "orientation": "v",
         "showlegend": true,
         "textposition": "auto",
         "type": "bar",
         "x": [
          "United States of America",
          "I do not wish to disclose my location",
          "China",
          "India",
          "Other",
          "United Kingdom of Great Britain and Northern Ireland",
          "Russia",
          "Germany",
          "Japan",
          "France",
          "Poland",
          "Singapore",
          "Spain",
          "Australia",
          "Netherlands",
          "Denmark",
          "Finland",
          "Turkey",
          "Sweden",
          "Hong Kong (S.A.R.)",
          "Canada",
          "Ukraine",
          "Israel",
          "Italy",
          "Brazil",
          "Switzerland",
          "Argentina",
          "Norway",
          "South Korea",
          "Mexico",
          "Malaysia",
          "Indonesia",
          "Republic of Korea",
          "New Zealand",
          "Kenya",
          "Philippines",
          "Ireland",
          "Iran, Islamic Republic of...",
          "Egypt",
          "Greece",
          "South Africa",
          "Tunisia",
          "Thailand",
          "Viet Nam"
         ],
         "xaxis": "x",
         "y": [
          77,
          56,
          38,
          37,
          18,
          12,
          8,
          8,
          6,
          5,
          4,
          4,
          4,
          4,
          4,
          3,
          3,
          3,
          3,
          3,
          3,
          3,
          3,
          3,
          2,
          2,
          2,
          2,
          2,
          2,
          2,
          2,
          1,
          1,
          1,
          1,
          1,
          1,
          1,
          1,
          1,
          1,
          1,
          1
         ],
         "yaxis": "y"
        },
        {
         "alignmentgroup": "True",
         "hoverlabel": {
          "namelength": 0
         },
         "hovertemplate": "Q1=Prefer to self-describe<br>Q3=%{x}<br>count=%{y}",
         "legendgroup": "Q1=Prefer to self-describe",
         "marker": {
          "color": "#ab63fa"
         },
         "name": "Q1=Prefer to self-describe",
         "offsetgroup": "Q1=Prefer to self-describe",
         "orientation": "v",
         "showlegend": true,
         "textposition": "auto",
         "type": "bar",
         "x": [
          "United States of America",
          "Russia",
          "United Kingdom of Great Britain and Northern Ireland",
          "I do not wish to disclose my location",
          "India",
          "Other",
          "Canada",
          "Brazil",
          "Australia",
          "China",
          "Germany",
          "Italy",
          "Sweden",
          "Argentina",
          "Philippines",
          "Belgium",
          "Indonesia",
          "Turkey",
          "South Africa",
          "Czech Republic",
          "France",
          "Switzerland",
          "Finland"
         ],
         "xaxis": "x",
         "y": [
          27,
          8,
          5,
          5,
          4,
          4,
          3,
          3,
          3,
          2,
          2,
          2,
          1,
          1,
          1,
          1,
          1,
          1,
          1,
          1,
          1,
          1,
          1
         ],
         "yaxis": "y"
        }
       ],
       "layout": {
        "barmode": "group",
        "height": 600,
        "legend": {
         "tracegroupgap": 0
        },
        "template": {
         "data": {
          "bar": [
           {
            "error_x": {
             "color": "#2a3f5f"
            },
            "error_y": {
             "color": "#2a3f5f"
            },
            "marker": {
             "line": {
              "color": "#E5ECF6",
              "width": 0.5
             }
            },
            "type": "bar"
           }
          ],
          "barpolar": [
           {
            "marker": {
             "line": {
              "color": "#E5ECF6",
              "width": 0.5
             }
            },
            "type": "barpolar"
           }
          ],
          "carpet": [
           {
            "aaxis": {
             "endlinecolor": "#2a3f5f",
             "gridcolor": "white",
             "linecolor": "white",
             "minorgridcolor": "white",
             "startlinecolor": "#2a3f5f"
            },
            "baxis": {
             "endlinecolor": "#2a3f5f",
             "gridcolor": "white",
             "linecolor": "white",
             "minorgridcolor": "white",
             "startlinecolor": "#2a3f5f"
            },
            "type": "carpet"
           }
          ],
          "choropleth": [
           {
            "colorbar": {
             "outlinewidth": 0,
             "ticks": ""
            },
            "type": "choropleth"
           }
          ],
          "contour": [
           {
            "colorbar": {
             "outlinewidth": 0,
             "ticks": ""
            },
            "colorscale": [
             [
              0,
              "#0d0887"
             ],
             [
              0.1111111111111111,
              "#46039f"
             ],
             [
              0.2222222222222222,
              "#7201a8"
             ],
             [
              0.3333333333333333,
              "#9c179e"
             ],
             [
              0.4444444444444444,
              "#bd3786"
             ],
             [
              0.5555555555555556,
              "#d8576b"
             ],
             [
              0.6666666666666666,
              "#ed7953"
             ],
             [
              0.7777777777777778,
              "#fb9f3a"
             ],
             [
              0.8888888888888888,
              "#fdca26"
             ],
             [
              1,
              "#f0f921"
             ]
            ],
            "type": "contour"
           }
          ],
          "contourcarpet": [
           {
            "colorbar": {
             "outlinewidth": 0,
             "ticks": ""
            },
            "type": "contourcarpet"
           }
          ],
          "heatmap": [
           {
            "colorbar": {
             "outlinewidth": 0,
             "ticks": ""
            },
            "colorscale": [
             [
              0,
              "#0d0887"
             ],
             [
              0.1111111111111111,
              "#46039f"
             ],
             [
              0.2222222222222222,
              "#7201a8"
             ],
             [
              0.3333333333333333,
              "#9c179e"
             ],
             [
              0.4444444444444444,
              "#bd3786"
             ],
             [
              0.5555555555555556,
              "#d8576b"
             ],
             [
              0.6666666666666666,
              "#ed7953"
             ],
             [
              0.7777777777777778,
              "#fb9f3a"
             ],
             [
              0.8888888888888888,
              "#fdca26"
             ],
             [
              1,
              "#f0f921"
             ]
            ],
            "type": "heatmap"
           }
          ],
          "heatmapgl": [
           {
            "colorbar": {
             "outlinewidth": 0,
             "ticks": ""
            },
            "colorscale": [
             [
              0,
              "#0d0887"
             ],
             [
              0.1111111111111111,
              "#46039f"
             ],
             [
              0.2222222222222222,
              "#7201a8"
             ],
             [
              0.3333333333333333,
              "#9c179e"
             ],
             [
              0.4444444444444444,
              "#bd3786"
             ],
             [
              0.5555555555555556,
              "#d8576b"
             ],
             [
              0.6666666666666666,
              "#ed7953"
             ],
             [
              0.7777777777777778,
              "#fb9f3a"
             ],
             [
              0.8888888888888888,
              "#fdca26"
             ],
             [
              1,
              "#f0f921"
             ]
            ],
            "type": "heatmapgl"
           }
          ],
          "histogram": [
           {
            "marker": {
             "colorbar": {
              "outlinewidth": 0,
              "ticks": ""
             }
            },
            "type": "histogram"
           }
          ],
          "histogram2d": [
           {
            "colorbar": {
             "outlinewidth": 0,
             "ticks": ""
            },
            "colorscale": [
             [
              0,
              "#0d0887"
             ],
             [
              0.1111111111111111,
              "#46039f"
             ],
             [
              0.2222222222222222,
              "#7201a8"
             ],
             [
              0.3333333333333333,
              "#9c179e"
             ],
             [
              0.4444444444444444,
              "#bd3786"
             ],
             [
              0.5555555555555556,
              "#d8576b"
             ],
             [
              0.6666666666666666,
              "#ed7953"
             ],
             [
              0.7777777777777778,
              "#fb9f3a"
             ],
             [
              0.8888888888888888,
              "#fdca26"
             ],
             [
              1,
              "#f0f921"
             ]
            ],
            "type": "histogram2d"
           }
          ],
          "histogram2dcontour": [
           {
            "colorbar": {
             "outlinewidth": 0,
             "ticks": ""
            },
            "colorscale": [
             [
              0,
              "#0d0887"
             ],
             [
              0.1111111111111111,
              "#46039f"
             ],
             [
              0.2222222222222222,
              "#7201a8"
             ],
             [
              0.3333333333333333,
              "#9c179e"
             ],
             [
              0.4444444444444444,
              "#bd3786"
             ],
             [
              0.5555555555555556,
              "#d8576b"
             ],
             [
              0.6666666666666666,
              "#ed7953"
             ],
             [
              0.7777777777777778,
              "#fb9f3a"
             ],
             [
              0.8888888888888888,
              "#fdca26"
             ],
             [
              1,
              "#f0f921"
             ]
            ],
            "type": "histogram2dcontour"
           }
          ],
          "mesh3d": [
           {
            "colorbar": {
             "outlinewidth": 0,
             "ticks": ""
            },
            "type": "mesh3d"
           }
          ],
          "parcoords": [
           {
            "line": {
             "colorbar": {
              "outlinewidth": 0,
              "ticks": ""
             }
            },
            "type": "parcoords"
           }
          ],
          "scatter": [
           {
            "marker": {
             "colorbar": {
              "outlinewidth": 0,
              "ticks": ""
             }
            },
            "type": "scatter"
           }
          ],
          "scatter3d": [
           {
            "line": {
             "colorbar": {
              "outlinewidth": 0,
              "ticks": ""
             }
            },
            "marker": {
             "colorbar": {
              "outlinewidth": 0,
              "ticks": ""
             }
            },
            "type": "scatter3d"
           }
          ],
          "scattercarpet": [
           {
            "marker": {
             "colorbar": {
              "outlinewidth": 0,
              "ticks": ""
             }
            },
            "type": "scattercarpet"
           }
          ],
          "scattergeo": [
           {
            "marker": {
             "colorbar": {
              "outlinewidth": 0,
              "ticks": ""
             }
            },
            "type": "scattergeo"
           }
          ],
          "scattergl": [
           {
            "marker": {
             "colorbar": {
              "outlinewidth": 0,
              "ticks": ""
             }
            },
            "type": "scattergl"
           }
          ],
          "scattermapbox": [
           {
            "marker": {
             "colorbar": {
              "outlinewidth": 0,
              "ticks": ""
             }
            },
            "type": "scattermapbox"
           }
          ],
          "scatterpolar": [
           {
            "marker": {
             "colorbar": {
              "outlinewidth": 0,
              "ticks": ""
             }
            },
            "type": "scatterpolar"
           }
          ],
          "scatterpolargl": [
           {
            "marker": {
             "colorbar": {
              "outlinewidth": 0,
              "ticks": ""
             }
            },
            "type": "scatterpolargl"
           }
          ],
          "scatterternary": [
           {
            "marker": {
             "colorbar": {
              "outlinewidth": 0,
              "ticks": ""
             }
            },
            "type": "scatterternary"
           }
          ],
          "surface": [
           {
            "colorbar": {
             "outlinewidth": 0,
             "ticks": ""
            },
            "colorscale": [
             [
              0,
              "#0d0887"
             ],
             [
              0.1111111111111111,
              "#46039f"
             ],
             [
              0.2222222222222222,
              "#7201a8"
             ],
             [
              0.3333333333333333,
              "#9c179e"
             ],
             [
              0.4444444444444444,
              "#bd3786"
             ],
             [
              0.5555555555555556,
              "#d8576b"
             ],
             [
              0.6666666666666666,
              "#ed7953"
             ],
             [
              0.7777777777777778,
              "#fb9f3a"
             ],
             [
              0.8888888888888888,
              "#fdca26"
             ],
             [
              1,
              "#f0f921"
             ]
            ],
            "type": "surface"
           }
          ],
          "table": [
           {
            "cells": {
             "fill": {
              "color": "#EBF0F8"
             },
             "line": {
              "color": "white"
             }
            },
            "header": {
             "fill": {
              "color": "#C8D4E3"
             },
             "line": {
              "color": "white"
             }
            },
            "type": "table"
           }
          ]
         },
         "layout": {
          "annotationdefaults": {
           "arrowcolor": "#2a3f5f",
           "arrowhead": 0,
           "arrowwidth": 1
          },
          "colorscale": {
           "diverging": [
            [
             0,
             "#8e0152"
            ],
            [
             0.1,
             "#c51b7d"
            ],
            [
             0.2,
             "#de77ae"
            ],
            [
             0.3,
             "#f1b6da"
            ],
            [
             0.4,
             "#fde0ef"
            ],
            [
             0.5,
             "#f7f7f7"
            ],
            [
             0.6,
             "#e6f5d0"
            ],
            [
             0.7,
             "#b8e186"
            ],
            [
             0.8,
             "#7fbc41"
            ],
            [
             0.9,
             "#4d9221"
            ],
            [
             1,
             "#276419"
            ]
           ],
           "sequential": [
            [
             0,
             "#0d0887"
            ],
            [
             0.1111111111111111,
             "#46039f"
            ],
            [
             0.2222222222222222,
             "#7201a8"
            ],
            [
             0.3333333333333333,
             "#9c179e"
            ],
            [
             0.4444444444444444,
             "#bd3786"
            ],
            [
             0.5555555555555556,
             "#d8576b"
            ],
            [
             0.6666666666666666,
             "#ed7953"
            ],
            [
             0.7777777777777778,
             "#fb9f3a"
            ],
            [
             0.8888888888888888,
             "#fdca26"
            ],
            [
             1,
             "#f0f921"
            ]
           ],
           "sequentialminus": [
            [
             0,
             "#0d0887"
            ],
            [
             0.1111111111111111,
             "#46039f"
            ],
            [
             0.2222222222222222,
             "#7201a8"
            ],
            [
             0.3333333333333333,
             "#9c179e"
            ],
            [
             0.4444444444444444,
             "#bd3786"
            ],
            [
             0.5555555555555556,
             "#d8576b"
            ],
            [
             0.6666666666666666,
             "#ed7953"
            ],
            [
             0.7777777777777778,
             "#fb9f3a"
            ],
            [
             0.8888888888888888,
             "#fdca26"
            ],
            [
             1,
             "#f0f921"
            ]
           ]
          },
          "colorway": [
           "#636efa",
           "#EF553B",
           "#00cc96",
           "#ab63fa",
           "#FFA15A",
           "#19d3f3",
           "#FF6692",
           "#B6E880",
           "#FF97FF",
           "#FECB52"
          ],
          "font": {
           "color": "#2a3f5f"
          },
          "geo": {
           "bgcolor": "white",
           "lakecolor": "white",
           "landcolor": "#E5ECF6",
           "showlakes": true,
           "showland": true,
           "subunitcolor": "white"
          },
          "hoverlabel": {
           "align": "left"
          },
          "hovermode": "closest",
          "mapbox": {
           "style": "light"
          },
          "paper_bgcolor": "white",
          "plot_bgcolor": "#E5ECF6",
          "polar": {
           "angularaxis": {
            "gridcolor": "white",
            "linecolor": "white",
            "ticks": ""
           },
           "bgcolor": "#E5ECF6",
           "radialaxis": {
            "gridcolor": "white",
            "linecolor": "white",
            "ticks": ""
           }
          },
          "scene": {
           "xaxis": {
            "backgroundcolor": "#E5ECF6",
            "gridcolor": "white",
            "gridwidth": 2,
            "linecolor": "white",
            "showbackground": true,
            "ticks": "",
            "zerolinecolor": "white"
           },
           "yaxis": {
            "backgroundcolor": "#E5ECF6",
            "gridcolor": "white",
            "gridwidth": 2,
            "linecolor": "white",
            "showbackground": true,
            "ticks": "",
            "zerolinecolor": "white"
           },
           "zaxis": {
            "backgroundcolor": "#E5ECF6",
            "gridcolor": "white",
            "gridwidth": 2,
            "linecolor": "white",
            "showbackground": true,
            "ticks": "",
            "zerolinecolor": "white"
           }
          },
          "shapedefaults": {
           "line": {
            "color": "#2a3f5f"
           }
          },
          "ternary": {
           "aaxis": {
            "gridcolor": "white",
            "linecolor": "white",
            "ticks": ""
           },
           "baxis": {
            "gridcolor": "white",
            "linecolor": "white",
            "ticks": ""
           },
           "bgcolor": "#E5ECF6",
           "caxis": {
            "gridcolor": "white",
            "linecolor": "white",
            "ticks": ""
           }
          },
          "title": {
           "x": 0.05
          },
          "xaxis": {
           "automargin": true,
           "gridcolor": "white",
           "linecolor": "white",
           "ticks": "",
           "zerolinecolor": "white",
           "zerolinewidth": 2
          },
          "yaxis": {
           "automargin": true,
           "gridcolor": "white",
           "linecolor": "white",
           "ticks": "",
           "zerolinecolor": "white",
           "zerolinewidth": 2
          }
         }
        },
        "title": {
         "text": "Where do Survey Respondents Reside?"
        },
        "xaxis": {
         "anchor": "y",
         "domain": [
          0,
          0.98
         ],
         "title": {
          "text": "Q3"
         }
        },
        "yaxis": {
         "anchor": "x",
         "domain": [
          0,
          1
         ],
         "title": {
          "text": "count"
         }
        }
       }
      },
      "text/html": [
       "<div>\n",
       "        \n",
       "        \n",
       "            <div id=\"0f292824-823a-49fc-afc2-74a9a0463cab\" class=\"plotly-graph-div\" style=\"height:600px; width:100%;\"></div>\n",
       "            <script type=\"text/javascript\">\n",
       "                require([\"plotly\"], function(Plotly) {\n",
       "                    window.PLOTLYENV=window.PLOTLYENV || {};\n",
       "                    \n",
       "                if (document.getElementById(\"0f292824-823a-49fc-afc2-74a9a0463cab\")) {\n",
       "                    Plotly.newPlot(\n",
       "                        '0f292824-823a-49fc-afc2-74a9a0463cab',\n",
       "                        [{\"alignmentgroup\": \"True\", \"hoverlabel\": {\"namelength\": 0}, \"hovertemplate\": \"Q1=Male<br>Q3=%{x}<br>count=%{y}\", \"legendgroup\": \"Q1=Male\", \"marker\": {\"color\": \"#636efa\"}, \"name\": \"Q1=Male\", \"offsetgroup\": \"Q1=Male\", \"orientation\": \"v\", \"showlegend\": true, \"textposition\": \"auto\", \"type\": \"bar\", \"x\": [\"India\", \"United States of America\", \"China\", \"Other\", \"Russia\", \"Brazil\", \"Germany\", \"Japan\", \"United Kingdom of Great Britain and Northern Ireland\", \"France\", \"Canada\", \"Spain\", \"Italy\", \"Australia\", \"Turkey\", \"I do not wish to disclose my location\", \"Poland\", \"Netherlands\", \"Ukraine\", \"Nigeria\", \"Mexico\", \"South Korea\", \"Israel\", \"Singapore\", \"Switzerland\", \"Indonesia\", \"Pakistan\", \"Sweden\", \"Portugal\", \"Viet Nam\", \"South Africa\", \"Colombia\", \"Argentina\", \"Belgium\", \"Greece\", \"Denmark\", \"Bangladesh\", \"Ireland\", \"Iran, Islamic Republic of...\", \"Malaysia\", \"Hungary\", \"Belarus\", \"Egypt\", \"Finland\", \"Peru\", \"Kenya\", \"Czech Republic\", \"Chile\", \"Hong Kong (S.A.R.)\", \"Norway\", \"New Zealand\", \"Republic of Korea\", \"Romania\", \"Thailand\", \"Philippines\", \"Austria\", \"Morocco\", \"Tunisia\"], \"xaxis\": \"x\", \"y\": [3719, 3530, 1337, 849, 750, 666, 621, 557, 554, 494, 475, 406, 303, 272, 267, 250, 243, 225, 218, 177, 166, 154, 145, 141, 140, 135, 133, 126, 123, 122, 116, 111, 104, 102, 100, 96, 94, 87, 85, 81, 81, 75, 73, 70, 70, 67, 67, 66, 63, 63, 62, 62, 61, 60, 57, 55, 54, 50], \"yaxis\": \"y\"}, {\"alignmentgroup\": \"True\", \"hoverlabel\": {\"namelength\": 0}, \"hovertemplate\": \"Q1=Female<br>Q3=%{x}<br>count=%{y}\", \"legendgroup\": \"Q1=Female\", \"marker\": {\"color\": \"#EF553B\"}, \"name\": \"Q1=Female\", \"offsetgroup\": \"Q1=Female\", \"orientation\": \"v\", \"showlegend\": true, \"textposition\": \"auto\", \"type\": \"bar\", \"x\": [\"United States of America\", \"India\", \"China\", \"Other\", \"United Kingdom of Great Britain and Northern Ireland\", \"Canada\", \"Russia\", \"France\", \"Germany\", \"I do not wish to disclose my location\", \"Spain\", \"Brazil\", \"Turkey\", \"Poland\", \"Australia\", \"Italy\", \"Singapore\", \"Netherlands\", \"Mexico\", \"Japan\", \"Indonesia\", \"Portugal\", \"South Korea\", \"Nigeria\", \"Ukraine\", \"Malaysia\", \"South Africa\", \"Pakistan\", \"Iran, Islamic Republic of...\", \"Israel\", \"Sweden\", \"Tunisia\", \"Egypt\", \"Viet Nam\", \"Switzerland\", \"Greece\", \"Romania\", \"Morocco\", \"Kenya\", \"Colombia\", \"Belarus\", \"Philippines\", \"New Zealand\", \"Ireland\", \"Bangladesh\", \"Thailand\", \"Argentina\", \"Hungary\", \"Peru\", \"Hong Kong (S.A.R.)\", \"Chile\", \"Norway\", \"Belgium\", \"Republic of Korea\", \"Denmark\", \"Austria\", \"Finland\", \"Czech Republic\"], \"xaxis\": \"x\", \"y\": [1082, 657, 267, 165, 131, 123, 113, 104, 103, 83, 75, 65, 56, 54, 51, 47, 41, 41, 34, 34, 33, 32, 32, 31, 31, 30, 29, 28, 27, 25, 25, 23, 22, 21, 21, 20, 18, 17, 17, 17, 16, 14, 14, 13, 13, 12, 12, 12, 11, 10, 10, 9, 8, 8, 7, 7, 5, 4], \"yaxis\": \"y\"}, {\"alignmentgroup\": \"True\", \"hoverlabel\": {\"namelength\": 0}, \"hovertemplate\": \"Q1=Prefer not to say<br>Q3=%{x}<br>count=%{y}\", \"legendgroup\": \"Q1=Prefer not to say\", \"marker\": {\"color\": \"#00cc96\"}, \"name\": \"Q1=Prefer not to say\", \"offsetgroup\": \"Q1=Prefer not to say\", \"orientation\": \"v\", \"showlegend\": true, \"textposition\": \"auto\", \"type\": \"bar\", \"x\": [\"United States of America\", \"I do not wish to disclose my location\", \"China\", \"India\", \"Other\", \"United Kingdom of Great Britain and Northern Ireland\", \"Russia\", \"Germany\", \"Japan\", \"France\", \"Poland\", \"Singapore\", \"Spain\", \"Australia\", \"Netherlands\", \"Denmark\", \"Finland\", \"Turkey\", \"Sweden\", \"Hong Kong (S.A.R.)\", \"Canada\", \"Ukraine\", \"Israel\", \"Italy\", \"Brazil\", \"Switzerland\", \"Argentina\", \"Norway\", \"South Korea\", \"Mexico\", \"Malaysia\", \"Indonesia\", \"Republic of Korea\", \"New Zealand\", \"Kenya\", \"Philippines\", \"Ireland\", \"Iran, Islamic Republic of...\", \"Egypt\", \"Greece\", \"South Africa\", \"Tunisia\", \"Thailand\", \"Viet Nam\"], \"xaxis\": \"x\", \"y\": [77, 56, 38, 37, 18, 12, 8, 8, 6, 5, 4, 4, 4, 4, 4, 3, 3, 3, 3, 3, 3, 3, 3, 3, 2, 2, 2, 2, 2, 2, 2, 2, 1, 1, 1, 1, 1, 1, 1, 1, 1, 1, 1, 1], \"yaxis\": \"y\"}, {\"alignmentgroup\": \"True\", \"hoverlabel\": {\"namelength\": 0}, \"hovertemplate\": \"Q1=Prefer to self-describe<br>Q3=%{x}<br>count=%{y}\", \"legendgroup\": \"Q1=Prefer to self-describe\", \"marker\": {\"color\": \"#ab63fa\"}, \"name\": \"Q1=Prefer to self-describe\", \"offsetgroup\": \"Q1=Prefer to self-describe\", \"orientation\": \"v\", \"showlegend\": true, \"textposition\": \"auto\", \"type\": \"bar\", \"x\": [\"United States of America\", \"Russia\", \"United Kingdom of Great Britain and Northern Ireland\", \"I do not wish to disclose my location\", \"India\", \"Other\", \"Canada\", \"Brazil\", \"Australia\", \"China\", \"Germany\", \"Italy\", \"Sweden\", \"Argentina\", \"Philippines\", \"Belgium\", \"Indonesia\", \"Turkey\", \"South Africa\", \"Czech Republic\", \"France\", \"Switzerland\", \"Finland\"], \"xaxis\": \"x\", \"y\": [27, 8, 5, 5, 4, 4, 3, 3, 3, 2, 2, 2, 1, 1, 1, 1, 1, 1, 1, 1, 1, 1, 1], \"yaxis\": \"y\"}],\n",
       "                        {\"barmode\": \"group\", \"height\": 600, \"legend\": {\"tracegroupgap\": 0}, \"template\": {\"data\": {\"bar\": [{\"error_x\": {\"color\": \"#2a3f5f\"}, \"error_y\": {\"color\": \"#2a3f5f\"}, \"marker\": {\"line\": {\"color\": \"#E5ECF6\", \"width\": 0.5}}, \"type\": \"bar\"}], \"barpolar\": [{\"marker\": {\"line\": {\"color\": \"#E5ECF6\", \"width\": 0.5}}, \"type\": \"barpolar\"}], \"carpet\": [{\"aaxis\": {\"endlinecolor\": \"#2a3f5f\", \"gridcolor\": \"white\", \"linecolor\": \"white\", \"minorgridcolor\": \"white\", \"startlinecolor\": \"#2a3f5f\"}, \"baxis\": {\"endlinecolor\": \"#2a3f5f\", \"gridcolor\": \"white\", \"linecolor\": \"white\", \"minorgridcolor\": \"white\", \"startlinecolor\": \"#2a3f5f\"}, \"type\": \"carpet\"}], \"choropleth\": [{\"colorbar\": {\"outlinewidth\": 0, \"ticks\": \"\"}, \"type\": \"choropleth\"}], \"contour\": [{\"colorbar\": {\"outlinewidth\": 0, \"ticks\": \"\"}, \"colorscale\": [[0.0, \"#0d0887\"], [0.1111111111111111, \"#46039f\"], [0.2222222222222222, \"#7201a8\"], [0.3333333333333333, \"#9c179e\"], [0.4444444444444444, \"#bd3786\"], [0.5555555555555556, \"#d8576b\"], [0.6666666666666666, \"#ed7953\"], [0.7777777777777778, \"#fb9f3a\"], [0.8888888888888888, \"#fdca26\"], [1.0, \"#f0f921\"]], \"type\": \"contour\"}], \"contourcarpet\": [{\"colorbar\": {\"outlinewidth\": 0, \"ticks\": \"\"}, \"type\": \"contourcarpet\"}], \"heatmap\": [{\"colorbar\": {\"outlinewidth\": 0, \"ticks\": \"\"}, \"colorscale\": [[0.0, \"#0d0887\"], [0.1111111111111111, \"#46039f\"], [0.2222222222222222, \"#7201a8\"], [0.3333333333333333, \"#9c179e\"], [0.4444444444444444, \"#bd3786\"], [0.5555555555555556, \"#d8576b\"], [0.6666666666666666, \"#ed7953\"], [0.7777777777777778, \"#fb9f3a\"], [0.8888888888888888, \"#fdca26\"], [1.0, \"#f0f921\"]], \"type\": \"heatmap\"}], \"heatmapgl\": [{\"colorbar\": {\"outlinewidth\": 0, \"ticks\": \"\"}, \"colorscale\": [[0.0, \"#0d0887\"], [0.1111111111111111, \"#46039f\"], [0.2222222222222222, \"#7201a8\"], [0.3333333333333333, \"#9c179e\"], [0.4444444444444444, \"#bd3786\"], [0.5555555555555556, \"#d8576b\"], [0.6666666666666666, \"#ed7953\"], [0.7777777777777778, \"#fb9f3a\"], [0.8888888888888888, \"#fdca26\"], [1.0, \"#f0f921\"]], \"type\": \"heatmapgl\"}], \"histogram\": [{\"marker\": {\"colorbar\": {\"outlinewidth\": 0, \"ticks\": \"\"}}, \"type\": \"histogram\"}], \"histogram2d\": [{\"colorbar\": {\"outlinewidth\": 0, \"ticks\": \"\"}, \"colorscale\": [[0.0, \"#0d0887\"], [0.1111111111111111, \"#46039f\"], [0.2222222222222222, \"#7201a8\"], [0.3333333333333333, \"#9c179e\"], [0.4444444444444444, \"#bd3786\"], [0.5555555555555556, \"#d8576b\"], [0.6666666666666666, \"#ed7953\"], [0.7777777777777778, \"#fb9f3a\"], [0.8888888888888888, \"#fdca26\"], [1.0, \"#f0f921\"]], \"type\": \"histogram2d\"}], \"histogram2dcontour\": [{\"colorbar\": {\"outlinewidth\": 0, \"ticks\": \"\"}, \"colorscale\": [[0.0, \"#0d0887\"], [0.1111111111111111, \"#46039f\"], [0.2222222222222222, \"#7201a8\"], [0.3333333333333333, \"#9c179e\"], [0.4444444444444444, \"#bd3786\"], [0.5555555555555556, \"#d8576b\"], [0.6666666666666666, \"#ed7953\"], [0.7777777777777778, \"#fb9f3a\"], [0.8888888888888888, \"#fdca26\"], [1.0, \"#f0f921\"]], \"type\": \"histogram2dcontour\"}], \"mesh3d\": [{\"colorbar\": {\"outlinewidth\": 0, \"ticks\": \"\"}, \"type\": \"mesh3d\"}], \"parcoords\": [{\"line\": {\"colorbar\": {\"outlinewidth\": 0, \"ticks\": \"\"}}, \"type\": \"parcoords\"}], \"scatter\": [{\"marker\": {\"colorbar\": {\"outlinewidth\": 0, \"ticks\": \"\"}}, \"type\": \"scatter\"}], \"scatter3d\": [{\"line\": {\"colorbar\": {\"outlinewidth\": 0, \"ticks\": \"\"}}, \"marker\": {\"colorbar\": {\"outlinewidth\": 0, \"ticks\": \"\"}}, \"type\": \"scatter3d\"}], \"scattercarpet\": [{\"marker\": {\"colorbar\": {\"outlinewidth\": 0, \"ticks\": \"\"}}, \"type\": \"scattercarpet\"}], \"scattergeo\": [{\"marker\": {\"colorbar\": {\"outlinewidth\": 0, \"ticks\": \"\"}}, \"type\": \"scattergeo\"}], \"scattergl\": [{\"marker\": {\"colorbar\": {\"outlinewidth\": 0, \"ticks\": \"\"}}, \"type\": \"scattergl\"}], \"scattermapbox\": [{\"marker\": {\"colorbar\": {\"outlinewidth\": 0, \"ticks\": \"\"}}, \"type\": \"scattermapbox\"}], \"scatterpolar\": [{\"marker\": {\"colorbar\": {\"outlinewidth\": 0, \"ticks\": \"\"}}, \"type\": \"scatterpolar\"}], \"scatterpolargl\": [{\"marker\": {\"colorbar\": {\"outlinewidth\": 0, \"ticks\": \"\"}}, \"type\": \"scatterpolargl\"}], \"scatterternary\": [{\"marker\": {\"colorbar\": {\"outlinewidth\": 0, \"ticks\": \"\"}}, \"type\": \"scatterternary\"}], \"surface\": [{\"colorbar\": {\"outlinewidth\": 0, \"ticks\": \"\"}, \"colorscale\": [[0.0, \"#0d0887\"], [0.1111111111111111, \"#46039f\"], [0.2222222222222222, \"#7201a8\"], [0.3333333333333333, \"#9c179e\"], [0.4444444444444444, \"#bd3786\"], [0.5555555555555556, \"#d8576b\"], [0.6666666666666666, \"#ed7953\"], [0.7777777777777778, \"#fb9f3a\"], [0.8888888888888888, \"#fdca26\"], [1.0, \"#f0f921\"]], \"type\": \"surface\"}], \"table\": [{\"cells\": {\"fill\": {\"color\": \"#EBF0F8\"}, \"line\": {\"color\": \"white\"}}, \"header\": {\"fill\": {\"color\": \"#C8D4E3\"}, \"line\": {\"color\": \"white\"}}, \"type\": \"table\"}]}, \"layout\": {\"annotationdefaults\": {\"arrowcolor\": \"#2a3f5f\", \"arrowhead\": 0, \"arrowwidth\": 1}, \"colorscale\": {\"diverging\": [[0, \"#8e0152\"], [0.1, \"#c51b7d\"], [0.2, \"#de77ae\"], [0.3, \"#f1b6da\"], [0.4, \"#fde0ef\"], [0.5, \"#f7f7f7\"], [0.6, \"#e6f5d0\"], [0.7, \"#b8e186\"], [0.8, \"#7fbc41\"], [0.9, \"#4d9221\"], [1, \"#276419\"]], \"sequential\": [[0.0, \"#0d0887\"], [0.1111111111111111, \"#46039f\"], [0.2222222222222222, \"#7201a8\"], [0.3333333333333333, \"#9c179e\"], [0.4444444444444444, \"#bd3786\"], [0.5555555555555556, \"#d8576b\"], [0.6666666666666666, \"#ed7953\"], [0.7777777777777778, \"#fb9f3a\"], [0.8888888888888888, \"#fdca26\"], [1.0, \"#f0f921\"]], \"sequentialminus\": [[0.0, \"#0d0887\"], [0.1111111111111111, \"#46039f\"], [0.2222222222222222, \"#7201a8\"], [0.3333333333333333, \"#9c179e\"], [0.4444444444444444, \"#bd3786\"], [0.5555555555555556, \"#d8576b\"], [0.6666666666666666, \"#ed7953\"], [0.7777777777777778, \"#fb9f3a\"], [0.8888888888888888, \"#fdca26\"], [1.0, \"#f0f921\"]]}, \"colorway\": [\"#636efa\", \"#EF553B\", \"#00cc96\", \"#ab63fa\", \"#FFA15A\", \"#19d3f3\", \"#FF6692\", \"#B6E880\", \"#FF97FF\", \"#FECB52\"], \"font\": {\"color\": \"#2a3f5f\"}, \"geo\": {\"bgcolor\": \"white\", \"lakecolor\": \"white\", \"landcolor\": \"#E5ECF6\", \"showlakes\": true, \"showland\": true, \"subunitcolor\": \"white\"}, \"hoverlabel\": {\"align\": \"left\"}, \"hovermode\": \"closest\", \"mapbox\": {\"style\": \"light\"}, \"paper_bgcolor\": \"white\", \"plot_bgcolor\": \"#E5ECF6\", \"polar\": {\"angularaxis\": {\"gridcolor\": \"white\", \"linecolor\": \"white\", \"ticks\": \"\"}, \"bgcolor\": \"#E5ECF6\", \"radialaxis\": {\"gridcolor\": \"white\", \"linecolor\": \"white\", \"ticks\": \"\"}}, \"scene\": {\"xaxis\": {\"backgroundcolor\": \"#E5ECF6\", \"gridcolor\": \"white\", \"gridwidth\": 2, \"linecolor\": \"white\", \"showbackground\": true, \"ticks\": \"\", \"zerolinecolor\": \"white\"}, \"yaxis\": {\"backgroundcolor\": \"#E5ECF6\", \"gridcolor\": \"white\", \"gridwidth\": 2, \"linecolor\": \"white\", \"showbackground\": true, \"ticks\": \"\", \"zerolinecolor\": \"white\"}, \"zaxis\": {\"backgroundcolor\": \"#E5ECF6\", \"gridcolor\": \"white\", \"gridwidth\": 2, \"linecolor\": \"white\", \"showbackground\": true, \"ticks\": \"\", \"zerolinecolor\": \"white\"}}, \"shapedefaults\": {\"line\": {\"color\": \"#2a3f5f\"}}, \"ternary\": {\"aaxis\": {\"gridcolor\": \"white\", \"linecolor\": \"white\", \"ticks\": \"\"}, \"baxis\": {\"gridcolor\": \"white\", \"linecolor\": \"white\", \"ticks\": \"\"}, \"bgcolor\": \"#E5ECF6\", \"caxis\": {\"gridcolor\": \"white\", \"linecolor\": \"white\", \"ticks\": \"\"}}, \"title\": {\"x\": 0.05}, \"xaxis\": {\"automargin\": true, \"gridcolor\": \"white\", \"linecolor\": \"white\", \"ticks\": \"\", \"zerolinecolor\": \"white\", \"zerolinewidth\": 2}, \"yaxis\": {\"automargin\": true, \"gridcolor\": \"white\", \"linecolor\": \"white\", \"ticks\": \"\", \"zerolinecolor\": \"white\", \"zerolinewidth\": 2}}}, \"title\": {\"text\": \"Where do Survey Respondents Reside?\"}, \"xaxis\": {\"anchor\": \"y\", \"domain\": [0.0, 0.98], \"title\": {\"text\": \"Q3\"}}, \"yaxis\": {\"anchor\": \"x\", \"domain\": [0.0, 1.0], \"title\": {\"text\": \"count\"}}},\n",
       "                        {\"responsive\": true}\n",
       "                    ).then(function(){\n",
       "                            \n",
       "var gd = document.getElementById('0f292824-823a-49fc-afc2-74a9a0463cab');\n",
       "var x = new MutationObserver(function (mutations, observer) {{\n",
       "        var display = window.getComputedStyle(gd).display;\n",
       "        if (!display || display === 'none') {{\n",
       "            console.log([gd, 'removed!']);\n",
       "            Plotly.purge(gd);\n",
       "            observer.disconnect();\n",
       "        }}\n",
       "}});\n",
       "\n",
       "// Listen for the removal of the full notebook cells\n",
       "var notebookContainer = gd.closest('#notebook-container');\n",
       "if (notebookContainer) {{\n",
       "    x.observe(notebookContainer, {childList: true});\n",
       "}}\n",
       "\n",
       "// Listen for the clearing of the current output cell\n",
       "var outputEl = gd.closest('.output');\n",
       "if (outputEl) {{\n",
       "    x.observe(outputEl, {childList: true});\n",
       "}}\n",
       "\n",
       "                        })\n",
       "                };\n",
       "                });\n",
       "            </script>\n",
       "        </div>"
      ]
     },
     "metadata": {},
     "output_type": "display_data"
    }
   ],
   "source": [
    "fig = px.bar(df_test, x = 'Q3', y = 'count', color = 'Q1', barmode = 'group', title= 'Where do Survey Respondents Reside?')\n",
    "fig.show()"
   ]
  },
  {
   "cell_type": "markdown",
   "metadata": {},
   "source": [
    "Notes:\n",
    "    1. The figure above is interactive. Drag and drop a box around the country you want to learn more about. The purpose of this figure is to enable readers to explore - at a high level - the data."
   ]
  },
  {
   "cell_type": "code",
   "execution_count": 34,
   "metadata": {},
   "outputs": [
    {
     "data": {
      "text/html": [
       "<div>\n",
       "<style scoped>\n",
       "    .dataframe tbody tr th:only-of-type {\n",
       "        vertical-align: middle;\n",
       "    }\n",
       "\n",
       "    .dataframe tbody tr th {\n",
       "        vertical-align: top;\n",
       "    }\n",
       "\n",
       "    .dataframe thead th {\n",
       "        text-align: right;\n",
       "    }\n",
       "</style>\n",
       "<table border=\"1\" class=\"dataframe\">\n",
       "  <thead>\n",
       "    <tr style=\"text-align: right;\">\n",
       "      <th></th>\n",
       "      <th>Q3</th>\n",
       "      <th>count</th>\n",
       "    </tr>\n",
       "  </thead>\n",
       "  <tbody>\n",
       "    <tr>\n",
       "      <th>56</th>\n",
       "      <td>United States of America</td>\n",
       "      <td>4716</td>\n",
       "    </tr>\n",
       "    <tr>\n",
       "      <th>21</th>\n",
       "      <td>India</td>\n",
       "      <td>4417</td>\n",
       "    </tr>\n",
       "    <tr>\n",
       "      <th>9</th>\n",
       "      <td>China</td>\n",
       "      <td>1644</td>\n",
       "    </tr>\n",
       "    <tr>\n",
       "      <th>36</th>\n",
       "      <td>Other</td>\n",
       "      <td>1036</td>\n",
       "    </tr>\n",
       "    <tr>\n",
       "      <th>44</th>\n",
       "      <td>Russia</td>\n",
       "      <td>879</td>\n",
       "    </tr>\n",
       "  </tbody>\n",
       "</table>\n",
       "</div>"
      ],
      "text/plain": [
       "                          Q3  count\n",
       "56  United States of America   4716\n",
       "21                     India   4417\n",
       "9                      China   1644\n",
       "36                     Other   1036\n",
       "44                    Russia    879"
      ]
     },
     "execution_count": 34,
     "metadata": {},
     "output_type": "execute_result"
    }
   ],
   "source": [
    "df_test = pd.DataFrame({'count' : df_multi_choice.groupby([ \"Q3\"] ).size()}).reset_index().sort_values(by = 'count', ascending = False)\n",
    "df_test.head()\n"
   ]
  },
  {
   "cell_type": "code",
   "execution_count": 35,
   "metadata": {},
   "outputs": [
    {
     "data": {
      "application/vnd.plotly.v1+json": {
       "config": {
        "plotlyServerURL": "https://plot.ly"
       },
       "data": [
        {
         "alignmentgroup": "True",
         "hoverlabel": {
          "namelength": 0
         },
         "hovertemplate": "Q3=%{x}<br>count=%{y}",
         "legendgroup": "",
         "marker": {
          "color": "#636efa"
         },
         "name": "",
         "offsetgroup": "",
         "orientation": "v",
         "showlegend": false,
         "textposition": "auto",
         "type": "bar",
         "x": [
          "United States of America",
          "India",
          "China",
          "Other",
          "Russia",
          "Brazil",
          "Germany",
          "United Kingdom of Great Britain and Northern Ireland",
          "France",
          "Canada",
          "Japan",
          "Spain",
          "I do not wish to disclose my location",
          "Italy",
          "Australia",
          "Turkey",
          "Poland",
          "Netherlands",
          "Ukraine",
          "Nigeria",
          "Mexico",
          "South Korea",
          "Singapore",
          "Israel",
          "Indonesia",
          "Switzerland",
          "Pakistan",
          "Portugal",
          "Sweden",
          "South Africa",
          "Viet Nam",
          "Colombia",
          "Greece",
          "Argentina",
          "Malaysia",
          "Iran, Islamic Republic of...",
          "Belgium",
          "Bangladesh",
          "Denmark",
          "Ireland",
          "Egypt",
          "Hungary",
          "Belarus",
          "Kenya",
          "Peru",
          "Finland",
          "Romania",
          "New Zealand",
          "Hong Kong (S.A.R.)",
          "Chile",
          "Norway",
          "Tunisia",
          "Thailand",
          "Philippines",
          "Czech Republic",
          "Republic of Korea",
          "Morocco",
          "Austria"
         ],
         "xaxis": "x",
         "y": [
          4716,
          4417,
          1644,
          1036,
          879,
          736,
          734,
          702,
          604,
          604,
          597,
          485,
          394,
          355,
          330,
          327,
          301,
          270,
          252,
          208,
          202,
          188,
          186,
          173,
          171,
          164,
          161,
          155,
          155,
          147,
          144,
          128,
          121,
          119,
          113,
          113,
          111,
          107,
          106,
          101,
          96,
          93,
          91,
          85,
          81,
          79,
          79,
          77,
          76,
          76,
          74,
          74,
          73,
          73,
          72,
          71,
          71,
          62
         ],
         "yaxis": "y"
        }
       ],
       "layout": {
        "barmode": "relative",
        "height": 600,
        "legend": {
         "tracegroupgap": 0
        },
        "template": {
         "data": {
          "bar": [
           {
            "error_x": {
             "color": "#2a3f5f"
            },
            "error_y": {
             "color": "#2a3f5f"
            },
            "marker": {
             "line": {
              "color": "#E5ECF6",
              "width": 0.5
             }
            },
            "type": "bar"
           }
          ],
          "barpolar": [
           {
            "marker": {
             "line": {
              "color": "#E5ECF6",
              "width": 0.5
             }
            },
            "type": "barpolar"
           }
          ],
          "carpet": [
           {
            "aaxis": {
             "endlinecolor": "#2a3f5f",
             "gridcolor": "white",
             "linecolor": "white",
             "minorgridcolor": "white",
             "startlinecolor": "#2a3f5f"
            },
            "baxis": {
             "endlinecolor": "#2a3f5f",
             "gridcolor": "white",
             "linecolor": "white",
             "minorgridcolor": "white",
             "startlinecolor": "#2a3f5f"
            },
            "type": "carpet"
           }
          ],
          "choropleth": [
           {
            "colorbar": {
             "outlinewidth": 0,
             "ticks": ""
            },
            "type": "choropleth"
           }
          ],
          "contour": [
           {
            "colorbar": {
             "outlinewidth": 0,
             "ticks": ""
            },
            "colorscale": [
             [
              0,
              "#0d0887"
             ],
             [
              0.1111111111111111,
              "#46039f"
             ],
             [
              0.2222222222222222,
              "#7201a8"
             ],
             [
              0.3333333333333333,
              "#9c179e"
             ],
             [
              0.4444444444444444,
              "#bd3786"
             ],
             [
              0.5555555555555556,
              "#d8576b"
             ],
             [
              0.6666666666666666,
              "#ed7953"
             ],
             [
              0.7777777777777778,
              "#fb9f3a"
             ],
             [
              0.8888888888888888,
              "#fdca26"
             ],
             [
              1,
              "#f0f921"
             ]
            ],
            "type": "contour"
           }
          ],
          "contourcarpet": [
           {
            "colorbar": {
             "outlinewidth": 0,
             "ticks": ""
            },
            "type": "contourcarpet"
           }
          ],
          "heatmap": [
           {
            "colorbar": {
             "outlinewidth": 0,
             "ticks": ""
            },
            "colorscale": [
             [
              0,
              "#0d0887"
             ],
             [
              0.1111111111111111,
              "#46039f"
             ],
             [
              0.2222222222222222,
              "#7201a8"
             ],
             [
              0.3333333333333333,
              "#9c179e"
             ],
             [
              0.4444444444444444,
              "#bd3786"
             ],
             [
              0.5555555555555556,
              "#d8576b"
             ],
             [
              0.6666666666666666,
              "#ed7953"
             ],
             [
              0.7777777777777778,
              "#fb9f3a"
             ],
             [
              0.8888888888888888,
              "#fdca26"
             ],
             [
              1,
              "#f0f921"
             ]
            ],
            "type": "heatmap"
           }
          ],
          "heatmapgl": [
           {
            "colorbar": {
             "outlinewidth": 0,
             "ticks": ""
            },
            "colorscale": [
             [
              0,
              "#0d0887"
             ],
             [
              0.1111111111111111,
              "#46039f"
             ],
             [
              0.2222222222222222,
              "#7201a8"
             ],
             [
              0.3333333333333333,
              "#9c179e"
             ],
             [
              0.4444444444444444,
              "#bd3786"
             ],
             [
              0.5555555555555556,
              "#d8576b"
             ],
             [
              0.6666666666666666,
              "#ed7953"
             ],
             [
              0.7777777777777778,
              "#fb9f3a"
             ],
             [
              0.8888888888888888,
              "#fdca26"
             ],
             [
              1,
              "#f0f921"
             ]
            ],
            "type": "heatmapgl"
           }
          ],
          "histogram": [
           {
            "marker": {
             "colorbar": {
              "outlinewidth": 0,
              "ticks": ""
             }
            },
            "type": "histogram"
           }
          ],
          "histogram2d": [
           {
            "colorbar": {
             "outlinewidth": 0,
             "ticks": ""
            },
            "colorscale": [
             [
              0,
              "#0d0887"
             ],
             [
              0.1111111111111111,
              "#46039f"
             ],
             [
              0.2222222222222222,
              "#7201a8"
             ],
             [
              0.3333333333333333,
              "#9c179e"
             ],
             [
              0.4444444444444444,
              "#bd3786"
             ],
             [
              0.5555555555555556,
              "#d8576b"
             ],
             [
              0.6666666666666666,
              "#ed7953"
             ],
             [
              0.7777777777777778,
              "#fb9f3a"
             ],
             [
              0.8888888888888888,
              "#fdca26"
             ],
             [
              1,
              "#f0f921"
             ]
            ],
            "type": "histogram2d"
           }
          ],
          "histogram2dcontour": [
           {
            "colorbar": {
             "outlinewidth": 0,
             "ticks": ""
            },
            "colorscale": [
             [
              0,
              "#0d0887"
             ],
             [
              0.1111111111111111,
              "#46039f"
             ],
             [
              0.2222222222222222,
              "#7201a8"
             ],
             [
              0.3333333333333333,
              "#9c179e"
             ],
             [
              0.4444444444444444,
              "#bd3786"
             ],
             [
              0.5555555555555556,
              "#d8576b"
             ],
             [
              0.6666666666666666,
              "#ed7953"
             ],
             [
              0.7777777777777778,
              "#fb9f3a"
             ],
             [
              0.8888888888888888,
              "#fdca26"
             ],
             [
              1,
              "#f0f921"
             ]
            ],
            "type": "histogram2dcontour"
           }
          ],
          "mesh3d": [
           {
            "colorbar": {
             "outlinewidth": 0,
             "ticks": ""
            },
            "type": "mesh3d"
           }
          ],
          "parcoords": [
           {
            "line": {
             "colorbar": {
              "outlinewidth": 0,
              "ticks": ""
             }
            },
            "type": "parcoords"
           }
          ],
          "scatter": [
           {
            "marker": {
             "colorbar": {
              "outlinewidth": 0,
              "ticks": ""
             }
            },
            "type": "scatter"
           }
          ],
          "scatter3d": [
           {
            "line": {
             "colorbar": {
              "outlinewidth": 0,
              "ticks": ""
             }
            },
            "marker": {
             "colorbar": {
              "outlinewidth": 0,
              "ticks": ""
             }
            },
            "type": "scatter3d"
           }
          ],
          "scattercarpet": [
           {
            "marker": {
             "colorbar": {
              "outlinewidth": 0,
              "ticks": ""
             }
            },
            "type": "scattercarpet"
           }
          ],
          "scattergeo": [
           {
            "marker": {
             "colorbar": {
              "outlinewidth": 0,
              "ticks": ""
             }
            },
            "type": "scattergeo"
           }
          ],
          "scattergl": [
           {
            "marker": {
             "colorbar": {
              "outlinewidth": 0,
              "ticks": ""
             }
            },
            "type": "scattergl"
           }
          ],
          "scattermapbox": [
           {
            "marker": {
             "colorbar": {
              "outlinewidth": 0,
              "ticks": ""
             }
            },
            "type": "scattermapbox"
           }
          ],
          "scatterpolar": [
           {
            "marker": {
             "colorbar": {
              "outlinewidth": 0,
              "ticks": ""
             }
            },
            "type": "scatterpolar"
           }
          ],
          "scatterpolargl": [
           {
            "marker": {
             "colorbar": {
              "outlinewidth": 0,
              "ticks": ""
             }
            },
            "type": "scatterpolargl"
           }
          ],
          "scatterternary": [
           {
            "marker": {
             "colorbar": {
              "outlinewidth": 0,
              "ticks": ""
             }
            },
            "type": "scatterternary"
           }
          ],
          "surface": [
           {
            "colorbar": {
             "outlinewidth": 0,
             "ticks": ""
            },
            "colorscale": [
             [
              0,
              "#0d0887"
             ],
             [
              0.1111111111111111,
              "#46039f"
             ],
             [
              0.2222222222222222,
              "#7201a8"
             ],
             [
              0.3333333333333333,
              "#9c179e"
             ],
             [
              0.4444444444444444,
              "#bd3786"
             ],
             [
              0.5555555555555556,
              "#d8576b"
             ],
             [
              0.6666666666666666,
              "#ed7953"
             ],
             [
              0.7777777777777778,
              "#fb9f3a"
             ],
             [
              0.8888888888888888,
              "#fdca26"
             ],
             [
              1,
              "#f0f921"
             ]
            ],
            "type": "surface"
           }
          ],
          "table": [
           {
            "cells": {
             "fill": {
              "color": "#EBF0F8"
             },
             "line": {
              "color": "white"
             }
            },
            "header": {
             "fill": {
              "color": "#C8D4E3"
             },
             "line": {
              "color": "white"
             }
            },
            "type": "table"
           }
          ]
         },
         "layout": {
          "annotationdefaults": {
           "arrowcolor": "#2a3f5f",
           "arrowhead": 0,
           "arrowwidth": 1
          },
          "colorscale": {
           "diverging": [
            [
             0,
             "#8e0152"
            ],
            [
             0.1,
             "#c51b7d"
            ],
            [
             0.2,
             "#de77ae"
            ],
            [
             0.3,
             "#f1b6da"
            ],
            [
             0.4,
             "#fde0ef"
            ],
            [
             0.5,
             "#f7f7f7"
            ],
            [
             0.6,
             "#e6f5d0"
            ],
            [
             0.7,
             "#b8e186"
            ],
            [
             0.8,
             "#7fbc41"
            ],
            [
             0.9,
             "#4d9221"
            ],
            [
             1,
             "#276419"
            ]
           ],
           "sequential": [
            [
             0,
             "#0d0887"
            ],
            [
             0.1111111111111111,
             "#46039f"
            ],
            [
             0.2222222222222222,
             "#7201a8"
            ],
            [
             0.3333333333333333,
             "#9c179e"
            ],
            [
             0.4444444444444444,
             "#bd3786"
            ],
            [
             0.5555555555555556,
             "#d8576b"
            ],
            [
             0.6666666666666666,
             "#ed7953"
            ],
            [
             0.7777777777777778,
             "#fb9f3a"
            ],
            [
             0.8888888888888888,
             "#fdca26"
            ],
            [
             1,
             "#f0f921"
            ]
           ],
           "sequentialminus": [
            [
             0,
             "#0d0887"
            ],
            [
             0.1111111111111111,
             "#46039f"
            ],
            [
             0.2222222222222222,
             "#7201a8"
            ],
            [
             0.3333333333333333,
             "#9c179e"
            ],
            [
             0.4444444444444444,
             "#bd3786"
            ],
            [
             0.5555555555555556,
             "#d8576b"
            ],
            [
             0.6666666666666666,
             "#ed7953"
            ],
            [
             0.7777777777777778,
             "#fb9f3a"
            ],
            [
             0.8888888888888888,
             "#fdca26"
            ],
            [
             1,
             "#f0f921"
            ]
           ]
          },
          "colorway": [
           "#636efa",
           "#EF553B",
           "#00cc96",
           "#ab63fa",
           "#FFA15A",
           "#19d3f3",
           "#FF6692",
           "#B6E880",
           "#FF97FF",
           "#FECB52"
          ],
          "font": {
           "color": "#2a3f5f"
          },
          "geo": {
           "bgcolor": "white",
           "lakecolor": "white",
           "landcolor": "#E5ECF6",
           "showlakes": true,
           "showland": true,
           "subunitcolor": "white"
          },
          "hoverlabel": {
           "align": "left"
          },
          "hovermode": "closest",
          "mapbox": {
           "style": "light"
          },
          "paper_bgcolor": "white",
          "plot_bgcolor": "#E5ECF6",
          "polar": {
           "angularaxis": {
            "gridcolor": "white",
            "linecolor": "white",
            "ticks": ""
           },
           "bgcolor": "#E5ECF6",
           "radialaxis": {
            "gridcolor": "white",
            "linecolor": "white",
            "ticks": ""
           }
          },
          "scene": {
           "xaxis": {
            "backgroundcolor": "#E5ECF6",
            "gridcolor": "white",
            "gridwidth": 2,
            "linecolor": "white",
            "showbackground": true,
            "ticks": "",
            "zerolinecolor": "white"
           },
           "yaxis": {
            "backgroundcolor": "#E5ECF6",
            "gridcolor": "white",
            "gridwidth": 2,
            "linecolor": "white",
            "showbackground": true,
            "ticks": "",
            "zerolinecolor": "white"
           },
           "zaxis": {
            "backgroundcolor": "#E5ECF6",
            "gridcolor": "white",
            "gridwidth": 2,
            "linecolor": "white",
            "showbackground": true,
            "ticks": "",
            "zerolinecolor": "white"
           }
          },
          "shapedefaults": {
           "line": {
            "color": "#2a3f5f"
           }
          },
          "ternary": {
           "aaxis": {
            "gridcolor": "white",
            "linecolor": "white",
            "ticks": ""
           },
           "baxis": {
            "gridcolor": "white",
            "linecolor": "white",
            "ticks": ""
           },
           "bgcolor": "#E5ECF6",
           "caxis": {
            "gridcolor": "white",
            "linecolor": "white",
            "ticks": ""
           }
          },
          "title": {
           "x": 0.05
          },
          "xaxis": {
           "automargin": true,
           "gridcolor": "white",
           "linecolor": "white",
           "ticks": "",
           "zerolinecolor": "white",
           "zerolinewidth": 2
          },
          "yaxis": {
           "automargin": true,
           "gridcolor": "white",
           "linecolor": "white",
           "ticks": "",
           "zerolinecolor": "white",
           "zerolinewidth": 2
          }
         }
        },
        "title": {
         "text": "Where do Survey Respondents reside?"
        },
        "xaxis": {
         "anchor": "y",
         "domain": [
          0,
          0.98
         ],
         "title": {
          "text": "Q3"
         }
        },
        "yaxis": {
         "anchor": "x",
         "domain": [
          0,
          1
         ],
         "title": {
          "text": "count"
         }
        }
       }
      },
      "text/html": [
       "<div>\n",
       "        \n",
       "        \n",
       "            <div id=\"8f8d10f1-3db5-4f20-b5e1-9512e3e9c404\" class=\"plotly-graph-div\" style=\"height:600px; width:100%;\"></div>\n",
       "            <script type=\"text/javascript\">\n",
       "                require([\"plotly\"], function(Plotly) {\n",
       "                    window.PLOTLYENV=window.PLOTLYENV || {};\n",
       "                    \n",
       "                if (document.getElementById(\"8f8d10f1-3db5-4f20-b5e1-9512e3e9c404\")) {\n",
       "                    Plotly.newPlot(\n",
       "                        '8f8d10f1-3db5-4f20-b5e1-9512e3e9c404',\n",
       "                        [{\"alignmentgroup\": \"True\", \"hoverlabel\": {\"namelength\": 0}, \"hovertemplate\": \"Q3=%{x}<br>count=%{y}\", \"legendgroup\": \"\", \"marker\": {\"color\": \"#636efa\"}, \"name\": \"\", \"offsetgroup\": \"\", \"orientation\": \"v\", \"showlegend\": false, \"textposition\": \"auto\", \"type\": \"bar\", \"x\": [\"United States of America\", \"India\", \"China\", \"Other\", \"Russia\", \"Brazil\", \"Germany\", \"United Kingdom of Great Britain and Northern Ireland\", \"France\", \"Canada\", \"Japan\", \"Spain\", \"I do not wish to disclose my location\", \"Italy\", \"Australia\", \"Turkey\", \"Poland\", \"Netherlands\", \"Ukraine\", \"Nigeria\", \"Mexico\", \"South Korea\", \"Singapore\", \"Israel\", \"Indonesia\", \"Switzerland\", \"Pakistan\", \"Portugal\", \"Sweden\", \"South Africa\", \"Viet Nam\", \"Colombia\", \"Greece\", \"Argentina\", \"Malaysia\", \"Iran, Islamic Republic of...\", \"Belgium\", \"Bangladesh\", \"Denmark\", \"Ireland\", \"Egypt\", \"Hungary\", \"Belarus\", \"Kenya\", \"Peru\", \"Finland\", \"Romania\", \"New Zealand\", \"Hong Kong (S.A.R.)\", \"Chile\", \"Norway\", \"Tunisia\", \"Thailand\", \"Philippines\", \"Czech Republic\", \"Republic of Korea\", \"Morocco\", \"Austria\"], \"xaxis\": \"x\", \"y\": [4716, 4417, 1644, 1036, 879, 736, 734, 702, 604, 604, 597, 485, 394, 355, 330, 327, 301, 270, 252, 208, 202, 188, 186, 173, 171, 164, 161, 155, 155, 147, 144, 128, 121, 119, 113, 113, 111, 107, 106, 101, 96, 93, 91, 85, 81, 79, 79, 77, 76, 76, 74, 74, 73, 73, 72, 71, 71, 62], \"yaxis\": \"y\"}],\n",
       "                        {\"barmode\": \"relative\", \"height\": 600, \"legend\": {\"tracegroupgap\": 0}, \"template\": {\"data\": {\"bar\": [{\"error_x\": {\"color\": \"#2a3f5f\"}, \"error_y\": {\"color\": \"#2a3f5f\"}, \"marker\": {\"line\": {\"color\": \"#E5ECF6\", \"width\": 0.5}}, \"type\": \"bar\"}], \"barpolar\": [{\"marker\": {\"line\": {\"color\": \"#E5ECF6\", \"width\": 0.5}}, \"type\": \"barpolar\"}], \"carpet\": [{\"aaxis\": {\"endlinecolor\": \"#2a3f5f\", \"gridcolor\": \"white\", \"linecolor\": \"white\", \"minorgridcolor\": \"white\", \"startlinecolor\": \"#2a3f5f\"}, \"baxis\": {\"endlinecolor\": \"#2a3f5f\", \"gridcolor\": \"white\", \"linecolor\": \"white\", \"minorgridcolor\": \"white\", \"startlinecolor\": \"#2a3f5f\"}, \"type\": \"carpet\"}], \"choropleth\": [{\"colorbar\": {\"outlinewidth\": 0, \"ticks\": \"\"}, \"type\": \"choropleth\"}], \"contour\": [{\"colorbar\": {\"outlinewidth\": 0, \"ticks\": \"\"}, \"colorscale\": [[0.0, \"#0d0887\"], [0.1111111111111111, \"#46039f\"], [0.2222222222222222, \"#7201a8\"], [0.3333333333333333, \"#9c179e\"], [0.4444444444444444, \"#bd3786\"], [0.5555555555555556, \"#d8576b\"], [0.6666666666666666, \"#ed7953\"], [0.7777777777777778, \"#fb9f3a\"], [0.8888888888888888, \"#fdca26\"], [1.0, \"#f0f921\"]], \"type\": \"contour\"}], \"contourcarpet\": [{\"colorbar\": {\"outlinewidth\": 0, \"ticks\": \"\"}, \"type\": \"contourcarpet\"}], \"heatmap\": [{\"colorbar\": {\"outlinewidth\": 0, \"ticks\": \"\"}, \"colorscale\": [[0.0, \"#0d0887\"], [0.1111111111111111, \"#46039f\"], [0.2222222222222222, \"#7201a8\"], [0.3333333333333333, \"#9c179e\"], [0.4444444444444444, \"#bd3786\"], [0.5555555555555556, \"#d8576b\"], [0.6666666666666666, \"#ed7953\"], [0.7777777777777778, \"#fb9f3a\"], [0.8888888888888888, \"#fdca26\"], [1.0, \"#f0f921\"]], \"type\": \"heatmap\"}], \"heatmapgl\": [{\"colorbar\": {\"outlinewidth\": 0, \"ticks\": \"\"}, \"colorscale\": [[0.0, \"#0d0887\"], [0.1111111111111111, \"#46039f\"], [0.2222222222222222, \"#7201a8\"], [0.3333333333333333, \"#9c179e\"], [0.4444444444444444, \"#bd3786\"], [0.5555555555555556, \"#d8576b\"], [0.6666666666666666, \"#ed7953\"], [0.7777777777777778, \"#fb9f3a\"], [0.8888888888888888, \"#fdca26\"], [1.0, \"#f0f921\"]], \"type\": \"heatmapgl\"}], \"histogram\": [{\"marker\": {\"colorbar\": {\"outlinewidth\": 0, \"ticks\": \"\"}}, \"type\": \"histogram\"}], \"histogram2d\": [{\"colorbar\": {\"outlinewidth\": 0, \"ticks\": \"\"}, \"colorscale\": [[0.0, \"#0d0887\"], [0.1111111111111111, \"#46039f\"], [0.2222222222222222, \"#7201a8\"], [0.3333333333333333, \"#9c179e\"], [0.4444444444444444, \"#bd3786\"], [0.5555555555555556, \"#d8576b\"], [0.6666666666666666, \"#ed7953\"], [0.7777777777777778, \"#fb9f3a\"], [0.8888888888888888, \"#fdca26\"], [1.0, \"#f0f921\"]], \"type\": \"histogram2d\"}], \"histogram2dcontour\": [{\"colorbar\": {\"outlinewidth\": 0, \"ticks\": \"\"}, \"colorscale\": [[0.0, \"#0d0887\"], [0.1111111111111111, \"#46039f\"], [0.2222222222222222, \"#7201a8\"], [0.3333333333333333, \"#9c179e\"], [0.4444444444444444, \"#bd3786\"], [0.5555555555555556, \"#d8576b\"], [0.6666666666666666, \"#ed7953\"], [0.7777777777777778, \"#fb9f3a\"], [0.8888888888888888, \"#fdca26\"], [1.0, \"#f0f921\"]], \"type\": \"histogram2dcontour\"}], \"mesh3d\": [{\"colorbar\": {\"outlinewidth\": 0, \"ticks\": \"\"}, \"type\": \"mesh3d\"}], \"parcoords\": [{\"line\": {\"colorbar\": {\"outlinewidth\": 0, \"ticks\": \"\"}}, \"type\": \"parcoords\"}], \"scatter\": [{\"marker\": {\"colorbar\": {\"outlinewidth\": 0, \"ticks\": \"\"}}, \"type\": \"scatter\"}], \"scatter3d\": [{\"line\": {\"colorbar\": {\"outlinewidth\": 0, \"ticks\": \"\"}}, \"marker\": {\"colorbar\": {\"outlinewidth\": 0, \"ticks\": \"\"}}, \"type\": \"scatter3d\"}], \"scattercarpet\": [{\"marker\": {\"colorbar\": {\"outlinewidth\": 0, \"ticks\": \"\"}}, \"type\": \"scattercarpet\"}], \"scattergeo\": [{\"marker\": {\"colorbar\": {\"outlinewidth\": 0, \"ticks\": \"\"}}, \"type\": \"scattergeo\"}], \"scattergl\": [{\"marker\": {\"colorbar\": {\"outlinewidth\": 0, \"ticks\": \"\"}}, \"type\": \"scattergl\"}], \"scattermapbox\": [{\"marker\": {\"colorbar\": {\"outlinewidth\": 0, \"ticks\": \"\"}}, \"type\": \"scattermapbox\"}], \"scatterpolar\": [{\"marker\": {\"colorbar\": {\"outlinewidth\": 0, \"ticks\": \"\"}}, \"type\": \"scatterpolar\"}], \"scatterpolargl\": [{\"marker\": {\"colorbar\": {\"outlinewidth\": 0, \"ticks\": \"\"}}, \"type\": \"scatterpolargl\"}], \"scatterternary\": [{\"marker\": {\"colorbar\": {\"outlinewidth\": 0, \"ticks\": \"\"}}, \"type\": \"scatterternary\"}], \"surface\": [{\"colorbar\": {\"outlinewidth\": 0, \"ticks\": \"\"}, \"colorscale\": [[0.0, \"#0d0887\"], [0.1111111111111111, \"#46039f\"], [0.2222222222222222, \"#7201a8\"], [0.3333333333333333, \"#9c179e\"], [0.4444444444444444, \"#bd3786\"], [0.5555555555555556, \"#d8576b\"], [0.6666666666666666, \"#ed7953\"], [0.7777777777777778, \"#fb9f3a\"], [0.8888888888888888, \"#fdca26\"], [1.0, \"#f0f921\"]], \"type\": \"surface\"}], \"table\": [{\"cells\": {\"fill\": {\"color\": \"#EBF0F8\"}, \"line\": {\"color\": \"white\"}}, \"header\": {\"fill\": {\"color\": \"#C8D4E3\"}, \"line\": {\"color\": \"white\"}}, \"type\": \"table\"}]}, \"layout\": {\"annotationdefaults\": {\"arrowcolor\": \"#2a3f5f\", \"arrowhead\": 0, \"arrowwidth\": 1}, \"colorscale\": {\"diverging\": [[0, \"#8e0152\"], [0.1, \"#c51b7d\"], [0.2, \"#de77ae\"], [0.3, \"#f1b6da\"], [0.4, \"#fde0ef\"], [0.5, \"#f7f7f7\"], [0.6, \"#e6f5d0\"], [0.7, \"#b8e186\"], [0.8, \"#7fbc41\"], [0.9, \"#4d9221\"], [1, \"#276419\"]], \"sequential\": [[0.0, \"#0d0887\"], [0.1111111111111111, \"#46039f\"], [0.2222222222222222, \"#7201a8\"], [0.3333333333333333, \"#9c179e\"], [0.4444444444444444, \"#bd3786\"], [0.5555555555555556, \"#d8576b\"], [0.6666666666666666, \"#ed7953\"], [0.7777777777777778, \"#fb9f3a\"], [0.8888888888888888, \"#fdca26\"], [1.0, \"#f0f921\"]], \"sequentialminus\": [[0.0, \"#0d0887\"], [0.1111111111111111, \"#46039f\"], [0.2222222222222222, \"#7201a8\"], [0.3333333333333333, \"#9c179e\"], [0.4444444444444444, \"#bd3786\"], [0.5555555555555556, \"#d8576b\"], [0.6666666666666666, \"#ed7953\"], [0.7777777777777778, \"#fb9f3a\"], [0.8888888888888888, \"#fdca26\"], [1.0, \"#f0f921\"]]}, \"colorway\": [\"#636efa\", \"#EF553B\", \"#00cc96\", \"#ab63fa\", \"#FFA15A\", \"#19d3f3\", \"#FF6692\", \"#B6E880\", \"#FF97FF\", \"#FECB52\"], \"font\": {\"color\": \"#2a3f5f\"}, \"geo\": {\"bgcolor\": \"white\", \"lakecolor\": \"white\", \"landcolor\": \"#E5ECF6\", \"showlakes\": true, \"showland\": true, \"subunitcolor\": \"white\"}, \"hoverlabel\": {\"align\": \"left\"}, \"hovermode\": \"closest\", \"mapbox\": {\"style\": \"light\"}, \"paper_bgcolor\": \"white\", \"plot_bgcolor\": \"#E5ECF6\", \"polar\": {\"angularaxis\": {\"gridcolor\": \"white\", \"linecolor\": \"white\", \"ticks\": \"\"}, \"bgcolor\": \"#E5ECF6\", \"radialaxis\": {\"gridcolor\": \"white\", \"linecolor\": \"white\", \"ticks\": \"\"}}, \"scene\": {\"xaxis\": {\"backgroundcolor\": \"#E5ECF6\", \"gridcolor\": \"white\", \"gridwidth\": 2, \"linecolor\": \"white\", \"showbackground\": true, \"ticks\": \"\", \"zerolinecolor\": \"white\"}, \"yaxis\": {\"backgroundcolor\": \"#E5ECF6\", \"gridcolor\": \"white\", \"gridwidth\": 2, \"linecolor\": \"white\", \"showbackground\": true, \"ticks\": \"\", \"zerolinecolor\": \"white\"}, \"zaxis\": {\"backgroundcolor\": \"#E5ECF6\", \"gridcolor\": \"white\", \"gridwidth\": 2, \"linecolor\": \"white\", \"showbackground\": true, \"ticks\": \"\", \"zerolinecolor\": \"white\"}}, \"shapedefaults\": {\"line\": {\"color\": \"#2a3f5f\"}}, \"ternary\": {\"aaxis\": {\"gridcolor\": \"white\", \"linecolor\": \"white\", \"ticks\": \"\"}, \"baxis\": {\"gridcolor\": \"white\", \"linecolor\": \"white\", \"ticks\": \"\"}, \"bgcolor\": \"#E5ECF6\", \"caxis\": {\"gridcolor\": \"white\", \"linecolor\": \"white\", \"ticks\": \"\"}}, \"title\": {\"x\": 0.05}, \"xaxis\": {\"automargin\": true, \"gridcolor\": \"white\", \"linecolor\": \"white\", \"ticks\": \"\", \"zerolinecolor\": \"white\", \"zerolinewidth\": 2}, \"yaxis\": {\"automargin\": true, \"gridcolor\": \"white\", \"linecolor\": \"white\", \"ticks\": \"\", \"zerolinecolor\": \"white\", \"zerolinewidth\": 2}}}, \"title\": {\"text\": \"Where do Survey Respondents reside?\"}, \"xaxis\": {\"anchor\": \"y\", \"domain\": [0.0, 0.98], \"title\": {\"text\": \"Q3\"}}, \"yaxis\": {\"anchor\": \"x\", \"domain\": [0.0, 1.0], \"title\": {\"text\": \"count\"}}},\n",
       "                        {\"responsive\": true}\n",
       "                    ).then(function(){\n",
       "                            \n",
       "var gd = document.getElementById('8f8d10f1-3db5-4f20-b5e1-9512e3e9c404');\n",
       "var x = new MutationObserver(function (mutations, observer) {{\n",
       "        var display = window.getComputedStyle(gd).display;\n",
       "        if (!display || display === 'none') {{\n",
       "            console.log([gd, 'removed!']);\n",
       "            Plotly.purge(gd);\n",
       "            observer.disconnect();\n",
       "        }}\n",
       "}});\n",
       "\n",
       "// Listen for the removal of the full notebook cells\n",
       "var notebookContainer = gd.closest('#notebook-container');\n",
       "if (notebookContainer) {{\n",
       "    x.observe(notebookContainer, {childList: true});\n",
       "}}\n",
       "\n",
       "// Listen for the clearing of the current output cell\n",
       "var outputEl = gd.closest('.output');\n",
       "if (outputEl) {{\n",
       "    x.observe(outputEl, {childList: true});\n",
       "}}\n",
       "\n",
       "                        })\n",
       "                };\n",
       "                });\n",
       "            </script>\n",
       "        </div>"
      ]
     },
     "metadata": {},
     "output_type": "display_data"
    }
   ],
   "source": [
    "fig = px.bar(df_test, x = 'Q3', y = 'count', title= 'Where do Survey Respondents reside?')\n",
    "fig.show()"
   ]
  },
  {
   "cell_type": "markdown",
   "metadata": {},
   "source": [
    "Notes:\n",
    "    1. The figure above is interactive. Drag and drop a box around the country you want to learn more about. The purpose of this figure is to enable readers to explore - at a high level - the data."
   ]
  },
  {
   "cell_type": "code",
   "execution_count": 36,
   "metadata": {},
   "outputs": [
    {
     "data": {
      "text/plain": [
       "array(['United States of America', 'India', 'China'], dtype=object)"
      ]
     },
     "execution_count": 36,
     "metadata": {},
     "output_type": "execute_result"
    }
   ],
   "source": [
    "df_test['Q3'].unique()[:3]"
   ]
  },
  {
   "cell_type": "code",
   "execution_count": 37,
   "metadata": {},
   "outputs": [
    {
     "data": {
      "text/plain": [
       "56    4716\n",
       "21    4417\n",
       "9     1644\n",
       "Name: count, dtype: int64"
      ]
     },
     "execution_count": 37,
     "metadata": {},
     "output_type": "execute_result"
    }
   ],
   "source": [
    "df_test['count'][:3]"
   ]
  },
  {
   "cell_type": "code",
   "execution_count": 38,
   "metadata": {},
   "outputs": [
    {
     "data": {
      "application/vnd.plotly.v1+json": {
       "config": {
        "plotlyServerURL": "https://plot.ly"
       },
       "data": [
        {
         "hole": 0.2,
         "labels": [
          "United States of America",
          "India",
          "China",
          "Other",
          "Russia",
          "Brazil",
          "Germany",
          "United Kingdom of Great Britain and Northern Ireland",
          "France",
          "Canada"
         ],
         "type": "pie",
         "values": [
          4716,
          4417,
          1644,
          1036,
          879,
          736,
          734,
          702,
          604,
          604
         ]
        }
       ],
       "layout": {
        "template": {
         "data": {
          "bar": [
           {
            "error_x": {
             "color": "#2a3f5f"
            },
            "error_y": {
             "color": "#2a3f5f"
            },
            "marker": {
             "line": {
              "color": "#E5ECF6",
              "width": 0.5
             }
            },
            "type": "bar"
           }
          ],
          "barpolar": [
           {
            "marker": {
             "line": {
              "color": "#E5ECF6",
              "width": 0.5
             }
            },
            "type": "barpolar"
           }
          ],
          "carpet": [
           {
            "aaxis": {
             "endlinecolor": "#2a3f5f",
             "gridcolor": "white",
             "linecolor": "white",
             "minorgridcolor": "white",
             "startlinecolor": "#2a3f5f"
            },
            "baxis": {
             "endlinecolor": "#2a3f5f",
             "gridcolor": "white",
             "linecolor": "white",
             "minorgridcolor": "white",
             "startlinecolor": "#2a3f5f"
            },
            "type": "carpet"
           }
          ],
          "choropleth": [
           {
            "colorbar": {
             "outlinewidth": 0,
             "ticks": ""
            },
            "type": "choropleth"
           }
          ],
          "contour": [
           {
            "colorbar": {
             "outlinewidth": 0,
             "ticks": ""
            },
            "colorscale": [
             [
              0,
              "#0d0887"
             ],
             [
              0.1111111111111111,
              "#46039f"
             ],
             [
              0.2222222222222222,
              "#7201a8"
             ],
             [
              0.3333333333333333,
              "#9c179e"
             ],
             [
              0.4444444444444444,
              "#bd3786"
             ],
             [
              0.5555555555555556,
              "#d8576b"
             ],
             [
              0.6666666666666666,
              "#ed7953"
             ],
             [
              0.7777777777777778,
              "#fb9f3a"
             ],
             [
              0.8888888888888888,
              "#fdca26"
             ],
             [
              1,
              "#f0f921"
             ]
            ],
            "type": "contour"
           }
          ],
          "contourcarpet": [
           {
            "colorbar": {
             "outlinewidth": 0,
             "ticks": ""
            },
            "type": "contourcarpet"
           }
          ],
          "heatmap": [
           {
            "colorbar": {
             "outlinewidth": 0,
             "ticks": ""
            },
            "colorscale": [
             [
              0,
              "#0d0887"
             ],
             [
              0.1111111111111111,
              "#46039f"
             ],
             [
              0.2222222222222222,
              "#7201a8"
             ],
             [
              0.3333333333333333,
              "#9c179e"
             ],
             [
              0.4444444444444444,
              "#bd3786"
             ],
             [
              0.5555555555555556,
              "#d8576b"
             ],
             [
              0.6666666666666666,
              "#ed7953"
             ],
             [
              0.7777777777777778,
              "#fb9f3a"
             ],
             [
              0.8888888888888888,
              "#fdca26"
             ],
             [
              1,
              "#f0f921"
             ]
            ],
            "type": "heatmap"
           }
          ],
          "heatmapgl": [
           {
            "colorbar": {
             "outlinewidth": 0,
             "ticks": ""
            },
            "colorscale": [
             [
              0,
              "#0d0887"
             ],
             [
              0.1111111111111111,
              "#46039f"
             ],
             [
              0.2222222222222222,
              "#7201a8"
             ],
             [
              0.3333333333333333,
              "#9c179e"
             ],
             [
              0.4444444444444444,
              "#bd3786"
             ],
             [
              0.5555555555555556,
              "#d8576b"
             ],
             [
              0.6666666666666666,
              "#ed7953"
             ],
             [
              0.7777777777777778,
              "#fb9f3a"
             ],
             [
              0.8888888888888888,
              "#fdca26"
             ],
             [
              1,
              "#f0f921"
             ]
            ],
            "type": "heatmapgl"
           }
          ],
          "histogram": [
           {
            "marker": {
             "colorbar": {
              "outlinewidth": 0,
              "ticks": ""
             }
            },
            "type": "histogram"
           }
          ],
          "histogram2d": [
           {
            "colorbar": {
             "outlinewidth": 0,
             "ticks": ""
            },
            "colorscale": [
             [
              0,
              "#0d0887"
             ],
             [
              0.1111111111111111,
              "#46039f"
             ],
             [
              0.2222222222222222,
              "#7201a8"
             ],
             [
              0.3333333333333333,
              "#9c179e"
             ],
             [
              0.4444444444444444,
              "#bd3786"
             ],
             [
              0.5555555555555556,
              "#d8576b"
             ],
             [
              0.6666666666666666,
              "#ed7953"
             ],
             [
              0.7777777777777778,
              "#fb9f3a"
             ],
             [
              0.8888888888888888,
              "#fdca26"
             ],
             [
              1,
              "#f0f921"
             ]
            ],
            "type": "histogram2d"
           }
          ],
          "histogram2dcontour": [
           {
            "colorbar": {
             "outlinewidth": 0,
             "ticks": ""
            },
            "colorscale": [
             [
              0,
              "#0d0887"
             ],
             [
              0.1111111111111111,
              "#46039f"
             ],
             [
              0.2222222222222222,
              "#7201a8"
             ],
             [
              0.3333333333333333,
              "#9c179e"
             ],
             [
              0.4444444444444444,
              "#bd3786"
             ],
             [
              0.5555555555555556,
              "#d8576b"
             ],
             [
              0.6666666666666666,
              "#ed7953"
             ],
             [
              0.7777777777777778,
              "#fb9f3a"
             ],
             [
              0.8888888888888888,
              "#fdca26"
             ],
             [
              1,
              "#f0f921"
             ]
            ],
            "type": "histogram2dcontour"
           }
          ],
          "mesh3d": [
           {
            "colorbar": {
             "outlinewidth": 0,
             "ticks": ""
            },
            "type": "mesh3d"
           }
          ],
          "parcoords": [
           {
            "line": {
             "colorbar": {
              "outlinewidth": 0,
              "ticks": ""
             }
            },
            "type": "parcoords"
           }
          ],
          "scatter": [
           {
            "marker": {
             "colorbar": {
              "outlinewidth": 0,
              "ticks": ""
             }
            },
            "type": "scatter"
           }
          ],
          "scatter3d": [
           {
            "line": {
             "colorbar": {
              "outlinewidth": 0,
              "ticks": ""
             }
            },
            "marker": {
             "colorbar": {
              "outlinewidth": 0,
              "ticks": ""
             }
            },
            "type": "scatter3d"
           }
          ],
          "scattercarpet": [
           {
            "marker": {
             "colorbar": {
              "outlinewidth": 0,
              "ticks": ""
             }
            },
            "type": "scattercarpet"
           }
          ],
          "scattergeo": [
           {
            "marker": {
             "colorbar": {
              "outlinewidth": 0,
              "ticks": ""
             }
            },
            "type": "scattergeo"
           }
          ],
          "scattergl": [
           {
            "marker": {
             "colorbar": {
              "outlinewidth": 0,
              "ticks": ""
             }
            },
            "type": "scattergl"
           }
          ],
          "scattermapbox": [
           {
            "marker": {
             "colorbar": {
              "outlinewidth": 0,
              "ticks": ""
             }
            },
            "type": "scattermapbox"
           }
          ],
          "scatterpolar": [
           {
            "marker": {
             "colorbar": {
              "outlinewidth": 0,
              "ticks": ""
             }
            },
            "type": "scatterpolar"
           }
          ],
          "scatterpolargl": [
           {
            "marker": {
             "colorbar": {
              "outlinewidth": 0,
              "ticks": ""
             }
            },
            "type": "scatterpolargl"
           }
          ],
          "scatterternary": [
           {
            "marker": {
             "colorbar": {
              "outlinewidth": 0,
              "ticks": ""
             }
            },
            "type": "scatterternary"
           }
          ],
          "surface": [
           {
            "colorbar": {
             "outlinewidth": 0,
             "ticks": ""
            },
            "colorscale": [
             [
              0,
              "#0d0887"
             ],
             [
              0.1111111111111111,
              "#46039f"
             ],
             [
              0.2222222222222222,
              "#7201a8"
             ],
             [
              0.3333333333333333,
              "#9c179e"
             ],
             [
              0.4444444444444444,
              "#bd3786"
             ],
             [
              0.5555555555555556,
              "#d8576b"
             ],
             [
              0.6666666666666666,
              "#ed7953"
             ],
             [
              0.7777777777777778,
              "#fb9f3a"
             ],
             [
              0.8888888888888888,
              "#fdca26"
             ],
             [
              1,
              "#f0f921"
             ]
            ],
            "type": "surface"
           }
          ],
          "table": [
           {
            "cells": {
             "fill": {
              "color": "#EBF0F8"
             },
             "line": {
              "color": "white"
             }
            },
            "header": {
             "fill": {
              "color": "#C8D4E3"
             },
             "line": {
              "color": "white"
             }
            },
            "type": "table"
           }
          ]
         },
         "layout": {
          "annotationdefaults": {
           "arrowcolor": "#2a3f5f",
           "arrowhead": 0,
           "arrowwidth": 1
          },
          "colorscale": {
           "diverging": [
            [
             0,
             "#8e0152"
            ],
            [
             0.1,
             "#c51b7d"
            ],
            [
             0.2,
             "#de77ae"
            ],
            [
             0.3,
             "#f1b6da"
            ],
            [
             0.4,
             "#fde0ef"
            ],
            [
             0.5,
             "#f7f7f7"
            ],
            [
             0.6,
             "#e6f5d0"
            ],
            [
             0.7,
             "#b8e186"
            ],
            [
             0.8,
             "#7fbc41"
            ],
            [
             0.9,
             "#4d9221"
            ],
            [
             1,
             "#276419"
            ]
           ],
           "sequential": [
            [
             0,
             "#0d0887"
            ],
            [
             0.1111111111111111,
             "#46039f"
            ],
            [
             0.2222222222222222,
             "#7201a8"
            ],
            [
             0.3333333333333333,
             "#9c179e"
            ],
            [
             0.4444444444444444,
             "#bd3786"
            ],
            [
             0.5555555555555556,
             "#d8576b"
            ],
            [
             0.6666666666666666,
             "#ed7953"
            ],
            [
             0.7777777777777778,
             "#fb9f3a"
            ],
            [
             0.8888888888888888,
             "#fdca26"
            ],
            [
             1,
             "#f0f921"
            ]
           ],
           "sequentialminus": [
            [
             0,
             "#0d0887"
            ],
            [
             0.1111111111111111,
             "#46039f"
            ],
            [
             0.2222222222222222,
             "#7201a8"
            ],
            [
             0.3333333333333333,
             "#9c179e"
            ],
            [
             0.4444444444444444,
             "#bd3786"
            ],
            [
             0.5555555555555556,
             "#d8576b"
            ],
            [
             0.6666666666666666,
             "#ed7953"
            ],
            [
             0.7777777777777778,
             "#fb9f3a"
            ],
            [
             0.8888888888888888,
             "#fdca26"
            ],
            [
             1,
             "#f0f921"
            ]
           ]
          },
          "colorway": [
           "#636efa",
           "#EF553B",
           "#00cc96",
           "#ab63fa",
           "#FFA15A",
           "#19d3f3",
           "#FF6692",
           "#B6E880",
           "#FF97FF",
           "#FECB52"
          ],
          "font": {
           "color": "#2a3f5f"
          },
          "geo": {
           "bgcolor": "white",
           "lakecolor": "white",
           "landcolor": "#E5ECF6",
           "showlakes": true,
           "showland": true,
           "subunitcolor": "white"
          },
          "hoverlabel": {
           "align": "left"
          },
          "hovermode": "closest",
          "mapbox": {
           "style": "light"
          },
          "paper_bgcolor": "white",
          "plot_bgcolor": "#E5ECF6",
          "polar": {
           "angularaxis": {
            "gridcolor": "white",
            "linecolor": "white",
            "ticks": ""
           },
           "bgcolor": "#E5ECF6",
           "radialaxis": {
            "gridcolor": "white",
            "linecolor": "white",
            "ticks": ""
           }
          },
          "scene": {
           "xaxis": {
            "backgroundcolor": "#E5ECF6",
            "gridcolor": "white",
            "gridwidth": 2,
            "linecolor": "white",
            "showbackground": true,
            "ticks": "",
            "zerolinecolor": "white"
           },
           "yaxis": {
            "backgroundcolor": "#E5ECF6",
            "gridcolor": "white",
            "gridwidth": 2,
            "linecolor": "white",
            "showbackground": true,
            "ticks": "",
            "zerolinecolor": "white"
           },
           "zaxis": {
            "backgroundcolor": "#E5ECF6",
            "gridcolor": "white",
            "gridwidth": 2,
            "linecolor": "white",
            "showbackground": true,
            "ticks": "",
            "zerolinecolor": "white"
           }
          },
          "shapedefaults": {
           "line": {
            "color": "#2a3f5f"
           }
          },
          "ternary": {
           "aaxis": {
            "gridcolor": "white",
            "linecolor": "white",
            "ticks": ""
           },
           "baxis": {
            "gridcolor": "white",
            "linecolor": "white",
            "ticks": ""
           },
           "bgcolor": "#E5ECF6",
           "caxis": {
            "gridcolor": "white",
            "linecolor": "white",
            "ticks": ""
           }
          },
          "title": {
           "x": 0.05
          },
          "xaxis": {
           "automargin": true,
           "gridcolor": "white",
           "linecolor": "white",
           "ticks": "",
           "zerolinecolor": "white",
           "zerolinewidth": 2
          },
          "yaxis": {
           "automargin": true,
           "gridcolor": "white",
           "linecolor": "white",
           "ticks": "",
           "zerolinecolor": "white",
           "zerolinewidth": 2
          }
         }
        },
        "title": {
         "text": "Top 10 Countries where Survey Respondents Reside in 2018"
        }
       }
      },
      "text/html": [
       "<div>\n",
       "        \n",
       "        \n",
       "            <div id=\"f8211c39-05c4-430e-8627-ceb0cdce1d78\" class=\"plotly-graph-div\" style=\"height:525px; width:100%;\"></div>\n",
       "            <script type=\"text/javascript\">\n",
       "                require([\"plotly\"], function(Plotly) {\n",
       "                    window.PLOTLYENV=window.PLOTLYENV || {};\n",
       "                    \n",
       "                if (document.getElementById(\"f8211c39-05c4-430e-8627-ceb0cdce1d78\")) {\n",
       "                    Plotly.newPlot(\n",
       "                        'f8211c39-05c4-430e-8627-ceb0cdce1d78',\n",
       "                        [{\"hole\": 0.2, \"labels\": [\"United States of America\", \"India\", \"China\", \"Other\", \"Russia\", \"Brazil\", \"Germany\", \"United Kingdom of Great Britain and Northern Ireland\", \"France\", \"Canada\"], \"type\": \"pie\", \"values\": [4716, 4417, 1644, 1036, 879, 736, 734, 702, 604, 604]}],\n",
       "                        {\"template\": {\"data\": {\"bar\": [{\"error_x\": {\"color\": \"#2a3f5f\"}, \"error_y\": {\"color\": \"#2a3f5f\"}, \"marker\": {\"line\": {\"color\": \"#E5ECF6\", \"width\": 0.5}}, \"type\": \"bar\"}], \"barpolar\": [{\"marker\": {\"line\": {\"color\": \"#E5ECF6\", \"width\": 0.5}}, \"type\": \"barpolar\"}], \"carpet\": [{\"aaxis\": {\"endlinecolor\": \"#2a3f5f\", \"gridcolor\": \"white\", \"linecolor\": \"white\", \"minorgridcolor\": \"white\", \"startlinecolor\": \"#2a3f5f\"}, \"baxis\": {\"endlinecolor\": \"#2a3f5f\", \"gridcolor\": \"white\", \"linecolor\": \"white\", \"minorgridcolor\": \"white\", \"startlinecolor\": \"#2a3f5f\"}, \"type\": \"carpet\"}], \"choropleth\": [{\"colorbar\": {\"outlinewidth\": 0, \"ticks\": \"\"}, \"type\": \"choropleth\"}], \"contour\": [{\"colorbar\": {\"outlinewidth\": 0, \"ticks\": \"\"}, \"colorscale\": [[0.0, \"#0d0887\"], [0.1111111111111111, \"#46039f\"], [0.2222222222222222, \"#7201a8\"], [0.3333333333333333, \"#9c179e\"], [0.4444444444444444, \"#bd3786\"], [0.5555555555555556, \"#d8576b\"], [0.6666666666666666, \"#ed7953\"], [0.7777777777777778, \"#fb9f3a\"], [0.8888888888888888, \"#fdca26\"], [1.0, \"#f0f921\"]], \"type\": \"contour\"}], \"contourcarpet\": [{\"colorbar\": {\"outlinewidth\": 0, \"ticks\": \"\"}, \"type\": \"contourcarpet\"}], \"heatmap\": [{\"colorbar\": {\"outlinewidth\": 0, \"ticks\": \"\"}, \"colorscale\": [[0.0, \"#0d0887\"], [0.1111111111111111, \"#46039f\"], [0.2222222222222222, \"#7201a8\"], [0.3333333333333333, \"#9c179e\"], [0.4444444444444444, \"#bd3786\"], [0.5555555555555556, \"#d8576b\"], [0.6666666666666666, \"#ed7953\"], [0.7777777777777778, \"#fb9f3a\"], [0.8888888888888888, \"#fdca26\"], [1.0, \"#f0f921\"]], \"type\": \"heatmap\"}], \"heatmapgl\": [{\"colorbar\": {\"outlinewidth\": 0, \"ticks\": \"\"}, \"colorscale\": [[0.0, \"#0d0887\"], [0.1111111111111111, \"#46039f\"], [0.2222222222222222, \"#7201a8\"], [0.3333333333333333, \"#9c179e\"], [0.4444444444444444, \"#bd3786\"], [0.5555555555555556, \"#d8576b\"], [0.6666666666666666, \"#ed7953\"], [0.7777777777777778, \"#fb9f3a\"], [0.8888888888888888, \"#fdca26\"], [1.0, \"#f0f921\"]], \"type\": \"heatmapgl\"}], \"histogram\": [{\"marker\": {\"colorbar\": {\"outlinewidth\": 0, \"ticks\": \"\"}}, \"type\": \"histogram\"}], \"histogram2d\": [{\"colorbar\": {\"outlinewidth\": 0, \"ticks\": \"\"}, \"colorscale\": [[0.0, \"#0d0887\"], [0.1111111111111111, \"#46039f\"], [0.2222222222222222, \"#7201a8\"], [0.3333333333333333, \"#9c179e\"], [0.4444444444444444, \"#bd3786\"], [0.5555555555555556, \"#d8576b\"], [0.6666666666666666, \"#ed7953\"], [0.7777777777777778, \"#fb9f3a\"], [0.8888888888888888, \"#fdca26\"], [1.0, \"#f0f921\"]], \"type\": \"histogram2d\"}], \"histogram2dcontour\": [{\"colorbar\": {\"outlinewidth\": 0, \"ticks\": \"\"}, \"colorscale\": [[0.0, \"#0d0887\"], [0.1111111111111111, \"#46039f\"], [0.2222222222222222, \"#7201a8\"], [0.3333333333333333, \"#9c179e\"], [0.4444444444444444, \"#bd3786\"], [0.5555555555555556, \"#d8576b\"], [0.6666666666666666, \"#ed7953\"], [0.7777777777777778, \"#fb9f3a\"], [0.8888888888888888, \"#fdca26\"], [1.0, \"#f0f921\"]], \"type\": \"histogram2dcontour\"}], \"mesh3d\": [{\"colorbar\": {\"outlinewidth\": 0, \"ticks\": \"\"}, \"type\": \"mesh3d\"}], \"parcoords\": [{\"line\": {\"colorbar\": {\"outlinewidth\": 0, \"ticks\": \"\"}}, \"type\": \"parcoords\"}], \"scatter\": [{\"marker\": {\"colorbar\": {\"outlinewidth\": 0, \"ticks\": \"\"}}, \"type\": \"scatter\"}], \"scatter3d\": [{\"line\": {\"colorbar\": {\"outlinewidth\": 0, \"ticks\": \"\"}}, \"marker\": {\"colorbar\": {\"outlinewidth\": 0, \"ticks\": \"\"}}, \"type\": \"scatter3d\"}], \"scattercarpet\": [{\"marker\": {\"colorbar\": {\"outlinewidth\": 0, \"ticks\": \"\"}}, \"type\": \"scattercarpet\"}], \"scattergeo\": [{\"marker\": {\"colorbar\": {\"outlinewidth\": 0, \"ticks\": \"\"}}, \"type\": \"scattergeo\"}], \"scattergl\": [{\"marker\": {\"colorbar\": {\"outlinewidth\": 0, \"ticks\": \"\"}}, \"type\": \"scattergl\"}], \"scattermapbox\": [{\"marker\": {\"colorbar\": {\"outlinewidth\": 0, \"ticks\": \"\"}}, \"type\": \"scattermapbox\"}], \"scatterpolar\": [{\"marker\": {\"colorbar\": {\"outlinewidth\": 0, \"ticks\": \"\"}}, \"type\": \"scatterpolar\"}], \"scatterpolargl\": [{\"marker\": {\"colorbar\": {\"outlinewidth\": 0, \"ticks\": \"\"}}, \"type\": \"scatterpolargl\"}], \"scatterternary\": [{\"marker\": {\"colorbar\": {\"outlinewidth\": 0, \"ticks\": \"\"}}, \"type\": \"scatterternary\"}], \"surface\": [{\"colorbar\": {\"outlinewidth\": 0, \"ticks\": \"\"}, \"colorscale\": [[0.0, \"#0d0887\"], [0.1111111111111111, \"#46039f\"], [0.2222222222222222, \"#7201a8\"], [0.3333333333333333, \"#9c179e\"], [0.4444444444444444, \"#bd3786\"], [0.5555555555555556, \"#d8576b\"], [0.6666666666666666, \"#ed7953\"], [0.7777777777777778, \"#fb9f3a\"], [0.8888888888888888, \"#fdca26\"], [1.0, \"#f0f921\"]], \"type\": \"surface\"}], \"table\": [{\"cells\": {\"fill\": {\"color\": \"#EBF0F8\"}, \"line\": {\"color\": \"white\"}}, \"header\": {\"fill\": {\"color\": \"#C8D4E3\"}, \"line\": {\"color\": \"white\"}}, \"type\": \"table\"}]}, \"layout\": {\"annotationdefaults\": {\"arrowcolor\": \"#2a3f5f\", \"arrowhead\": 0, \"arrowwidth\": 1}, \"colorscale\": {\"diverging\": [[0, \"#8e0152\"], [0.1, \"#c51b7d\"], [0.2, \"#de77ae\"], [0.3, \"#f1b6da\"], [0.4, \"#fde0ef\"], [0.5, \"#f7f7f7\"], [0.6, \"#e6f5d0\"], [0.7, \"#b8e186\"], [0.8, \"#7fbc41\"], [0.9, \"#4d9221\"], [1, \"#276419\"]], \"sequential\": [[0.0, \"#0d0887\"], [0.1111111111111111, \"#46039f\"], [0.2222222222222222, \"#7201a8\"], [0.3333333333333333, \"#9c179e\"], [0.4444444444444444, \"#bd3786\"], [0.5555555555555556, \"#d8576b\"], [0.6666666666666666, \"#ed7953\"], [0.7777777777777778, \"#fb9f3a\"], [0.8888888888888888, \"#fdca26\"], [1.0, \"#f0f921\"]], \"sequentialminus\": [[0.0, \"#0d0887\"], [0.1111111111111111, \"#46039f\"], [0.2222222222222222, \"#7201a8\"], [0.3333333333333333, \"#9c179e\"], [0.4444444444444444, \"#bd3786\"], [0.5555555555555556, \"#d8576b\"], [0.6666666666666666, \"#ed7953\"], [0.7777777777777778, \"#fb9f3a\"], [0.8888888888888888, \"#fdca26\"], [1.0, \"#f0f921\"]]}, \"colorway\": [\"#636efa\", \"#EF553B\", \"#00cc96\", \"#ab63fa\", \"#FFA15A\", \"#19d3f3\", \"#FF6692\", \"#B6E880\", \"#FF97FF\", \"#FECB52\"], \"font\": {\"color\": \"#2a3f5f\"}, \"geo\": {\"bgcolor\": \"white\", \"lakecolor\": \"white\", \"landcolor\": \"#E5ECF6\", \"showlakes\": true, \"showland\": true, \"subunitcolor\": \"white\"}, \"hoverlabel\": {\"align\": \"left\"}, \"hovermode\": \"closest\", \"mapbox\": {\"style\": \"light\"}, \"paper_bgcolor\": \"white\", \"plot_bgcolor\": \"#E5ECF6\", \"polar\": {\"angularaxis\": {\"gridcolor\": \"white\", \"linecolor\": \"white\", \"ticks\": \"\"}, \"bgcolor\": \"#E5ECF6\", \"radialaxis\": {\"gridcolor\": \"white\", \"linecolor\": \"white\", \"ticks\": \"\"}}, \"scene\": {\"xaxis\": {\"backgroundcolor\": \"#E5ECF6\", \"gridcolor\": \"white\", \"gridwidth\": 2, \"linecolor\": \"white\", \"showbackground\": true, \"ticks\": \"\", \"zerolinecolor\": \"white\"}, \"yaxis\": {\"backgroundcolor\": \"#E5ECF6\", \"gridcolor\": \"white\", \"gridwidth\": 2, \"linecolor\": \"white\", \"showbackground\": true, \"ticks\": \"\", \"zerolinecolor\": \"white\"}, \"zaxis\": {\"backgroundcolor\": \"#E5ECF6\", \"gridcolor\": \"white\", \"gridwidth\": 2, \"linecolor\": \"white\", \"showbackground\": true, \"ticks\": \"\", \"zerolinecolor\": \"white\"}}, \"shapedefaults\": {\"line\": {\"color\": \"#2a3f5f\"}}, \"ternary\": {\"aaxis\": {\"gridcolor\": \"white\", \"linecolor\": \"white\", \"ticks\": \"\"}, \"baxis\": {\"gridcolor\": \"white\", \"linecolor\": \"white\", \"ticks\": \"\"}, \"bgcolor\": \"#E5ECF6\", \"caxis\": {\"gridcolor\": \"white\", \"linecolor\": \"white\", \"ticks\": \"\"}}, \"title\": {\"x\": 0.05}, \"xaxis\": {\"automargin\": true, \"gridcolor\": \"white\", \"linecolor\": \"white\", \"ticks\": \"\", \"zerolinecolor\": \"white\", \"zerolinewidth\": 2}, \"yaxis\": {\"automargin\": true, \"gridcolor\": \"white\", \"linecolor\": \"white\", \"ticks\": \"\", \"zerolinecolor\": \"white\", \"zerolinewidth\": 2}}}, \"title\": {\"text\": \"Top 10 Countries where Survey Respondents Reside in 2018\"}},\n",
       "                        {\"responsive\": true}\n",
       "                    ).then(function(){\n",
       "                            \n",
       "var gd = document.getElementById('f8211c39-05c4-430e-8627-ceb0cdce1d78');\n",
       "var x = new MutationObserver(function (mutations, observer) {{\n",
       "        var display = window.getComputedStyle(gd).display;\n",
       "        if (!display || display === 'none') {{\n",
       "            console.log([gd, 'removed!']);\n",
       "            Plotly.purge(gd);\n",
       "            observer.disconnect();\n",
       "        }}\n",
       "}});\n",
       "\n",
       "// Listen for the removal of the full notebook cells\n",
       "var notebookContainer = gd.closest('#notebook-container');\n",
       "if (notebookContainer) {{\n",
       "    x.observe(notebookContainer, {childList: true});\n",
       "}}\n",
       "\n",
       "// Listen for the clearing of the current output cell\n",
       "var outputEl = gd.closest('.output');\n",
       "if (outputEl) {{\n",
       "    x.observe(outputEl, {childList: true});\n",
       "}}\n",
       "\n",
       "                        })\n",
       "                };\n",
       "                });\n",
       "            </script>\n",
       "        </div>"
      ]
     },
     "metadata": {},
     "output_type": "display_data"
    }
   ],
   "source": [
    "import plotly.graph_objects as go\n",
    "\n",
    "top_n = 10\n",
    "labels = df_test['Q3'].unique()[:top_n]\n",
    "values = df_test['count'][:top_n]\n",
    "\n",
    "fig = go.Figure(data =[go.Pie(labels = labels, values = values, hole = 0.2)])\n",
    "fig.update_layout(title_text = 'Top {} Countries where Survey Respondents Reside in 2018'.format(top_n))\n",
    "fig.show()\n",
    "\n",
    "#use to create 2019 and 2017 pie chart\n",
    "#fig.add_trace(go.Pie(labels=labels, values=[38, 27, 18, 10, 7], name='Starry Night',\n",
    "             #        marker_colors=night_colors), 1, 1)"
   ]
  },
  {
   "cell_type": "markdown",
   "metadata": {},
   "source": [
    "#### Get continent column and time column indicating the year\n",
    "fig = px.scatter_geo(df_test, locations = 'Q3', color = 'Q3', hover_name = 'Q3', \n",
    "                     size = 'count', projection = 'natural earth')\n",
    "fig.show()"
   ]
  },
  {
   "cell_type": "markdown",
   "metadata": {},
   "source": [
    "### Key takeaways from Aggregate Data:\n",
    "\n",
    "    1. The variety of roles, countries, ages, and shows that the Kaggle Data Science community is diverse and international. The 2018 survey shows that the United States only accounts for 29.7% of survey respondents. The two largest countries in Asia (India & China) account for nearly 37.9% of all survey respondents. \n",
    "    2. \n",
    "    3. ASDA"
   ]
  },
  {
   "cell_type": "markdown",
   "metadata": {},
   "source": [
    "Note: For the purposes of this analysis, we will focus on self-described students, data scientists, software engineers, and data engineers in an international context "
   ]
  },
  {
   "cell_type": "code",
   "execution_count": 51,
   "metadata": {},
   "outputs": [
    {
     "data": {
      "text/html": [
       "<div>\n",
       "<style scoped>\n",
       "    .dataframe tbody tr th:only-of-type {\n",
       "        vertical-align: middle;\n",
       "    }\n",
       "\n",
       "    .dataframe tbody tr th {\n",
       "        vertical-align: top;\n",
       "    }\n",
       "\n",
       "    .dataframe thead th {\n",
       "        text-align: right;\n",
       "    }\n",
       "</style>\n",
       "<table border=\"1\" class=\"dataframe\">\n",
       "  <thead>\n",
       "    <tr style=\"text-align: right;\">\n",
       "      <th></th>\n",
       "      <th>Time from Start to Finish (seconds)</th>\n",
       "      <th>Q1</th>\n",
       "      <th>Q1_OTHER_TEXT</th>\n",
       "      <th>Q2</th>\n",
       "      <th>Q3</th>\n",
       "      <th>Q4</th>\n",
       "      <th>Q5</th>\n",
       "      <th>Q6</th>\n",
       "      <th>Q6_OTHER_TEXT</th>\n",
       "      <th>Q7</th>\n",
       "      <th>...</th>\n",
       "      <th>Q49_OTHER_TEXT</th>\n",
       "      <th>Q50_Part_1</th>\n",
       "      <th>Q50_Part_2</th>\n",
       "      <th>Q50_Part_3</th>\n",
       "      <th>Q50_Part_4</th>\n",
       "      <th>Q50_Part_5</th>\n",
       "      <th>Q50_Part_6</th>\n",
       "      <th>Q50_Part_7</th>\n",
       "      <th>Q50_Part_8</th>\n",
       "      <th>Q50_OTHER_TEXT</th>\n",
       "    </tr>\n",
       "  </thead>\n",
       "  <tbody>\n",
       "    <tr>\n",
       "      <th>3</th>\n",
       "      <td>718</td>\n",
       "      <td>Female</td>\n",
       "      <td>-1</td>\n",
       "      <td>30-34</td>\n",
       "      <td>United States of America</td>\n",
       "      <td>Master’s degree</td>\n",
       "      <td>Computer science (software engineering, etc.)</td>\n",
       "      <td>Data Scientist</td>\n",
       "      <td>-1</td>\n",
       "      <td>I am a student</td>\n",
       "      <td>...</td>\n",
       "      <td>-1</td>\n",
       "      <td>NaN</td>\n",
       "      <td>Too time-consuming</td>\n",
       "      <td>NaN</td>\n",
       "      <td>NaN</td>\n",
       "      <td>NaN</td>\n",
       "      <td>NaN</td>\n",
       "      <td>NaN</td>\n",
       "      <td>NaN</td>\n",
       "      <td>-1</td>\n",
       "    </tr>\n",
       "    <tr>\n",
       "      <th>6</th>\n",
       "      <td>1142</td>\n",
       "      <td>Male</td>\n",
       "      <td>-1</td>\n",
       "      <td>25-29</td>\n",
       "      <td>Colombia</td>\n",
       "      <td>Bachelor’s degree</td>\n",
       "      <td>Physics or astronomy</td>\n",
       "      <td>Data Scientist</td>\n",
       "      <td>-1</td>\n",
       "      <td>Computers/Technology</td>\n",
       "      <td>...</td>\n",
       "      <td>-1</td>\n",
       "      <td>NaN</td>\n",
       "      <td>NaN</td>\n",
       "      <td>NaN</td>\n",
       "      <td>Afraid that others will use my work without gi...</td>\n",
       "      <td>NaN</td>\n",
       "      <td>I had never considered making my work easier f...</td>\n",
       "      <td>NaN</td>\n",
       "      <td>NaN</td>\n",
       "      <td>-1</td>\n",
       "    </tr>\n",
       "    <tr>\n",
       "      <th>10</th>\n",
       "      <td>751</td>\n",
       "      <td>Male</td>\n",
       "      <td>-1</td>\n",
       "      <td>30-34</td>\n",
       "      <td>Hungary</td>\n",
       "      <td>Master’s degree</td>\n",
       "      <td>Engineering (non-computer focused)</td>\n",
       "      <td>Software Engineer</td>\n",
       "      <td>-1</td>\n",
       "      <td>Online Service/Internet-based Services</td>\n",
       "      <td>...</td>\n",
       "      <td>-1</td>\n",
       "      <td>NaN</td>\n",
       "      <td>Too time-consuming</td>\n",
       "      <td>NaN</td>\n",
       "      <td>Afraid that others will use my work without gi...</td>\n",
       "      <td>NaN</td>\n",
       "      <td>NaN</td>\n",
       "      <td>NaN</td>\n",
       "      <td>NaN</td>\n",
       "      <td>-1</td>\n",
       "    </tr>\n",
       "    <tr>\n",
       "      <th>12</th>\n",
       "      <td>823</td>\n",
       "      <td>Male</td>\n",
       "      <td>-1</td>\n",
       "      <td>40-44</td>\n",
       "      <td>United States of America</td>\n",
       "      <td>Master’s degree</td>\n",
       "      <td>Engineering (non-computer focused)</td>\n",
       "      <td>Data Scientist</td>\n",
       "      <td>-1</td>\n",
       "      <td>Other</td>\n",
       "      <td>...</td>\n",
       "      <td>-1</td>\n",
       "      <td>NaN</td>\n",
       "      <td>Too time-consuming</td>\n",
       "      <td>NaN</td>\n",
       "      <td>NaN</td>\n",
       "      <td>Not enough incentives to share my work</td>\n",
       "      <td>NaN</td>\n",
       "      <td>NaN</td>\n",
       "      <td>NaN</td>\n",
       "      <td>-1</td>\n",
       "    </tr>\n",
       "    <tr>\n",
       "      <th>16</th>\n",
       "      <td>1153</td>\n",
       "      <td>Male</td>\n",
       "      <td>-1</td>\n",
       "      <td>25-29</td>\n",
       "      <td>Japan</td>\n",
       "      <td>Master’s degree</td>\n",
       "      <td>Engineering (non-computer focused)</td>\n",
       "      <td>Data Scientist</td>\n",
       "      <td>-1</td>\n",
       "      <td>Medical/Pharmaceutical</td>\n",
       "      <td>...</td>\n",
       "      <td>-1</td>\n",
       "      <td>NaN</td>\n",
       "      <td>Too time-consuming</td>\n",
       "      <td>Requires too much technical knowledge</td>\n",
       "      <td>Afraid that others will use my work without gi...</td>\n",
       "      <td>NaN</td>\n",
       "      <td>NaN</td>\n",
       "      <td>NaN</td>\n",
       "      <td>NaN</td>\n",
       "      <td>-1</td>\n",
       "    </tr>\n",
       "  </tbody>\n",
       "</table>\n",
       "<p>5 rows × 395 columns</p>\n",
       "</div>"
      ],
      "text/plain": [
       "   Time from Start to Finish (seconds)      Q1 Q1_OTHER_TEXT     Q2  \\\n",
       "3                                  718  Female            -1  30-34   \n",
       "6                                 1142    Male            -1  25-29   \n",
       "10                                 751    Male            -1  30-34   \n",
       "12                                 823    Male            -1  40-44   \n",
       "16                                1153    Male            -1  25-29   \n",
       "\n",
       "                          Q3                 Q4  \\\n",
       "3   United States of America    Master’s degree   \n",
       "6                   Colombia  Bachelor’s degree   \n",
       "10                   Hungary    Master’s degree   \n",
       "12  United States of America    Master’s degree   \n",
       "16                     Japan    Master’s degree   \n",
       "\n",
       "                                               Q5                 Q6  \\\n",
       "3   Computer science (software engineering, etc.)     Data Scientist   \n",
       "6                            Physics or astronomy     Data Scientist   \n",
       "10             Engineering (non-computer focused)  Software Engineer   \n",
       "12             Engineering (non-computer focused)     Data Scientist   \n",
       "16             Engineering (non-computer focused)     Data Scientist   \n",
       "\n",
       "   Q6_OTHER_TEXT                                      Q7      ...        \\\n",
       "3             -1                          I am a student      ...         \n",
       "6             -1                    Computers/Technology      ...         \n",
       "10            -1  Online Service/Internet-based Services      ...         \n",
       "12            -1                                   Other      ...         \n",
       "16            -1                  Medical/Pharmaceutical      ...         \n",
       "\n",
       "   Q49_OTHER_TEXT Q50_Part_1          Q50_Part_2  \\\n",
       "3              -1        NaN  Too time-consuming   \n",
       "6              -1        NaN                 NaN   \n",
       "10             -1        NaN  Too time-consuming   \n",
       "12             -1        NaN  Too time-consuming   \n",
       "16             -1        NaN  Too time-consuming   \n",
       "\n",
       "                               Q50_Part_3  \\\n",
       "3                                     NaN   \n",
       "6                                     NaN   \n",
       "10                                    NaN   \n",
       "12                                    NaN   \n",
       "16  Requires too much technical knowledge   \n",
       "\n",
       "                                           Q50_Part_4  \\\n",
       "3                                                 NaN   \n",
       "6   Afraid that others will use my work without gi...   \n",
       "10  Afraid that others will use my work without gi...   \n",
       "12                                                NaN   \n",
       "16  Afraid that others will use my work without gi...   \n",
       "\n",
       "                                Q50_Part_5  \\\n",
       "3                                      NaN   \n",
       "6                                      NaN   \n",
       "10                                     NaN   \n",
       "12  Not enough incentives to share my work   \n",
       "16                                     NaN   \n",
       "\n",
       "                                           Q50_Part_6 Q50_Part_7 Q50_Part_8  \\\n",
       "3                                                 NaN        NaN        NaN   \n",
       "6   I had never considered making my work easier f...        NaN        NaN   \n",
       "10                                                NaN        NaN        NaN   \n",
       "12                                                NaN        NaN        NaN   \n",
       "16                                                NaN        NaN        NaN   \n",
       "\n",
       "   Q50_OTHER_TEXT  \n",
       "3              -1  \n",
       "6              -1  \n",
       "10             -1  \n",
       "12             -1  \n",
       "16             -1  \n",
       "\n",
       "[5 rows x 395 columns]"
      ]
     },
     "execution_count": 51,
     "metadata": {},
     "output_type": "execute_result"
    }
   ],
   "source": [
    "df_multi_tech = df_multi_choice[(df_multi_choice['Q6'] == 'Data Scientist') |\n",
    "                (df_multi_choice['Q6'] == 'Data Engineer') |\n",
    "                #(df_multi_choice['Q6'] == 'Student') |\n",
    "                (df_multi_choice['Q6'] == 'Software Engineer')\n",
    "                ]\n",
    "\n",
    "df_multi_tech.head()"
   ]
  },
  {
   "cell_type": "code",
   "execution_count": 52,
   "metadata": {},
   "outputs": [
    {
     "data": {
      "text/plain": [
       "33.547089148748896"
      ]
     },
     "execution_count": 52,
     "metadata": {},
     "output_type": "execute_result"
    }
   ],
   "source": [
    "percent_tech_respondents = (df_multi_tech.shape[0]/df_multi_choice.shape[0])*100 \n",
    "\n",
    "percent_tech_respondents"
   ]
  },
  {
   "cell_type": "markdown",
   "metadata": {},
   "source": [
    "Note: Data scientists, data engineers, and software engineers account for 33.54% of the total number survey respondents. "
   ]
  },
  {
   "cell_type": "markdown",
   "metadata": {},
   "source": [
    "## What is the education breakdown for our group of select respondents? ##"
   ]
  },
  {
   "cell_type": "code",
   "execution_count": 98,
   "metadata": {},
   "outputs": [
    {
     "data": {
      "text/html": [
       "<div>\n",
       "<style scoped>\n",
       "    .dataframe tbody tr th:only-of-type {\n",
       "        vertical-align: middle;\n",
       "    }\n",
       "\n",
       "    .dataframe tbody tr th {\n",
       "        vertical-align: top;\n",
       "    }\n",
       "\n",
       "    .dataframe thead th {\n",
       "        text-align: right;\n",
       "    }\n",
       "</style>\n",
       "<table border=\"1\" class=\"dataframe\">\n",
       "  <thead>\n",
       "    <tr style=\"text-align: right;\">\n",
       "      <th></th>\n",
       "      <th>Q6</th>\n",
       "      <th>Q4</th>\n",
       "      <th>Percentage</th>\n",
       "    </tr>\n",
       "  </thead>\n",
       "  <tbody>\n",
       "    <tr>\n",
       "      <th>17</th>\n",
       "      <td>Software Engineer</td>\n",
       "      <td>Master’s degree</td>\n",
       "      <td>43.769968</td>\n",
       "    </tr>\n",
       "    <tr>\n",
       "      <th>14</th>\n",
       "      <td>Software Engineer</td>\n",
       "      <td>Bachelor’s degree</td>\n",
       "      <td>39.488818</td>\n",
       "    </tr>\n",
       "    <tr>\n",
       "      <th>15</th>\n",
       "      <td>Software Engineer</td>\n",
       "      <td>Doctoral degree</td>\n",
       "      <td>5.910543</td>\n",
       "    </tr>\n",
       "    <tr>\n",
       "      <th>20</th>\n",
       "      <td>Software Engineer</td>\n",
       "      <td>Some college/university study without earning ...</td>\n",
       "      <td>4.376997</td>\n",
       "    </tr>\n",
       "    <tr>\n",
       "      <th>19</th>\n",
       "      <td>Software Engineer</td>\n",
       "      <td>Professional degree</td>\n",
       "      <td>2.747604</td>\n",
       "    </tr>\n",
       "  </tbody>\n",
       "</table>\n",
       "</div>"
      ],
      "text/plain": [
       "                   Q6                                                 Q4  \\\n",
       "17  Software Engineer                                    Master’s degree   \n",
       "14  Software Engineer                                  Bachelor’s degree   \n",
       "15  Software Engineer                                    Doctoral degree   \n",
       "20  Software Engineer  Some college/university study without earning ...   \n",
       "19  Software Engineer                                Professional degree   \n",
       "\n",
       "    Percentage  \n",
       "17   43.769968  \n",
       "14   39.488818  \n",
       "15    5.910543  \n",
       "20    4.376997  \n",
       "19    2.747604  "
      ]
     },
     "execution_count": 98,
     "metadata": {},
     "output_type": "execute_result"
    }
   ],
   "source": [
    "df_test = df_multi_tech.groupby(['Q6','Q4']).size().reset_index(name = 'Percentage')\n",
    "a = df_test.groupby('Q6')['Percentage'].transform('sum')\n",
    "df_test['Percentage'] = df_test['Percentage'].div(a).multiply(100)\n",
    "df_test = df_test.sort_values(by = ['Q6','Percentage'], ascending = False)\n",
    "df_test.head()"
   ]
  },
  {
   "cell_type": "code",
   "execution_count": 100,
   "metadata": {},
   "outputs": [
    {
     "data": {
      "application/vnd.plotly.v1+json": {
       "config": {
        "plotlyServerURL": "https://plot.ly"
       },
       "data": [
        {
         "alignmentgroup": "True",
         "hoverlabel": {
          "namelength": 0
         },
         "hovertemplate": "Q4=Master’s degree<br>Q6=%{x}<br>Percentage (%)=%{y}",
         "legendgroup": "Q4=Master’s degree",
         "marker": {
          "color": "#636efa"
         },
         "name": "Q4=Master’s degree",
         "offsetgroup": "Q4=Master’s degree",
         "orientation": "v",
         "showlegend": true,
         "textposition": "auto",
         "type": "bar",
         "x": [
          "Software Engineer",
          "Data Scientist",
          "Data Engineer"
         ],
         "xaxis": "x",
         "y": [
          43.76996805111821,
          55.499153976311334,
          55.76662143826323
         ],
         "yaxis": "y"
        },
        {
         "alignmentgroup": "True",
         "hoverlabel": {
          "namelength": 0
         },
         "hovertemplate": "Q4=Bachelor’s degree<br>Q6=%{x}<br>Percentage (%)=%{y}",
         "legendgroup": "Q4=Bachelor’s degree",
         "marker": {
          "color": "#EF553B"
         },
         "name": "Q4=Bachelor’s degree",
         "offsetgroup": "Q4=Bachelor’s degree",
         "orientation": "v",
         "showlegend": true,
         "textposition": "auto",
         "type": "bar",
         "x": [
          "Software Engineer",
          "Data Scientist",
          "Data Engineer"
         ],
         "xaxis": "x",
         "y": [
          39.4888178913738,
          20.183708000966885,
          29.579375848032562
         ],
         "yaxis": "y"
        },
        {
         "alignmentgroup": "True",
         "hoverlabel": {
          "namelength": 0
         },
         "hovertemplate": "Q4=Doctoral degree<br>Q6=%{x}<br>Percentage (%)=%{y}",
         "legendgroup": "Q4=Doctoral degree",
         "marker": {
          "color": "#00cc96"
         },
         "name": "Q4=Doctoral degree",
         "offsetgroup": "Q4=Doctoral degree",
         "orientation": "v",
         "showlegend": true,
         "textposition": "auto",
         "type": "bar",
         "x": [
          "Software Engineer",
          "Data Scientist",
          "Data Engineer"
         ],
         "xaxis": "x",
         "y": [
          5.9105431309904155,
          18.805897993715252,
          7.327001356852103
         ],
         "yaxis": "y"
        },
        {
         "alignmentgroup": "True",
         "hoverlabel": {
          "namelength": 0
         },
         "hovertemplate": "Q4=Some college/university study without earning a bachelor’s degree<br>Q6=%{x}<br>Percentage (%)=%{y}",
         "legendgroup": "Q4=Some college/university study without earning a bachelor’s degree",
         "marker": {
          "color": "#ab63fa"
         },
         "name": "Q4=Some college/university study without earning a bachelor’s degree",
         "offsetgroup": "Q4=Some college/university study without earning a bachelor’s degree",
         "orientation": "v",
         "showlegend": true,
         "textposition": "auto",
         "type": "bar",
         "x": [
          "Software Engineer",
          "Data Scientist",
          "Data Engineer"
         ],
         "xaxis": "x",
         "y": [
          4.376996805111821,
          2.199661590524535,
          2.3066485753052914
         ],
         "yaxis": "y"
        },
        {
         "alignmentgroup": "True",
         "hoverlabel": {
          "namelength": 0
         },
         "hovertemplate": "Q4=Professional degree<br>Q6=%{x}<br>Percentage (%)=%{y}",
         "legendgroup": "Q4=Professional degree",
         "marker": {
          "color": "#FFA15A"
         },
         "name": "Q4=Professional degree",
         "offsetgroup": "Q4=Professional degree",
         "orientation": "v",
         "showlegend": true,
         "textposition": "auto",
         "type": "bar",
         "x": [
          "Software Engineer",
          "Data Scientist",
          "Data Engineer"
         ],
         "xaxis": "x",
         "y": [
          2.747603833865815,
          1.93376843123036,
          2.4423337856173677
         ],
         "yaxis": "y"
        },
        {
         "alignmentgroup": "True",
         "hoverlabel": {
          "namelength": 0
         },
         "hovertemplate": "Q4=I prefer not to answer<br>Q6=%{x}<br>Percentage (%)=%{y}",
         "legendgroup": "Q4=I prefer not to answer",
         "marker": {
          "color": "#19d3f3"
         },
         "name": "Q4=I prefer not to answer",
         "offsetgroup": "Q4=I prefer not to answer",
         "orientation": "v",
         "showlegend": true,
         "textposition": "auto",
         "type": "bar",
         "x": [
          "Software Engineer",
          "Data Scientist",
          "Data Engineer"
         ],
         "xaxis": "x",
         "y": [
          2.1405750798722045,
          0.8460236886632826,
          1.7639077340569878
         ],
         "yaxis": "y"
        },
        {
         "alignmentgroup": "True",
         "hoverlabel": {
          "namelength": 0
         },
         "hovertemplate": "Q4=No formal education past high school<br>Q6=%{x}<br>Percentage (%)=%{y}",
         "legendgroup": "Q4=No formal education past high school",
         "marker": {
          "color": "#FF6692"
         },
         "name": "Q4=No formal education past high school",
         "offsetgroup": "Q4=No formal education past high school",
         "orientation": "v",
         "showlegend": true,
         "textposition": "auto",
         "type": "bar",
         "x": [
          "Software Engineer",
          "Data Scientist",
          "Data Engineer"
         ],
         "xaxis": "x",
         "y": [
          1.5654952076677318,
          0.5317863185883491,
          0.8141112618724559
         ],
         "yaxis": "y"
        }
       ],
       "layout": {
        "barmode": "group",
        "height": 600,
        "legend": {
         "tracegroupgap": 0
        },
        "template": {
         "data": {
          "bar": [
           {
            "error_x": {
             "color": "#2a3f5f"
            },
            "error_y": {
             "color": "#2a3f5f"
            },
            "marker": {
             "line": {
              "color": "#E5ECF6",
              "width": 0.5
             }
            },
            "type": "bar"
           }
          ],
          "barpolar": [
           {
            "marker": {
             "line": {
              "color": "#E5ECF6",
              "width": 0.5
             }
            },
            "type": "barpolar"
           }
          ],
          "carpet": [
           {
            "aaxis": {
             "endlinecolor": "#2a3f5f",
             "gridcolor": "white",
             "linecolor": "white",
             "minorgridcolor": "white",
             "startlinecolor": "#2a3f5f"
            },
            "baxis": {
             "endlinecolor": "#2a3f5f",
             "gridcolor": "white",
             "linecolor": "white",
             "minorgridcolor": "white",
             "startlinecolor": "#2a3f5f"
            },
            "type": "carpet"
           }
          ],
          "choropleth": [
           {
            "colorbar": {
             "outlinewidth": 0,
             "ticks": ""
            },
            "type": "choropleth"
           }
          ],
          "contour": [
           {
            "colorbar": {
             "outlinewidth": 0,
             "ticks": ""
            },
            "colorscale": [
             [
              0,
              "#0d0887"
             ],
             [
              0.1111111111111111,
              "#46039f"
             ],
             [
              0.2222222222222222,
              "#7201a8"
             ],
             [
              0.3333333333333333,
              "#9c179e"
             ],
             [
              0.4444444444444444,
              "#bd3786"
             ],
             [
              0.5555555555555556,
              "#d8576b"
             ],
             [
              0.6666666666666666,
              "#ed7953"
             ],
             [
              0.7777777777777778,
              "#fb9f3a"
             ],
             [
              0.8888888888888888,
              "#fdca26"
             ],
             [
              1,
              "#f0f921"
             ]
            ],
            "type": "contour"
           }
          ],
          "contourcarpet": [
           {
            "colorbar": {
             "outlinewidth": 0,
             "ticks": ""
            },
            "type": "contourcarpet"
           }
          ],
          "heatmap": [
           {
            "colorbar": {
             "outlinewidth": 0,
             "ticks": ""
            },
            "colorscale": [
             [
              0,
              "#0d0887"
             ],
             [
              0.1111111111111111,
              "#46039f"
             ],
             [
              0.2222222222222222,
              "#7201a8"
             ],
             [
              0.3333333333333333,
              "#9c179e"
             ],
             [
              0.4444444444444444,
              "#bd3786"
             ],
             [
              0.5555555555555556,
              "#d8576b"
             ],
             [
              0.6666666666666666,
              "#ed7953"
             ],
             [
              0.7777777777777778,
              "#fb9f3a"
             ],
             [
              0.8888888888888888,
              "#fdca26"
             ],
             [
              1,
              "#f0f921"
             ]
            ],
            "type": "heatmap"
           }
          ],
          "heatmapgl": [
           {
            "colorbar": {
             "outlinewidth": 0,
             "ticks": ""
            },
            "colorscale": [
             [
              0,
              "#0d0887"
             ],
             [
              0.1111111111111111,
              "#46039f"
             ],
             [
              0.2222222222222222,
              "#7201a8"
             ],
             [
              0.3333333333333333,
              "#9c179e"
             ],
             [
              0.4444444444444444,
              "#bd3786"
             ],
             [
              0.5555555555555556,
              "#d8576b"
             ],
             [
              0.6666666666666666,
              "#ed7953"
             ],
             [
              0.7777777777777778,
              "#fb9f3a"
             ],
             [
              0.8888888888888888,
              "#fdca26"
             ],
             [
              1,
              "#f0f921"
             ]
            ],
            "type": "heatmapgl"
           }
          ],
          "histogram": [
           {
            "marker": {
             "colorbar": {
              "outlinewidth": 0,
              "ticks": ""
             }
            },
            "type": "histogram"
           }
          ],
          "histogram2d": [
           {
            "colorbar": {
             "outlinewidth": 0,
             "ticks": ""
            },
            "colorscale": [
             [
              0,
              "#0d0887"
             ],
             [
              0.1111111111111111,
              "#46039f"
             ],
             [
              0.2222222222222222,
              "#7201a8"
             ],
             [
              0.3333333333333333,
              "#9c179e"
             ],
             [
              0.4444444444444444,
              "#bd3786"
             ],
             [
              0.5555555555555556,
              "#d8576b"
             ],
             [
              0.6666666666666666,
              "#ed7953"
             ],
             [
              0.7777777777777778,
              "#fb9f3a"
             ],
             [
              0.8888888888888888,
              "#fdca26"
             ],
             [
              1,
              "#f0f921"
             ]
            ],
            "type": "histogram2d"
           }
          ],
          "histogram2dcontour": [
           {
            "colorbar": {
             "outlinewidth": 0,
             "ticks": ""
            },
            "colorscale": [
             [
              0,
              "#0d0887"
             ],
             [
              0.1111111111111111,
              "#46039f"
             ],
             [
              0.2222222222222222,
              "#7201a8"
             ],
             [
              0.3333333333333333,
              "#9c179e"
             ],
             [
              0.4444444444444444,
              "#bd3786"
             ],
             [
              0.5555555555555556,
              "#d8576b"
             ],
             [
              0.6666666666666666,
              "#ed7953"
             ],
             [
              0.7777777777777778,
              "#fb9f3a"
             ],
             [
              0.8888888888888888,
              "#fdca26"
             ],
             [
              1,
              "#f0f921"
             ]
            ],
            "type": "histogram2dcontour"
           }
          ],
          "mesh3d": [
           {
            "colorbar": {
             "outlinewidth": 0,
             "ticks": ""
            },
            "type": "mesh3d"
           }
          ],
          "parcoords": [
           {
            "line": {
             "colorbar": {
              "outlinewidth": 0,
              "ticks": ""
             }
            },
            "type": "parcoords"
           }
          ],
          "scatter": [
           {
            "marker": {
             "colorbar": {
              "outlinewidth": 0,
              "ticks": ""
             }
            },
            "type": "scatter"
           }
          ],
          "scatter3d": [
           {
            "line": {
             "colorbar": {
              "outlinewidth": 0,
              "ticks": ""
             }
            },
            "marker": {
             "colorbar": {
              "outlinewidth": 0,
              "ticks": ""
             }
            },
            "type": "scatter3d"
           }
          ],
          "scattercarpet": [
           {
            "marker": {
             "colorbar": {
              "outlinewidth": 0,
              "ticks": ""
             }
            },
            "type": "scattercarpet"
           }
          ],
          "scattergeo": [
           {
            "marker": {
             "colorbar": {
              "outlinewidth": 0,
              "ticks": ""
             }
            },
            "type": "scattergeo"
           }
          ],
          "scattergl": [
           {
            "marker": {
             "colorbar": {
              "outlinewidth": 0,
              "ticks": ""
             }
            },
            "type": "scattergl"
           }
          ],
          "scattermapbox": [
           {
            "marker": {
             "colorbar": {
              "outlinewidth": 0,
              "ticks": ""
             }
            },
            "type": "scattermapbox"
           }
          ],
          "scatterpolar": [
           {
            "marker": {
             "colorbar": {
              "outlinewidth": 0,
              "ticks": ""
             }
            },
            "type": "scatterpolar"
           }
          ],
          "scatterpolargl": [
           {
            "marker": {
             "colorbar": {
              "outlinewidth": 0,
              "ticks": ""
             }
            },
            "type": "scatterpolargl"
           }
          ],
          "scatterternary": [
           {
            "marker": {
             "colorbar": {
              "outlinewidth": 0,
              "ticks": ""
             }
            },
            "type": "scatterternary"
           }
          ],
          "surface": [
           {
            "colorbar": {
             "outlinewidth": 0,
             "ticks": ""
            },
            "colorscale": [
             [
              0,
              "#0d0887"
             ],
             [
              0.1111111111111111,
              "#46039f"
             ],
             [
              0.2222222222222222,
              "#7201a8"
             ],
             [
              0.3333333333333333,
              "#9c179e"
             ],
             [
              0.4444444444444444,
              "#bd3786"
             ],
             [
              0.5555555555555556,
              "#d8576b"
             ],
             [
              0.6666666666666666,
              "#ed7953"
             ],
             [
              0.7777777777777778,
              "#fb9f3a"
             ],
             [
              0.8888888888888888,
              "#fdca26"
             ],
             [
              1,
              "#f0f921"
             ]
            ],
            "type": "surface"
           }
          ],
          "table": [
           {
            "cells": {
             "fill": {
              "color": "#EBF0F8"
             },
             "line": {
              "color": "white"
             }
            },
            "header": {
             "fill": {
              "color": "#C8D4E3"
             },
             "line": {
              "color": "white"
             }
            },
            "type": "table"
           }
          ]
         },
         "layout": {
          "annotationdefaults": {
           "arrowcolor": "#2a3f5f",
           "arrowhead": 0,
           "arrowwidth": 1
          },
          "colorscale": {
           "diverging": [
            [
             0,
             "#8e0152"
            ],
            [
             0.1,
             "#c51b7d"
            ],
            [
             0.2,
             "#de77ae"
            ],
            [
             0.3,
             "#f1b6da"
            ],
            [
             0.4,
             "#fde0ef"
            ],
            [
             0.5,
             "#f7f7f7"
            ],
            [
             0.6,
             "#e6f5d0"
            ],
            [
             0.7,
             "#b8e186"
            ],
            [
             0.8,
             "#7fbc41"
            ],
            [
             0.9,
             "#4d9221"
            ],
            [
             1,
             "#276419"
            ]
           ],
           "sequential": [
            [
             0,
             "#0d0887"
            ],
            [
             0.1111111111111111,
             "#46039f"
            ],
            [
             0.2222222222222222,
             "#7201a8"
            ],
            [
             0.3333333333333333,
             "#9c179e"
            ],
            [
             0.4444444444444444,
             "#bd3786"
            ],
            [
             0.5555555555555556,
             "#d8576b"
            ],
            [
             0.6666666666666666,
             "#ed7953"
            ],
            [
             0.7777777777777778,
             "#fb9f3a"
            ],
            [
             0.8888888888888888,
             "#fdca26"
            ],
            [
             1,
             "#f0f921"
            ]
           ],
           "sequentialminus": [
            [
             0,
             "#0d0887"
            ],
            [
             0.1111111111111111,
             "#46039f"
            ],
            [
             0.2222222222222222,
             "#7201a8"
            ],
            [
             0.3333333333333333,
             "#9c179e"
            ],
            [
             0.4444444444444444,
             "#bd3786"
            ],
            [
             0.5555555555555556,
             "#d8576b"
            ],
            [
             0.6666666666666666,
             "#ed7953"
            ],
            [
             0.7777777777777778,
             "#fb9f3a"
            ],
            [
             0.8888888888888888,
             "#fdca26"
            ],
            [
             1,
             "#f0f921"
            ]
           ]
          },
          "colorway": [
           "#636efa",
           "#EF553B",
           "#00cc96",
           "#ab63fa",
           "#FFA15A",
           "#19d3f3",
           "#FF6692",
           "#B6E880",
           "#FF97FF",
           "#FECB52"
          ],
          "font": {
           "color": "#2a3f5f"
          },
          "geo": {
           "bgcolor": "white",
           "lakecolor": "white",
           "landcolor": "#E5ECF6",
           "showlakes": true,
           "showland": true,
           "subunitcolor": "white"
          },
          "hoverlabel": {
           "align": "left"
          },
          "hovermode": "closest",
          "mapbox": {
           "style": "light"
          },
          "paper_bgcolor": "white",
          "plot_bgcolor": "#E5ECF6",
          "polar": {
           "angularaxis": {
            "gridcolor": "white",
            "linecolor": "white",
            "ticks": ""
           },
           "bgcolor": "#E5ECF6",
           "radialaxis": {
            "gridcolor": "white",
            "linecolor": "white",
            "ticks": ""
           }
          },
          "scene": {
           "xaxis": {
            "backgroundcolor": "#E5ECF6",
            "gridcolor": "white",
            "gridwidth": 2,
            "linecolor": "white",
            "showbackground": true,
            "ticks": "",
            "zerolinecolor": "white"
           },
           "yaxis": {
            "backgroundcolor": "#E5ECF6",
            "gridcolor": "white",
            "gridwidth": 2,
            "linecolor": "white",
            "showbackground": true,
            "ticks": "",
            "zerolinecolor": "white"
           },
           "zaxis": {
            "backgroundcolor": "#E5ECF6",
            "gridcolor": "white",
            "gridwidth": 2,
            "linecolor": "white",
            "showbackground": true,
            "ticks": "",
            "zerolinecolor": "white"
           }
          },
          "shapedefaults": {
           "line": {
            "color": "#2a3f5f"
           }
          },
          "ternary": {
           "aaxis": {
            "gridcolor": "white",
            "linecolor": "white",
            "ticks": ""
           },
           "baxis": {
            "gridcolor": "white",
            "linecolor": "white",
            "ticks": ""
           },
           "bgcolor": "#E5ECF6",
           "caxis": {
            "gridcolor": "white",
            "linecolor": "white",
            "ticks": ""
           }
          },
          "title": {
           "x": 0.05
          },
          "xaxis": {
           "automargin": true,
           "gridcolor": "white",
           "linecolor": "white",
           "ticks": "",
           "zerolinecolor": "white",
           "zerolinewidth": 2
          },
          "yaxis": {
           "automargin": true,
           "gridcolor": "white",
           "linecolor": "white",
           "ticks": "",
           "zerolinecolor": "white",
           "zerolinewidth": 2
          }
         }
        },
        "title": {
         "text": "Age and Role of Survey Respondents in 2018"
        },
        "xaxis": {
         "anchor": "y",
         "domain": [
          0,
          0.98
         ],
         "title": {
          "text": "Q6"
         }
        },
        "yaxis": {
         "anchor": "x",
         "domain": [
          0,
          1
         ],
         "title": {
          "text": "Percentage (%)"
         }
        }
       }
      },
      "text/html": [
       "<div>\n",
       "        \n",
       "        \n",
       "            <div id=\"e30e7456-5f8f-4fea-9111-2a726a2c10d4\" class=\"plotly-graph-div\" style=\"height:600px; width:100%;\"></div>\n",
       "            <script type=\"text/javascript\">\n",
       "                require([\"plotly\"], function(Plotly) {\n",
       "                    window.PLOTLYENV=window.PLOTLYENV || {};\n",
       "                    \n",
       "                if (document.getElementById(\"e30e7456-5f8f-4fea-9111-2a726a2c10d4\")) {\n",
       "                    Plotly.newPlot(\n",
       "                        'e30e7456-5f8f-4fea-9111-2a726a2c10d4',\n",
       "                        [{\"alignmentgroup\": \"True\", \"hoverlabel\": {\"namelength\": 0}, \"hovertemplate\": \"Q4=Master\\u2019s degree<br>Q6=%{x}<br>Percentage (%)=%{y}\", \"legendgroup\": \"Q4=Master\\u2019s degree\", \"marker\": {\"color\": \"#636efa\"}, \"name\": \"Q4=Master\\u2019s degree\", \"offsetgroup\": \"Q4=Master\\u2019s degree\", \"orientation\": \"v\", \"showlegend\": true, \"textposition\": \"auto\", \"type\": \"bar\", \"x\": [\"Software Engineer\", \"Data Scientist\", \"Data Engineer\"], \"xaxis\": \"x\", \"y\": [43.76996805111821, 55.499153976311334, 55.76662143826323], \"yaxis\": \"y\"}, {\"alignmentgroup\": \"True\", \"hoverlabel\": {\"namelength\": 0}, \"hovertemplate\": \"Q4=Bachelor\\u2019s degree<br>Q6=%{x}<br>Percentage (%)=%{y}\", \"legendgroup\": \"Q4=Bachelor\\u2019s degree\", \"marker\": {\"color\": \"#EF553B\"}, \"name\": \"Q4=Bachelor\\u2019s degree\", \"offsetgroup\": \"Q4=Bachelor\\u2019s degree\", \"orientation\": \"v\", \"showlegend\": true, \"textposition\": \"auto\", \"type\": \"bar\", \"x\": [\"Software Engineer\", \"Data Scientist\", \"Data Engineer\"], \"xaxis\": \"x\", \"y\": [39.4888178913738, 20.183708000966885, 29.579375848032562], \"yaxis\": \"y\"}, {\"alignmentgroup\": \"True\", \"hoverlabel\": {\"namelength\": 0}, \"hovertemplate\": \"Q4=Doctoral degree<br>Q6=%{x}<br>Percentage (%)=%{y}\", \"legendgroup\": \"Q4=Doctoral degree\", \"marker\": {\"color\": \"#00cc96\"}, \"name\": \"Q4=Doctoral degree\", \"offsetgroup\": \"Q4=Doctoral degree\", \"orientation\": \"v\", \"showlegend\": true, \"textposition\": \"auto\", \"type\": \"bar\", \"x\": [\"Software Engineer\", \"Data Scientist\", \"Data Engineer\"], \"xaxis\": \"x\", \"y\": [5.9105431309904155, 18.805897993715252, 7.327001356852103], \"yaxis\": \"y\"}, {\"alignmentgroup\": \"True\", \"hoverlabel\": {\"namelength\": 0}, \"hovertemplate\": \"Q4=Some college/university study without earning a bachelor\\u2019s degree<br>Q6=%{x}<br>Percentage (%)=%{y}\", \"legendgroup\": \"Q4=Some college/university study without earning a bachelor\\u2019s degree\", \"marker\": {\"color\": \"#ab63fa\"}, \"name\": \"Q4=Some college/university study without earning a bachelor\\u2019s degree\", \"offsetgroup\": \"Q4=Some college/university study without earning a bachelor\\u2019s degree\", \"orientation\": \"v\", \"showlegend\": true, \"textposition\": \"auto\", \"type\": \"bar\", \"x\": [\"Software Engineer\", \"Data Scientist\", \"Data Engineer\"], \"xaxis\": \"x\", \"y\": [4.376996805111821, 2.199661590524535, 2.3066485753052914], \"yaxis\": \"y\"}, {\"alignmentgroup\": \"True\", \"hoverlabel\": {\"namelength\": 0}, \"hovertemplate\": \"Q4=Professional degree<br>Q6=%{x}<br>Percentage (%)=%{y}\", \"legendgroup\": \"Q4=Professional degree\", \"marker\": {\"color\": \"#FFA15A\"}, \"name\": \"Q4=Professional degree\", \"offsetgroup\": \"Q4=Professional degree\", \"orientation\": \"v\", \"showlegend\": true, \"textposition\": \"auto\", \"type\": \"bar\", \"x\": [\"Software Engineer\", \"Data Scientist\", \"Data Engineer\"], \"xaxis\": \"x\", \"y\": [2.747603833865815, 1.93376843123036, 2.4423337856173677], \"yaxis\": \"y\"}, {\"alignmentgroup\": \"True\", \"hoverlabel\": {\"namelength\": 0}, \"hovertemplate\": \"Q4=I prefer not to answer<br>Q6=%{x}<br>Percentage (%)=%{y}\", \"legendgroup\": \"Q4=I prefer not to answer\", \"marker\": {\"color\": \"#19d3f3\"}, \"name\": \"Q4=I prefer not to answer\", \"offsetgroup\": \"Q4=I prefer not to answer\", \"orientation\": \"v\", \"showlegend\": true, \"textposition\": \"auto\", \"type\": \"bar\", \"x\": [\"Software Engineer\", \"Data Scientist\", \"Data Engineer\"], \"xaxis\": \"x\", \"y\": [2.1405750798722045, 0.8460236886632826, 1.7639077340569878], \"yaxis\": \"y\"}, {\"alignmentgroup\": \"True\", \"hoverlabel\": {\"namelength\": 0}, \"hovertemplate\": \"Q4=No formal education past high school<br>Q6=%{x}<br>Percentage (%)=%{y}\", \"legendgroup\": \"Q4=No formal education past high school\", \"marker\": {\"color\": \"#FF6692\"}, \"name\": \"Q4=No formal education past high school\", \"offsetgroup\": \"Q4=No formal education past high school\", \"orientation\": \"v\", \"showlegend\": true, \"textposition\": \"auto\", \"type\": \"bar\", \"x\": [\"Software Engineer\", \"Data Scientist\", \"Data Engineer\"], \"xaxis\": \"x\", \"y\": [1.5654952076677318, 0.5317863185883491, 0.8141112618724559], \"yaxis\": \"y\"}],\n",
       "                        {\"barmode\": \"group\", \"height\": 600, \"legend\": {\"tracegroupgap\": 0}, \"template\": {\"data\": {\"bar\": [{\"error_x\": {\"color\": \"#2a3f5f\"}, \"error_y\": {\"color\": \"#2a3f5f\"}, \"marker\": {\"line\": {\"color\": \"#E5ECF6\", \"width\": 0.5}}, \"type\": \"bar\"}], \"barpolar\": [{\"marker\": {\"line\": {\"color\": \"#E5ECF6\", \"width\": 0.5}}, \"type\": \"barpolar\"}], \"carpet\": [{\"aaxis\": {\"endlinecolor\": \"#2a3f5f\", \"gridcolor\": \"white\", \"linecolor\": \"white\", \"minorgridcolor\": \"white\", \"startlinecolor\": \"#2a3f5f\"}, \"baxis\": {\"endlinecolor\": \"#2a3f5f\", \"gridcolor\": \"white\", \"linecolor\": \"white\", \"minorgridcolor\": \"white\", \"startlinecolor\": \"#2a3f5f\"}, \"type\": \"carpet\"}], \"choropleth\": [{\"colorbar\": {\"outlinewidth\": 0, \"ticks\": \"\"}, \"type\": \"choropleth\"}], \"contour\": [{\"colorbar\": {\"outlinewidth\": 0, \"ticks\": \"\"}, \"colorscale\": [[0.0, \"#0d0887\"], [0.1111111111111111, \"#46039f\"], [0.2222222222222222, \"#7201a8\"], [0.3333333333333333, \"#9c179e\"], [0.4444444444444444, \"#bd3786\"], [0.5555555555555556, \"#d8576b\"], [0.6666666666666666, \"#ed7953\"], [0.7777777777777778, \"#fb9f3a\"], [0.8888888888888888, \"#fdca26\"], [1.0, \"#f0f921\"]], \"type\": \"contour\"}], \"contourcarpet\": [{\"colorbar\": {\"outlinewidth\": 0, \"ticks\": \"\"}, \"type\": \"contourcarpet\"}], \"heatmap\": [{\"colorbar\": {\"outlinewidth\": 0, \"ticks\": \"\"}, \"colorscale\": [[0.0, \"#0d0887\"], [0.1111111111111111, \"#46039f\"], [0.2222222222222222, \"#7201a8\"], [0.3333333333333333, \"#9c179e\"], [0.4444444444444444, \"#bd3786\"], [0.5555555555555556, \"#d8576b\"], [0.6666666666666666, \"#ed7953\"], [0.7777777777777778, \"#fb9f3a\"], [0.8888888888888888, \"#fdca26\"], [1.0, \"#f0f921\"]], \"type\": \"heatmap\"}], \"heatmapgl\": [{\"colorbar\": {\"outlinewidth\": 0, \"ticks\": \"\"}, \"colorscale\": [[0.0, \"#0d0887\"], [0.1111111111111111, \"#46039f\"], [0.2222222222222222, \"#7201a8\"], [0.3333333333333333, \"#9c179e\"], [0.4444444444444444, \"#bd3786\"], [0.5555555555555556, \"#d8576b\"], [0.6666666666666666, \"#ed7953\"], [0.7777777777777778, \"#fb9f3a\"], [0.8888888888888888, \"#fdca26\"], [1.0, \"#f0f921\"]], \"type\": \"heatmapgl\"}], \"histogram\": [{\"marker\": {\"colorbar\": {\"outlinewidth\": 0, \"ticks\": \"\"}}, \"type\": \"histogram\"}], \"histogram2d\": [{\"colorbar\": {\"outlinewidth\": 0, \"ticks\": \"\"}, \"colorscale\": [[0.0, \"#0d0887\"], [0.1111111111111111, \"#46039f\"], [0.2222222222222222, \"#7201a8\"], [0.3333333333333333, \"#9c179e\"], [0.4444444444444444, \"#bd3786\"], [0.5555555555555556, \"#d8576b\"], [0.6666666666666666, \"#ed7953\"], [0.7777777777777778, \"#fb9f3a\"], [0.8888888888888888, \"#fdca26\"], [1.0, \"#f0f921\"]], \"type\": \"histogram2d\"}], \"histogram2dcontour\": [{\"colorbar\": {\"outlinewidth\": 0, \"ticks\": \"\"}, \"colorscale\": [[0.0, \"#0d0887\"], [0.1111111111111111, \"#46039f\"], [0.2222222222222222, \"#7201a8\"], [0.3333333333333333, \"#9c179e\"], [0.4444444444444444, \"#bd3786\"], [0.5555555555555556, \"#d8576b\"], [0.6666666666666666, \"#ed7953\"], [0.7777777777777778, \"#fb9f3a\"], [0.8888888888888888, \"#fdca26\"], [1.0, \"#f0f921\"]], \"type\": \"histogram2dcontour\"}], \"mesh3d\": [{\"colorbar\": {\"outlinewidth\": 0, \"ticks\": \"\"}, \"type\": \"mesh3d\"}], \"parcoords\": [{\"line\": {\"colorbar\": {\"outlinewidth\": 0, \"ticks\": \"\"}}, \"type\": \"parcoords\"}], \"scatter\": [{\"marker\": {\"colorbar\": {\"outlinewidth\": 0, \"ticks\": \"\"}}, \"type\": \"scatter\"}], \"scatter3d\": [{\"line\": {\"colorbar\": {\"outlinewidth\": 0, \"ticks\": \"\"}}, \"marker\": {\"colorbar\": {\"outlinewidth\": 0, \"ticks\": \"\"}}, \"type\": \"scatter3d\"}], \"scattercarpet\": [{\"marker\": {\"colorbar\": {\"outlinewidth\": 0, \"ticks\": \"\"}}, \"type\": \"scattercarpet\"}], \"scattergeo\": [{\"marker\": {\"colorbar\": {\"outlinewidth\": 0, \"ticks\": \"\"}}, \"type\": \"scattergeo\"}], \"scattergl\": [{\"marker\": {\"colorbar\": {\"outlinewidth\": 0, \"ticks\": \"\"}}, \"type\": \"scattergl\"}], \"scattermapbox\": [{\"marker\": {\"colorbar\": {\"outlinewidth\": 0, \"ticks\": \"\"}}, \"type\": \"scattermapbox\"}], \"scatterpolar\": [{\"marker\": {\"colorbar\": {\"outlinewidth\": 0, \"ticks\": \"\"}}, \"type\": \"scatterpolar\"}], \"scatterpolargl\": [{\"marker\": {\"colorbar\": {\"outlinewidth\": 0, \"ticks\": \"\"}}, \"type\": \"scatterpolargl\"}], \"scatterternary\": [{\"marker\": {\"colorbar\": {\"outlinewidth\": 0, \"ticks\": \"\"}}, \"type\": \"scatterternary\"}], \"surface\": [{\"colorbar\": {\"outlinewidth\": 0, \"ticks\": \"\"}, \"colorscale\": [[0.0, \"#0d0887\"], [0.1111111111111111, \"#46039f\"], [0.2222222222222222, \"#7201a8\"], [0.3333333333333333, \"#9c179e\"], [0.4444444444444444, \"#bd3786\"], [0.5555555555555556, \"#d8576b\"], [0.6666666666666666, \"#ed7953\"], [0.7777777777777778, \"#fb9f3a\"], [0.8888888888888888, \"#fdca26\"], [1.0, \"#f0f921\"]], \"type\": \"surface\"}], \"table\": [{\"cells\": {\"fill\": {\"color\": \"#EBF0F8\"}, \"line\": {\"color\": \"white\"}}, \"header\": {\"fill\": {\"color\": \"#C8D4E3\"}, \"line\": {\"color\": \"white\"}}, \"type\": \"table\"}]}, \"layout\": {\"annotationdefaults\": {\"arrowcolor\": \"#2a3f5f\", \"arrowhead\": 0, \"arrowwidth\": 1}, \"colorscale\": {\"diverging\": [[0, \"#8e0152\"], [0.1, \"#c51b7d\"], [0.2, \"#de77ae\"], [0.3, \"#f1b6da\"], [0.4, \"#fde0ef\"], [0.5, \"#f7f7f7\"], [0.6, \"#e6f5d0\"], [0.7, \"#b8e186\"], [0.8, \"#7fbc41\"], [0.9, \"#4d9221\"], [1, \"#276419\"]], \"sequential\": [[0.0, \"#0d0887\"], [0.1111111111111111, \"#46039f\"], [0.2222222222222222, \"#7201a8\"], [0.3333333333333333, \"#9c179e\"], [0.4444444444444444, \"#bd3786\"], [0.5555555555555556, \"#d8576b\"], [0.6666666666666666, \"#ed7953\"], [0.7777777777777778, \"#fb9f3a\"], [0.8888888888888888, \"#fdca26\"], [1.0, \"#f0f921\"]], \"sequentialminus\": [[0.0, \"#0d0887\"], [0.1111111111111111, \"#46039f\"], [0.2222222222222222, \"#7201a8\"], [0.3333333333333333, \"#9c179e\"], [0.4444444444444444, \"#bd3786\"], [0.5555555555555556, \"#d8576b\"], [0.6666666666666666, \"#ed7953\"], [0.7777777777777778, \"#fb9f3a\"], [0.8888888888888888, \"#fdca26\"], [1.0, \"#f0f921\"]]}, \"colorway\": [\"#636efa\", \"#EF553B\", \"#00cc96\", \"#ab63fa\", \"#FFA15A\", \"#19d3f3\", \"#FF6692\", \"#B6E880\", \"#FF97FF\", \"#FECB52\"], \"font\": {\"color\": \"#2a3f5f\"}, \"geo\": {\"bgcolor\": \"white\", \"lakecolor\": \"white\", \"landcolor\": \"#E5ECF6\", \"showlakes\": true, \"showland\": true, \"subunitcolor\": \"white\"}, \"hoverlabel\": {\"align\": \"left\"}, \"hovermode\": \"closest\", \"mapbox\": {\"style\": \"light\"}, \"paper_bgcolor\": \"white\", \"plot_bgcolor\": \"#E5ECF6\", \"polar\": {\"angularaxis\": {\"gridcolor\": \"white\", \"linecolor\": \"white\", \"ticks\": \"\"}, \"bgcolor\": \"#E5ECF6\", \"radialaxis\": {\"gridcolor\": \"white\", \"linecolor\": \"white\", \"ticks\": \"\"}}, \"scene\": {\"xaxis\": {\"backgroundcolor\": \"#E5ECF6\", \"gridcolor\": \"white\", \"gridwidth\": 2, \"linecolor\": \"white\", \"showbackground\": true, \"ticks\": \"\", \"zerolinecolor\": \"white\"}, \"yaxis\": {\"backgroundcolor\": \"#E5ECF6\", \"gridcolor\": \"white\", \"gridwidth\": 2, \"linecolor\": \"white\", \"showbackground\": true, \"ticks\": \"\", \"zerolinecolor\": \"white\"}, \"zaxis\": {\"backgroundcolor\": \"#E5ECF6\", \"gridcolor\": \"white\", \"gridwidth\": 2, \"linecolor\": \"white\", \"showbackground\": true, \"ticks\": \"\", \"zerolinecolor\": \"white\"}}, \"shapedefaults\": {\"line\": {\"color\": \"#2a3f5f\"}}, \"ternary\": {\"aaxis\": {\"gridcolor\": \"white\", \"linecolor\": \"white\", \"ticks\": \"\"}, \"baxis\": {\"gridcolor\": \"white\", \"linecolor\": \"white\", \"ticks\": \"\"}, \"bgcolor\": \"#E5ECF6\", \"caxis\": {\"gridcolor\": \"white\", \"linecolor\": \"white\", \"ticks\": \"\"}}, \"title\": {\"x\": 0.05}, \"xaxis\": {\"automargin\": true, \"gridcolor\": \"white\", \"linecolor\": \"white\", \"ticks\": \"\", \"zerolinecolor\": \"white\", \"zerolinewidth\": 2}, \"yaxis\": {\"automargin\": true, \"gridcolor\": \"white\", \"linecolor\": \"white\", \"ticks\": \"\", \"zerolinecolor\": \"white\", \"zerolinewidth\": 2}}}, \"title\": {\"text\": \"Age and Role of Survey Respondents in 2018\"}, \"xaxis\": {\"anchor\": \"y\", \"domain\": [0.0, 0.98], \"title\": {\"text\": \"Q6\"}}, \"yaxis\": {\"anchor\": \"x\", \"domain\": [0.0, 1.0], \"title\": {\"text\": \"Percentage (%)\"}}},\n",
       "                        {\"responsive\": true}\n",
       "                    ).then(function(){\n",
       "                            \n",
       "var gd = document.getElementById('e30e7456-5f8f-4fea-9111-2a726a2c10d4');\n",
       "var x = new MutationObserver(function (mutations, observer) {{\n",
       "        var display = window.getComputedStyle(gd).display;\n",
       "        if (!display || display === 'none') {{\n",
       "            console.log([gd, 'removed!']);\n",
       "            Plotly.purge(gd);\n",
       "            observer.disconnect();\n",
       "        }}\n",
       "}});\n",
       "\n",
       "// Listen for the removal of the full notebook cells\n",
       "var notebookContainer = gd.closest('#notebook-container');\n",
       "if (notebookContainer) {{\n",
       "    x.observe(notebookContainer, {childList: true});\n",
       "}}\n",
       "\n",
       "// Listen for the clearing of the current output cell\n",
       "var outputEl = gd.closest('.output');\n",
       "if (outputEl) {{\n",
       "    x.observe(outputEl, {childList: true});\n",
       "}}\n",
       "\n",
       "                        })\n",
       "                };\n",
       "                });\n",
       "            </script>\n",
       "        </div>"
      ]
     },
     "metadata": {},
     "output_type": "display_data"
    }
   ],
   "source": [
    "fig = px.bar(df_test, x = 'Q6', y = 'Percentage', title= 'Age and Role of Survey Respondents in 2018', \n",
    "             color = 'Q4' , barmode='group', labels={'Percentage':'Percentage (%)'}) #facet_row='Q1')\n",
    "fig.show()"
   ]
  },
  {
   "cell_type": "markdown",
   "metadata": {},
   "source": [
    "Key Takeaways: \n",
    "    1. A Master's degree is the most common level of education for  the three selected roles. 43.7% of Software Engineers (SWE), 55.4% of Data Scientists, and 55.76% of Data Engineers have a Master's degree. \n",
    "    2. 39.49% of Software Engineers (SWE), 20.18% of Data Scientists, and 29.58% of Data Engineers have a Bachelor's degree. A Master's or a Bachelor's degree is more popular than a Doctorate degree. \n",
    "    3. Data engineers have the highest percentage of Master's and Bachelor degree graduates. Data Scientists have the highest percentage of doctorage degrees. "
   ]
  },
  {
   "cell_type": "code",
   "execution_count": 136,
   "metadata": {},
   "outputs": [],
   "source": [
    "# Salary Breakdown Per Role Per Level of Education\n",
    "\n",
    "df_test = df_multi_tech.groupby(['Q6', 'Q9', 'Q4']).size().reset_index(name = 'Percentage')\n",
    "a = df_test.groupby('Q9')['Percentage'].transform('sum')\n",
    "df_test['Percentage'] = df_test['Percentage'].div(a).multiply(100)\n",
    "df_test = df_test.sort_values(by = ['Percentage', 'Q6'], ascending = False)"
   ]
  },
  {
   "cell_type": "code",
   "execution_count": 144,
   "metadata": {},
   "outputs": [
    {
     "data": {
      "application/vnd.plotly.v1+json": {
       "config": {
        "plotlyServerURL": "https://plot.ly"
       },
       "data": [
        {
         "alignmentgroup": "True",
         "hoverlabel": {
          "namelength": 0
         },
         "hovertemplate": "Q6=Data Scientist<br>Q4=Master’s degree<br>Q9=%{x}<br>Percentage (%)=%{y}",
         "legendgroup": "Q6=Data Scientist",
         "marker": {
          "color": "#636efa"
         },
         "name": "Q6=Data Scientist",
         "offsetgroup": "Q6=Data Scientist",
         "orientation": "v",
         "showlegend": true,
         "textposition": "auto",
         "type": "bar",
         "x": [
          "40-50,000",
          "90-100,000",
          "400-500,000",
          "50-60,000",
          "100-125,000",
          "125-150,000",
          "70-80,000",
          "80-90,000",
          "60-70,000",
          "150-200,000",
          "30-40,000",
          "20-30,000",
          "I do not wish to disclose my approximate yearly compensation",
          "10-20,000",
          "200-250,000",
          "250-300,000",
          "0-10,000",
          "500,000+",
          "300-400,000"
         ],
         "xaxis": "x7",
         "y": [
          37.5,
          36.654804270462634,
          36.36363636363637,
          36.36363636363637,
          36.241610738255034,
          35.61643835616438,
          34.4311377245509,
          34.04255319148936,
          33.64779874213836,
          30.434782608695656,
          30.390143737166326,
          26.39593908629442,
          26.25090645395214,
          24.934725848563968,
          24.358974358974358,
          19.35483870967742,
          19.031141868512112,
          17.647058823529413,
          12.5
         ],
         "yaxis": "y7"
        },
        {
         "alignmentgroup": "True",
         "hoverlabel": {
          "namelength": 0
         },
         "hovertemplate": "Q6=Data Scientist<br>Q4=Bachelor’s degree<br>Q9=%{x}<br>Percentage (%)=%{y}",
         "legendgroup": "Q6=Data Scientist",
         "marker": {
          "color": "#636efa"
         },
         "name": "Q6=Data Scientist",
         "offsetgroup": "Q6=Data Scientist",
         "orientation": "v",
         "showlegend": false,
         "textposition": "auto",
         "type": "bar",
         "x": [
          "500,000+",
          "0-10,000",
          "10-20,000",
          "300-400,000",
          "70-80,000",
          "80-90,000",
          "I do not wish to disclose my approximate yearly compensation",
          "90-100,000",
          "30-40,000",
          "125-150,000",
          "60-70,000",
          "20-30,000",
          "40-50,000",
          "150-200,000",
          "250-300,000",
          "50-60,000",
          "200-250,000",
          "100-125,000"
         ],
         "xaxis": "x6",
         "y": [
          23.52941176470588,
          14.186851211072666,
          12.532637075718014,
          12.5,
          11.976047904191617,
          11.914893617021278,
          11.385061638868747,
          10.320284697508896,
          10.266940451745379,
          8.561643835616438,
          8.49056603773585,
          8.29103214890017,
          7.5892857142857135,
          7.391304347826087,
          6.451612903225806,
          6.142506142506143,
          5.128205128205128,
          4.697986577181208
         ],
         "yaxis": "y6"
        },
        {
         "alignmentgroup": "True",
         "hoverlabel": {
          "namelength": 0
         },
         "hovertemplate": "Q6=Data Scientist<br>Q4=Doctoral degree<br>Q9=%{x}<br>Percentage (%)=%{y}",
         "legendgroup": "Q6=Data Scientist",
         "marker": {
          "color": "#636efa"
         },
         "name": "Q6=Data Scientist",
         "offsetgroup": "Q6=Data Scientist",
         "orientation": "v",
         "showlegend": false,
         "textposition": "auto",
         "type": "bar",
         "x": [
          "300-400,000",
          "150-200,000",
          "200-250,000",
          "125-150,000",
          "400-500,000",
          "100-125,000",
          "60-70,000",
          "250-300,000",
          "80-90,000",
          "90-100,000",
          "70-80,000",
          "50-60,000",
          "500,000+",
          "40-50,000",
          "30-40,000",
          "20-30,000",
          "I do not wish to disclose my approximate yearly compensation",
          "10-20,000",
          "0-10,000"
         ],
         "xaxis": "x5",
         "y": [
          25,
          23.47826086956522,
          23.076923076923077,
          20.205479452054796,
          18.181818181818183,
          17.67337807606264,
          16.352201257861633,
          16.129032258064516,
          15.74468085106383,
          15.302491103202847,
          13.77245508982036,
          12.530712530712531,
          11.76470588235294,
          10.491071428571429,
          9.240246406570842,
          6.937394247038917,
          5.873821609862219,
          5.091383812010443,
          3.373702422145329
         ],
         "yaxis": "y5"
        },
        {
         "alignmentgroup": "True",
         "hoverlabel": {
          "namelength": 0
         },
         "hovertemplate": "Q6=Data Scientist<br>Q4=No formal education past high school<br>Q9=%{x}<br>Percentage (%)=%{y}",
         "legendgroup": "Q6=Data Scientist",
         "marker": {
          "color": "#636efa"
         },
         "name": "Q6=Data Scientist",
         "offsetgroup": "Q6=Data Scientist",
         "orientation": "v",
         "showlegend": false,
         "textposition": "auto",
         "type": "bar",
         "x": [
          "200-250,000",
          "90-100,000",
          "40-50,000",
          "80-90,000",
          "30-40,000",
          "0-10,000",
          "I do not wish to disclose my approximate yearly compensation",
          "10-20,000",
          "50-60,000",
          "100-125,000"
         ],
         "xaxis": "x4",
         "y": [
          2.564102564102564,
          0.7117437722419928,
          0.4464285714285714,
          0.425531914893617,
          0.41067761806981523,
          0.34602076124567477,
          0.290065264684554,
          0.26109660574412535,
          0.2457002457002457,
          0.22371364653243847
         ],
         "yaxis": "y4"
        },
        {
         "alignmentgroup": "True",
         "hoverlabel": {
          "namelength": 0
         },
         "hovertemplate": "Q6=Data Scientist<br>Q4=Some college/university study without earning a bachelor’s degree<br>Q9=%{x}<br>Percentage (%)=%{y}",
         "legendgroup": "Q6=Data Scientist",
         "marker": {
          "color": "#636efa"
         },
         "name": "Q6=Data Scientist",
         "offsetgroup": "Q6=Data Scientist",
         "orientation": "v",
         "showlegend": false,
         "textposition": "auto",
         "type": "bar",
         "x": [
          "250-300,000",
          "20-30,000",
          "0-10,000",
          "I do not wish to disclose my approximate yearly compensation",
          "60-70,000",
          "70-80,000",
          "40-50,000",
          "150-200,000",
          "80-90,000",
          "125-150,000",
          "10-20,000",
          "50-60,000",
          "30-40,000",
          "90-100,000",
          "100-125,000"
         ],
         "xaxis": "x3",
         "y": [
          6.451612903225806,
          2.199661590524535,
          1.6435986159169549,
          1.5228426395939088,
          1.257861635220126,
          0.8982035928143712,
          0.8928571428571428,
          0.8695652173913043,
          0.851063829787234,
          0.684931506849315,
          0.5221932114882507,
          0.4914004914004914,
          0.41067761806981523,
          0.3558718861209964,
          0.22371364653243847
         ],
         "yaxis": "y3"
        },
        {
         "alignmentgroup": "True",
         "hoverlabel": {
          "namelength": 0
         },
         "hovertemplate": "Q6=Data Scientist<br>Q4=I prefer not to answer<br>Q9=%{x}<br>Percentage (%)=%{y}",
         "legendgroup": "Q6=Data Scientist",
         "marker": {
          "color": "#636efa"
         },
         "name": "Q6=Data Scientist",
         "offsetgroup": "Q6=Data Scientist",
         "orientation": "v",
         "showlegend": false,
         "textposition": "auto",
         "type": "bar",
         "x": [
          "500,000+",
          "250-300,000",
          "I do not wish to disclose my approximate yearly compensation",
          "10-20,000",
          "40-50,000",
          "150-200,000",
          "30-40,000",
          "125-150,000",
          "60-70,000",
          "0-10,000",
          "20-30,000"
         ],
         "xaxis": "x2",
         "y": [
          5.88235294117647,
          3.225806451612903,
          1.015228426395939,
          0.7832898172323759,
          0.4464285714285714,
          0.43478260869565216,
          0.41067761806981523,
          0.3424657534246575,
          0.3144654088050315,
          0.17301038062283738,
          0.1692047377326565
         ],
         "yaxis": "y2"
        },
        {
         "alignmentgroup": "True",
         "hoverlabel": {
          "namelength": 0
         },
         "hovertemplate": "Q6=Data Scientist<br>Q4=Professional degree<br>Q9=%{x}<br>Percentage (%)=%{y}",
         "legendgroup": "Q6=Data Scientist",
         "marker": {
          "color": "#636efa"
         },
         "name": "Q6=Data Scientist",
         "offsetgroup": "Q6=Data Scientist",
         "orientation": "v",
         "showlegend": false,
         "textposition": "auto",
         "type": "bar",
         "x": [
          "200-250,000",
          "30-40,000",
          "20-30,000",
          "10-20,000",
          "0-10,000",
          "40-50,000",
          "I do not wish to disclose my approximate yearly compensation",
          "70-80,000",
          "90-100,000",
          "100-125,000",
          "50-60,000",
          "150-200,000",
          "80-90,000",
          "60-70,000"
         ],
         "xaxis": "x",
         "y": [
          3.8461538461538463,
          2.0533880903490758,
          1.6920473773265652,
          1.1749347258485638,
          1.124567474048443,
          1.1160714285714286,
          1.015228426395939,
          0.8982035928143712,
          0.7117437722419928,
          0.6711409395973155,
          0.4914004914004914,
          0.43478260869565216,
          0.425531914893617,
          0.3144654088050315
         ],
         "yaxis": "y"
        },
        {
         "alignmentgroup": "True",
         "hoverlabel": {
          "namelength": 0
         },
         "hovertemplate": "Q6=Software Engineer<br>Q4=Master’s degree<br>Q9=%{x}<br>Percentage (%)=%{y}",
         "legendgroup": "Q6=Software Engineer",
         "marker": {
          "color": "#EF553B"
         },
         "name": "Q6=Software Engineer",
         "offsetgroup": "Q6=Software Engineer",
         "orientation": "v",
         "showlegend": true,
         "textposition": "auto",
         "type": "bar",
         "x": [
          "20-30,000",
          "I do not wish to disclose my approximate yearly compensation",
          "10-20,000",
          "0-10,000",
          "30-40,000",
          "50-60,000",
          "70-80,000",
          "200-250,000",
          "300-400,000",
          "250-300,000",
          "40-50,000",
          "100-125,000",
          "90-100,000",
          "60-70,000",
          "500,000+",
          "150-200,000",
          "80-90,000",
          "125-150,000"
         ],
         "xaxis": "x7",
         "y": [
          21.489001692047378,
          18.99927483683829,
          17.885117493472585,
          17.82006920415225,
          17.248459958932237,
          16.953316953316953,
          16.766467065868262,
          16.666666666666664,
          16.666666666666664,
          16.129032258064516,
          15.848214285714285,
          15.659955257270694,
          15.658362989323843,
          14.150943396226415,
          11.76470588235294,
          11.73913043478261,
          11.48936170212766,
          10.616438356164384
         ],
         "yaxis": "y7"
        },
        {
         "alignmentgroup": "True",
         "hoverlabel": {
          "namelength": 0
         },
         "hovertemplate": "Q6=Software Engineer<br>Q4=Bachelor’s degree<br>Q9=%{x}<br>Percentage (%)=%{y}",
         "legendgroup": "Q6=Software Engineer",
         "marker": {
          "color": "#EF553B"
         },
         "name": "Q6=Software Engineer",
         "offsetgroup": "Q6=Software Engineer",
         "orientation": "v",
         "showlegend": false,
         "textposition": "auto",
         "type": "bar",
         "x": [
          "0-10,000",
          "250-300,000",
          "10-20,000",
          "400-500,000",
          "500,000+",
          "20-30,000",
          "I do not wish to disclose my approximate yearly compensation",
          "30-40,000",
          "300-400,000",
          "60-70,000",
          "80-90,000",
          "50-60,000",
          "70-80,000",
          "100-125,000",
          "40-50,000",
          "90-100,000",
          "125-150,000",
          "150-200,000",
          "200-250,000"
         ],
         "xaxis": "x6",
         "y": [
          26.211072664359865,
          19.35483870967742,
          19.321148825065272,
          18.181818181818183,
          17.647058823529413,
          16.412859560067684,
          16.243654822335024,
          14.37371663244353,
          12.5,
          11.635220125786164,
          11.063829787234042,
          10.565110565110565,
          10.179640718562874,
          10.06711409395973,
          9.821428571428571,
          9.608540925266903,
          8.904109589041095,
          8.695652173913043,
          6.41025641025641
         ],
         "yaxis": "y6"
        },
        {
         "alignmentgroup": "True",
         "hoverlabel": {
          "namelength": 0
         },
         "hovertemplate": "Q6=Software Engineer<br>Q4=Doctoral degree<br>Q9=%{x}<br>Percentage (%)=%{y}",
         "legendgroup": "Q6=Software Engineer",
         "marker": {
          "color": "#EF553B"
         },
         "name": "Q6=Software Engineer",
         "offsetgroup": "Q6=Software Engineer",
         "orientation": "v",
         "showlegend": false,
         "textposition": "auto",
         "type": "bar",
         "x": [
          "400-500,000",
          "300-400,000",
          "200-250,000",
          "250-300,000",
          "50-60,000",
          "150-200,000",
          "125-150,000",
          "I do not wish to disclose my approximate yearly compensation",
          "100-125,000",
          "40-50,000",
          "10-20,000",
          "30-40,000",
          "20-30,000",
          "0-10,000",
          "90-100,000",
          "60-70,000",
          "80-90,000",
          "70-80,000"
         ],
         "xaxis": "x5",
         "y": [
          18.181818181818183,
          8.333333333333332,
          7.6923076923076925,
          6.451612903225806,
          4.176904176904177,
          3.4782608695652173,
          3.4246575342465753,
          2.973168963016679,
          2.9082774049217,
          2.9017857142857144,
          2.088772845953003,
          2.0533880903490758,
          2.030456852791878,
          1.4705882352941175,
          1.4234875444839856,
          0.9433962264150944,
          0.851063829787234,
          0.5988023952095809
         ],
         "yaxis": "y5"
        },
        {
         "alignmentgroup": "True",
         "hoverlabel": {
          "namelength": 0
         },
         "hovertemplate": "Q6=Software Engineer<br>Q4=No formal education past high school<br>Q9=%{x}<br>Percentage (%)=%{y}",
         "legendgroup": "Q6=Software Engineer",
         "marker": {
          "color": "#EF553B"
         },
         "name": "Q6=Software Engineer",
         "offsetgroup": "Q6=Software Engineer",
         "orientation": "v",
         "showlegend": false,
         "textposition": "auto",
         "type": "bar",
         "x": [
          "400-500,000",
          "30-40,000",
          "50-60,000",
          "20-30,000",
          "40-50,000",
          "150-200,000",
          "100-125,000",
          "70-80,000",
          "10-20,000",
          "I do not wish to disclose my approximate yearly compensation",
          "0-10,000",
          "90-100,000",
          "125-150,000"
         ],
         "xaxis": "x4",
         "y": [
          9.090909090909092,
          1.2320328542094456,
          1.2285012285012284,
          1.015228426395939,
          0.8928571428571428,
          0.8695652173913043,
          0.6711409395973155,
          0.5988023952095809,
          0.5221932114882507,
          0.43509789702683105,
          0.43252595155709345,
          0.3558718861209964,
          0.3424657534246575
         ],
         "yaxis": "y4"
        },
        {
         "alignmentgroup": "True",
         "hoverlabel": {
          "namelength": 0
         },
         "hovertemplate": "Q6=Software Engineer<br>Q4=Some college/university study without earning a bachelor’s degree<br>Q9=%{x}<br>Percentage (%)=%{y}",
         "legendgroup": "Q6=Software Engineer",
         "marker": {
          "color": "#EF553B"
         },
         "name": "Q6=Software Engineer",
         "offsetgroup": "Q6=Software Engineer",
         "orientation": "v",
         "showlegend": false,
         "textposition": "auto",
         "type": "bar",
         "x": [
          "500,000+",
          "80-90,000",
          "125-150,000",
          "20-30,000",
          "30-40,000",
          "0-10,000",
          "70-80,000",
          "100-125,000",
          "150-200,000",
          "40-50,000",
          "50-60,000",
          "90-100,000",
          "200-250,000",
          "10-20,000",
          "I do not wish to disclose my approximate yearly compensation",
          "60-70,000"
         ],
         "xaxis": "x3",
         "y": [
          5.88235294117647,
          2.553191489361702,
          2.3972602739726026,
          2.3688663282571913,
          2.2587268993839835,
          2.162629757785467,
          2.095808383233533,
          1.7897091722595078,
          1.7391304347826086,
          1.5625,
          1.4742014742014742,
          1.4234875444839856,
          1.282051282051282,
          1.1749347258485638,
          1.160261058738216,
          0.9433962264150944
         ],
         "yaxis": "y3"
        },
        {
         "alignmentgroup": "True",
         "hoverlabel": {
          "namelength": 0
         },
         "hovertemplate": "Q6=Software Engineer<br>Q4=I prefer not to answer<br>Q9=%{x}<br>Percentage (%)=%{y}",
         "legendgroup": "Q6=Software Engineer",
         "marker": {
          "color": "#EF553B"
         },
         "name": "Q6=Software Engineer",
         "offsetgroup": "Q6=Software Engineer",
         "orientation": "v",
         "showlegend": false,
         "textposition": "auto",
         "type": "bar",
         "x": [
          "I do not wish to disclose my approximate yearly compensation",
          "10-20,000",
          "0-10,000",
          "70-80,000",
          "30-40,000",
          "50-60,000",
          "100-125,000",
          "20-30,000",
          "60-70,000",
          "40-50,000"
         ],
         "xaxis": "x2",
         "y": [
          1.6678752719361856,
          1.0443864229765014,
          0.9515570934256056,
          0.8982035928143712,
          0.8213552361396305,
          0.4914004914004914,
          0.44742729306487694,
          0.338409475465313,
          0.3144654088050315,
          0.2232142857142857
         ],
         "yaxis": "y2"
        },
        {
         "alignmentgroup": "True",
         "hoverlabel": {
          "namelength": 0
         },
         "hovertemplate": "Q6=Software Engineer<br>Q4=Professional degree<br>Q9=%{x}<br>Percentage (%)=%{y}",
         "legendgroup": "Q6=Software Engineer",
         "marker": {
          "color": "#EF553B"
         },
         "name": "Q6=Software Engineer",
         "offsetgroup": "Q6=Software Engineer",
         "orientation": "v",
         "showlegend": false,
         "textposition": "auto",
         "type": "bar",
         "x": [
          "500,000+",
          "0-10,000",
          "10-20,000",
          "I do not wish to disclose my approximate yearly compensation",
          "20-30,000",
          "30-40,000",
          "50-60,000",
          "100-125,000",
          "90-100,000"
         ],
         "xaxis": "x",
         "y": [
          5.88235294117647,
          2.162629757785467,
          1.95822454308094,
          1.7403915881073242,
          1.353637901861252,
          0.6160164271047228,
          0.4914004914004914,
          0.44742729306487694,
          0.3558718861209964
         ],
         "yaxis": "y"
        },
        {
         "alignmentgroup": "True",
         "hoverlabel": {
          "namelength": 0
         },
         "hovertemplate": "Q6=Data Engineer<br>Q4=Master’s degree<br>Q9=%{x}<br>Percentage (%)=%{y}",
         "legendgroup": "Q6=Data Engineer",
         "marker": {
          "color": "#00cc96"
         },
         "name": "Q6=Data Engineer",
         "offsetgroup": "Q6=Data Engineer",
         "orientation": "v",
         "showlegend": true,
         "textposition": "auto",
         "type": "bar",
         "x": [
          "300-400,000",
          "80-90,000",
          "60-70,000",
          "40-50,000",
          "125-150,000",
          "0-10,000",
          "10-20,000",
          "20-30,000",
          "100-125,000",
          "150-200,000",
          "30-40,000",
          "50-60,000",
          "I do not wish to disclose my approximate yearly compensation",
          "200-250,000",
          "90-100,000",
          "250-300,000",
          "70-80,000"
         ],
         "xaxis": "x7",
         "y": [
          8.333333333333332,
          8.085106382978724,
          7.232704402515723,
          6.4732142857142865,
          5.47945205479452,
          5.3633217993079585,
          5.352480417754569,
          5.245346869712352,
          5.1454138702460845,
          4.782608695652174,
          4.722792607802875,
          4.668304668304668,
          4.496011602610587,
          3.8461538461538463,
          3.558718861209965,
          3.225806451612903,
          2.9940119760479043
         ],
         "yaxis": "y7"
        },
        {
         "alignmentgroup": "True",
         "hoverlabel": {
          "namelength": 0
         },
         "hovertemplate": "Q6=Data Engineer<br>Q4=Bachelor’s degree<br>Q9=%{x}<br>Percentage (%)=%{y}",
         "legendgroup": "Q6=Data Engineer",
         "marker": {
          "color": "#00cc96"
         },
         "name": "Q6=Data Engineer",
         "offsetgroup": "Q6=Data Engineer",
         "orientation": "v",
         "showlegend": false,
         "textposition": "auto",
         "type": "bar",
         "x": [
          "10-20,000",
          "300-400,000",
          "150-200,000",
          "250-300,000",
          "I do not wish to disclose my approximate yearly compensation",
          "20-30,000",
          "40-50,000",
          "80-90,000",
          "60-70,000",
          "0-10,000",
          "70-80,000",
          "100-125,000",
          "50-60,000",
          "90-100,000",
          "125-150,000",
          "30-40,000",
          "200-250,000"
         ],
         "xaxis": "x6",
         "y": [
          4.43864229765013,
          4.166666666666666,
          3.91304347826087,
          3.225806451612903,
          3.0456852791878175,
          2.8764805414551606,
          2.6785714285714284,
          2.553191489361702,
          2.515723270440252,
          2.508650519031142,
          2.3952095808383236,
          2.237136465324385,
          2.211302211302211,
          2.135231316725979,
          2.054794520547945,
          1.8480492813141685,
          1.282051282051282
         ],
         "yaxis": "y6"
        },
        {
         "alignmentgroup": "True",
         "hoverlabel": {
          "namelength": 0
         },
         "hovertemplate": "Q6=Data Engineer<br>Q4=Doctoral degree<br>Q9=%{x}<br>Percentage (%)=%{y}",
         "legendgroup": "Q6=Data Engineer",
         "marker": {
          "color": "#00cc96"
         },
         "name": "Q6=Data Engineer",
         "offsetgroup": "Q6=Data Engineer",
         "orientation": "v",
         "showlegend": false,
         "textposition": "auto",
         "type": "bar",
         "x": [
          "200-250,000",
          "150-200,000",
          "60-70,000",
          "90-100,000",
          "I do not wish to disclose my approximate yearly compensation",
          "30-40,000",
          "50-60,000",
          "125-150,000",
          "100-125,000",
          "40-50,000",
          "10-20,000",
          "0-10,000",
          "20-30,000",
          "70-80,000"
         ],
         "xaxis": "x5",
         "y": [
          2.564102564102564,
          1.7391304347826086,
          1.257861635220126,
          1.0676156583629894,
          0.9427121102248005,
          0.8213552361396305,
          0.7371007371007371,
          0.684931506849315,
          0.6711409395973155,
          0.6696428571428571,
          0.5221932114882507,
          0.43252595155709345,
          0.338409475465313,
          0.29940119760479045
         ],
         "yaxis": "y5"
        },
        {
         "alignmentgroup": "True",
         "hoverlabel": {
          "namelength": 0
         },
         "hovertemplate": "Q6=Data Engineer<br>Q4=No formal education past high school<br>Q9=%{x}<br>Percentage (%)=%{y}",
         "legendgroup": "Q6=Data Engineer",
         "marker": {
          "color": "#00cc96"
         },
         "name": "Q6=Data Engineer",
         "offsetgroup": "Q6=Data Engineer",
         "orientation": "v",
         "showlegend": false,
         "textposition": "auto",
         "type": "bar",
         "x": [
          "50-60,000",
          "0-10,000",
          "20-30,000",
          "10-20,000"
         ],
         "xaxis": "x4",
         "y": [
          0.2457002457002457,
          0.17301038062283738,
          0.1692047377326565,
          0.13054830287206268
         ],
         "yaxis": "y4"
        },
        {
         "alignmentgroup": "True",
         "hoverlabel": {
          "namelength": 0
         },
         "hovertemplate": "Q6=Data Engineer<br>Q4=Some college/university study without earning a bachelor’s degree<br>Q9=%{x}<br>Percentage (%)=%{y}",
         "legendgroup": "Q6=Data Engineer",
         "marker": {
          "color": "#00cc96"
         },
         "name": "Q6=Data Engineer",
         "offsetgroup": "Q6=Data Engineer",
         "orientation": "v",
         "showlegend": false,
         "textposition": "auto",
         "type": "bar",
         "x": [
          "125-150,000",
          "30-40,000",
          "70-80,000",
          "90-100,000",
          "60-70,000",
          "0-10,000",
          "50-60,000",
          "40-50,000",
          "I do not wish to disclose my approximate yearly compensation"
         ],
         "xaxis": "x3",
         "y": [
          0.684931506849315,
          0.6160164271047228,
          0.5988023952095809,
          0.3558718861209964,
          0.3144654088050315,
          0.25951557093425603,
          0.2457002457002457,
          0.2232142857142857,
          0.145032632342277
         ],
         "yaxis": "y3"
        },
        {
         "alignmentgroup": "True",
         "hoverlabel": {
          "namelength": 0
         },
         "hovertemplate": "Q6=Data Engineer<br>Q4=I prefer not to answer<br>Q9=%{x}<br>Percentage (%)=%{y}",
         "legendgroup": "Q6=Data Engineer",
         "marker": {
          "color": "#00cc96"
         },
         "name": "Q6=Data Engineer",
         "offsetgroup": "Q6=Data Engineer",
         "orientation": "v",
         "showlegend": false,
         "textposition": "auto",
         "type": "bar",
         "x": [
          "I do not wish to disclose my approximate yearly compensation",
          "40-50,000",
          "20-30,000",
          "0-10,000"
         ],
         "xaxis": "x2",
         "y": [
          0.5076142131979695,
          0.2232142857142857,
          0.1692047377326565,
          0.08650519031141869
         ],
         "yaxis": "y2"
        },
        {
         "alignmentgroup": "True",
         "hoverlabel": {
          "namelength": 0
         },
         "hovertemplate": "Q6=Data Engineer<br>Q4=Professional degree<br>Q9=%{x}<br>Percentage (%)=%{y}",
         "legendgroup": "Q6=Data Engineer",
         "marker": {
          "color": "#00cc96"
         },
         "name": "Q6=Data Engineer",
         "offsetgroup": "Q6=Data Engineer",
         "orientation": "v",
         "showlegend": false,
         "textposition": "auto",
         "type": "bar",
         "x": [
          "200-250,000",
          "70-80,000",
          "20-30,000",
          "60-70,000",
          "I do not wish to disclose my approximate yearly compensation",
          "10-20,000",
          "50-60,000",
          "100-125,000",
          "30-40,000",
          "0-10,000"
         ],
         "xaxis": "x",
         "y": [
          1.282051282051282,
          0.5988023952095809,
          0.5076142131979695,
          0.3144654088050315,
          0.290065264684554,
          0.26109660574412535,
          0.2457002457002457,
          0.22371364653243847,
          0.20533880903490762,
          0.08650519031141869
         ],
         "yaxis": "y"
        }
       ],
       "layout": {
        "annotations": [
         {
          "font": {},
          "showarrow": false,
          "text": "Q4=Professional degree",
          "textangle": 90,
          "x": 0.98,
          "xanchor": "left",
          "xref": "paper",
          "y": 0.05857142857142857,
          "yanchor": "middle",
          "yref": "paper"
         },
         {
          "font": {},
          "showarrow": false,
          "text": "Q4=I prefer not to answer",
          "textangle": 90,
          "x": 0.98,
          "xanchor": "left",
          "xref": "paper",
          "y": 0.2057142857142857,
          "yanchor": "middle",
          "yref": "paper"
         },
         {
          "font": {},
          "showarrow": false,
          "text": "Q4=Some college/university study without earning a bachelor’s degree",
          "textangle": 90,
          "x": 0.98,
          "xanchor": "left",
          "xref": "paper",
          "y": 0.35285714285714287,
          "yanchor": "middle",
          "yref": "paper"
         },
         {
          "font": {},
          "showarrow": false,
          "text": "Q4=No formal education past high school",
          "textangle": 90,
          "x": 0.98,
          "xanchor": "left",
          "xref": "paper",
          "y": 0.49999999999999994,
          "yanchor": "middle",
          "yref": "paper"
         },
         {
          "font": {},
          "showarrow": false,
          "text": "Q4=Doctoral degree",
          "textangle": 90,
          "x": 0.98,
          "xanchor": "left",
          "xref": "paper",
          "y": 0.647142857142857,
          "yanchor": "middle",
          "yref": "paper"
         },
         {
          "font": {},
          "showarrow": false,
          "text": "Q4=Bachelor’s degree",
          "textangle": 90,
          "x": 0.98,
          "xanchor": "left",
          "xref": "paper",
          "y": 0.7942857142857143,
          "yanchor": "middle",
          "yref": "paper"
         },
         {
          "font": {},
          "showarrow": false,
          "text": "Q4=Master’s degree",
          "textangle": 90,
          "x": 0.98,
          "xanchor": "left",
          "xref": "paper",
          "y": 0.9414285714285713,
          "yanchor": "middle",
          "yref": "paper"
         }
        ],
        "barmode": "group",
        "height": 3000,
        "legend": {
         "tracegroupgap": 0
        },
        "template": {
         "data": {
          "bar": [
           {
            "error_x": {
             "color": "#2a3f5f"
            },
            "error_y": {
             "color": "#2a3f5f"
            },
            "marker": {
             "line": {
              "color": "#E5ECF6",
              "width": 0.5
             }
            },
            "type": "bar"
           }
          ],
          "barpolar": [
           {
            "marker": {
             "line": {
              "color": "#E5ECF6",
              "width": 0.5
             }
            },
            "type": "barpolar"
           }
          ],
          "carpet": [
           {
            "aaxis": {
             "endlinecolor": "#2a3f5f",
             "gridcolor": "white",
             "linecolor": "white",
             "minorgridcolor": "white",
             "startlinecolor": "#2a3f5f"
            },
            "baxis": {
             "endlinecolor": "#2a3f5f",
             "gridcolor": "white",
             "linecolor": "white",
             "minorgridcolor": "white",
             "startlinecolor": "#2a3f5f"
            },
            "type": "carpet"
           }
          ],
          "choropleth": [
           {
            "colorbar": {
             "outlinewidth": 0,
             "ticks": ""
            },
            "type": "choropleth"
           }
          ],
          "contour": [
           {
            "colorbar": {
             "outlinewidth": 0,
             "ticks": ""
            },
            "colorscale": [
             [
              0,
              "#0d0887"
             ],
             [
              0.1111111111111111,
              "#46039f"
             ],
             [
              0.2222222222222222,
              "#7201a8"
             ],
             [
              0.3333333333333333,
              "#9c179e"
             ],
             [
              0.4444444444444444,
              "#bd3786"
             ],
             [
              0.5555555555555556,
              "#d8576b"
             ],
             [
              0.6666666666666666,
              "#ed7953"
             ],
             [
              0.7777777777777778,
              "#fb9f3a"
             ],
             [
              0.8888888888888888,
              "#fdca26"
             ],
             [
              1,
              "#f0f921"
             ]
            ],
            "type": "contour"
           }
          ],
          "contourcarpet": [
           {
            "colorbar": {
             "outlinewidth": 0,
             "ticks": ""
            },
            "type": "contourcarpet"
           }
          ],
          "heatmap": [
           {
            "colorbar": {
             "outlinewidth": 0,
             "ticks": ""
            },
            "colorscale": [
             [
              0,
              "#0d0887"
             ],
             [
              0.1111111111111111,
              "#46039f"
             ],
             [
              0.2222222222222222,
              "#7201a8"
             ],
             [
              0.3333333333333333,
              "#9c179e"
             ],
             [
              0.4444444444444444,
              "#bd3786"
             ],
             [
              0.5555555555555556,
              "#d8576b"
             ],
             [
              0.6666666666666666,
              "#ed7953"
             ],
             [
              0.7777777777777778,
              "#fb9f3a"
             ],
             [
              0.8888888888888888,
              "#fdca26"
             ],
             [
              1,
              "#f0f921"
             ]
            ],
            "type": "heatmap"
           }
          ],
          "heatmapgl": [
           {
            "colorbar": {
             "outlinewidth": 0,
             "ticks": ""
            },
            "colorscale": [
             [
              0,
              "#0d0887"
             ],
             [
              0.1111111111111111,
              "#46039f"
             ],
             [
              0.2222222222222222,
              "#7201a8"
             ],
             [
              0.3333333333333333,
              "#9c179e"
             ],
             [
              0.4444444444444444,
              "#bd3786"
             ],
             [
              0.5555555555555556,
              "#d8576b"
             ],
             [
              0.6666666666666666,
              "#ed7953"
             ],
             [
              0.7777777777777778,
              "#fb9f3a"
             ],
             [
              0.8888888888888888,
              "#fdca26"
             ],
             [
              1,
              "#f0f921"
             ]
            ],
            "type": "heatmapgl"
           }
          ],
          "histogram": [
           {
            "marker": {
             "colorbar": {
              "outlinewidth": 0,
              "ticks": ""
             }
            },
            "type": "histogram"
           }
          ],
          "histogram2d": [
           {
            "colorbar": {
             "outlinewidth": 0,
             "ticks": ""
            },
            "colorscale": [
             [
              0,
              "#0d0887"
             ],
             [
              0.1111111111111111,
              "#46039f"
             ],
             [
              0.2222222222222222,
              "#7201a8"
             ],
             [
              0.3333333333333333,
              "#9c179e"
             ],
             [
              0.4444444444444444,
              "#bd3786"
             ],
             [
              0.5555555555555556,
              "#d8576b"
             ],
             [
              0.6666666666666666,
              "#ed7953"
             ],
             [
              0.7777777777777778,
              "#fb9f3a"
             ],
             [
              0.8888888888888888,
              "#fdca26"
             ],
             [
              1,
              "#f0f921"
             ]
            ],
            "type": "histogram2d"
           }
          ],
          "histogram2dcontour": [
           {
            "colorbar": {
             "outlinewidth": 0,
             "ticks": ""
            },
            "colorscale": [
             [
              0,
              "#0d0887"
             ],
             [
              0.1111111111111111,
              "#46039f"
             ],
             [
              0.2222222222222222,
              "#7201a8"
             ],
             [
              0.3333333333333333,
              "#9c179e"
             ],
             [
              0.4444444444444444,
              "#bd3786"
             ],
             [
              0.5555555555555556,
              "#d8576b"
             ],
             [
              0.6666666666666666,
              "#ed7953"
             ],
             [
              0.7777777777777778,
              "#fb9f3a"
             ],
             [
              0.8888888888888888,
              "#fdca26"
             ],
             [
              1,
              "#f0f921"
             ]
            ],
            "type": "histogram2dcontour"
           }
          ],
          "mesh3d": [
           {
            "colorbar": {
             "outlinewidth": 0,
             "ticks": ""
            },
            "type": "mesh3d"
           }
          ],
          "parcoords": [
           {
            "line": {
             "colorbar": {
              "outlinewidth": 0,
              "ticks": ""
             }
            },
            "type": "parcoords"
           }
          ],
          "scatter": [
           {
            "marker": {
             "colorbar": {
              "outlinewidth": 0,
              "ticks": ""
             }
            },
            "type": "scatter"
           }
          ],
          "scatter3d": [
           {
            "line": {
             "colorbar": {
              "outlinewidth": 0,
              "ticks": ""
             }
            },
            "marker": {
             "colorbar": {
              "outlinewidth": 0,
              "ticks": ""
             }
            },
            "type": "scatter3d"
           }
          ],
          "scattercarpet": [
           {
            "marker": {
             "colorbar": {
              "outlinewidth": 0,
              "ticks": ""
             }
            },
            "type": "scattercarpet"
           }
          ],
          "scattergeo": [
           {
            "marker": {
             "colorbar": {
              "outlinewidth": 0,
              "ticks": ""
             }
            },
            "type": "scattergeo"
           }
          ],
          "scattergl": [
           {
            "marker": {
             "colorbar": {
              "outlinewidth": 0,
              "ticks": ""
             }
            },
            "type": "scattergl"
           }
          ],
          "scattermapbox": [
           {
            "marker": {
             "colorbar": {
              "outlinewidth": 0,
              "ticks": ""
             }
            },
            "type": "scattermapbox"
           }
          ],
          "scatterpolar": [
           {
            "marker": {
             "colorbar": {
              "outlinewidth": 0,
              "ticks": ""
             }
            },
            "type": "scatterpolar"
           }
          ],
          "scatterpolargl": [
           {
            "marker": {
             "colorbar": {
              "outlinewidth": 0,
              "ticks": ""
             }
            },
            "type": "scatterpolargl"
           }
          ],
          "scatterternary": [
           {
            "marker": {
             "colorbar": {
              "outlinewidth": 0,
              "ticks": ""
             }
            },
            "type": "scatterternary"
           }
          ],
          "surface": [
           {
            "colorbar": {
             "outlinewidth": 0,
             "ticks": ""
            },
            "colorscale": [
             [
              0,
              "#0d0887"
             ],
             [
              0.1111111111111111,
              "#46039f"
             ],
             [
              0.2222222222222222,
              "#7201a8"
             ],
             [
              0.3333333333333333,
              "#9c179e"
             ],
             [
              0.4444444444444444,
              "#bd3786"
             ],
             [
              0.5555555555555556,
              "#d8576b"
             ],
             [
              0.6666666666666666,
              "#ed7953"
             ],
             [
              0.7777777777777778,
              "#fb9f3a"
             ],
             [
              0.8888888888888888,
              "#fdca26"
             ],
             [
              1,
              "#f0f921"
             ]
            ],
            "type": "surface"
           }
          ],
          "table": [
           {
            "cells": {
             "fill": {
              "color": "#EBF0F8"
             },
             "line": {
              "color": "white"
             }
            },
            "header": {
             "fill": {
              "color": "#C8D4E3"
             },
             "line": {
              "color": "white"
             }
            },
            "type": "table"
           }
          ]
         },
         "layout": {
          "annotationdefaults": {
           "arrowcolor": "#2a3f5f",
           "arrowhead": 0,
           "arrowwidth": 1
          },
          "colorscale": {
           "diverging": [
            [
             0,
             "#8e0152"
            ],
            [
             0.1,
             "#c51b7d"
            ],
            [
             0.2,
             "#de77ae"
            ],
            [
             0.3,
             "#f1b6da"
            ],
            [
             0.4,
             "#fde0ef"
            ],
            [
             0.5,
             "#f7f7f7"
            ],
            [
             0.6,
             "#e6f5d0"
            ],
            [
             0.7,
             "#b8e186"
            ],
            [
             0.8,
             "#7fbc41"
            ],
            [
             0.9,
             "#4d9221"
            ],
            [
             1,
             "#276419"
            ]
           ],
           "sequential": [
            [
             0,
             "#0d0887"
            ],
            [
             0.1111111111111111,
             "#46039f"
            ],
            [
             0.2222222222222222,
             "#7201a8"
            ],
            [
             0.3333333333333333,
             "#9c179e"
            ],
            [
             0.4444444444444444,
             "#bd3786"
            ],
            [
             0.5555555555555556,
             "#d8576b"
            ],
            [
             0.6666666666666666,
             "#ed7953"
            ],
            [
             0.7777777777777778,
             "#fb9f3a"
            ],
            [
             0.8888888888888888,
             "#fdca26"
            ],
            [
             1,
             "#f0f921"
            ]
           ],
           "sequentialminus": [
            [
             0,
             "#0d0887"
            ],
            [
             0.1111111111111111,
             "#46039f"
            ],
            [
             0.2222222222222222,
             "#7201a8"
            ],
            [
             0.3333333333333333,
             "#9c179e"
            ],
            [
             0.4444444444444444,
             "#bd3786"
            ],
            [
             0.5555555555555556,
             "#d8576b"
            ],
            [
             0.6666666666666666,
             "#ed7953"
            ],
            [
             0.7777777777777778,
             "#fb9f3a"
            ],
            [
             0.8888888888888888,
             "#fdca26"
            ],
            [
             1,
             "#f0f921"
            ]
           ]
          },
          "colorway": [
           "#636efa",
           "#EF553B",
           "#00cc96",
           "#ab63fa",
           "#FFA15A",
           "#19d3f3",
           "#FF6692",
           "#B6E880",
           "#FF97FF",
           "#FECB52"
          ],
          "font": {
           "color": "#2a3f5f"
          },
          "geo": {
           "bgcolor": "white",
           "lakecolor": "white",
           "landcolor": "#E5ECF6",
           "showlakes": true,
           "showland": true,
           "subunitcolor": "white"
          },
          "hoverlabel": {
           "align": "left"
          },
          "hovermode": "closest",
          "mapbox": {
           "style": "light"
          },
          "paper_bgcolor": "white",
          "plot_bgcolor": "#E5ECF6",
          "polar": {
           "angularaxis": {
            "gridcolor": "white",
            "linecolor": "white",
            "ticks": ""
           },
           "bgcolor": "#E5ECF6",
           "radialaxis": {
            "gridcolor": "white",
            "linecolor": "white",
            "ticks": ""
           }
          },
          "scene": {
           "xaxis": {
            "backgroundcolor": "#E5ECF6",
            "gridcolor": "white",
            "gridwidth": 2,
            "linecolor": "white",
            "showbackground": true,
            "ticks": "",
            "zerolinecolor": "white"
           },
           "yaxis": {
            "backgroundcolor": "#E5ECF6",
            "gridcolor": "white",
            "gridwidth": 2,
            "linecolor": "white",
            "showbackground": true,
            "ticks": "",
            "zerolinecolor": "white"
           },
           "zaxis": {
            "backgroundcolor": "#E5ECF6",
            "gridcolor": "white",
            "gridwidth": 2,
            "linecolor": "white",
            "showbackground": true,
            "ticks": "",
            "zerolinecolor": "white"
           }
          },
          "shapedefaults": {
           "line": {
            "color": "#2a3f5f"
           }
          },
          "ternary": {
           "aaxis": {
            "gridcolor": "white",
            "linecolor": "white",
            "ticks": ""
           },
           "baxis": {
            "gridcolor": "white",
            "linecolor": "white",
            "ticks": ""
           },
           "bgcolor": "#E5ECF6",
           "caxis": {
            "gridcolor": "white",
            "linecolor": "white",
            "ticks": ""
           }
          },
          "title": {
           "x": 0.05
          },
          "xaxis": {
           "automargin": true,
           "gridcolor": "white",
           "linecolor": "white",
           "ticks": "",
           "zerolinecolor": "white",
           "zerolinewidth": 2
          },
          "yaxis": {
           "automargin": true,
           "gridcolor": "white",
           "linecolor": "white",
           "ticks": "",
           "zerolinecolor": "white",
           "zerolinewidth": 2
          }
         }
        },
        "title": {
         "text": "International Compensation Breakdown by Role and Level of Education in 2018"
        },
        "xaxis": {
         "anchor": "y",
         "domain": [
          0,
          0.98
         ],
         "title": {
          "text": "Q9"
         }
        },
        "xaxis2": {
         "anchor": "y2",
         "domain": [
          0,
          0.98
         ],
         "matches": "x",
         "showticklabels": false
        },
        "xaxis3": {
         "anchor": "y3",
         "domain": [
          0,
          0.98
         ],
         "matches": "x",
         "showticklabels": false
        },
        "xaxis4": {
         "anchor": "y4",
         "domain": [
          0,
          0.98
         ],
         "matches": "x",
         "showticklabels": false
        },
        "xaxis5": {
         "anchor": "y5",
         "domain": [
          0,
          0.98
         ],
         "matches": "x",
         "showticklabels": false
        },
        "xaxis6": {
         "anchor": "y6",
         "domain": [
          0,
          0.98
         ],
         "matches": "x",
         "showticklabels": false
        },
        "xaxis7": {
         "anchor": "y7",
         "domain": [
          0,
          0.98
         ],
         "matches": "x",
         "showticklabels": false
        },
        "yaxis": {
         "anchor": "x",
         "domain": [
          0,
          0.11714285714285715
         ],
         "title": {
          "text": "Percentage (%)"
         }
        },
        "yaxis2": {
         "anchor": "x2",
         "domain": [
          0.14714285714285713,
          0.2642857142857143
         ],
         "matches": "y",
         "title": {
          "text": "Percentage (%)"
         }
        },
        "yaxis3": {
         "anchor": "x3",
         "domain": [
          0.29428571428571426,
          0.4114285714285714
         ],
         "matches": "y",
         "title": {
          "text": "Percentage (%)"
         }
        },
        "yaxis4": {
         "anchor": "x4",
         "domain": [
          0.4414285714285714,
          0.5585714285714285
         ],
         "matches": "y",
         "title": {
          "text": "Percentage (%)"
         }
        },
        "yaxis5": {
         "anchor": "x5",
         "domain": [
          0.5885714285714285,
          0.7057142857142856
         ],
         "matches": "y",
         "title": {
          "text": "Percentage (%)"
         }
        },
        "yaxis6": {
         "anchor": "x6",
         "domain": [
          0.7357142857142858,
          0.8528571428571429
         ],
         "matches": "y",
         "title": {
          "text": "Percentage (%)"
         }
        },
        "yaxis7": {
         "anchor": "x7",
         "domain": [
          0.8828571428571428,
          0.9999999999999999
         ],
         "matches": "y",
         "title": {
          "text": "Percentage (%)"
         }
        }
       }
      },
      "text/html": [
       "<div>\n",
       "        \n",
       "        \n",
       "            <div id=\"1d7b3b92-bc00-49d7-b9ba-448cea7b7b7f\" class=\"plotly-graph-div\" style=\"height:3000px; width:100%;\"></div>\n",
       "            <script type=\"text/javascript\">\n",
       "                require([\"plotly\"], function(Plotly) {\n",
       "                    window.PLOTLYENV=window.PLOTLYENV || {};\n",
       "                    \n",
       "                if (document.getElementById(\"1d7b3b92-bc00-49d7-b9ba-448cea7b7b7f\")) {\n",
       "                    Plotly.newPlot(\n",
       "                        '1d7b3b92-bc00-49d7-b9ba-448cea7b7b7f',\n",
       "                        [{\"alignmentgroup\": \"True\", \"hoverlabel\": {\"namelength\": 0}, \"hovertemplate\": \"Q6=Data Scientist<br>Q4=Master\\u2019s degree<br>Q9=%{x}<br>Percentage (%)=%{y}\", \"legendgroup\": \"Q6=Data Scientist\", \"marker\": {\"color\": \"#636efa\"}, \"name\": \"Q6=Data Scientist\", \"offsetgroup\": \"Q6=Data Scientist\", \"orientation\": \"v\", \"showlegend\": true, \"textposition\": \"auto\", \"type\": \"bar\", \"x\": [\"40-50,000\", \"90-100,000\", \"400-500,000\", \"50-60,000\", \"100-125,000\", \"125-150,000\", \"70-80,000\", \"80-90,000\", \"60-70,000\", \"150-200,000\", \"30-40,000\", \"20-30,000\", \"I do not wish to disclose my approximate yearly compensation\", \"10-20,000\", \"200-250,000\", \"250-300,000\", \"0-10,000\", \"500,000+\", \"300-400,000\"], \"xaxis\": \"x7\", \"y\": [37.5, 36.654804270462634, 36.36363636363637, 36.36363636363637, 36.241610738255034, 35.61643835616438, 34.4311377245509, 34.04255319148936, 33.64779874213836, 30.434782608695656, 30.390143737166326, 26.39593908629442, 26.25090645395214, 24.934725848563968, 24.358974358974358, 19.35483870967742, 19.031141868512112, 17.647058823529413, 12.5], \"yaxis\": \"y7\"}, {\"alignmentgroup\": \"True\", \"hoverlabel\": {\"namelength\": 0}, \"hovertemplate\": \"Q6=Data Scientist<br>Q4=Bachelor\\u2019s degree<br>Q9=%{x}<br>Percentage (%)=%{y}\", \"legendgroup\": \"Q6=Data Scientist\", \"marker\": {\"color\": \"#636efa\"}, \"name\": \"Q6=Data Scientist\", \"offsetgroup\": \"Q6=Data Scientist\", \"orientation\": \"v\", \"showlegend\": false, \"textposition\": \"auto\", \"type\": \"bar\", \"x\": [\"500,000+\", \"0-10,000\", \"10-20,000\", \"300-400,000\", \"70-80,000\", \"80-90,000\", \"I do not wish to disclose my approximate yearly compensation\", \"90-100,000\", \"30-40,000\", \"125-150,000\", \"60-70,000\", \"20-30,000\", \"40-50,000\", \"150-200,000\", \"250-300,000\", \"50-60,000\", \"200-250,000\", \"100-125,000\"], \"xaxis\": \"x6\", \"y\": [23.52941176470588, 14.186851211072666, 12.532637075718014, 12.5, 11.976047904191617, 11.914893617021278, 11.385061638868747, 10.320284697508896, 10.266940451745379, 8.561643835616438, 8.49056603773585, 8.29103214890017, 7.5892857142857135, 7.391304347826087, 6.451612903225806, 6.142506142506143, 5.128205128205128, 4.697986577181208], \"yaxis\": \"y6\"}, {\"alignmentgroup\": \"True\", \"hoverlabel\": {\"namelength\": 0}, \"hovertemplate\": \"Q6=Data Scientist<br>Q4=Doctoral degree<br>Q9=%{x}<br>Percentage (%)=%{y}\", \"legendgroup\": \"Q6=Data Scientist\", \"marker\": {\"color\": \"#636efa\"}, \"name\": \"Q6=Data Scientist\", \"offsetgroup\": \"Q6=Data Scientist\", \"orientation\": \"v\", \"showlegend\": false, \"textposition\": \"auto\", \"type\": \"bar\", \"x\": [\"300-400,000\", \"150-200,000\", \"200-250,000\", \"125-150,000\", \"400-500,000\", \"100-125,000\", \"60-70,000\", \"250-300,000\", \"80-90,000\", \"90-100,000\", \"70-80,000\", \"50-60,000\", \"500,000+\", \"40-50,000\", \"30-40,000\", \"20-30,000\", \"I do not wish to disclose my approximate yearly compensation\", \"10-20,000\", \"0-10,000\"], \"xaxis\": \"x5\", \"y\": [25.0, 23.47826086956522, 23.076923076923077, 20.205479452054796, 18.181818181818183, 17.67337807606264, 16.352201257861633, 16.129032258064516, 15.74468085106383, 15.302491103202847, 13.77245508982036, 12.530712530712531, 11.76470588235294, 10.491071428571429, 9.240246406570842, 6.937394247038917, 5.873821609862219, 5.091383812010443, 3.373702422145329], \"yaxis\": \"y5\"}, {\"alignmentgroup\": \"True\", \"hoverlabel\": {\"namelength\": 0}, \"hovertemplate\": \"Q6=Data Scientist<br>Q4=No formal education past high school<br>Q9=%{x}<br>Percentage (%)=%{y}\", \"legendgroup\": \"Q6=Data Scientist\", \"marker\": {\"color\": \"#636efa\"}, \"name\": \"Q6=Data Scientist\", \"offsetgroup\": \"Q6=Data Scientist\", \"orientation\": \"v\", \"showlegend\": false, \"textposition\": \"auto\", \"type\": \"bar\", \"x\": [\"200-250,000\", \"90-100,000\", \"40-50,000\", \"80-90,000\", \"30-40,000\", \"0-10,000\", \"I do not wish to disclose my approximate yearly compensation\", \"10-20,000\", \"50-60,000\", \"100-125,000\"], \"xaxis\": \"x4\", \"y\": [2.564102564102564, 0.7117437722419928, 0.4464285714285714, 0.425531914893617, 0.41067761806981523, 0.34602076124567477, 0.290065264684554, 0.26109660574412535, 0.2457002457002457, 0.22371364653243847], \"yaxis\": \"y4\"}, {\"alignmentgroup\": \"True\", \"hoverlabel\": {\"namelength\": 0}, \"hovertemplate\": \"Q6=Data Scientist<br>Q4=Some college/university study without earning a bachelor\\u2019s degree<br>Q9=%{x}<br>Percentage (%)=%{y}\", \"legendgroup\": \"Q6=Data Scientist\", \"marker\": {\"color\": \"#636efa\"}, \"name\": \"Q6=Data Scientist\", \"offsetgroup\": \"Q6=Data Scientist\", \"orientation\": \"v\", \"showlegend\": false, \"textposition\": \"auto\", \"type\": \"bar\", \"x\": [\"250-300,000\", \"20-30,000\", \"0-10,000\", \"I do not wish to disclose my approximate yearly compensation\", \"60-70,000\", \"70-80,000\", \"40-50,000\", \"150-200,000\", \"80-90,000\", \"125-150,000\", \"10-20,000\", \"50-60,000\", \"30-40,000\", \"90-100,000\", \"100-125,000\"], \"xaxis\": \"x3\", \"y\": [6.451612903225806, 2.199661590524535, 1.6435986159169549, 1.5228426395939088, 1.257861635220126, 0.8982035928143712, 0.8928571428571428, 0.8695652173913043, 0.851063829787234, 0.684931506849315, 0.5221932114882507, 0.4914004914004914, 0.41067761806981523, 0.3558718861209964, 0.22371364653243847], \"yaxis\": \"y3\"}, {\"alignmentgroup\": \"True\", \"hoverlabel\": {\"namelength\": 0}, \"hovertemplate\": \"Q6=Data Scientist<br>Q4=I prefer not to answer<br>Q9=%{x}<br>Percentage (%)=%{y}\", \"legendgroup\": \"Q6=Data Scientist\", \"marker\": {\"color\": \"#636efa\"}, \"name\": \"Q6=Data Scientist\", \"offsetgroup\": \"Q6=Data Scientist\", \"orientation\": \"v\", \"showlegend\": false, \"textposition\": \"auto\", \"type\": \"bar\", \"x\": [\"500,000+\", \"250-300,000\", \"I do not wish to disclose my approximate yearly compensation\", \"10-20,000\", \"40-50,000\", \"150-200,000\", \"30-40,000\", \"125-150,000\", \"60-70,000\", \"0-10,000\", \"20-30,000\"], \"xaxis\": \"x2\", \"y\": [5.88235294117647, 3.225806451612903, 1.015228426395939, 0.7832898172323759, 0.4464285714285714, 0.43478260869565216, 0.41067761806981523, 0.3424657534246575, 0.3144654088050315, 0.17301038062283738, 0.1692047377326565], \"yaxis\": \"y2\"}, {\"alignmentgroup\": \"True\", \"hoverlabel\": {\"namelength\": 0}, \"hovertemplate\": \"Q6=Data Scientist<br>Q4=Professional degree<br>Q9=%{x}<br>Percentage (%)=%{y}\", \"legendgroup\": \"Q6=Data Scientist\", \"marker\": {\"color\": \"#636efa\"}, \"name\": \"Q6=Data Scientist\", \"offsetgroup\": \"Q6=Data Scientist\", \"orientation\": \"v\", \"showlegend\": false, \"textposition\": \"auto\", \"type\": \"bar\", \"x\": [\"200-250,000\", \"30-40,000\", \"20-30,000\", \"10-20,000\", \"0-10,000\", \"40-50,000\", \"I do not wish to disclose my approximate yearly compensation\", \"70-80,000\", \"90-100,000\", \"100-125,000\", \"50-60,000\", \"150-200,000\", \"80-90,000\", \"60-70,000\"], \"xaxis\": \"x\", \"y\": [3.8461538461538463, 2.0533880903490758, 1.6920473773265652, 1.1749347258485638, 1.124567474048443, 1.1160714285714286, 1.015228426395939, 0.8982035928143712, 0.7117437722419928, 0.6711409395973155, 0.4914004914004914, 0.43478260869565216, 0.425531914893617, 0.3144654088050315], \"yaxis\": \"y\"}, {\"alignmentgroup\": \"True\", \"hoverlabel\": {\"namelength\": 0}, \"hovertemplate\": \"Q6=Software Engineer<br>Q4=Master\\u2019s degree<br>Q9=%{x}<br>Percentage (%)=%{y}\", \"legendgroup\": \"Q6=Software Engineer\", \"marker\": {\"color\": \"#EF553B\"}, \"name\": \"Q6=Software Engineer\", \"offsetgroup\": \"Q6=Software Engineer\", \"orientation\": \"v\", \"showlegend\": true, \"textposition\": \"auto\", \"type\": \"bar\", \"x\": [\"20-30,000\", \"I do not wish to disclose my approximate yearly compensation\", \"10-20,000\", \"0-10,000\", \"30-40,000\", \"50-60,000\", \"70-80,000\", \"200-250,000\", \"300-400,000\", \"250-300,000\", \"40-50,000\", \"100-125,000\", \"90-100,000\", \"60-70,000\", \"500,000+\", \"150-200,000\", \"80-90,000\", \"125-150,000\"], \"xaxis\": \"x7\", \"y\": [21.489001692047378, 18.99927483683829, 17.885117493472585, 17.82006920415225, 17.248459958932237, 16.953316953316953, 16.766467065868262, 16.666666666666664, 16.666666666666664, 16.129032258064516, 15.848214285714285, 15.659955257270694, 15.658362989323843, 14.150943396226415, 11.76470588235294, 11.73913043478261, 11.48936170212766, 10.616438356164384], \"yaxis\": \"y7\"}, {\"alignmentgroup\": \"True\", \"hoverlabel\": {\"namelength\": 0}, \"hovertemplate\": \"Q6=Software Engineer<br>Q4=Bachelor\\u2019s degree<br>Q9=%{x}<br>Percentage (%)=%{y}\", \"legendgroup\": \"Q6=Software Engineer\", \"marker\": {\"color\": \"#EF553B\"}, \"name\": \"Q6=Software Engineer\", \"offsetgroup\": \"Q6=Software Engineer\", \"orientation\": \"v\", \"showlegend\": false, \"textposition\": \"auto\", \"type\": \"bar\", \"x\": [\"0-10,000\", \"250-300,000\", \"10-20,000\", \"400-500,000\", \"500,000+\", \"20-30,000\", \"I do not wish to disclose my approximate yearly compensation\", \"30-40,000\", \"300-400,000\", \"60-70,000\", \"80-90,000\", \"50-60,000\", \"70-80,000\", \"100-125,000\", \"40-50,000\", \"90-100,000\", \"125-150,000\", \"150-200,000\", \"200-250,000\"], \"xaxis\": \"x6\", \"y\": [26.211072664359865, 19.35483870967742, 19.321148825065272, 18.181818181818183, 17.647058823529413, 16.412859560067684, 16.243654822335024, 14.37371663244353, 12.5, 11.635220125786164, 11.063829787234042, 10.565110565110565, 10.179640718562874, 10.06711409395973, 9.821428571428571, 9.608540925266903, 8.904109589041095, 8.695652173913043, 6.41025641025641], \"yaxis\": \"y6\"}, {\"alignmentgroup\": \"True\", \"hoverlabel\": {\"namelength\": 0}, \"hovertemplate\": \"Q6=Software Engineer<br>Q4=Doctoral degree<br>Q9=%{x}<br>Percentage (%)=%{y}\", \"legendgroup\": \"Q6=Software Engineer\", \"marker\": {\"color\": \"#EF553B\"}, \"name\": \"Q6=Software Engineer\", \"offsetgroup\": \"Q6=Software Engineer\", \"orientation\": \"v\", \"showlegend\": false, \"textposition\": \"auto\", \"type\": \"bar\", \"x\": [\"400-500,000\", \"300-400,000\", \"200-250,000\", \"250-300,000\", \"50-60,000\", \"150-200,000\", \"125-150,000\", \"I do not wish to disclose my approximate yearly compensation\", \"100-125,000\", \"40-50,000\", \"10-20,000\", \"30-40,000\", \"20-30,000\", \"0-10,000\", \"90-100,000\", \"60-70,000\", \"80-90,000\", \"70-80,000\"], \"xaxis\": \"x5\", \"y\": [18.181818181818183, 8.333333333333332, 7.6923076923076925, 6.451612903225806, 4.176904176904177, 3.4782608695652173, 3.4246575342465753, 2.973168963016679, 2.9082774049217, 2.9017857142857144, 2.088772845953003, 2.0533880903490758, 2.030456852791878, 1.4705882352941175, 1.4234875444839856, 0.9433962264150944, 0.851063829787234, 0.5988023952095809], \"yaxis\": \"y5\"}, {\"alignmentgroup\": \"True\", \"hoverlabel\": {\"namelength\": 0}, \"hovertemplate\": \"Q6=Software Engineer<br>Q4=No formal education past high school<br>Q9=%{x}<br>Percentage (%)=%{y}\", \"legendgroup\": \"Q6=Software Engineer\", \"marker\": {\"color\": \"#EF553B\"}, \"name\": \"Q6=Software Engineer\", \"offsetgroup\": \"Q6=Software Engineer\", \"orientation\": \"v\", \"showlegend\": false, \"textposition\": \"auto\", \"type\": \"bar\", \"x\": [\"400-500,000\", \"30-40,000\", \"50-60,000\", \"20-30,000\", \"40-50,000\", \"150-200,000\", \"100-125,000\", \"70-80,000\", \"10-20,000\", \"I do not wish to disclose my approximate yearly compensation\", \"0-10,000\", \"90-100,000\", \"125-150,000\"], \"xaxis\": \"x4\", \"y\": [9.090909090909092, 1.2320328542094456, 1.2285012285012284, 1.015228426395939, 0.8928571428571428, 0.8695652173913043, 0.6711409395973155, 0.5988023952095809, 0.5221932114882507, 0.43509789702683105, 0.43252595155709345, 0.3558718861209964, 0.3424657534246575], \"yaxis\": \"y4\"}, {\"alignmentgroup\": \"True\", \"hoverlabel\": {\"namelength\": 0}, \"hovertemplate\": \"Q6=Software Engineer<br>Q4=Some college/university study without earning a bachelor\\u2019s degree<br>Q9=%{x}<br>Percentage (%)=%{y}\", \"legendgroup\": \"Q6=Software Engineer\", \"marker\": {\"color\": \"#EF553B\"}, \"name\": \"Q6=Software Engineer\", \"offsetgroup\": \"Q6=Software Engineer\", \"orientation\": \"v\", \"showlegend\": false, \"textposition\": \"auto\", \"type\": \"bar\", \"x\": [\"500,000+\", \"80-90,000\", \"125-150,000\", \"20-30,000\", \"30-40,000\", \"0-10,000\", \"70-80,000\", \"100-125,000\", \"150-200,000\", \"40-50,000\", \"50-60,000\", \"90-100,000\", \"200-250,000\", \"10-20,000\", \"I do not wish to disclose my approximate yearly compensation\", \"60-70,000\"], \"xaxis\": \"x3\", \"y\": [5.88235294117647, 2.553191489361702, 2.3972602739726026, 2.3688663282571913, 2.2587268993839835, 2.162629757785467, 2.095808383233533, 1.7897091722595078, 1.7391304347826086, 1.5625, 1.4742014742014742, 1.4234875444839856, 1.282051282051282, 1.1749347258485638, 1.160261058738216, 0.9433962264150944], \"yaxis\": \"y3\"}, {\"alignmentgroup\": \"True\", \"hoverlabel\": {\"namelength\": 0}, \"hovertemplate\": \"Q6=Software Engineer<br>Q4=I prefer not to answer<br>Q9=%{x}<br>Percentage (%)=%{y}\", \"legendgroup\": \"Q6=Software Engineer\", \"marker\": {\"color\": \"#EF553B\"}, \"name\": \"Q6=Software Engineer\", \"offsetgroup\": \"Q6=Software Engineer\", \"orientation\": \"v\", \"showlegend\": false, \"textposition\": \"auto\", \"type\": \"bar\", \"x\": [\"I do not wish to disclose my approximate yearly compensation\", \"10-20,000\", \"0-10,000\", \"70-80,000\", \"30-40,000\", \"50-60,000\", \"100-125,000\", \"20-30,000\", \"60-70,000\", \"40-50,000\"], \"xaxis\": \"x2\", \"y\": [1.6678752719361856, 1.0443864229765014, 0.9515570934256056, 0.8982035928143712, 0.8213552361396305, 0.4914004914004914, 0.44742729306487694, 0.338409475465313, 0.3144654088050315, 0.2232142857142857], \"yaxis\": \"y2\"}, {\"alignmentgroup\": \"True\", \"hoverlabel\": {\"namelength\": 0}, \"hovertemplate\": \"Q6=Software Engineer<br>Q4=Professional degree<br>Q9=%{x}<br>Percentage (%)=%{y}\", \"legendgroup\": \"Q6=Software Engineer\", \"marker\": {\"color\": \"#EF553B\"}, \"name\": \"Q6=Software Engineer\", \"offsetgroup\": \"Q6=Software Engineer\", \"orientation\": \"v\", \"showlegend\": false, \"textposition\": \"auto\", \"type\": \"bar\", \"x\": [\"500,000+\", \"0-10,000\", \"10-20,000\", \"I do not wish to disclose my approximate yearly compensation\", \"20-30,000\", \"30-40,000\", \"50-60,000\", \"100-125,000\", \"90-100,000\"], \"xaxis\": \"x\", \"y\": [5.88235294117647, 2.162629757785467, 1.95822454308094, 1.7403915881073242, 1.353637901861252, 0.6160164271047228, 0.4914004914004914, 0.44742729306487694, 0.3558718861209964], \"yaxis\": \"y\"}, {\"alignmentgroup\": \"True\", \"hoverlabel\": {\"namelength\": 0}, \"hovertemplate\": \"Q6=Data Engineer<br>Q4=Master\\u2019s degree<br>Q9=%{x}<br>Percentage (%)=%{y}\", \"legendgroup\": \"Q6=Data Engineer\", \"marker\": {\"color\": \"#00cc96\"}, \"name\": \"Q6=Data Engineer\", \"offsetgroup\": \"Q6=Data Engineer\", \"orientation\": \"v\", \"showlegend\": true, \"textposition\": \"auto\", \"type\": \"bar\", \"x\": [\"300-400,000\", \"80-90,000\", \"60-70,000\", \"40-50,000\", \"125-150,000\", \"0-10,000\", \"10-20,000\", \"20-30,000\", \"100-125,000\", \"150-200,000\", \"30-40,000\", \"50-60,000\", \"I do not wish to disclose my approximate yearly compensation\", \"200-250,000\", \"90-100,000\", \"250-300,000\", \"70-80,000\"], \"xaxis\": \"x7\", \"y\": [8.333333333333332, 8.085106382978724, 7.232704402515723, 6.4732142857142865, 5.47945205479452, 5.3633217993079585, 5.352480417754569, 5.245346869712352, 5.1454138702460845, 4.782608695652174, 4.722792607802875, 4.668304668304668, 4.496011602610587, 3.8461538461538463, 3.558718861209965, 3.225806451612903, 2.9940119760479043], \"yaxis\": \"y7\"}, {\"alignmentgroup\": \"True\", \"hoverlabel\": {\"namelength\": 0}, \"hovertemplate\": \"Q6=Data Engineer<br>Q4=Bachelor\\u2019s degree<br>Q9=%{x}<br>Percentage (%)=%{y}\", \"legendgroup\": \"Q6=Data Engineer\", \"marker\": {\"color\": \"#00cc96\"}, \"name\": \"Q6=Data Engineer\", \"offsetgroup\": \"Q6=Data Engineer\", \"orientation\": \"v\", \"showlegend\": false, \"textposition\": \"auto\", \"type\": \"bar\", \"x\": [\"10-20,000\", \"300-400,000\", \"150-200,000\", \"250-300,000\", \"I do not wish to disclose my approximate yearly compensation\", \"20-30,000\", \"40-50,000\", \"80-90,000\", \"60-70,000\", \"0-10,000\", \"70-80,000\", \"100-125,000\", \"50-60,000\", \"90-100,000\", \"125-150,000\", \"30-40,000\", \"200-250,000\"], \"xaxis\": \"x6\", \"y\": [4.43864229765013, 4.166666666666666, 3.91304347826087, 3.225806451612903, 3.0456852791878175, 2.8764805414551606, 2.6785714285714284, 2.553191489361702, 2.515723270440252, 2.508650519031142, 2.3952095808383236, 2.237136465324385, 2.211302211302211, 2.135231316725979, 2.054794520547945, 1.8480492813141685, 1.282051282051282], \"yaxis\": \"y6\"}, {\"alignmentgroup\": \"True\", \"hoverlabel\": {\"namelength\": 0}, \"hovertemplate\": \"Q6=Data Engineer<br>Q4=Doctoral degree<br>Q9=%{x}<br>Percentage (%)=%{y}\", \"legendgroup\": \"Q6=Data Engineer\", \"marker\": {\"color\": \"#00cc96\"}, \"name\": \"Q6=Data Engineer\", \"offsetgroup\": \"Q6=Data Engineer\", \"orientation\": \"v\", \"showlegend\": false, \"textposition\": \"auto\", \"type\": \"bar\", \"x\": [\"200-250,000\", \"150-200,000\", \"60-70,000\", \"90-100,000\", \"I do not wish to disclose my approximate yearly compensation\", \"30-40,000\", \"50-60,000\", \"125-150,000\", \"100-125,000\", \"40-50,000\", \"10-20,000\", \"0-10,000\", \"20-30,000\", \"70-80,000\"], \"xaxis\": \"x5\", \"y\": [2.564102564102564, 1.7391304347826086, 1.257861635220126, 1.0676156583629894, 0.9427121102248005, 0.8213552361396305, 0.7371007371007371, 0.684931506849315, 0.6711409395973155, 0.6696428571428571, 0.5221932114882507, 0.43252595155709345, 0.338409475465313, 0.29940119760479045], \"yaxis\": \"y5\"}, {\"alignmentgroup\": \"True\", \"hoverlabel\": {\"namelength\": 0}, \"hovertemplate\": \"Q6=Data Engineer<br>Q4=No formal education past high school<br>Q9=%{x}<br>Percentage (%)=%{y}\", \"legendgroup\": \"Q6=Data Engineer\", \"marker\": {\"color\": \"#00cc96\"}, \"name\": \"Q6=Data Engineer\", \"offsetgroup\": \"Q6=Data Engineer\", \"orientation\": \"v\", \"showlegend\": false, \"textposition\": \"auto\", \"type\": \"bar\", \"x\": [\"50-60,000\", \"0-10,000\", \"20-30,000\", \"10-20,000\"], \"xaxis\": \"x4\", \"y\": [0.2457002457002457, 0.17301038062283738, 0.1692047377326565, 0.13054830287206268], \"yaxis\": \"y4\"}, {\"alignmentgroup\": \"True\", \"hoverlabel\": {\"namelength\": 0}, \"hovertemplate\": \"Q6=Data Engineer<br>Q4=Some college/university study without earning a bachelor\\u2019s degree<br>Q9=%{x}<br>Percentage (%)=%{y}\", \"legendgroup\": \"Q6=Data Engineer\", \"marker\": {\"color\": \"#00cc96\"}, \"name\": \"Q6=Data Engineer\", \"offsetgroup\": \"Q6=Data Engineer\", \"orientation\": \"v\", \"showlegend\": false, \"textposition\": \"auto\", \"type\": \"bar\", \"x\": [\"125-150,000\", \"30-40,000\", \"70-80,000\", \"90-100,000\", \"60-70,000\", \"0-10,000\", \"50-60,000\", \"40-50,000\", \"I do not wish to disclose my approximate yearly compensation\"], \"xaxis\": \"x3\", \"y\": [0.684931506849315, 0.6160164271047228, 0.5988023952095809, 0.3558718861209964, 0.3144654088050315, 0.25951557093425603, 0.2457002457002457, 0.2232142857142857, 0.145032632342277], \"yaxis\": \"y3\"}, {\"alignmentgroup\": \"True\", \"hoverlabel\": {\"namelength\": 0}, \"hovertemplate\": \"Q6=Data Engineer<br>Q4=I prefer not to answer<br>Q9=%{x}<br>Percentage (%)=%{y}\", \"legendgroup\": \"Q6=Data Engineer\", \"marker\": {\"color\": \"#00cc96\"}, \"name\": \"Q6=Data Engineer\", \"offsetgroup\": \"Q6=Data Engineer\", \"orientation\": \"v\", \"showlegend\": false, \"textposition\": \"auto\", \"type\": \"bar\", \"x\": [\"I do not wish to disclose my approximate yearly compensation\", \"40-50,000\", \"20-30,000\", \"0-10,000\"], \"xaxis\": \"x2\", \"y\": [0.5076142131979695, 0.2232142857142857, 0.1692047377326565, 0.08650519031141869], \"yaxis\": \"y2\"}, {\"alignmentgroup\": \"True\", \"hoverlabel\": {\"namelength\": 0}, \"hovertemplate\": \"Q6=Data Engineer<br>Q4=Professional degree<br>Q9=%{x}<br>Percentage (%)=%{y}\", \"legendgroup\": \"Q6=Data Engineer\", \"marker\": {\"color\": \"#00cc96\"}, \"name\": \"Q6=Data Engineer\", \"offsetgroup\": \"Q6=Data Engineer\", \"orientation\": \"v\", \"showlegend\": false, \"textposition\": \"auto\", \"type\": \"bar\", \"x\": [\"200-250,000\", \"70-80,000\", \"20-30,000\", \"60-70,000\", \"I do not wish to disclose my approximate yearly compensation\", \"10-20,000\", \"50-60,000\", \"100-125,000\", \"30-40,000\", \"0-10,000\"], \"xaxis\": \"x\", \"y\": [1.282051282051282, 0.5988023952095809, 0.5076142131979695, 0.3144654088050315, 0.290065264684554, 0.26109660574412535, 0.2457002457002457, 0.22371364653243847, 0.20533880903490762, 0.08650519031141869], \"yaxis\": \"y\"}],\n",
       "                        {\"annotations\": [{\"font\": {}, \"showarrow\": false, \"text\": \"Q4=Professional degree\", \"textangle\": 90, \"x\": 0.98, \"xanchor\": \"left\", \"xref\": \"paper\", \"y\": 0.05857142857142857, \"yanchor\": \"middle\", \"yref\": \"paper\"}, {\"font\": {}, \"showarrow\": false, \"text\": \"Q4=I prefer not to answer\", \"textangle\": 90, \"x\": 0.98, \"xanchor\": \"left\", \"xref\": \"paper\", \"y\": 0.2057142857142857, \"yanchor\": \"middle\", \"yref\": \"paper\"}, {\"font\": {}, \"showarrow\": false, \"text\": \"Q4=Some college/university study without earning a bachelor\\u2019s degree\", \"textangle\": 90, \"x\": 0.98, \"xanchor\": \"left\", \"xref\": \"paper\", \"y\": 0.35285714285714287, \"yanchor\": \"middle\", \"yref\": \"paper\"}, {\"font\": {}, \"showarrow\": false, \"text\": \"Q4=No formal education past high school\", \"textangle\": 90, \"x\": 0.98, \"xanchor\": \"left\", \"xref\": \"paper\", \"y\": 0.49999999999999994, \"yanchor\": \"middle\", \"yref\": \"paper\"}, {\"font\": {}, \"showarrow\": false, \"text\": \"Q4=Doctoral degree\", \"textangle\": 90, \"x\": 0.98, \"xanchor\": \"left\", \"xref\": \"paper\", \"y\": 0.647142857142857, \"yanchor\": \"middle\", \"yref\": \"paper\"}, {\"font\": {}, \"showarrow\": false, \"text\": \"Q4=Bachelor\\u2019s degree\", \"textangle\": 90, \"x\": 0.98, \"xanchor\": \"left\", \"xref\": \"paper\", \"y\": 0.7942857142857143, \"yanchor\": \"middle\", \"yref\": \"paper\"}, {\"font\": {}, \"showarrow\": false, \"text\": \"Q4=Master\\u2019s degree\", \"textangle\": 90, \"x\": 0.98, \"xanchor\": \"left\", \"xref\": \"paper\", \"y\": 0.9414285714285713, \"yanchor\": \"middle\", \"yref\": \"paper\"}], \"barmode\": \"group\", \"height\": 3000, \"legend\": {\"tracegroupgap\": 0}, \"template\": {\"data\": {\"bar\": [{\"error_x\": {\"color\": \"#2a3f5f\"}, \"error_y\": {\"color\": \"#2a3f5f\"}, \"marker\": {\"line\": {\"color\": \"#E5ECF6\", \"width\": 0.5}}, \"type\": \"bar\"}], \"barpolar\": [{\"marker\": {\"line\": {\"color\": \"#E5ECF6\", \"width\": 0.5}}, \"type\": \"barpolar\"}], \"carpet\": [{\"aaxis\": {\"endlinecolor\": \"#2a3f5f\", \"gridcolor\": \"white\", \"linecolor\": \"white\", \"minorgridcolor\": \"white\", \"startlinecolor\": \"#2a3f5f\"}, \"baxis\": {\"endlinecolor\": \"#2a3f5f\", \"gridcolor\": \"white\", \"linecolor\": \"white\", \"minorgridcolor\": \"white\", \"startlinecolor\": \"#2a3f5f\"}, \"type\": \"carpet\"}], \"choropleth\": [{\"colorbar\": {\"outlinewidth\": 0, \"ticks\": \"\"}, \"type\": \"choropleth\"}], \"contour\": [{\"colorbar\": {\"outlinewidth\": 0, \"ticks\": \"\"}, \"colorscale\": [[0.0, \"#0d0887\"], [0.1111111111111111, \"#46039f\"], [0.2222222222222222, \"#7201a8\"], [0.3333333333333333, \"#9c179e\"], [0.4444444444444444, \"#bd3786\"], [0.5555555555555556, \"#d8576b\"], [0.6666666666666666, \"#ed7953\"], [0.7777777777777778, \"#fb9f3a\"], [0.8888888888888888, \"#fdca26\"], [1.0, \"#f0f921\"]], \"type\": \"contour\"}], \"contourcarpet\": [{\"colorbar\": {\"outlinewidth\": 0, \"ticks\": \"\"}, \"type\": \"contourcarpet\"}], \"heatmap\": [{\"colorbar\": {\"outlinewidth\": 0, \"ticks\": \"\"}, \"colorscale\": [[0.0, \"#0d0887\"], [0.1111111111111111, \"#46039f\"], [0.2222222222222222, \"#7201a8\"], [0.3333333333333333, \"#9c179e\"], [0.4444444444444444, \"#bd3786\"], [0.5555555555555556, \"#d8576b\"], [0.6666666666666666, \"#ed7953\"], [0.7777777777777778, \"#fb9f3a\"], [0.8888888888888888, \"#fdca26\"], [1.0, \"#f0f921\"]], \"type\": \"heatmap\"}], \"heatmapgl\": [{\"colorbar\": {\"outlinewidth\": 0, \"ticks\": \"\"}, \"colorscale\": [[0.0, \"#0d0887\"], [0.1111111111111111, \"#46039f\"], [0.2222222222222222, \"#7201a8\"], [0.3333333333333333, \"#9c179e\"], [0.4444444444444444, \"#bd3786\"], [0.5555555555555556, \"#d8576b\"], [0.6666666666666666, \"#ed7953\"], [0.7777777777777778, \"#fb9f3a\"], [0.8888888888888888, \"#fdca26\"], [1.0, \"#f0f921\"]], \"type\": \"heatmapgl\"}], \"histogram\": [{\"marker\": {\"colorbar\": {\"outlinewidth\": 0, \"ticks\": \"\"}}, \"type\": \"histogram\"}], \"histogram2d\": [{\"colorbar\": {\"outlinewidth\": 0, \"ticks\": \"\"}, \"colorscale\": [[0.0, \"#0d0887\"], [0.1111111111111111, \"#46039f\"], [0.2222222222222222, \"#7201a8\"], [0.3333333333333333, \"#9c179e\"], [0.4444444444444444, \"#bd3786\"], [0.5555555555555556, \"#d8576b\"], [0.6666666666666666, \"#ed7953\"], [0.7777777777777778, \"#fb9f3a\"], [0.8888888888888888, \"#fdca26\"], [1.0, \"#f0f921\"]], \"type\": \"histogram2d\"}], \"histogram2dcontour\": [{\"colorbar\": {\"outlinewidth\": 0, \"ticks\": \"\"}, \"colorscale\": [[0.0, \"#0d0887\"], [0.1111111111111111, \"#46039f\"], [0.2222222222222222, \"#7201a8\"], [0.3333333333333333, \"#9c179e\"], [0.4444444444444444, \"#bd3786\"], [0.5555555555555556, \"#d8576b\"], [0.6666666666666666, \"#ed7953\"], [0.7777777777777778, \"#fb9f3a\"], [0.8888888888888888, \"#fdca26\"], [1.0, \"#f0f921\"]], \"type\": \"histogram2dcontour\"}], \"mesh3d\": [{\"colorbar\": {\"outlinewidth\": 0, \"ticks\": \"\"}, \"type\": \"mesh3d\"}], \"parcoords\": [{\"line\": {\"colorbar\": {\"outlinewidth\": 0, \"ticks\": \"\"}}, \"type\": \"parcoords\"}], \"scatter\": [{\"marker\": {\"colorbar\": {\"outlinewidth\": 0, \"ticks\": \"\"}}, \"type\": \"scatter\"}], \"scatter3d\": [{\"line\": {\"colorbar\": {\"outlinewidth\": 0, \"ticks\": \"\"}}, \"marker\": {\"colorbar\": {\"outlinewidth\": 0, \"ticks\": \"\"}}, \"type\": \"scatter3d\"}], \"scattercarpet\": [{\"marker\": {\"colorbar\": {\"outlinewidth\": 0, \"ticks\": \"\"}}, \"type\": \"scattercarpet\"}], \"scattergeo\": [{\"marker\": {\"colorbar\": {\"outlinewidth\": 0, \"ticks\": \"\"}}, \"type\": \"scattergeo\"}], \"scattergl\": [{\"marker\": {\"colorbar\": {\"outlinewidth\": 0, \"ticks\": \"\"}}, \"type\": \"scattergl\"}], \"scattermapbox\": [{\"marker\": {\"colorbar\": {\"outlinewidth\": 0, \"ticks\": \"\"}}, \"type\": \"scattermapbox\"}], \"scatterpolar\": [{\"marker\": {\"colorbar\": {\"outlinewidth\": 0, \"ticks\": \"\"}}, \"type\": \"scatterpolar\"}], \"scatterpolargl\": [{\"marker\": {\"colorbar\": {\"outlinewidth\": 0, \"ticks\": \"\"}}, \"type\": \"scatterpolargl\"}], \"scatterternary\": [{\"marker\": {\"colorbar\": {\"outlinewidth\": 0, \"ticks\": \"\"}}, \"type\": \"scatterternary\"}], \"surface\": [{\"colorbar\": {\"outlinewidth\": 0, \"ticks\": \"\"}, \"colorscale\": [[0.0, \"#0d0887\"], [0.1111111111111111, \"#46039f\"], [0.2222222222222222, \"#7201a8\"], [0.3333333333333333, \"#9c179e\"], [0.4444444444444444, \"#bd3786\"], [0.5555555555555556, \"#d8576b\"], [0.6666666666666666, \"#ed7953\"], [0.7777777777777778, \"#fb9f3a\"], [0.8888888888888888, \"#fdca26\"], [1.0, \"#f0f921\"]], \"type\": \"surface\"}], \"table\": [{\"cells\": {\"fill\": {\"color\": \"#EBF0F8\"}, \"line\": {\"color\": \"white\"}}, \"header\": {\"fill\": {\"color\": \"#C8D4E3\"}, \"line\": {\"color\": \"white\"}}, \"type\": \"table\"}]}, \"layout\": {\"annotationdefaults\": {\"arrowcolor\": \"#2a3f5f\", \"arrowhead\": 0, \"arrowwidth\": 1}, \"colorscale\": {\"diverging\": [[0, \"#8e0152\"], [0.1, \"#c51b7d\"], [0.2, \"#de77ae\"], [0.3, \"#f1b6da\"], [0.4, \"#fde0ef\"], [0.5, \"#f7f7f7\"], [0.6, \"#e6f5d0\"], [0.7, \"#b8e186\"], [0.8, \"#7fbc41\"], [0.9, \"#4d9221\"], [1, \"#276419\"]], \"sequential\": [[0.0, \"#0d0887\"], [0.1111111111111111, \"#46039f\"], [0.2222222222222222, \"#7201a8\"], [0.3333333333333333, \"#9c179e\"], [0.4444444444444444, \"#bd3786\"], [0.5555555555555556, \"#d8576b\"], [0.6666666666666666, \"#ed7953\"], [0.7777777777777778, \"#fb9f3a\"], [0.8888888888888888, \"#fdca26\"], [1.0, \"#f0f921\"]], \"sequentialminus\": [[0.0, \"#0d0887\"], [0.1111111111111111, \"#46039f\"], [0.2222222222222222, \"#7201a8\"], [0.3333333333333333, \"#9c179e\"], [0.4444444444444444, \"#bd3786\"], [0.5555555555555556, \"#d8576b\"], [0.6666666666666666, \"#ed7953\"], [0.7777777777777778, \"#fb9f3a\"], [0.8888888888888888, \"#fdca26\"], [1.0, \"#f0f921\"]]}, \"colorway\": [\"#636efa\", \"#EF553B\", \"#00cc96\", \"#ab63fa\", \"#FFA15A\", \"#19d3f3\", \"#FF6692\", \"#B6E880\", \"#FF97FF\", \"#FECB52\"], \"font\": {\"color\": \"#2a3f5f\"}, \"geo\": {\"bgcolor\": \"white\", \"lakecolor\": \"white\", \"landcolor\": \"#E5ECF6\", \"showlakes\": true, \"showland\": true, \"subunitcolor\": \"white\"}, \"hoverlabel\": {\"align\": \"left\"}, \"hovermode\": \"closest\", \"mapbox\": {\"style\": \"light\"}, \"paper_bgcolor\": \"white\", \"plot_bgcolor\": \"#E5ECF6\", \"polar\": {\"angularaxis\": {\"gridcolor\": \"white\", \"linecolor\": \"white\", \"ticks\": \"\"}, \"bgcolor\": \"#E5ECF6\", \"radialaxis\": {\"gridcolor\": \"white\", \"linecolor\": \"white\", \"ticks\": \"\"}}, \"scene\": {\"xaxis\": {\"backgroundcolor\": \"#E5ECF6\", \"gridcolor\": \"white\", \"gridwidth\": 2, \"linecolor\": \"white\", \"showbackground\": true, \"ticks\": \"\", \"zerolinecolor\": \"white\"}, \"yaxis\": {\"backgroundcolor\": \"#E5ECF6\", \"gridcolor\": \"white\", \"gridwidth\": 2, \"linecolor\": \"white\", \"showbackground\": true, \"ticks\": \"\", \"zerolinecolor\": \"white\"}, \"zaxis\": {\"backgroundcolor\": \"#E5ECF6\", \"gridcolor\": \"white\", \"gridwidth\": 2, \"linecolor\": \"white\", \"showbackground\": true, \"ticks\": \"\", \"zerolinecolor\": \"white\"}}, \"shapedefaults\": {\"line\": {\"color\": \"#2a3f5f\"}}, \"ternary\": {\"aaxis\": {\"gridcolor\": \"white\", \"linecolor\": \"white\", \"ticks\": \"\"}, \"baxis\": {\"gridcolor\": \"white\", \"linecolor\": \"white\", \"ticks\": \"\"}, \"bgcolor\": \"#E5ECF6\", \"caxis\": {\"gridcolor\": \"white\", \"linecolor\": \"white\", \"ticks\": \"\"}}, \"title\": {\"x\": 0.05}, \"xaxis\": {\"automargin\": true, \"gridcolor\": \"white\", \"linecolor\": \"white\", \"ticks\": \"\", \"zerolinecolor\": \"white\", \"zerolinewidth\": 2}, \"yaxis\": {\"automargin\": true, \"gridcolor\": \"white\", \"linecolor\": \"white\", \"ticks\": \"\", \"zerolinecolor\": \"white\", \"zerolinewidth\": 2}}}, \"title\": {\"text\": \"International Compensation Breakdown by Role and Level of Education in 2018\"}, \"xaxis\": {\"anchor\": \"y\", \"domain\": [0.0, 0.98], \"title\": {\"text\": \"Q9\"}}, \"xaxis2\": {\"anchor\": \"y2\", \"domain\": [0.0, 0.98], \"matches\": \"x\", \"showticklabels\": false}, \"xaxis3\": {\"anchor\": \"y3\", \"domain\": [0.0, 0.98], \"matches\": \"x\", \"showticklabels\": false}, \"xaxis4\": {\"anchor\": \"y4\", \"domain\": [0.0, 0.98], \"matches\": \"x\", \"showticklabels\": false}, \"xaxis5\": {\"anchor\": \"y5\", \"domain\": [0.0, 0.98], \"matches\": \"x\", \"showticklabels\": false}, \"xaxis6\": {\"anchor\": \"y6\", \"domain\": [0.0, 0.98], \"matches\": \"x\", \"showticklabels\": false}, \"xaxis7\": {\"anchor\": \"y7\", \"domain\": [0.0, 0.98], \"matches\": \"x\", \"showticklabels\": false}, \"yaxis\": {\"anchor\": \"x\", \"domain\": [0.0, 0.11714285714285715], \"title\": {\"text\": \"Percentage (%)\"}}, \"yaxis2\": {\"anchor\": \"x2\", \"domain\": [0.14714285714285713, 0.2642857142857143], \"matches\": \"y\", \"title\": {\"text\": \"Percentage (%)\"}}, \"yaxis3\": {\"anchor\": \"x3\", \"domain\": [0.29428571428571426, 0.4114285714285714], \"matches\": \"y\", \"title\": {\"text\": \"Percentage (%)\"}}, \"yaxis4\": {\"anchor\": \"x4\", \"domain\": [0.4414285714285714, 0.5585714285714285], \"matches\": \"y\", \"title\": {\"text\": \"Percentage (%)\"}}, \"yaxis5\": {\"anchor\": \"x5\", \"domain\": [0.5885714285714285, 0.7057142857142856], \"matches\": \"y\", \"title\": {\"text\": \"Percentage (%)\"}}, \"yaxis6\": {\"anchor\": \"x6\", \"domain\": [0.7357142857142858, 0.8528571428571429], \"matches\": \"y\", \"title\": {\"text\": \"Percentage (%)\"}}, \"yaxis7\": {\"anchor\": \"x7\", \"domain\": [0.8828571428571428, 0.9999999999999999], \"matches\": \"y\", \"title\": {\"text\": \"Percentage (%)\"}}},\n",
       "                        {\"responsive\": true}\n",
       "                    ).then(function(){\n",
       "                            \n",
       "var gd = document.getElementById('1d7b3b92-bc00-49d7-b9ba-448cea7b7b7f');\n",
       "var x = new MutationObserver(function (mutations, observer) {{\n",
       "        var display = window.getComputedStyle(gd).display;\n",
       "        if (!display || display === 'none') {{\n",
       "            console.log([gd, 'removed!']);\n",
       "            Plotly.purge(gd);\n",
       "            observer.disconnect();\n",
       "        }}\n",
       "}});\n",
       "\n",
       "// Listen for the removal of the full notebook cells\n",
       "var notebookContainer = gd.closest('#notebook-container');\n",
       "if (notebookContainer) {{\n",
       "    x.observe(notebookContainer, {childList: true});\n",
       "}}\n",
       "\n",
       "// Listen for the clearing of the current output cell\n",
       "var outputEl = gd.closest('.output');\n",
       "if (outputEl) {{\n",
       "    x.observe(outputEl, {childList: true});\n",
       "}}\n",
       "\n",
       "                        })\n",
       "                };\n",
       "                });\n",
       "            </script>\n",
       "        </div>"
      ]
     },
     "metadata": {},
     "output_type": "display_data"
    }
   ],
   "source": [
    "fig = px.bar(df_test, x = 'Q9', y = 'Percentage', title= 'International Compensation Breakdown by Role and Level of Education in 2018', \n",
    "             color = 'Q6' , barmode='group', labels={'Percentage':'Percentage (%)'}, facet_row='Q4', height = 3000)\n",
    "fig.show()"
   ]
  },
  {
   "cell_type": "markdown",
   "metadata": {},
   "source": [
    "Notes:\n",
    "    1. The most common amount international compensation for data scientists, SWEs, and Data Engineers with a Master's degree is between 40-50,000, 20-30,000, and 300-400,000, respectively. "
   ]
  },
  {
   "cell_type": "markdown",
   "metadata": {},
   "source": [
    "## How does compensation per role and per level of education vary in the Top-3 Most Represented Countries? "
   ]
  },
  {
   "cell_type": "code",
   "execution_count": 197,
   "metadata": {},
   "outputs": [],
   "source": [
    "df_test = df_multi_tech.groupby(['Q6', 'Q9', 'Q4', 'Q3']).size().reset_index(name = 'Percentage')\n",
    "a = df_test.groupby('Q9')['Percentage'].transform('sum')\n",
    "df_test['Percentage'] = df_test['Percentage'].div(a).multiply(100)\n",
    "\n",
    "n = 3\n",
    "df_placeholder = pd.DataFrame({'count' : df_multi_choice.groupby([ \"Q3\"] ).size()}).reset_index().sort_values(by = 'count', ascending = False)\n",
    "\n",
    "top_n_countries = df_placeholder['Q3'].unique()[:n]\n",
    "top_n_countries\n",
    "\n",
    "df_test = df_test[df_test['Q3'].isin(top_n_countries)]\n",
    "df_test = df_test.sort_values(by = ['Percentage'], ascending = False)"
   ]
  },
  {
   "cell_type": "code",
   "execution_count": 199,
   "metadata": {},
   "outputs": [
    {
     "data": {
      "application/vnd.plotly.v1+json": {
       "config": {
        "plotlyServerURL": "https://plot.ly"
       },
       "data": [
        {
         "alignmentgroup": "True",
         "hoverlabel": {
          "namelength": 0
         },
         "hovertemplate": "Q6=Data Scientist<br>Q4=Master’s degree<br>Q3=United States of America<br>=%{x}<br>Percentage (%)=%{y}",
         "legendgroup": "Q6=Data Scientist",
         "marker": {
          "color": "#636efa"
         },
         "name": "Q6=Data Scientist",
         "offsetgroup": "Q6=Data Scientist",
         "orientation": "v",
         "showlegend": true,
         "textposition": "auto",
         "type": "bar",
         "x": [
          "125-150,000",
          "150-200,000",
          "100-125,000",
          "90-100,000",
          "400-500,000",
          "200-250,000",
          "250-300,000",
          "80-90,000",
          "70-80,000",
          "300-400,000",
          "500,000+",
          "60-70,000",
          "I do not wish to disclose my approximate yearly compensation",
          "50-60,000",
          "40-50,000",
          "30-40,000",
          "0-10,000",
          "10-20,000",
          "20-30,000"
         ],
         "xaxis": "x19",
         "y": [
          28.424657534246577,
          25.217391304347824,
          23.713646532438478,
          19.9288256227758,
          18.181818181818183,
          16.666666666666664,
          16.129032258064516,
          15.319148936170212,
          9.281437125748502,
          8.333333333333332,
          5.88235294117647,
          4.716981132075472,
          4.713560551124003,
          2.211302211302211,
          1.5625,
          1.0266940451745379,
          0.7785467128027681,
          0.39164490861618795,
          0.1692047377326565
         ],
         "yaxis": "y19"
        },
        {
         "alignmentgroup": "True",
         "hoverlabel": {
          "namelength": 0
         },
         "hovertemplate": "Q6=Data Scientist<br>Q4=Master’s degree<br>Q3=India<br>=%{x}<br>Percentage (%)=%{y}",
         "legendgroup": "Q6=Data Scientist",
         "marker": {
          "color": "#636efa"
         },
         "name": "Q6=Data Scientist",
         "offsetgroup": "Q6=Data Scientist",
         "orientation": "v",
         "showlegend": false,
         "textposition": "auto",
         "type": "bar",
         "x": [
          "400-500,000",
          "I do not wish to disclose my approximate yearly compensation",
          "0-10,000",
          "10-20,000",
          "20-30,000",
          "30-40,000",
          "200-250,000",
          "90-100,000",
          "40-50,000",
          "60-70,000",
          "100-125,000",
          "70-80,000",
          "50-60,000",
          "80-90,000"
         ],
         "xaxis": "x20",
         "y": [
          9.090909090909092,
          6.091370558375635,
          5.795847750865052,
          5.7441253263707575,
          3.3840947546531304,
          2.6694045174537986,
          2.564102564102564,
          1.4234875444839856,
          1.3392857142857142,
          0.9433962264150944,
          0.6711409395973155,
          0.5988023952095809,
          0.4914004914004914,
          0.425531914893617
         ],
         "yaxis": "y20"
        },
        {
         "alignmentgroup": "True",
         "hoverlabel": {
          "namelength": 0
         },
         "hovertemplate": "Q6=Data Scientist<br>Q4=Master’s degree<br>Q3=China<br>=%{x}<br>Percentage (%)=%{y}",
         "legendgroup": "Q6=Data Scientist",
         "marker": {
          "color": "#636efa"
         },
         "name": "Q6=Data Scientist",
         "offsetgroup": "Q6=Data Scientist",
         "orientation": "v",
         "showlegend": false,
         "textposition": "auto",
         "type": "bar",
         "x": [
          "500,000+",
          "40-50,000",
          "200-250,000",
          "50-60,000",
          "70-80,000",
          "I do not wish to disclose my approximate yearly compensation",
          "80-90,000",
          "20-30,000",
          "30-40,000",
          "90-100,000",
          "0-10,000",
          "10-20,000",
          "60-70,000",
          "150-200,000"
         ],
         "xaxis": "x21",
         "y": [
          5.88235294117647,
          1.5625,
          1.282051282051282,
          0.9828009828009828,
          0.8982035928143712,
          0.8701957940536621,
          0.851063829787234,
          0.8460236886632826,
          0.8213552361396305,
          0.7117437722419928,
          0.6920415224913495,
          0.6527415143603132,
          0.628930817610063,
          0.43478260869565216
         ],
         "yaxis": "y21"
        },
        {
         "alignmentgroup": "True",
         "hoverlabel": {
          "namelength": 0
         },
         "hovertemplate": "Q6=Data Scientist<br>Q4=Doctoral degree<br>Q3=United States of America<br>=%{x}<br>Percentage (%)=%{y}",
         "legendgroup": "Q6=Data Scientist",
         "marker": {
          "color": "#636efa"
         },
         "name": "Q6=Data Scientist",
         "offsetgroup": "Q6=Data Scientist",
         "orientation": "v",
         "showlegend": false,
         "textposition": "auto",
         "type": "bar",
         "x": [
          "200-250,000",
          "300-400,000",
          "150-200,000",
          "400-500,000",
          "250-300,000",
          "125-150,000",
          "100-125,000",
          "90-100,000",
          "80-90,000",
          "I do not wish to disclose my approximate yearly compensation",
          "60-70,000",
          "70-80,000",
          "20-30,000",
          "30-40,000",
          "50-60,000",
          "0-10,000",
          "10-20,000"
         ],
         "xaxis": "x16",
         "y": [
          21.794871794871796,
          20.833333333333336,
          19.565217391304348,
          18.181818181818183,
          16.129032258064516,
          16.095890410958905,
          10.290827740492169,
          6.049822064056939,
          3.404255319148936,
          1.305293691080493,
          1.257861635220126,
          1.1976047904191618,
          0.676818950930626,
          0.6160164271047228,
          0.4914004914004914,
          0.43252595155709345,
          0.13054830287206268
         ],
         "yaxis": "y16"
        },
        {
         "alignmentgroup": "True",
         "hoverlabel": {
          "namelength": 0
         },
         "hovertemplate": "Q6=Data Scientist<br>Q4=Doctoral degree<br>Q3=India<br>=%{x}<br>Percentage (%)=%{y}",
         "legendgroup": "Q6=Data Scientist",
         "marker": {
          "color": "#636efa"
         },
         "name": "Q6=Data Scientist",
         "offsetgroup": "Q6=Data Scientist",
         "orientation": "v",
         "showlegend": false,
         "textposition": "auto",
         "type": "bar",
         "x": [
          "300-400,000",
          "I do not wish to disclose my approximate yearly compensation",
          "20-30,000",
          "0-10,000",
          "50-60,000",
          "100-125,000",
          "40-50,000",
          "30-40,000",
          "10-20,000"
         ],
         "xaxis": "x17",
         "y": [
          4.166666666666666,
          0.7976794778825236,
          0.676818950930626,
          0.43252595155709345,
          0.2457002457002457,
          0.22371364653243847,
          0.2232142857142857,
          0.20533880903490762,
          0.13054830287206268
         ],
         "yaxis": "y17"
        },
        {
         "alignmentgroup": "True",
         "hoverlabel": {
          "namelength": 0
         },
         "hovertemplate": "Q6=Data Scientist<br>Q4=Doctoral degree<br>Q3=China<br>=%{x}<br>Percentage (%)=%{y}",
         "legendgroup": "Q6=Data Scientist",
         "marker": {
          "color": "#636efa"
         },
         "name": "Q6=Data Scientist",
         "offsetgroup": "Q6=Data Scientist",
         "orientation": "v",
         "showlegend": false,
         "textposition": "auto",
         "type": "bar",
         "x": [
          "500,000+",
          "10-20,000",
          "0-10,000",
          "125-150,000",
          "50-60,000",
          "20-30,000",
          "I do not wish to disclose my approximate yearly compensation"
         ],
         "xaxis": "x18",
         "y": [
          5.88235294117647,
          0.5221932114882507,
          0.43252595155709345,
          0.3424657534246575,
          0.2457002457002457,
          0.1692047377326565,
          0.0725163161711385
         ],
         "yaxis": "y18"
        },
        {
         "alignmentgroup": "True",
         "hoverlabel": {
          "namelength": 0
         },
         "hovertemplate": "Q6=Data Scientist<br>Q4=Bachelor’s degree<br>Q3=United States of America<br>=%{x}<br>Percentage (%)=%{y}",
         "legendgroup": "Q6=Data Scientist",
         "marker": {
          "color": "#636efa"
         },
         "name": "Q6=Data Scientist",
         "offsetgroup": "Q6=Data Scientist",
         "orientation": "v",
         "showlegend": false,
         "textposition": "auto",
         "type": "bar",
         "x": [
          "300-400,000",
          "150-200,000",
          "80-90,000",
          "125-150,000",
          "70-80,000",
          "90-100,000",
          "100-125,000",
          "250-300,000",
          "60-70,000",
          "200-250,000",
          "I do not wish to disclose my approximate yearly compensation",
          "50-60,000",
          "40-50,000",
          "0-10,000",
          "30-40,000",
          "20-30,000",
          "10-20,000"
         ],
         "xaxis": "x13",
         "y": [
          8.333333333333332,
          6.956521739130435,
          6.382978723404255,
          6.164383561643835,
          5.688622754491018,
          4.6263345195729535,
          3.5794183445190155,
          3.225806451612903,
          2.8301886792452833,
          1.282051282051282,
          1.2327773749093547,
          1.2285012285012284,
          0.6696428571428571,
          0.34602076124567477,
          0.20533880903490762,
          0.1692047377326565,
          0.13054830287206268
         ],
         "yaxis": "y13"
        },
        {
         "alignmentgroup": "True",
         "hoverlabel": {
          "namelength": 0
         },
         "hovertemplate": "Q6=Data Scientist<br>Q4=Bachelor’s degree<br>Q3=India<br>=%{x}<br>Percentage (%)=%{y}",
         "legendgroup": "Q6=Data Scientist",
         "marker": {
          "color": "#636efa"
         },
         "name": "Q6=Data Scientist",
         "offsetgroup": "Q6=Data Scientist",
         "orientation": "v",
         "showlegend": false,
         "textposition": "auto",
         "type": "bar",
         "x": [
          "500,000+",
          "0-10,000",
          "10-20,000",
          "300-400,000",
          "I do not wish to disclose my approximate yearly compensation",
          "250-300,000",
          "20-30,000",
          "30-40,000",
          "200-250,000",
          "40-50,000",
          "60-70,000",
          "50-60,000",
          "70-80,000",
          "100-125,000",
          "90-100,000"
         ],
         "xaxis": "x14",
         "y": [
          11.76470588235294,
          6.228373702422145,
          4.569190600522193,
          4.166666666666666,
          3.9883973894126177,
          3.225806451612903,
          3.2148900169204735,
          2.0533880903490758,
          1.282051282051282,
          1.1160714285714286,
          0.9433962264150944,
          0.7371007371007371,
          0.5988023952095809,
          0.44742729306487694,
          0.3558718861209964
         ],
         "yaxis": "y14"
        },
        {
         "alignmentgroup": "True",
         "hoverlabel": {
          "namelength": 0
         },
         "hovertemplate": "Q6=Data Scientist<br>Q4=Bachelor’s degree<br>Q3=China<br>=%{x}<br>Percentage (%)=%{y}",
         "legendgroup": "Q6=Data Scientist",
         "marker": {
          "color": "#636efa"
         },
         "name": "Q6=Data Scientist",
         "offsetgroup": "Q6=Data Scientist",
         "orientation": "v",
         "showlegend": false,
         "textposition": "auto",
         "type": "bar",
         "x": [
          "I do not wish to disclose my approximate yearly compensation",
          "10-20,000",
          "90-100,000",
          "70-80,000",
          "100-125,000",
          "40-50,000",
          "30-40,000",
          "0-10,000",
          "20-30,000"
         ],
         "xaxis": "x15",
         "y": [
          0.580130529369108,
          0.5221932114882507,
          0.3558718861209964,
          0.29940119760479045,
          0.22371364653243847,
          0.2232142857142857,
          0.20533880903490762,
          0.17301038062283738,
          0.1692047377326565
         ],
         "yaxis": "y15"
        },
        {
         "alignmentgroup": "True",
         "hoverlabel": {
          "namelength": 0
         },
         "hovertemplate": "Q6=Data Scientist<br>Q4=Some college/university study without earning a bachelor’s degree<br>Q3=United States of America<br>=%{x}<br>Percentage (%)=%{y}",
         "legendgroup": "Q6=Data Scientist",
         "marker": {
          "color": "#636efa"
         },
         "name": "Q6=Data Scientist",
         "offsetgroup": "Q6=Data Scientist",
         "orientation": "v",
         "showlegend": false,
         "textposition": "auto",
         "type": "bar",
         "x": [
          "250-300,000",
          "150-200,000",
          "70-80,000",
          "80-90,000",
          "50-60,000",
          "I do not wish to disclose my approximate yearly compensation"
         ],
         "xaxis": "x10",
         "y": [
          3.225806451612903,
          0.8695652173913043,
          0.5988023952095809,
          0.425531914893617,
          0.2457002457002457,
          0.145032632342277
         ],
         "yaxis": "y10"
        },
        {
         "alignmentgroup": "True",
         "hoverlabel": {
          "namelength": 0
         },
         "hovertemplate": "Q6=Data Scientist<br>Q4=Some college/university study without earning a bachelor’s degree<br>Q3=India<br>=%{x}<br>Percentage (%)=%{y}",
         "legendgroup": "Q6=Data Scientist",
         "marker": {
          "color": "#636efa"
         },
         "name": "Q6=Data Scientist",
         "offsetgroup": "Q6=Data Scientist",
         "orientation": "v",
         "showlegend": false,
         "textposition": "auto",
         "type": "bar",
         "x": [
          "40-50,000",
          "I do not wish to disclose my approximate yearly compensation",
          "0-10,000",
          "20-30,000"
         ],
         "xaxis": "x11",
         "y": [
          0.2232142857142857,
          0.21754894851341552,
          0.17301038062283738,
          0.1692047377326565
         ],
         "yaxis": "y11"
        },
        {
         "alignmentgroup": "True",
         "hoverlabel": {
          "namelength": 0
         },
         "hovertemplate": "Q6=Data Scientist<br>Q4=Some college/university study without earning a bachelor’s degree<br>Q3=China<br>=%{x}<br>Percentage (%)=%{y}",
         "legendgroup": "Q6=Data Scientist",
         "marker": {
          "color": "#636efa"
         },
         "name": "Q6=Data Scientist",
         "offsetgroup": "Q6=Data Scientist",
         "orientation": "v",
         "showlegend": false,
         "textposition": "auto",
         "type": "bar",
         "x": [
          "0-10,000"
         ],
         "xaxis": "x12",
         "y": [
          0.08650519031141869
         ],
         "yaxis": "y12"
        },
        {
         "alignmentgroup": "True",
         "hoverlabel": {
          "namelength": 0
         },
         "hovertemplate": "Q6=Data Scientist<br>Q4=I prefer not to answer<br>Q3=United States of America<br>=%{x}<br>Percentage (%)=%{y}",
         "legendgroup": "Q6=Data Scientist",
         "marker": {
          "color": "#636efa"
         },
         "name": "Q6=Data Scientist",
         "offsetgroup": "Q6=Data Scientist",
         "orientation": "v",
         "showlegend": false,
         "textposition": "auto",
         "type": "bar",
         "x": [
          "150-200,000",
          "125-150,000",
          "I do not wish to disclose my approximate yearly compensation",
          "30-40,000"
         ],
         "xaxis": "x7",
         "y": [
          0.43478260869565216,
          0.3424657534246575,
          0.21754894851341552,
          0.20533880903490762
         ],
         "yaxis": "y7"
        },
        {
         "alignmentgroup": "True",
         "hoverlabel": {
          "namelength": 0
         },
         "hovertemplate": "Q6=Data Scientist<br>Q4=I prefer not to answer<br>Q3=India<br>=%{x}<br>Percentage (%)=%{y}",
         "legendgroup": "Q6=Data Scientist",
         "marker": {
          "color": "#636efa"
         },
         "name": "Q6=Data Scientist",
         "offsetgroup": "Q6=Data Scientist",
         "orientation": "v",
         "showlegend": false,
         "textposition": "auto",
         "type": "bar",
         "x": [
          "250-300,000",
          "10-20,000",
          "I do not wish to disclose my approximate yearly compensation",
          "0-10,000"
         ],
         "xaxis": "x8",
         "y": [
          3.225806451612903,
          0.5221932114882507,
          0.36258158085569253,
          0.17301038062283738
         ],
         "yaxis": "y8"
        },
        {
         "alignmentgroup": "True",
         "hoverlabel": {
          "namelength": 0
         },
         "hovertemplate": "Q6=Data Scientist<br>Q4=I prefer not to answer<br>Q3=China<br>=%{x}<br>Percentage (%)=%{y}",
         "legendgroup": "Q6=Data Scientist",
         "marker": {
          "color": "#636efa"
         },
         "name": "Q6=Data Scientist",
         "offsetgroup": "Q6=Data Scientist",
         "orientation": "v",
         "showlegend": false,
         "textposition": "auto",
         "type": "bar",
         "x": [
          "30-40,000"
         ],
         "xaxis": "x9",
         "y": [
          0.20533880903490762
         ],
         "yaxis": "y9"
        },
        {
         "alignmentgroup": "True",
         "hoverlabel": {
          "namelength": 0
         },
         "hovertemplate": "Q6=Data Scientist<br>Q4=Professional degree<br>Q3=United States of America<br>=%{x}<br>Percentage (%)=%{y}",
         "legendgroup": "Q6=Data Scientist",
         "marker": {
          "color": "#636efa"
         },
         "name": "Q6=Data Scientist",
         "offsetgroup": "Q6=Data Scientist",
         "orientation": "v",
         "showlegend": false,
         "textposition": "auto",
         "type": "bar",
         "x": [
          "200-250,000",
          "70-80,000"
         ],
         "xaxis": "x4",
         "y": [
          2.564102564102564,
          0.29940119760479045
         ],
         "yaxis": "y4"
        },
        {
         "alignmentgroup": "True",
         "hoverlabel": {
          "namelength": 0
         },
         "hovertemplate": "Q6=Data Scientist<br>Q4=Professional degree<br>Q3=India<br>=%{x}<br>Percentage (%)=%{y}",
         "legendgroup": "Q6=Data Scientist",
         "marker": {
          "color": "#636efa"
         },
         "name": "Q6=Data Scientist",
         "offsetgroup": "Q6=Data Scientist",
         "orientation": "v",
         "showlegend": false,
         "textposition": "auto",
         "type": "bar",
         "x": [
          "0-10,000",
          "I do not wish to disclose my approximate yearly compensation",
          "10-20,000",
          "90-100,000",
          "40-50,000",
          "30-40,000",
          "20-30,000"
         ],
         "xaxis": "x5",
         "y": [
          0.6055363321799307,
          0.5076142131979695,
          0.39164490861618795,
          0.3558718861209964,
          0.2232142857142857,
          0.20533880903490762,
          0.1692047377326565
         ],
         "yaxis": "y5"
        },
        {
         "alignmentgroup": "True",
         "hoverlabel": {
          "namelength": 0
         },
         "hovertemplate": "Q6=Data Scientist<br>Q4=No formal education past high school<br>Q3=United States of America<br>=%{x}<br>Percentage (%)=%{y}",
         "legendgroup": "Q6=Data Scientist",
         "marker": {
          "color": "#636efa"
         },
         "name": "Q6=Data Scientist",
         "offsetgroup": "Q6=Data Scientist",
         "orientation": "v",
         "showlegend": false,
         "textposition": "auto",
         "type": "bar",
         "x": [
          "100-125,000",
          "I do not wish to disclose my approximate yearly compensation"
         ],
         "xaxis": "x",
         "y": [
          0.22371364653243847,
          0.0725163161711385
         ],
         "yaxis": "y"
        },
        {
         "alignmentgroup": "True",
         "hoverlabel": {
          "namelength": 0
         },
         "hovertemplate": "Q6=Data Scientist<br>Q4=No formal education past high school<br>Q3=India<br>=%{x}<br>Percentage (%)=%{y}",
         "legendgroup": "Q6=Data Scientist",
         "marker": {
          "color": "#636efa"
         },
         "name": "Q6=Data Scientist",
         "offsetgroup": "Q6=Data Scientist",
         "orientation": "v",
         "showlegend": false,
         "textposition": "auto",
         "type": "bar",
         "x": [
          "10-20,000"
         ],
         "xaxis": "x2",
         "y": [
          0.13054830287206268
         ],
         "yaxis": "y2"
        },
        {
         "alignmentgroup": "True",
         "hoverlabel": {
          "namelength": 0
         },
         "hovertemplate": "Q6=Software Engineer<br>Q4=Master’s degree<br>Q3=United States of America<br>=%{x}<br>Percentage (%)=%{y}",
         "legendgroup": "Q6=Software Engineer",
         "marker": {
          "color": "#EF553B"
         },
         "name": "Q6=Software Engineer",
         "offsetgroup": "Q6=Software Engineer",
         "orientation": "v",
         "showlegend": true,
         "textposition": "auto",
         "type": "bar",
         "x": [
          "300-400,000",
          "200-250,000",
          "500,000+",
          "250-300,000",
          "100-125,000",
          "150-200,000",
          "90-100,000",
          "125-150,000",
          "80-90,000",
          "70-80,000",
          "I do not wish to disclose my approximate yearly compensation",
          "60-70,000",
          "40-50,000",
          "50-60,000",
          "20-30,000",
          "0-10,000",
          "30-40,000"
         ],
         "xaxis": "x19",
         "y": [
          16.666666666666664,
          14.102564102564102,
          11.76470588235294,
          9.67741935483871,
          9.619686800894854,
          8.695652173913043,
          7.829181494661921,
          7.534246575342466,
          6.382978723404255,
          5.688622754491018,
          3.770848440899202,
          1.8867924528301887,
          1.3392857142857142,
          0.7371007371007371,
          0.676818950930626,
          0.5190311418685121,
          0.41067761806981523
         ],
         "yaxis": "y19"
        },
        {
         "alignmentgroup": "True",
         "hoverlabel": {
          "namelength": 0
         },
         "hovertemplate": "Q6=Software Engineer<br>Q4=Master’s degree<br>Q3=India<br>=%{x}<br>Percentage (%)=%{y}",
         "legendgroup": "Q6=Software Engineer",
         "marker": {
          "color": "#EF553B"
         },
         "name": "Q6=Software Engineer",
         "offsetgroup": "Q6=Software Engineer",
         "orientation": "v",
         "showlegend": false,
         "textposition": "auto",
         "type": "bar",
         "x": [
          "0-10,000",
          "10-20,000",
          "I do not wish to disclose my approximate yearly compensation",
          "20-30,000",
          "30-40,000",
          "150-200,000",
          "60-70,000",
          "70-80,000",
          "50-60,000",
          "100-125,000",
          "90-100,000",
          "125-150,000",
          "40-50,000"
         ],
         "xaxis": "x20",
         "y": [
          6.141868512110726,
          4.308093994778068,
          3.5532994923857872,
          2.707275803722504,
          1.8480492813141685,
          0.8695652173913043,
          0.628930817610063,
          0.5988023952095809,
          0.4914004914004914,
          0.44742729306487694,
          0.3558718861209964,
          0.3424657534246575,
          0.2232142857142857
         ],
         "yaxis": "y20"
        },
        {
         "alignmentgroup": "True",
         "hoverlabel": {
          "namelength": 0
         },
         "hovertemplate": "Q6=Software Engineer<br>Q4=Master’s degree<br>Q3=China<br>=%{x}<br>Percentage (%)=%{y}",
         "legendgroup": "Q6=Software Engineer",
         "marker": {
          "color": "#EF553B"
         },
         "name": "Q6=Software Engineer",
         "offsetgroup": "Q6=Software Engineer",
         "orientation": "v",
         "showlegend": false,
         "textposition": "auto",
         "type": "bar",
         "x": [
          "30-40,000",
          "20-30,000",
          "I do not wish to disclose my approximate yearly compensation",
          "0-10,000",
          "10-20,000",
          "70-80,000",
          "40-50,000",
          "50-60,000",
          "80-90,000",
          "90-100,000",
          "60-70,000"
         ],
         "xaxis": "x21",
         "y": [
          2.0533880903490758,
          2.030456852791878,
          1.3778100072516315,
          1.2975778546712802,
          1.1749347258485638,
          0.8982035928143712,
          0.8928571428571428,
          0.4914004914004914,
          0.425531914893617,
          0.3558718861209964,
          0.3144654088050315
         ],
         "yaxis": "y21"
        },
        {
         "alignmentgroup": "True",
         "hoverlabel": {
          "namelength": 0
         },
         "hovertemplate": "Q6=Software Engineer<br>Q4=Doctoral degree<br>Q3=United States of America<br>=%{x}<br>Percentage (%)=%{y}",
         "legendgroup": "Q6=Software Engineer",
         "marker": {
          "color": "#EF553B"
         },
         "name": "Q6=Software Engineer",
         "offsetgroup": "Q6=Software Engineer",
         "orientation": "v",
         "showlegend": false,
         "textposition": "auto",
         "type": "bar",
         "x": [
          "400-500,000",
          "200-250,000",
          "300-400,000",
          "150-200,000",
          "250-300,000",
          "125-150,000",
          "100-125,000",
          "I do not wish to disclose my approximate yearly compensation",
          "80-90,000",
          "90-100,000",
          "50-60,000"
         ],
         "xaxis": "x16",
         "y": [
          18.181818181818183,
          6.41025641025641,
          4.166666666666666,
          3.4782608695652173,
          3.225806451612903,
          2.054794520547945,
          2.013422818791946,
          0.5076142131979695,
          0.425531914893617,
          0.3558718861209964,
          0.2457002457002457
         ],
         "yaxis": "y16"
        },
        {
         "alignmentgroup": "True",
         "hoverlabel": {
          "namelength": 0
         },
         "hovertemplate": "Q6=Software Engineer<br>Q4=Doctoral degree<br>Q3=India<br>=%{x}<br>Percentage (%)=%{y}",
         "legendgroup": "Q6=Software Engineer",
         "marker": {
          "color": "#EF553B"
         },
         "name": "Q6=Software Engineer",
         "offsetgroup": "Q6=Software Engineer",
         "orientation": "v",
         "showlegend": false,
         "textposition": "auto",
         "type": "bar",
         "x": [
          "20-30,000",
          "0-10,000",
          "I do not wish to disclose my approximate yearly compensation",
          "10-20,000"
         ],
         "xaxis": "x17",
         "y": [
          0.338409475465313,
          0.25951557093425603,
          0.21754894851341552,
          0.13054830287206268
         ],
         "yaxis": "y17"
        },
        {
         "alignmentgroup": "True",
         "hoverlabel": {
          "namelength": 0
         },
         "hovertemplate": "Q6=Software Engineer<br>Q4=Doctoral degree<br>Q3=China<br>=%{x}<br>Percentage (%)=%{y}",
         "legendgroup": "Q6=Software Engineer",
         "marker": {
          "color": "#EF553B"
         },
         "name": "Q6=Software Engineer",
         "offsetgroup": "Q6=Software Engineer",
         "orientation": "v",
         "showlegend": false,
         "textposition": "auto",
         "type": "bar",
         "x": [
          "90-100,000",
          "40-50,000",
          "30-40,000",
          "0-10,000"
         ],
         "xaxis": "x18",
         "y": [
          0.3558718861209964,
          0.2232142857142857,
          0.20533880903490762,
          0.17301038062283738
         ],
         "yaxis": "y18"
        },
        {
         "alignmentgroup": "True",
         "hoverlabel": {
          "namelength": 0
         },
         "hovertemplate": "Q6=Software Engineer<br>Q4=Bachelor’s degree<br>Q3=United States of America<br>=%{x}<br>Percentage (%)=%{y}",
         "legendgroup": "Q6=Software Engineer",
         "marker": {
          "color": "#EF553B"
         },
         "name": "Q6=Software Engineer",
         "offsetgroup": "Q6=Software Engineer",
         "orientation": "v",
         "showlegend": false,
         "textposition": "auto",
         "type": "bar",
         "x": [
          "250-300,000",
          "400-500,000",
          "150-200,000",
          "100-125,000",
          "500,000+",
          "125-150,000",
          "200-250,000",
          "90-100,000",
          "300-400,000",
          "70-80,000",
          "80-90,000",
          "50-60,000",
          "60-70,000",
          "I do not wish to disclose my approximate yearly compensation",
          "40-50,000",
          "30-40,000",
          "10-20,000",
          "20-30,000",
          "0-10,000"
         ],
         "xaxis": "x13",
         "y": [
          12.903225806451612,
          9.090909090909092,
          7.391304347826087,
          6.7114093959731544,
          5.88235294117647,
          5.821917808219178,
          5.128205128205128,
          4.270462633451958,
          4.166666666666666,
          3.8922155688622757,
          3.829787234042553,
          3.194103194103194,
          2.8301886792452833,
          1.9579405366207396,
          1.3392857142857142,
          0.6160164271047228,
          0.39164490861618795,
          0.338409475465313,
          0.08650519031141869
         ],
         "yaxis": "y13"
        },
        {
         "alignmentgroup": "True",
         "hoverlabel": {
          "namelength": 0
         },
         "hovertemplate": "Q6=Software Engineer<br>Q4=Bachelor’s degree<br>Q3=India<br>=%{x}<br>Percentage (%)=%{y}",
         "legendgroup": "Q6=Software Engineer",
         "marker": {
          "color": "#EF553B"
         },
         "name": "Q6=Software Engineer",
         "offsetgroup": "Q6=Software Engineer",
         "orientation": "v",
         "showlegend": false,
         "textposition": "auto",
         "type": "bar",
         "x": [
          "0-10,000",
          "400-500,000",
          "10-20,000",
          "I do not wish to disclose my approximate yearly compensation",
          "250-300,000",
          "500,000+",
          "20-30,000",
          "300-400,000",
          "30-40,000",
          "40-50,000",
          "60-70,000",
          "50-60,000",
          "70-80,000",
          "90-100,000",
          "80-90,000"
         ],
         "xaxis": "x14",
         "y": [
          14.359861591695502,
          9.090909090909092,
          9.007832898172325,
          7.1065989847715745,
          6.451612903225806,
          5.88235294117647,
          5.414551607445008,
          4.166666666666666,
          2.2587268993839835,
          1.3392857142857142,
          1.257861635220126,
          0.9828009828009828,
          0.8982035928143712,
          0.7117437722419928,
          0.425531914893617
         ],
         "yaxis": "y14"
        },
        {
         "alignmentgroup": "True",
         "hoverlabel": {
          "namelength": 0
         },
         "hovertemplate": "Q6=Software Engineer<br>Q4=Bachelor’s degree<br>Q3=China<br>=%{x}<br>Percentage (%)=%{y}",
         "legendgroup": "Q6=Software Engineer",
         "marker": {
          "color": "#EF553B"
         },
         "name": "Q6=Software Engineer",
         "offsetgroup": "Q6=Software Engineer",
         "orientation": "v",
         "showlegend": false,
         "textposition": "auto",
         "type": "bar",
         "x": [
          "30-40,000",
          "20-30,000",
          "10-20,000",
          "I do not wish to disclose my approximate yearly compensation",
          "50-60,000",
          "0-10,000",
          "40-50,000",
          "60-70,000"
         ],
         "xaxis": "x15",
         "y": [
          1.2320328542094456,
          1.1844331641285957,
          1.0443864229765014,
          0.9427121102248005,
          0.7371007371007371,
          0.6920415224913495,
          0.6696428571428571,
          0.628930817610063
         ],
         "yaxis": "y15"
        },
        {
         "alignmentgroup": "True",
         "hoverlabel": {
          "namelength": 0
         },
         "hovertemplate": "Q6=Software Engineer<br>Q4=Some college/university study without earning a bachelor’s degree<br>Q3=United States of America<br>=%{x}<br>Percentage (%)=%{y}",
         "legendgroup": "Q6=Software Engineer",
         "marker": {
          "color": "#EF553B"
         },
         "name": "Q6=Software Engineer",
         "offsetgroup": "Q6=Software Engineer",
         "orientation": "v",
         "showlegend": false,
         "textposition": "auto",
         "type": "bar",
         "x": [
          "500,000+",
          "125-150,000",
          "150-200,000",
          "200-250,000",
          "80-90,000",
          "70-80,000",
          "100-125,000",
          "90-100,000",
          "60-70,000",
          "30-40,000",
          "I do not wish to disclose my approximate yearly compensation"
         ],
         "xaxis": "x10",
         "y": [
          5.88235294117647,
          2.3972602739726026,
          1.7391304347826086,
          1.282051282051282,
          1.276595744680851,
          0.8982035928143712,
          0.6711409395973155,
          0.3558718861209964,
          0.3144654088050315,
          0.20533880903490762,
          0.145032632342277
         ],
         "yaxis": "y10"
        },
        {
         "alignmentgroup": "True",
         "hoverlabel": {
          "namelength": 0
         },
         "hovertemplate": "Q6=Software Engineer<br>Q4=Some college/university study without earning a bachelor’s degree<br>Q3=India<br>=%{x}<br>Percentage (%)=%{y}",
         "legendgroup": "Q6=Software Engineer",
         "marker": {
          "color": "#EF553B"
         },
         "name": "Q6=Software Engineer",
         "offsetgroup": "Q6=Software Engineer",
         "orientation": "v",
         "showlegend": false,
         "textposition": "auto",
         "type": "bar",
         "x": [
          "0-10,000",
          "I do not wish to disclose my approximate yearly compensation",
          "10-20,000"
         ],
         "xaxis": "x11",
         "y": [
          0.17301038062283738,
          0.145032632342277,
          0.13054830287206268
         ],
         "yaxis": "y11"
        },
        {
         "alignmentgroup": "True",
         "hoverlabel": {
          "namelength": 0
         },
         "hovertemplate": "Q6=Software Engineer<br>Q4=Some college/university study without earning a bachelor’s degree<br>Q3=China<br>=%{x}<br>Percentage (%)=%{y}",
         "legendgroup": "Q6=Software Engineer",
         "marker": {
          "color": "#EF553B"
         },
         "name": "Q6=Software Engineer",
         "offsetgroup": "Q6=Software Engineer",
         "orientation": "v",
         "showlegend": false,
         "textposition": "auto",
         "type": "bar",
         "x": [
          "80-90,000",
          "20-30,000",
          "10-20,000",
          "0-10,000",
          "50-60,000",
          "I do not wish to disclose my approximate yearly compensation"
         ],
         "xaxis": "x12",
         "y": [
          0.425531914893617,
          0.338409475465313,
          0.26109660574412535,
          0.25951557093425603,
          0.2457002457002457,
          0.0725163161711385
         ],
         "yaxis": "y12"
        },
        {
         "alignmentgroup": "True",
         "hoverlabel": {
          "namelength": 0
         },
         "hovertemplate": "Q6=Software Engineer<br>Q4=I prefer not to answer<br>Q3=United States of America<br>=%{x}<br>Percentage (%)=%{y}",
         "legendgroup": "Q6=Software Engineer",
         "marker": {
          "color": "#EF553B"
         },
         "name": "Q6=Software Engineer",
         "offsetgroup": "Q6=Software Engineer",
         "orientation": "v",
         "showlegend": false,
         "textposition": "auto",
         "type": "bar",
         "x": [
          "70-80,000",
          "100-125,000"
         ],
         "xaxis": "x7",
         "y": [
          0.29940119760479045,
          0.22371364653243847
         ],
         "yaxis": "y7"
        },
        {
         "alignmentgroup": "True",
         "hoverlabel": {
          "namelength": 0
         },
         "hovertemplate": "Q6=Software Engineer<br>Q4=I prefer not to answer<br>Q3=India<br>=%{x}<br>Percentage (%)=%{y}",
         "legendgroup": "Q6=Software Engineer",
         "marker": {
          "color": "#EF553B"
         },
         "name": "Q6=Software Engineer",
         "offsetgroup": "Q6=Software Engineer",
         "orientation": "v",
         "showlegend": false,
         "textposition": "auto",
         "type": "bar",
         "x": [
          "I do not wish to disclose my approximate yearly compensation",
          "0-10,000",
          "30-40,000",
          "20-30,000"
         ],
         "xaxis": "x8",
         "y": [
          0.7251631617113851,
          0.34602076124567477,
          0.20533880903490762,
          0.1692047377326565
         ],
         "yaxis": "y8"
        },
        {
         "alignmentgroup": "True",
         "hoverlabel": {
          "namelength": 0
         },
         "hovertemplate": "Q6=Software Engineer<br>Q4=I prefer not to answer<br>Q3=China<br>=%{x}<br>Percentage (%)=%{y}",
         "legendgroup": "Q6=Software Engineer",
         "marker": {
          "color": "#EF553B"
         },
         "name": "Q6=Software Engineer",
         "offsetgroup": "Q6=Software Engineer",
         "orientation": "v",
         "showlegend": false,
         "textposition": "auto",
         "type": "bar",
         "x": [
          "I do not wish to disclose my approximate yearly compensation",
          "50-60,000",
          "30-40,000",
          "10-20,000",
          "0-10,000"
         ],
         "xaxis": "x9",
         "y": [
          0.36258158085569253,
          0.2457002457002457,
          0.20533880903490762,
          0.13054830287206268,
          0.08650519031141869
         ],
         "yaxis": "y9"
        },
        {
         "alignmentgroup": "True",
         "hoverlabel": {
          "namelength": 0
         },
         "hovertemplate": "Q6=Software Engineer<br>Q4=Professional degree<br>Q3=United States of America<br>=%{x}<br>Percentage (%)=%{y}",
         "legendgroup": "Q6=Software Engineer",
         "marker": {
          "color": "#EF553B"
         },
         "name": "Q6=Software Engineer",
         "offsetgroup": "Q6=Software Engineer",
         "orientation": "v",
         "showlegend": false,
         "textposition": "auto",
         "type": "bar",
         "x": [
          "90-100,000",
          "100-125,000",
          "I do not wish to disclose my approximate yearly compensation"
         ],
         "xaxis": "x4",
         "y": [
          0.3558718861209964,
          0.22371364653243847,
          0.145032632342277
         ],
         "yaxis": "y4"
        },
        {
         "alignmentgroup": "True",
         "hoverlabel": {
          "namelength": 0
         },
         "hovertemplate": "Q6=Software Engineer<br>Q4=Professional degree<br>Q3=India<br>=%{x}<br>Percentage (%)=%{y}",
         "legendgroup": "Q6=Software Engineer",
         "marker": {
          "color": "#EF553B"
         },
         "name": "Q6=Software Engineer",
         "offsetgroup": "Q6=Software Engineer",
         "orientation": "v",
         "showlegend": false,
         "textposition": "auto",
         "type": "bar",
         "x": [
          "10-20,000",
          "0-10,000",
          "I do not wish to disclose my approximate yearly compensation",
          "30-40,000",
          "20-30,000"
         ],
         "xaxis": "x5",
         "y": [
          0.7832898172323759,
          0.6920415224913495,
          0.5076142131979695,
          0.20533880903490762,
          0.1692047377326565
         ],
         "yaxis": "y5"
        },
        {
         "alignmentgroup": "True",
         "hoverlabel": {
          "namelength": 0
         },
         "hovertemplate": "Q6=Software Engineer<br>Q4=Professional degree<br>Q3=China<br>=%{x}<br>Percentage (%)=%{y}",
         "legendgroup": "Q6=Software Engineer",
         "marker": {
          "color": "#EF553B"
         },
         "name": "Q6=Software Engineer",
         "offsetgroup": "Q6=Software Engineer",
         "orientation": "v",
         "showlegend": false,
         "textposition": "auto",
         "type": "bar",
         "x": [
          "0-10,000",
          "I do not wish to disclose my approximate yearly compensation"
         ],
         "xaxis": "x6",
         "y": [
          0.08650519031141869,
          0.0725163161711385
         ],
         "yaxis": "y6"
        },
        {
         "alignmentgroup": "True",
         "hoverlabel": {
          "namelength": 0
         },
         "hovertemplate": "Q6=Software Engineer<br>Q4=No formal education past high school<br>Q3=United States of America<br>=%{x}<br>Percentage (%)=%{y}",
         "legendgroup": "Q6=Software Engineer",
         "marker": {
          "color": "#EF553B"
         },
         "name": "Q6=Software Engineer",
         "offsetgroup": "Q6=Software Engineer",
         "orientation": "v",
         "showlegend": false,
         "textposition": "auto",
         "type": "bar",
         "x": [
          "70-80,000",
          "100-125,000"
         ],
         "xaxis": "x",
         "y": [
          0.29940119760479045,
          0.22371364653243847
         ],
         "yaxis": "y"
        },
        {
         "alignmentgroup": "True",
         "hoverlabel": {
          "namelength": 0
         },
         "hovertemplate": "Q6=Software Engineer<br>Q4=No formal education past high school<br>Q3=India<br>=%{x}<br>Percentage (%)=%{y}",
         "legendgroup": "Q6=Software Engineer",
         "marker": {
          "color": "#EF553B"
         },
         "name": "Q6=Software Engineer",
         "offsetgroup": "Q6=Software Engineer",
         "orientation": "v",
         "showlegend": false,
         "textposition": "auto",
         "type": "bar",
         "x": [
          "20-30,000"
         ],
         "xaxis": "x2",
         "y": [
          0.1692047377326565
         ],
         "yaxis": "y2"
        },
        {
         "alignmentgroup": "True",
         "hoverlabel": {
          "namelength": 0
         },
         "hovertemplate": "Q6=Software Engineer<br>Q4=No formal education past high school<br>Q3=China<br>=%{x}<br>Percentage (%)=%{y}",
         "legendgroup": "Q6=Software Engineer",
         "marker": {
          "color": "#EF553B"
         },
         "name": "Q6=Software Engineer",
         "offsetgroup": "Q6=Software Engineer",
         "orientation": "v",
         "showlegend": false,
         "textposition": "auto",
         "type": "bar",
         "x": [
          "30-40,000"
         ],
         "xaxis": "x3",
         "y": [
          0.20533880903490762
         ],
         "yaxis": "y3"
        },
        {
         "alignmentgroup": "True",
         "hoverlabel": {
          "namelength": 0
         },
         "hovertemplate": "Q6=Data Engineer<br>Q4=Master’s degree<br>Q3=United States of America<br>=%{x}<br>Percentage (%)=%{y}",
         "legendgroup": "Q6=Data Engineer",
         "marker": {
          "color": "#00cc96"
         },
         "name": "Q6=Data Engineer",
         "offsetgroup": "Q6=Data Engineer",
         "orientation": "v",
         "showlegend": true,
         "textposition": "auto",
         "type": "bar",
         "x": [
          "125-150,000",
          "300-400,000",
          "80-90,000",
          "150-200,000",
          "100-125,000",
          "200-250,000",
          "60-70,000",
          "70-80,000",
          "90-100,000",
          "50-60,000",
          "I do not wish to disclose my approximate yearly compensation",
          "20-30,000",
          "0-10,000"
         ],
         "xaxis": "x19",
         "y": [
          4.794520547945205,
          4.166666666666666,
          3.829787234042553,
          3.0434782608695654,
          2.684563758389262,
          2.564102564102564,
          1.8867924528301887,
          1.4970059880239521,
          1.0676156583629894,
          0.7371007371007371,
          0.580130529369108,
          0.1692047377326565,
          0.08650519031141869
         ],
         "yaxis": "y19"
        },
        {
         "alignmentgroup": "True",
         "hoverlabel": {
          "namelength": 0
         },
         "hovertemplate": "Q6=Data Engineer<br>Q4=Master’s degree<br>Q3=India<br>=%{x}<br>Percentage (%)=%{y}",
         "legendgroup": "Q6=Data Engineer",
         "marker": {
          "color": "#00cc96"
         },
         "name": "Q6=Data Engineer",
         "offsetgroup": "Q6=Data Engineer",
         "orientation": "v",
         "showlegend": false,
         "textposition": "auto",
         "type": "bar",
         "x": [
          "0-10,000",
          "10-20,000",
          "I do not wish to disclose my approximate yearly compensation",
          "20-30,000",
          "100-125,000",
          "40-50,000",
          "150-200,000",
          "90-100,000",
          "50-60,000",
          "30-40,000"
         ],
         "xaxis": "x20",
         "y": [
          1.2975778546712802,
          1.0443864229765014,
          0.9427121102248005,
          0.8460236886632826,
          0.6711409395973155,
          0.4464285714285714,
          0.43478260869565216,
          0.3558718861209964,
          0.2457002457002457,
          0.20533880903490762
         ],
         "yaxis": "y20"
        },
        {
         "alignmentgroup": "True",
         "hoverlabel": {
          "namelength": 0
         },
         "hovertemplate": "Q6=Data Engineer<br>Q4=Master’s degree<br>Q3=China<br>=%{x}<br>Percentage (%)=%{y}",
         "legendgroup": "Q6=Data Engineer",
         "marker": {
          "color": "#00cc96"
         },
         "name": "Q6=Data Engineer",
         "offsetgroup": "Q6=Data Engineer",
         "orientation": "v",
         "showlegend": false,
         "textposition": "auto",
         "type": "bar",
         "x": [
          "250-300,000",
          "200-250,000",
          "0-10,000",
          "I do not wish to disclose my approximate yearly compensation",
          "40-50,000",
          "30-40,000",
          "10-20,000",
          "50-60,000",
          "60-70,000",
          "20-30,000",
          "80-90,000",
          "90-100,000",
          "100-125,000"
         ],
         "xaxis": "x21",
         "y": [
          3.225806451612903,
          1.282051282051282,
          1.2110726643598615,
          0.9427121102248005,
          0.8928571428571428,
          0.8213552361396305,
          0.7832898172323759,
          0.7371007371007371,
          0.628930817610063,
          0.5076142131979695,
          0.425531914893617,
          0.3558718861209964,
          0.22371364653243847
         ],
         "yaxis": "y21"
        },
        {
         "alignmentgroup": "True",
         "hoverlabel": {
          "namelength": 0
         },
         "hovertemplate": "Q6=Data Engineer<br>Q4=Doctoral degree<br>Q3=United States of America<br>=%{x}<br>Percentage (%)=%{y}",
         "legendgroup": "Q6=Data Engineer",
         "marker": {
          "color": "#00cc96"
         },
         "name": "Q6=Data Engineer",
         "offsetgroup": "Q6=Data Engineer",
         "orientation": "v",
         "showlegend": false,
         "textposition": "auto",
         "type": "bar",
         "x": [
          "200-250,000",
          "150-200,000",
          "125-150,000",
          "100-125,000",
          "90-100,000",
          "60-70,000"
         ],
         "xaxis": "x16",
         "y": [
          1.282051282051282,
          0.8695652173913043,
          0.684931506849315,
          0.6711409395973155,
          0.3558718861209964,
          0.3144654088050315
         ],
         "yaxis": "y16"
        },
        {
         "alignmentgroup": "True",
         "hoverlabel": {
          "namelength": 0
         },
         "hovertemplate": "Q6=Data Engineer<br>Q4=Doctoral degree<br>Q3=India<br>=%{x}<br>Percentage (%)=%{y}",
         "legendgroup": "Q6=Data Engineer",
         "marker": {
          "color": "#00cc96"
         },
         "name": "Q6=Data Engineer",
         "offsetgroup": "Q6=Data Engineer",
         "orientation": "v",
         "showlegend": false,
         "textposition": "auto",
         "type": "bar",
         "x": [
          "40-50,000",
          "I do not wish to disclose my approximate yearly compensation",
          "0-10,000"
         ],
         "xaxis": "x17",
         "y": [
          0.2232142857142857,
          0.145032632342277,
          0.08650519031141869
         ],
         "yaxis": "y17"
        },
        {
         "alignmentgroup": "True",
         "hoverlabel": {
          "namelength": 0
         },
         "hovertemplate": "Q6=Data Engineer<br>Q4=Doctoral degree<br>Q3=China<br>=%{x}<br>Percentage (%)=%{y}",
         "legendgroup": "Q6=Data Engineer",
         "marker": {
          "color": "#00cc96"
         },
         "name": "Q6=Data Engineer",
         "offsetgroup": "Q6=Data Engineer",
         "orientation": "v",
         "showlegend": false,
         "textposition": "auto",
         "type": "bar",
         "x": [
          "I do not wish to disclose my approximate yearly compensation",
          "30-40,000",
          "10-20,000",
          "0-10,000"
         ],
         "xaxis": "x18",
         "y": [
          0.21754894851341552,
          0.20533880903490762,
          0.13054830287206268,
          0.08650519031141869
         ],
         "yaxis": "y18"
        },
        {
         "alignmentgroup": "True",
         "hoverlabel": {
          "namelength": 0
         },
         "hovertemplate": "Q6=Data Engineer<br>Q4=Bachelor’s degree<br>Q3=United States of America<br>=%{x}<br>Percentage (%)=%{y}",
         "legendgroup": "Q6=Data Engineer",
         "marker": {
          "color": "#00cc96"
         },
         "name": "Q6=Data Engineer",
         "offsetgroup": "Q6=Data Engineer",
         "orientation": "v",
         "showlegend": false,
         "textposition": "auto",
         "type": "bar",
         "x": [
          "150-200,000",
          "250-300,000",
          "125-150,000",
          "100-125,000",
          "200-250,000",
          "80-90,000",
          "60-70,000",
          "90-100,000",
          "70-80,000",
          "50-60,000",
          "I do not wish to disclose my approximate yearly compensation",
          "40-50,000",
          "0-10,000",
          "20-30,000"
         ],
         "xaxis": "x13",
         "y": [
          3.4782608695652173,
          3.225806451612903,
          1.7123287671232876,
          1.5659955257270695,
          1.282051282051282,
          1.276595744680851,
          1.257861635220126,
          1.0676156583629894,
          0.8982035928143712,
          0.7371007371007371,
          0.5076142131979695,
          0.2232142857142857,
          0.17301038062283738,
          0.1692047377326565
         ],
         "yaxis": "y13"
        },
        {
         "alignmentgroup": "True",
         "hoverlabel": {
          "namelength": 0
         },
         "hovertemplate": "Q6=Data Engineer<br>Q4=Bachelor’s degree<br>Q3=India<br>=%{x}<br>Percentage (%)=%{y}",
         "legendgroup": "Q6=Data Engineer",
         "marker": {
          "color": "#00cc96"
         },
         "name": "Q6=Data Engineer",
         "offsetgroup": "Q6=Data Engineer",
         "orientation": "v",
         "showlegend": false,
         "textposition": "auto",
         "type": "bar",
         "x": [
          "10-20,000",
          "I do not wish to disclose my approximate yearly compensation",
          "0-10,000",
          "20-30,000",
          "50-60,000",
          "90-100,000",
          "60-70,000",
          "30-40,000"
         ],
         "xaxis": "x14",
         "y": [
          1.5665796344647518,
          1.2327773749093547,
          1.0380622837370241,
          0.676818950930626,
          0.4914004914004914,
          0.3558718861209964,
          0.3144654088050315,
          0.20533880903490762
         ],
         "yaxis": "y14"
        },
        {
         "alignmentgroup": "True",
         "hoverlabel": {
          "namelength": 0
         },
         "hovertemplate": "Q6=Data Engineer<br>Q4=Bachelor’s degree<br>Q3=China<br>=%{x}<br>Percentage (%)=%{y}",
         "legendgroup": "Q6=Data Engineer",
         "marker": {
          "color": "#00cc96"
         },
         "name": "Q6=Data Engineer",
         "offsetgroup": "Q6=Data Engineer",
         "orientation": "v",
         "showlegend": false,
         "textposition": "auto",
         "type": "bar",
         "x": [
          "10-20,000",
          "20-30,000",
          "30-40,000",
          "I do not wish to disclose my approximate yearly compensation",
          "0-10,000"
         ],
         "xaxis": "x15",
         "y": [
          0.7832898172323759,
          0.5076142131979695,
          0.41067761806981523,
          0.36258158085569253,
          0.25951557093425603
         ],
         "yaxis": "y15"
        },
        {
         "alignmentgroup": "True",
         "hoverlabel": {
          "namelength": 0
         },
         "hovertemplate": "Q6=Data Engineer<br>Q4=Some college/university study without earning a bachelor’s degree<br>Q3=United States of America<br>=%{x}<br>Percentage (%)=%{y}",
         "legendgroup": "Q6=Data Engineer",
         "marker": {
          "color": "#00cc96"
         },
         "name": "Q6=Data Engineer",
         "offsetgroup": "Q6=Data Engineer",
         "orientation": "v",
         "showlegend": false,
         "textposition": "auto",
         "type": "bar",
         "x": [
          "90-100,000",
          "125-150,000"
         ],
         "xaxis": "x10",
         "y": [
          0.3558718861209964,
          0.3424657534246575
         ],
         "yaxis": "y10"
        },
        {
         "alignmentgroup": "True",
         "hoverlabel": {
          "namelength": 0
         },
         "hovertemplate": "Q6=Data Engineer<br>Q4=Some college/university study without earning a bachelor’s degree<br>Q3=India<br>=%{x}<br>Percentage (%)=%{y}",
         "legendgroup": "Q6=Data Engineer",
         "marker": {
          "color": "#00cc96"
         },
         "name": "Q6=Data Engineer",
         "offsetgroup": "Q6=Data Engineer",
         "orientation": "v",
         "showlegend": false,
         "textposition": "auto",
         "type": "bar",
         "x": [
          "0-10,000"
         ],
         "xaxis": "x11",
         "y": [
          0.08650519031141869
         ],
         "yaxis": "y11"
        },
        {
         "alignmentgroup": "True",
         "hoverlabel": {
          "namelength": 0
         },
         "hovertemplate": "Q6=Data Engineer<br>Q4=Some college/university study without earning a bachelor’s degree<br>Q3=China<br>=%{x}<br>Percentage (%)=%{y}",
         "legendgroup": "Q6=Data Engineer",
         "marker": {
          "color": "#00cc96"
         },
         "name": "Q6=Data Engineer",
         "offsetgroup": "Q6=Data Engineer",
         "orientation": "v",
         "showlegend": false,
         "textposition": "auto",
         "type": "bar",
         "x": [
          "I do not wish to disclose my approximate yearly compensation"
         ],
         "xaxis": "x12",
         "y": [
          0.0725163161711385
         ],
         "yaxis": "y12"
        },
        {
         "alignmentgroup": "True",
         "hoverlabel": {
          "namelength": 0
         },
         "hovertemplate": "Q6=Data Engineer<br>Q4=I prefer not to answer<br>Q3=India<br>=%{x}<br>Percentage (%)=%{y}",
         "legendgroup": "Q6=Data Engineer",
         "marker": {
          "color": "#00cc96"
         },
         "name": "Q6=Data Engineer",
         "offsetgroup": "Q6=Data Engineer",
         "orientation": "v",
         "showlegend": false,
         "textposition": "auto",
         "type": "bar",
         "x": [
          "I do not wish to disclose my approximate yearly compensation"
         ],
         "xaxis": "x8",
         "y": [
          0.0725163161711385
         ],
         "yaxis": "y8"
        },
        {
         "alignmentgroup": "True",
         "hoverlabel": {
          "namelength": 0
         },
         "hovertemplate": "Q6=Data Engineer<br>Q4=I prefer not to answer<br>Q3=China<br>=%{x}<br>Percentage (%)=%{y}",
         "legendgroup": "Q6=Data Engineer",
         "marker": {
          "color": "#00cc96"
         },
         "name": "Q6=Data Engineer",
         "offsetgroup": "Q6=Data Engineer",
         "orientation": "v",
         "showlegend": false,
         "textposition": "auto",
         "type": "bar",
         "x": [
          "I do not wish to disclose my approximate yearly compensation",
          "0-10,000"
         ],
         "xaxis": "x9",
         "y": [
          0.21754894851341552,
          0.08650519031141869
         ],
         "yaxis": "y9"
        },
        {
         "alignmentgroup": "True",
         "hoverlabel": {
          "namelength": 0
         },
         "hovertemplate": "Q6=Data Engineer<br>Q4=Professional degree<br>Q3=India<br>=%{x}<br>Percentage (%)=%{y}",
         "legendgroup": "Q6=Data Engineer",
         "marker": {
          "color": "#00cc96"
         },
         "name": "Q6=Data Engineer",
         "offsetgroup": "Q6=Data Engineer",
         "orientation": "v",
         "showlegend": false,
         "textposition": "auto",
         "type": "bar",
         "x": [
          "20-30,000"
         ],
         "xaxis": "x5",
         "y": [
          0.1692047377326565
         ],
         "yaxis": "y5"
        },
        {
         "alignmentgroup": "True",
         "hoverlabel": {
          "namelength": 0
         },
         "hovertemplate": "Q6=Data Engineer<br>Q4=Professional degree<br>Q3=China<br>=%{x}<br>Percentage (%)=%{y}",
         "legendgroup": "Q6=Data Engineer",
         "marker": {
          "color": "#00cc96"
         },
         "name": "Q6=Data Engineer",
         "offsetgroup": "Q6=Data Engineer",
         "orientation": "v",
         "showlegend": false,
         "textposition": "auto",
         "type": "bar",
         "x": [
          "70-80,000"
         ],
         "xaxis": "x6",
         "y": [
          0.29940119760479045
         ],
         "yaxis": "y6"
        },
        {
         "alignmentgroup": "True",
         "hoverlabel": {
          "namelength": 0
         },
         "hovertemplate": "Q6=Data Engineer<br>Q4=No formal education past high school<br>Q3=India<br>=%{x}<br>Percentage (%)=%{y}",
         "legendgroup": "Q6=Data Engineer",
         "marker": {
          "color": "#00cc96"
         },
         "name": "Q6=Data Engineer",
         "offsetgroup": "Q6=Data Engineer",
         "orientation": "v",
         "showlegend": false,
         "textposition": "auto",
         "type": "bar",
         "x": [
          "0-10,000"
         ],
         "xaxis": "x2",
         "y": [
          0.08650519031141869
         ],
         "yaxis": "y2"
        }
       ],
       "layout": {
        "annotations": [
         {
          "font": {},
          "showarrow": false,
          "text": "Q3=United States of America",
          "x": 0.15666666666666665,
          "xanchor": "center",
          "xref": "paper",
          "y": 0.9999999999999999,
          "yanchor": "bottom",
          "yref": "paper"
         },
         {
          "font": {},
          "showarrow": false,
          "text": "Q3=India",
          "x": 0.49,
          "xanchor": "center",
          "xref": "paper",
          "y": 0.9999999999999999,
          "yanchor": "bottom",
          "yref": "paper"
         },
         {
          "font": {},
          "showarrow": false,
          "text": "Q3=China",
          "x": 0.8233333333333333,
          "xanchor": "center",
          "xref": "paper",
          "y": 0.9999999999999999,
          "yanchor": "bottom",
          "yref": "paper"
         },
         {
          "font": {},
          "showarrow": false,
          "text": "Q4=No formal education past high school",
          "textangle": 90,
          "x": 0.98,
          "xanchor": "left",
          "xref": "paper",
          "y": 0.05857142857142857,
          "yanchor": "middle",
          "yref": "paper"
         },
         {
          "font": {},
          "showarrow": false,
          "text": "Q4=Professional degree",
          "textangle": 90,
          "x": 0.98,
          "xanchor": "left",
          "xref": "paper",
          "y": 0.2057142857142857,
          "yanchor": "middle",
          "yref": "paper"
         },
         {
          "font": {},
          "showarrow": false,
          "text": "Q4=I prefer not to answer",
          "textangle": 90,
          "x": 0.98,
          "xanchor": "left",
          "xref": "paper",
          "y": 0.35285714285714287,
          "yanchor": "middle",
          "yref": "paper"
         },
         {
          "font": {},
          "showarrow": false,
          "text": "Q4=Some college/university study without earning a bachelor’s degree",
          "textangle": 90,
          "x": 0.98,
          "xanchor": "left",
          "xref": "paper",
          "y": 0.49999999999999994,
          "yanchor": "middle",
          "yref": "paper"
         },
         {
          "font": {},
          "showarrow": false,
          "text": "Q4=Bachelor’s degree",
          "textangle": 90,
          "x": 0.98,
          "xanchor": "left",
          "xref": "paper",
          "y": 0.647142857142857,
          "yanchor": "middle",
          "yref": "paper"
         },
         {
          "font": {},
          "showarrow": false,
          "text": "Q4=Doctoral degree",
          "textangle": 90,
          "x": 0.98,
          "xanchor": "left",
          "xref": "paper",
          "y": 0.7942857142857143,
          "yanchor": "middle",
          "yref": "paper"
         },
         {
          "font": {},
          "showarrow": false,
          "text": "Q4=Master’s degree",
          "textangle": 90,
          "x": 0.98,
          "xanchor": "left",
          "xref": "paper",
          "y": 0.9414285714285713,
          "yanchor": "middle",
          "yref": "paper"
         }
        ],
        "barmode": "group",
        "height": 3000,
        "legend": {
         "tracegroupgap": 0
        },
        "template": {
         "data": {
          "bar": [
           {
            "error_x": {
             "color": "#2a3f5f"
            },
            "error_y": {
             "color": "#2a3f5f"
            },
            "marker": {
             "line": {
              "color": "#E5ECF6",
              "width": 0.5
             }
            },
            "type": "bar"
           }
          ],
          "barpolar": [
           {
            "marker": {
             "line": {
              "color": "#E5ECF6",
              "width": 0.5
             }
            },
            "type": "barpolar"
           }
          ],
          "carpet": [
           {
            "aaxis": {
             "endlinecolor": "#2a3f5f",
             "gridcolor": "white",
             "linecolor": "white",
             "minorgridcolor": "white",
             "startlinecolor": "#2a3f5f"
            },
            "baxis": {
             "endlinecolor": "#2a3f5f",
             "gridcolor": "white",
             "linecolor": "white",
             "minorgridcolor": "white",
             "startlinecolor": "#2a3f5f"
            },
            "type": "carpet"
           }
          ],
          "choropleth": [
           {
            "colorbar": {
             "outlinewidth": 0,
             "ticks": ""
            },
            "type": "choropleth"
           }
          ],
          "contour": [
           {
            "colorbar": {
             "outlinewidth": 0,
             "ticks": ""
            },
            "colorscale": [
             [
              0,
              "#0d0887"
             ],
             [
              0.1111111111111111,
              "#46039f"
             ],
             [
              0.2222222222222222,
              "#7201a8"
             ],
             [
              0.3333333333333333,
              "#9c179e"
             ],
             [
              0.4444444444444444,
              "#bd3786"
             ],
             [
              0.5555555555555556,
              "#d8576b"
             ],
             [
              0.6666666666666666,
              "#ed7953"
             ],
             [
              0.7777777777777778,
              "#fb9f3a"
             ],
             [
              0.8888888888888888,
              "#fdca26"
             ],
             [
              1,
              "#f0f921"
             ]
            ],
            "type": "contour"
           }
          ],
          "contourcarpet": [
           {
            "colorbar": {
             "outlinewidth": 0,
             "ticks": ""
            },
            "type": "contourcarpet"
           }
          ],
          "heatmap": [
           {
            "colorbar": {
             "outlinewidth": 0,
             "ticks": ""
            },
            "colorscale": [
             [
              0,
              "#0d0887"
             ],
             [
              0.1111111111111111,
              "#46039f"
             ],
             [
              0.2222222222222222,
              "#7201a8"
             ],
             [
              0.3333333333333333,
              "#9c179e"
             ],
             [
              0.4444444444444444,
              "#bd3786"
             ],
             [
              0.5555555555555556,
              "#d8576b"
             ],
             [
              0.6666666666666666,
              "#ed7953"
             ],
             [
              0.7777777777777778,
              "#fb9f3a"
             ],
             [
              0.8888888888888888,
              "#fdca26"
             ],
             [
              1,
              "#f0f921"
             ]
            ],
            "type": "heatmap"
           }
          ],
          "heatmapgl": [
           {
            "colorbar": {
             "outlinewidth": 0,
             "ticks": ""
            },
            "colorscale": [
             [
              0,
              "#0d0887"
             ],
             [
              0.1111111111111111,
              "#46039f"
             ],
             [
              0.2222222222222222,
              "#7201a8"
             ],
             [
              0.3333333333333333,
              "#9c179e"
             ],
             [
              0.4444444444444444,
              "#bd3786"
             ],
             [
              0.5555555555555556,
              "#d8576b"
             ],
             [
              0.6666666666666666,
              "#ed7953"
             ],
             [
              0.7777777777777778,
              "#fb9f3a"
             ],
             [
              0.8888888888888888,
              "#fdca26"
             ],
             [
              1,
              "#f0f921"
             ]
            ],
            "type": "heatmapgl"
           }
          ],
          "histogram": [
           {
            "marker": {
             "colorbar": {
              "outlinewidth": 0,
              "ticks": ""
             }
            },
            "type": "histogram"
           }
          ],
          "histogram2d": [
           {
            "colorbar": {
             "outlinewidth": 0,
             "ticks": ""
            },
            "colorscale": [
             [
              0,
              "#0d0887"
             ],
             [
              0.1111111111111111,
              "#46039f"
             ],
             [
              0.2222222222222222,
              "#7201a8"
             ],
             [
              0.3333333333333333,
              "#9c179e"
             ],
             [
              0.4444444444444444,
              "#bd3786"
             ],
             [
              0.5555555555555556,
              "#d8576b"
             ],
             [
              0.6666666666666666,
              "#ed7953"
             ],
             [
              0.7777777777777778,
              "#fb9f3a"
             ],
             [
              0.8888888888888888,
              "#fdca26"
             ],
             [
              1,
              "#f0f921"
             ]
            ],
            "type": "histogram2d"
           }
          ],
          "histogram2dcontour": [
           {
            "colorbar": {
             "outlinewidth": 0,
             "ticks": ""
            },
            "colorscale": [
             [
              0,
              "#0d0887"
             ],
             [
              0.1111111111111111,
              "#46039f"
             ],
             [
              0.2222222222222222,
              "#7201a8"
             ],
             [
              0.3333333333333333,
              "#9c179e"
             ],
             [
              0.4444444444444444,
              "#bd3786"
             ],
             [
              0.5555555555555556,
              "#d8576b"
             ],
             [
              0.6666666666666666,
              "#ed7953"
             ],
             [
              0.7777777777777778,
              "#fb9f3a"
             ],
             [
              0.8888888888888888,
              "#fdca26"
             ],
             [
              1,
              "#f0f921"
             ]
            ],
            "type": "histogram2dcontour"
           }
          ],
          "mesh3d": [
           {
            "colorbar": {
             "outlinewidth": 0,
             "ticks": ""
            },
            "type": "mesh3d"
           }
          ],
          "parcoords": [
           {
            "line": {
             "colorbar": {
              "outlinewidth": 0,
              "ticks": ""
             }
            },
            "type": "parcoords"
           }
          ],
          "scatter": [
           {
            "marker": {
             "colorbar": {
              "outlinewidth": 0,
              "ticks": ""
             }
            },
            "type": "scatter"
           }
          ],
          "scatter3d": [
           {
            "line": {
             "colorbar": {
              "outlinewidth": 0,
              "ticks": ""
             }
            },
            "marker": {
             "colorbar": {
              "outlinewidth": 0,
              "ticks": ""
             }
            },
            "type": "scatter3d"
           }
          ],
          "scattercarpet": [
           {
            "marker": {
             "colorbar": {
              "outlinewidth": 0,
              "ticks": ""
             }
            },
            "type": "scattercarpet"
           }
          ],
          "scattergeo": [
           {
            "marker": {
             "colorbar": {
              "outlinewidth": 0,
              "ticks": ""
             }
            },
            "type": "scattergeo"
           }
          ],
          "scattergl": [
           {
            "marker": {
             "colorbar": {
              "outlinewidth": 0,
              "ticks": ""
             }
            },
            "type": "scattergl"
           }
          ],
          "scattermapbox": [
           {
            "marker": {
             "colorbar": {
              "outlinewidth": 0,
              "ticks": ""
             }
            },
            "type": "scattermapbox"
           }
          ],
          "scatterpolar": [
           {
            "marker": {
             "colorbar": {
              "outlinewidth": 0,
              "ticks": ""
             }
            },
            "type": "scatterpolar"
           }
          ],
          "scatterpolargl": [
           {
            "marker": {
             "colorbar": {
              "outlinewidth": 0,
              "ticks": ""
             }
            },
            "type": "scatterpolargl"
           }
          ],
          "scatterternary": [
           {
            "marker": {
             "colorbar": {
              "outlinewidth": 0,
              "ticks": ""
             }
            },
            "type": "scatterternary"
           }
          ],
          "surface": [
           {
            "colorbar": {
             "outlinewidth": 0,
             "ticks": ""
            },
            "colorscale": [
             [
              0,
              "#0d0887"
             ],
             [
              0.1111111111111111,
              "#46039f"
             ],
             [
              0.2222222222222222,
              "#7201a8"
             ],
             [
              0.3333333333333333,
              "#9c179e"
             ],
             [
              0.4444444444444444,
              "#bd3786"
             ],
             [
              0.5555555555555556,
              "#d8576b"
             ],
             [
              0.6666666666666666,
              "#ed7953"
             ],
             [
              0.7777777777777778,
              "#fb9f3a"
             ],
             [
              0.8888888888888888,
              "#fdca26"
             ],
             [
              1,
              "#f0f921"
             ]
            ],
            "type": "surface"
           }
          ],
          "table": [
           {
            "cells": {
             "fill": {
              "color": "#EBF0F8"
             },
             "line": {
              "color": "white"
             }
            },
            "header": {
             "fill": {
              "color": "#C8D4E3"
             },
             "line": {
              "color": "white"
             }
            },
            "type": "table"
           }
          ]
         },
         "layout": {
          "annotationdefaults": {
           "arrowcolor": "#2a3f5f",
           "arrowhead": 0,
           "arrowwidth": 1
          },
          "colorscale": {
           "diverging": [
            [
             0,
             "#8e0152"
            ],
            [
             0.1,
             "#c51b7d"
            ],
            [
             0.2,
             "#de77ae"
            ],
            [
             0.3,
             "#f1b6da"
            ],
            [
             0.4,
             "#fde0ef"
            ],
            [
             0.5,
             "#f7f7f7"
            ],
            [
             0.6,
             "#e6f5d0"
            ],
            [
             0.7,
             "#b8e186"
            ],
            [
             0.8,
             "#7fbc41"
            ],
            [
             0.9,
             "#4d9221"
            ],
            [
             1,
             "#276419"
            ]
           ],
           "sequential": [
            [
             0,
             "#0d0887"
            ],
            [
             0.1111111111111111,
             "#46039f"
            ],
            [
             0.2222222222222222,
             "#7201a8"
            ],
            [
             0.3333333333333333,
             "#9c179e"
            ],
            [
             0.4444444444444444,
             "#bd3786"
            ],
            [
             0.5555555555555556,
             "#d8576b"
            ],
            [
             0.6666666666666666,
             "#ed7953"
            ],
            [
             0.7777777777777778,
             "#fb9f3a"
            ],
            [
             0.8888888888888888,
             "#fdca26"
            ],
            [
             1,
             "#f0f921"
            ]
           ],
           "sequentialminus": [
            [
             0,
             "#0d0887"
            ],
            [
             0.1111111111111111,
             "#46039f"
            ],
            [
             0.2222222222222222,
             "#7201a8"
            ],
            [
             0.3333333333333333,
             "#9c179e"
            ],
            [
             0.4444444444444444,
             "#bd3786"
            ],
            [
             0.5555555555555556,
             "#d8576b"
            ],
            [
             0.6666666666666666,
             "#ed7953"
            ],
            [
             0.7777777777777778,
             "#fb9f3a"
            ],
            [
             0.8888888888888888,
             "#fdca26"
            ],
            [
             1,
             "#f0f921"
            ]
           ]
          },
          "colorway": [
           "#636efa",
           "#EF553B",
           "#00cc96",
           "#ab63fa",
           "#FFA15A",
           "#19d3f3",
           "#FF6692",
           "#B6E880",
           "#FF97FF",
           "#FECB52"
          ],
          "font": {
           "color": "#2a3f5f"
          },
          "geo": {
           "bgcolor": "white",
           "lakecolor": "white",
           "landcolor": "#E5ECF6",
           "showlakes": true,
           "showland": true,
           "subunitcolor": "white"
          },
          "hoverlabel": {
           "align": "left"
          },
          "hovermode": "closest",
          "mapbox": {
           "style": "light"
          },
          "paper_bgcolor": "white",
          "plot_bgcolor": "#E5ECF6",
          "polar": {
           "angularaxis": {
            "gridcolor": "white",
            "linecolor": "white",
            "ticks": ""
           },
           "bgcolor": "#E5ECF6",
           "radialaxis": {
            "gridcolor": "white",
            "linecolor": "white",
            "ticks": ""
           }
          },
          "scene": {
           "xaxis": {
            "backgroundcolor": "#E5ECF6",
            "gridcolor": "white",
            "gridwidth": 2,
            "linecolor": "white",
            "showbackground": true,
            "ticks": "",
            "zerolinecolor": "white"
           },
           "yaxis": {
            "backgroundcolor": "#E5ECF6",
            "gridcolor": "white",
            "gridwidth": 2,
            "linecolor": "white",
            "showbackground": true,
            "ticks": "",
            "zerolinecolor": "white"
           },
           "zaxis": {
            "backgroundcolor": "#E5ECF6",
            "gridcolor": "white",
            "gridwidth": 2,
            "linecolor": "white",
            "showbackground": true,
            "ticks": "",
            "zerolinecolor": "white"
           }
          },
          "shapedefaults": {
           "line": {
            "color": "#2a3f5f"
           }
          },
          "ternary": {
           "aaxis": {
            "gridcolor": "white",
            "linecolor": "white",
            "ticks": ""
           },
           "baxis": {
            "gridcolor": "white",
            "linecolor": "white",
            "ticks": ""
           },
           "bgcolor": "#E5ECF6",
           "caxis": {
            "gridcolor": "white",
            "linecolor": "white",
            "ticks": ""
           }
          },
          "title": {
           "x": 0.05
          },
          "xaxis": {
           "automargin": true,
           "gridcolor": "white",
           "linecolor": "white",
           "ticks": "",
           "zerolinecolor": "white",
           "zerolinewidth": 2
          },
          "yaxis": {
           "automargin": true,
           "gridcolor": "white",
           "linecolor": "white",
           "ticks": "",
           "zerolinecolor": "white",
           "zerolinewidth": 2
          }
         }
        },
        "title": {
         "text": "Top 3 Countries: Compensation Breakdown by Role and Level of Education in 2018"
        },
        "xaxis": {
         "anchor": "y",
         "domain": [
          0,
          0.3133333333333333
         ],
         "title": {
          "text": ""
         }
        },
        "xaxis10": {
         "anchor": "y10",
         "domain": [
          0,
          0.3133333333333333
         ],
         "matches": "x",
         "showticklabels": false
        },
        "xaxis11": {
         "anchor": "y11",
         "domain": [
          0.3333333333333333,
          0.6466666666666666
         ],
         "matches": "x",
         "showticklabels": false
        },
        "xaxis12": {
         "anchor": "y12",
         "domain": [
          0.6666666666666666,
          0.98
         ],
         "matches": "x",
         "showticklabels": false
        },
        "xaxis13": {
         "anchor": "y13",
         "domain": [
          0,
          0.3133333333333333
         ],
         "matches": "x",
         "showticklabels": false
        },
        "xaxis14": {
         "anchor": "y14",
         "domain": [
          0.3333333333333333,
          0.6466666666666666
         ],
         "matches": "x",
         "showticklabels": false
        },
        "xaxis15": {
         "anchor": "y15",
         "domain": [
          0.6666666666666666,
          0.98
         ],
         "matches": "x",
         "showticklabels": false
        },
        "xaxis16": {
         "anchor": "y16",
         "domain": [
          0,
          0.3133333333333333
         ],
         "matches": "x",
         "showticklabels": false
        },
        "xaxis17": {
         "anchor": "y17",
         "domain": [
          0.3333333333333333,
          0.6466666666666666
         ],
         "matches": "x",
         "showticklabels": false
        },
        "xaxis18": {
         "anchor": "y18",
         "domain": [
          0.6666666666666666,
          0.98
         ],
         "matches": "x",
         "showticklabels": false
        },
        "xaxis19": {
         "anchor": "y19",
         "domain": [
          0,
          0.3133333333333333
         ],
         "matches": "x",
         "showticklabels": false
        },
        "xaxis2": {
         "anchor": "y2",
         "domain": [
          0.3333333333333333,
          0.6466666666666666
         ],
         "matches": "x",
         "title": {
          "text": ""
         }
        },
        "xaxis20": {
         "anchor": "y20",
         "domain": [
          0.3333333333333333,
          0.6466666666666666
         ],
         "matches": "x",
         "showticklabels": false
        },
        "xaxis21": {
         "anchor": "y21",
         "domain": [
          0.6666666666666666,
          0.98
         ],
         "matches": "x",
         "showticklabels": false
        },
        "xaxis3": {
         "anchor": "y3",
         "domain": [
          0.6666666666666666,
          0.98
         ],
         "matches": "x",
         "title": {
          "text": ""
         }
        },
        "xaxis4": {
         "anchor": "y4",
         "domain": [
          0,
          0.3133333333333333
         ],
         "matches": "x",
         "showticklabels": false
        },
        "xaxis5": {
         "anchor": "y5",
         "domain": [
          0.3333333333333333,
          0.6466666666666666
         ],
         "matches": "x",
         "showticklabels": false
        },
        "xaxis6": {
         "anchor": "y6",
         "domain": [
          0.6666666666666666,
          0.98
         ],
         "matches": "x",
         "showticklabels": false
        },
        "xaxis7": {
         "anchor": "y7",
         "domain": [
          0,
          0.3133333333333333
         ],
         "matches": "x",
         "showticklabels": false
        },
        "xaxis8": {
         "anchor": "y8",
         "domain": [
          0.3333333333333333,
          0.6466666666666666
         ],
         "matches": "x",
         "showticklabels": false
        },
        "xaxis9": {
         "anchor": "y9",
         "domain": [
          0.6666666666666666,
          0.98
         ],
         "matches": "x",
         "showticklabels": false
        },
        "yaxis": {
         "anchor": "x",
         "domain": [
          0,
          0.11714285714285715
         ],
         "title": {
          "text": "Percentage (%)"
         }
        },
        "yaxis10": {
         "anchor": "x10",
         "domain": [
          0.4414285714285714,
          0.5585714285714285
         ],
         "matches": "y",
         "title": {
          "text": "Percentage (%)"
         }
        },
        "yaxis11": {
         "anchor": "x11",
         "domain": [
          0.4414285714285714,
          0.5585714285714285
         ],
         "matches": "y",
         "showticklabels": false
        },
        "yaxis12": {
         "anchor": "x12",
         "domain": [
          0.4414285714285714,
          0.5585714285714285
         ],
         "matches": "y",
         "showticklabels": false
        },
        "yaxis13": {
         "anchor": "x13",
         "domain": [
          0.5885714285714285,
          0.7057142857142856
         ],
         "matches": "y",
         "title": {
          "text": "Percentage (%)"
         }
        },
        "yaxis14": {
         "anchor": "x14",
         "domain": [
          0.5885714285714285,
          0.7057142857142856
         ],
         "matches": "y",
         "showticklabels": false
        },
        "yaxis15": {
         "anchor": "x15",
         "domain": [
          0.5885714285714285,
          0.7057142857142856
         ],
         "matches": "y",
         "showticklabels": false
        },
        "yaxis16": {
         "anchor": "x16",
         "domain": [
          0.7357142857142858,
          0.8528571428571429
         ],
         "matches": "y",
         "title": {
          "text": "Percentage (%)"
         }
        },
        "yaxis17": {
         "anchor": "x17",
         "domain": [
          0.7357142857142858,
          0.8528571428571429
         ],
         "matches": "y",
         "showticklabels": false
        },
        "yaxis18": {
         "anchor": "x18",
         "domain": [
          0.7357142857142858,
          0.8528571428571429
         ],
         "matches": "y",
         "showticklabels": false
        },
        "yaxis19": {
         "anchor": "x19",
         "domain": [
          0.8828571428571428,
          0.9999999999999999
         ],
         "matches": "y",
         "title": {
          "text": "Percentage (%)"
         }
        },
        "yaxis2": {
         "anchor": "x2",
         "domain": [
          0,
          0.11714285714285715
         ],
         "matches": "y",
         "showticklabels": false
        },
        "yaxis20": {
         "anchor": "x20",
         "domain": [
          0.8828571428571428,
          0.9999999999999999
         ],
         "matches": "y",
         "showticklabels": false
        },
        "yaxis21": {
         "anchor": "x21",
         "domain": [
          0.8828571428571428,
          0.9999999999999999
         ],
         "matches": "y",
         "showticklabels": false
        },
        "yaxis3": {
         "anchor": "x3",
         "domain": [
          0,
          0.11714285714285715
         ],
         "matches": "y",
         "showticklabels": false
        },
        "yaxis4": {
         "anchor": "x4",
         "domain": [
          0.14714285714285713,
          0.2642857142857143
         ],
         "matches": "y",
         "title": {
          "text": "Percentage (%)"
         }
        },
        "yaxis5": {
         "anchor": "x5",
         "domain": [
          0.14714285714285713,
          0.2642857142857143
         ],
         "matches": "y",
         "showticklabels": false
        },
        "yaxis6": {
         "anchor": "x6",
         "domain": [
          0.14714285714285713,
          0.2642857142857143
         ],
         "matches": "y",
         "showticklabels": false
        },
        "yaxis7": {
         "anchor": "x7",
         "domain": [
          0.29428571428571426,
          0.4114285714285714
         ],
         "matches": "y",
         "title": {
          "text": "Percentage (%)"
         }
        },
        "yaxis8": {
         "anchor": "x8",
         "domain": [
          0.29428571428571426,
          0.4114285714285714
         ],
         "matches": "y",
         "showticklabels": false
        },
        "yaxis9": {
         "anchor": "x9",
         "domain": [
          0.29428571428571426,
          0.4114285714285714
         ],
         "matches": "y",
         "showticklabels": false
        }
       }
      },
      "text/html": [
       "<div>\n",
       "        \n",
       "        \n",
       "            <div id=\"e3a62fa0-b8eb-4bb3-9e4f-31a0de94dfa5\" class=\"plotly-graph-div\" style=\"height:3000px; width:100%;\"></div>\n",
       "            <script type=\"text/javascript\">\n",
       "                require([\"plotly\"], function(Plotly) {\n",
       "                    window.PLOTLYENV=window.PLOTLYENV || {};\n",
       "                    \n",
       "                if (document.getElementById(\"e3a62fa0-b8eb-4bb3-9e4f-31a0de94dfa5\")) {\n",
       "                    Plotly.newPlot(\n",
       "                        'e3a62fa0-b8eb-4bb3-9e4f-31a0de94dfa5',\n",
       "                        [{\"alignmentgroup\": \"True\", \"hoverlabel\": {\"namelength\": 0}, \"hovertemplate\": \"Q6=Data Scientist<br>Q4=Master\\u2019s degree<br>Q3=United States of America<br>=%{x}<br>Percentage (%)=%{y}\", \"legendgroup\": \"Q6=Data Scientist\", \"marker\": {\"color\": \"#636efa\"}, \"name\": \"Q6=Data Scientist\", \"offsetgroup\": \"Q6=Data Scientist\", \"orientation\": \"v\", \"showlegend\": true, \"textposition\": \"auto\", \"type\": \"bar\", \"x\": [\"125-150,000\", \"150-200,000\", \"100-125,000\", \"90-100,000\", \"400-500,000\", \"200-250,000\", \"250-300,000\", \"80-90,000\", \"70-80,000\", \"300-400,000\", \"500,000+\", \"60-70,000\", \"I do not wish to disclose my approximate yearly compensation\", \"50-60,000\", \"40-50,000\", \"30-40,000\", \"0-10,000\", \"10-20,000\", \"20-30,000\"], \"xaxis\": \"x19\", \"y\": [28.424657534246577, 25.217391304347824, 23.713646532438478, 19.9288256227758, 18.181818181818183, 16.666666666666664, 16.129032258064516, 15.319148936170212, 9.281437125748502, 8.333333333333332, 5.88235294117647, 4.716981132075472, 4.713560551124003, 2.211302211302211, 1.5625, 1.0266940451745379, 0.7785467128027681, 0.39164490861618795, 0.1692047377326565], \"yaxis\": \"y19\"}, {\"alignmentgroup\": \"True\", \"hoverlabel\": {\"namelength\": 0}, \"hovertemplate\": \"Q6=Data Scientist<br>Q4=Master\\u2019s degree<br>Q3=India<br>=%{x}<br>Percentage (%)=%{y}\", \"legendgroup\": \"Q6=Data Scientist\", \"marker\": {\"color\": \"#636efa\"}, \"name\": \"Q6=Data Scientist\", \"offsetgroup\": \"Q6=Data Scientist\", \"orientation\": \"v\", \"showlegend\": false, \"textposition\": \"auto\", \"type\": \"bar\", \"x\": [\"400-500,000\", \"I do not wish to disclose my approximate yearly compensation\", \"0-10,000\", \"10-20,000\", \"20-30,000\", \"30-40,000\", \"200-250,000\", \"90-100,000\", \"40-50,000\", \"60-70,000\", \"100-125,000\", \"70-80,000\", \"50-60,000\", \"80-90,000\"], \"xaxis\": \"x20\", \"y\": [9.090909090909092, 6.091370558375635, 5.795847750865052, 5.7441253263707575, 3.3840947546531304, 2.6694045174537986, 2.564102564102564, 1.4234875444839856, 1.3392857142857142, 0.9433962264150944, 0.6711409395973155, 0.5988023952095809, 0.4914004914004914, 0.425531914893617], \"yaxis\": \"y20\"}, {\"alignmentgroup\": \"True\", \"hoverlabel\": {\"namelength\": 0}, \"hovertemplate\": \"Q6=Data Scientist<br>Q4=Master\\u2019s degree<br>Q3=China<br>=%{x}<br>Percentage (%)=%{y}\", \"legendgroup\": \"Q6=Data Scientist\", \"marker\": {\"color\": \"#636efa\"}, \"name\": \"Q6=Data Scientist\", \"offsetgroup\": \"Q6=Data Scientist\", \"orientation\": \"v\", \"showlegend\": false, \"textposition\": \"auto\", \"type\": \"bar\", \"x\": [\"500,000+\", \"40-50,000\", \"200-250,000\", \"50-60,000\", \"70-80,000\", \"I do not wish to disclose my approximate yearly compensation\", \"80-90,000\", \"20-30,000\", \"30-40,000\", \"90-100,000\", \"0-10,000\", \"10-20,000\", \"60-70,000\", \"150-200,000\"], \"xaxis\": \"x21\", \"y\": [5.88235294117647, 1.5625, 1.282051282051282, 0.9828009828009828, 0.8982035928143712, 0.8701957940536621, 0.851063829787234, 0.8460236886632826, 0.8213552361396305, 0.7117437722419928, 0.6920415224913495, 0.6527415143603132, 0.628930817610063, 0.43478260869565216], \"yaxis\": \"y21\"}, {\"alignmentgroup\": \"True\", \"hoverlabel\": {\"namelength\": 0}, \"hovertemplate\": \"Q6=Data Scientist<br>Q4=Doctoral degree<br>Q3=United States of America<br>=%{x}<br>Percentage (%)=%{y}\", \"legendgroup\": \"Q6=Data Scientist\", \"marker\": {\"color\": \"#636efa\"}, \"name\": \"Q6=Data Scientist\", \"offsetgroup\": \"Q6=Data Scientist\", \"orientation\": \"v\", \"showlegend\": false, \"textposition\": \"auto\", \"type\": \"bar\", \"x\": [\"200-250,000\", \"300-400,000\", \"150-200,000\", \"400-500,000\", \"250-300,000\", \"125-150,000\", \"100-125,000\", \"90-100,000\", \"80-90,000\", \"I do not wish to disclose my approximate yearly compensation\", \"60-70,000\", \"70-80,000\", \"20-30,000\", \"30-40,000\", \"50-60,000\", \"0-10,000\", \"10-20,000\"], \"xaxis\": \"x16\", \"y\": [21.794871794871796, 20.833333333333336, 19.565217391304348, 18.181818181818183, 16.129032258064516, 16.095890410958905, 10.290827740492169, 6.049822064056939, 3.404255319148936, 1.305293691080493, 1.257861635220126, 1.1976047904191618, 0.676818950930626, 0.6160164271047228, 0.4914004914004914, 0.43252595155709345, 0.13054830287206268], \"yaxis\": \"y16\"}, {\"alignmentgroup\": \"True\", \"hoverlabel\": {\"namelength\": 0}, \"hovertemplate\": \"Q6=Data Scientist<br>Q4=Doctoral degree<br>Q3=India<br>=%{x}<br>Percentage (%)=%{y}\", \"legendgroup\": \"Q6=Data Scientist\", \"marker\": {\"color\": \"#636efa\"}, \"name\": \"Q6=Data Scientist\", \"offsetgroup\": \"Q6=Data Scientist\", \"orientation\": \"v\", \"showlegend\": false, \"textposition\": \"auto\", \"type\": \"bar\", \"x\": [\"300-400,000\", \"I do not wish to disclose my approximate yearly compensation\", \"20-30,000\", \"0-10,000\", \"50-60,000\", \"100-125,000\", \"40-50,000\", \"30-40,000\", \"10-20,000\"], \"xaxis\": \"x17\", \"y\": [4.166666666666666, 0.7976794778825236, 0.676818950930626, 0.43252595155709345, 0.2457002457002457, 0.22371364653243847, 0.2232142857142857, 0.20533880903490762, 0.13054830287206268], \"yaxis\": \"y17\"}, {\"alignmentgroup\": \"True\", \"hoverlabel\": {\"namelength\": 0}, \"hovertemplate\": \"Q6=Data Scientist<br>Q4=Doctoral degree<br>Q3=China<br>=%{x}<br>Percentage (%)=%{y}\", \"legendgroup\": \"Q6=Data Scientist\", \"marker\": {\"color\": \"#636efa\"}, \"name\": \"Q6=Data Scientist\", \"offsetgroup\": \"Q6=Data Scientist\", \"orientation\": \"v\", \"showlegend\": false, \"textposition\": \"auto\", \"type\": \"bar\", \"x\": [\"500,000+\", \"10-20,000\", \"0-10,000\", \"125-150,000\", \"50-60,000\", \"20-30,000\", \"I do not wish to disclose my approximate yearly compensation\"], \"xaxis\": \"x18\", \"y\": [5.88235294117647, 0.5221932114882507, 0.43252595155709345, 0.3424657534246575, 0.2457002457002457, 0.1692047377326565, 0.0725163161711385], \"yaxis\": \"y18\"}, {\"alignmentgroup\": \"True\", \"hoverlabel\": {\"namelength\": 0}, \"hovertemplate\": \"Q6=Data Scientist<br>Q4=Bachelor\\u2019s degree<br>Q3=United States of America<br>=%{x}<br>Percentage (%)=%{y}\", \"legendgroup\": \"Q6=Data Scientist\", \"marker\": {\"color\": \"#636efa\"}, \"name\": \"Q6=Data Scientist\", \"offsetgroup\": \"Q6=Data Scientist\", \"orientation\": \"v\", \"showlegend\": false, \"textposition\": \"auto\", \"type\": \"bar\", \"x\": [\"300-400,000\", \"150-200,000\", \"80-90,000\", \"125-150,000\", \"70-80,000\", \"90-100,000\", \"100-125,000\", \"250-300,000\", \"60-70,000\", \"200-250,000\", \"I do not wish to disclose my approximate yearly compensation\", \"50-60,000\", \"40-50,000\", \"0-10,000\", \"30-40,000\", \"20-30,000\", \"10-20,000\"], \"xaxis\": \"x13\", \"y\": [8.333333333333332, 6.956521739130435, 6.382978723404255, 6.164383561643835, 5.688622754491018, 4.6263345195729535, 3.5794183445190155, 3.225806451612903, 2.8301886792452833, 1.282051282051282, 1.2327773749093547, 1.2285012285012284, 0.6696428571428571, 0.34602076124567477, 0.20533880903490762, 0.1692047377326565, 0.13054830287206268], \"yaxis\": \"y13\"}, {\"alignmentgroup\": \"True\", \"hoverlabel\": {\"namelength\": 0}, \"hovertemplate\": \"Q6=Data Scientist<br>Q4=Bachelor\\u2019s degree<br>Q3=India<br>=%{x}<br>Percentage (%)=%{y}\", \"legendgroup\": \"Q6=Data Scientist\", \"marker\": {\"color\": \"#636efa\"}, \"name\": \"Q6=Data Scientist\", \"offsetgroup\": \"Q6=Data Scientist\", \"orientation\": \"v\", \"showlegend\": false, \"textposition\": \"auto\", \"type\": \"bar\", \"x\": [\"500,000+\", \"0-10,000\", \"10-20,000\", \"300-400,000\", \"I do not wish to disclose my approximate yearly compensation\", \"250-300,000\", \"20-30,000\", \"30-40,000\", \"200-250,000\", \"40-50,000\", \"60-70,000\", \"50-60,000\", \"70-80,000\", \"100-125,000\", \"90-100,000\"], \"xaxis\": \"x14\", \"y\": [11.76470588235294, 6.228373702422145, 4.569190600522193, 4.166666666666666, 3.9883973894126177, 3.225806451612903, 3.2148900169204735, 2.0533880903490758, 1.282051282051282, 1.1160714285714286, 0.9433962264150944, 0.7371007371007371, 0.5988023952095809, 0.44742729306487694, 0.3558718861209964], \"yaxis\": \"y14\"}, {\"alignmentgroup\": \"True\", \"hoverlabel\": {\"namelength\": 0}, \"hovertemplate\": \"Q6=Data Scientist<br>Q4=Bachelor\\u2019s degree<br>Q3=China<br>=%{x}<br>Percentage (%)=%{y}\", \"legendgroup\": \"Q6=Data Scientist\", \"marker\": {\"color\": \"#636efa\"}, \"name\": \"Q6=Data Scientist\", \"offsetgroup\": \"Q6=Data Scientist\", \"orientation\": \"v\", \"showlegend\": false, \"textposition\": \"auto\", \"type\": \"bar\", \"x\": [\"I do not wish to disclose my approximate yearly compensation\", \"10-20,000\", \"90-100,000\", \"70-80,000\", \"100-125,000\", \"40-50,000\", \"30-40,000\", \"0-10,000\", \"20-30,000\"], \"xaxis\": \"x15\", \"y\": [0.580130529369108, 0.5221932114882507, 0.3558718861209964, 0.29940119760479045, 0.22371364653243847, 0.2232142857142857, 0.20533880903490762, 0.17301038062283738, 0.1692047377326565], \"yaxis\": \"y15\"}, {\"alignmentgroup\": \"True\", \"hoverlabel\": {\"namelength\": 0}, \"hovertemplate\": \"Q6=Data Scientist<br>Q4=Some college/university study without earning a bachelor\\u2019s degree<br>Q3=United States of America<br>=%{x}<br>Percentage (%)=%{y}\", \"legendgroup\": \"Q6=Data Scientist\", \"marker\": {\"color\": \"#636efa\"}, \"name\": \"Q6=Data Scientist\", \"offsetgroup\": \"Q6=Data Scientist\", \"orientation\": \"v\", \"showlegend\": false, \"textposition\": \"auto\", \"type\": \"bar\", \"x\": [\"250-300,000\", \"150-200,000\", \"70-80,000\", \"80-90,000\", \"50-60,000\", \"I do not wish to disclose my approximate yearly compensation\"], \"xaxis\": \"x10\", \"y\": [3.225806451612903, 0.8695652173913043, 0.5988023952095809, 0.425531914893617, 0.2457002457002457, 0.145032632342277], \"yaxis\": \"y10\"}, {\"alignmentgroup\": \"True\", \"hoverlabel\": {\"namelength\": 0}, \"hovertemplate\": \"Q6=Data Scientist<br>Q4=Some college/university study without earning a bachelor\\u2019s degree<br>Q3=India<br>=%{x}<br>Percentage (%)=%{y}\", \"legendgroup\": \"Q6=Data Scientist\", \"marker\": {\"color\": \"#636efa\"}, \"name\": \"Q6=Data Scientist\", \"offsetgroup\": \"Q6=Data Scientist\", \"orientation\": \"v\", \"showlegend\": false, \"textposition\": \"auto\", \"type\": \"bar\", \"x\": [\"40-50,000\", \"I do not wish to disclose my approximate yearly compensation\", \"0-10,000\", \"20-30,000\"], \"xaxis\": \"x11\", \"y\": [0.2232142857142857, 0.21754894851341552, 0.17301038062283738, 0.1692047377326565], \"yaxis\": \"y11\"}, {\"alignmentgroup\": \"True\", \"hoverlabel\": {\"namelength\": 0}, \"hovertemplate\": \"Q6=Data Scientist<br>Q4=Some college/university study without earning a bachelor\\u2019s degree<br>Q3=China<br>=%{x}<br>Percentage (%)=%{y}\", \"legendgroup\": \"Q6=Data Scientist\", \"marker\": {\"color\": \"#636efa\"}, \"name\": \"Q6=Data Scientist\", \"offsetgroup\": \"Q6=Data Scientist\", \"orientation\": \"v\", \"showlegend\": false, \"textposition\": \"auto\", \"type\": \"bar\", \"x\": [\"0-10,000\"], \"xaxis\": \"x12\", \"y\": [0.08650519031141869], \"yaxis\": \"y12\"}, {\"alignmentgroup\": \"True\", \"hoverlabel\": {\"namelength\": 0}, \"hovertemplate\": \"Q6=Data Scientist<br>Q4=I prefer not to answer<br>Q3=United States of America<br>=%{x}<br>Percentage (%)=%{y}\", \"legendgroup\": \"Q6=Data Scientist\", \"marker\": {\"color\": \"#636efa\"}, \"name\": \"Q6=Data Scientist\", \"offsetgroup\": \"Q6=Data Scientist\", \"orientation\": \"v\", \"showlegend\": false, \"textposition\": \"auto\", \"type\": \"bar\", \"x\": [\"150-200,000\", \"125-150,000\", \"I do not wish to disclose my approximate yearly compensation\", \"30-40,000\"], \"xaxis\": \"x7\", \"y\": [0.43478260869565216, 0.3424657534246575, 0.21754894851341552, 0.20533880903490762], \"yaxis\": \"y7\"}, {\"alignmentgroup\": \"True\", \"hoverlabel\": {\"namelength\": 0}, \"hovertemplate\": \"Q6=Data Scientist<br>Q4=I prefer not to answer<br>Q3=India<br>=%{x}<br>Percentage (%)=%{y}\", \"legendgroup\": \"Q6=Data Scientist\", \"marker\": {\"color\": \"#636efa\"}, \"name\": \"Q6=Data Scientist\", \"offsetgroup\": \"Q6=Data Scientist\", \"orientation\": \"v\", \"showlegend\": false, \"textposition\": \"auto\", \"type\": \"bar\", \"x\": [\"250-300,000\", \"10-20,000\", \"I do not wish to disclose my approximate yearly compensation\", \"0-10,000\"], \"xaxis\": \"x8\", \"y\": [3.225806451612903, 0.5221932114882507, 0.36258158085569253, 0.17301038062283738], \"yaxis\": \"y8\"}, {\"alignmentgroup\": \"True\", \"hoverlabel\": {\"namelength\": 0}, \"hovertemplate\": \"Q6=Data Scientist<br>Q4=I prefer not to answer<br>Q3=China<br>=%{x}<br>Percentage (%)=%{y}\", \"legendgroup\": \"Q6=Data Scientist\", \"marker\": {\"color\": \"#636efa\"}, \"name\": \"Q6=Data Scientist\", \"offsetgroup\": \"Q6=Data Scientist\", \"orientation\": \"v\", \"showlegend\": false, \"textposition\": \"auto\", \"type\": \"bar\", \"x\": [\"30-40,000\"], \"xaxis\": \"x9\", \"y\": [0.20533880903490762], \"yaxis\": \"y9\"}, {\"alignmentgroup\": \"True\", \"hoverlabel\": {\"namelength\": 0}, \"hovertemplate\": \"Q6=Data Scientist<br>Q4=Professional degree<br>Q3=United States of America<br>=%{x}<br>Percentage (%)=%{y}\", \"legendgroup\": \"Q6=Data Scientist\", \"marker\": {\"color\": \"#636efa\"}, \"name\": \"Q6=Data Scientist\", \"offsetgroup\": \"Q6=Data Scientist\", \"orientation\": \"v\", \"showlegend\": false, \"textposition\": \"auto\", \"type\": \"bar\", \"x\": [\"200-250,000\", \"70-80,000\"], \"xaxis\": \"x4\", \"y\": [2.564102564102564, 0.29940119760479045], \"yaxis\": \"y4\"}, {\"alignmentgroup\": \"True\", \"hoverlabel\": {\"namelength\": 0}, \"hovertemplate\": \"Q6=Data Scientist<br>Q4=Professional degree<br>Q3=India<br>=%{x}<br>Percentage (%)=%{y}\", \"legendgroup\": \"Q6=Data Scientist\", \"marker\": {\"color\": \"#636efa\"}, \"name\": \"Q6=Data Scientist\", \"offsetgroup\": \"Q6=Data Scientist\", \"orientation\": \"v\", \"showlegend\": false, \"textposition\": \"auto\", \"type\": \"bar\", \"x\": [\"0-10,000\", \"I do not wish to disclose my approximate yearly compensation\", \"10-20,000\", \"90-100,000\", \"40-50,000\", \"30-40,000\", \"20-30,000\"], \"xaxis\": \"x5\", \"y\": [0.6055363321799307, 0.5076142131979695, 0.39164490861618795, 0.3558718861209964, 0.2232142857142857, 0.20533880903490762, 0.1692047377326565], \"yaxis\": \"y5\"}, {\"alignmentgroup\": \"True\", \"hoverlabel\": {\"namelength\": 0}, \"hovertemplate\": \"Q6=Data Scientist<br>Q4=No formal education past high school<br>Q3=United States of America<br>=%{x}<br>Percentage (%)=%{y}\", \"legendgroup\": \"Q6=Data Scientist\", \"marker\": {\"color\": \"#636efa\"}, \"name\": \"Q6=Data Scientist\", \"offsetgroup\": \"Q6=Data Scientist\", \"orientation\": \"v\", \"showlegend\": false, \"textposition\": \"auto\", \"type\": \"bar\", \"x\": [\"100-125,000\", \"I do not wish to disclose my approximate yearly compensation\"], \"xaxis\": \"x\", \"y\": [0.22371364653243847, 0.0725163161711385], \"yaxis\": \"y\"}, {\"alignmentgroup\": \"True\", \"hoverlabel\": {\"namelength\": 0}, \"hovertemplate\": \"Q6=Data Scientist<br>Q4=No formal education past high school<br>Q3=India<br>=%{x}<br>Percentage (%)=%{y}\", \"legendgroup\": \"Q6=Data Scientist\", \"marker\": {\"color\": \"#636efa\"}, \"name\": \"Q6=Data Scientist\", \"offsetgroup\": \"Q6=Data Scientist\", \"orientation\": \"v\", \"showlegend\": false, \"textposition\": \"auto\", \"type\": \"bar\", \"x\": [\"10-20,000\"], \"xaxis\": \"x2\", \"y\": [0.13054830287206268], \"yaxis\": \"y2\"}, {\"alignmentgroup\": \"True\", \"hoverlabel\": {\"namelength\": 0}, \"hovertemplate\": \"Q6=Software Engineer<br>Q4=Master\\u2019s degree<br>Q3=United States of America<br>=%{x}<br>Percentage (%)=%{y}\", \"legendgroup\": \"Q6=Software Engineer\", \"marker\": {\"color\": \"#EF553B\"}, \"name\": \"Q6=Software Engineer\", \"offsetgroup\": \"Q6=Software Engineer\", \"orientation\": \"v\", \"showlegend\": true, \"textposition\": \"auto\", \"type\": \"bar\", \"x\": [\"300-400,000\", \"200-250,000\", \"500,000+\", \"250-300,000\", \"100-125,000\", \"150-200,000\", \"90-100,000\", \"125-150,000\", \"80-90,000\", \"70-80,000\", \"I do not wish to disclose my approximate yearly compensation\", \"60-70,000\", \"40-50,000\", \"50-60,000\", \"20-30,000\", \"0-10,000\", \"30-40,000\"], \"xaxis\": \"x19\", \"y\": [16.666666666666664, 14.102564102564102, 11.76470588235294, 9.67741935483871, 9.619686800894854, 8.695652173913043, 7.829181494661921, 7.534246575342466, 6.382978723404255, 5.688622754491018, 3.770848440899202, 1.8867924528301887, 1.3392857142857142, 0.7371007371007371, 0.676818950930626, 0.5190311418685121, 0.41067761806981523], \"yaxis\": \"y19\"}, {\"alignmentgroup\": \"True\", \"hoverlabel\": {\"namelength\": 0}, \"hovertemplate\": \"Q6=Software Engineer<br>Q4=Master\\u2019s degree<br>Q3=India<br>=%{x}<br>Percentage (%)=%{y}\", \"legendgroup\": \"Q6=Software Engineer\", \"marker\": {\"color\": \"#EF553B\"}, \"name\": \"Q6=Software Engineer\", \"offsetgroup\": \"Q6=Software Engineer\", \"orientation\": \"v\", \"showlegend\": false, \"textposition\": \"auto\", \"type\": \"bar\", \"x\": [\"0-10,000\", \"10-20,000\", \"I do not wish to disclose my approximate yearly compensation\", \"20-30,000\", \"30-40,000\", \"150-200,000\", \"60-70,000\", \"70-80,000\", \"50-60,000\", \"100-125,000\", \"90-100,000\", \"125-150,000\", \"40-50,000\"], \"xaxis\": \"x20\", \"y\": [6.141868512110726, 4.308093994778068, 3.5532994923857872, 2.707275803722504, 1.8480492813141685, 0.8695652173913043, 0.628930817610063, 0.5988023952095809, 0.4914004914004914, 0.44742729306487694, 0.3558718861209964, 0.3424657534246575, 0.2232142857142857], \"yaxis\": \"y20\"}, {\"alignmentgroup\": \"True\", \"hoverlabel\": {\"namelength\": 0}, \"hovertemplate\": \"Q6=Software Engineer<br>Q4=Master\\u2019s degree<br>Q3=China<br>=%{x}<br>Percentage (%)=%{y}\", \"legendgroup\": \"Q6=Software Engineer\", \"marker\": {\"color\": \"#EF553B\"}, \"name\": \"Q6=Software Engineer\", \"offsetgroup\": \"Q6=Software Engineer\", \"orientation\": \"v\", \"showlegend\": false, \"textposition\": \"auto\", \"type\": \"bar\", \"x\": [\"30-40,000\", \"20-30,000\", \"I do not wish to disclose my approximate yearly compensation\", \"0-10,000\", \"10-20,000\", \"70-80,000\", \"40-50,000\", \"50-60,000\", \"80-90,000\", \"90-100,000\", \"60-70,000\"], \"xaxis\": \"x21\", \"y\": [2.0533880903490758, 2.030456852791878, 1.3778100072516315, 1.2975778546712802, 1.1749347258485638, 0.8982035928143712, 0.8928571428571428, 0.4914004914004914, 0.425531914893617, 0.3558718861209964, 0.3144654088050315], \"yaxis\": \"y21\"}, {\"alignmentgroup\": \"True\", \"hoverlabel\": {\"namelength\": 0}, \"hovertemplate\": \"Q6=Software Engineer<br>Q4=Doctoral degree<br>Q3=United States of America<br>=%{x}<br>Percentage (%)=%{y}\", \"legendgroup\": \"Q6=Software Engineer\", \"marker\": {\"color\": \"#EF553B\"}, \"name\": \"Q6=Software Engineer\", \"offsetgroup\": \"Q6=Software Engineer\", \"orientation\": \"v\", \"showlegend\": false, \"textposition\": \"auto\", \"type\": \"bar\", \"x\": [\"400-500,000\", \"200-250,000\", \"300-400,000\", \"150-200,000\", \"250-300,000\", \"125-150,000\", \"100-125,000\", \"I do not wish to disclose my approximate yearly compensation\", \"80-90,000\", \"90-100,000\", \"50-60,000\"], \"xaxis\": \"x16\", \"y\": [18.181818181818183, 6.41025641025641, 4.166666666666666, 3.4782608695652173, 3.225806451612903, 2.054794520547945, 2.013422818791946, 0.5076142131979695, 0.425531914893617, 0.3558718861209964, 0.2457002457002457], \"yaxis\": \"y16\"}, {\"alignmentgroup\": \"True\", \"hoverlabel\": {\"namelength\": 0}, \"hovertemplate\": \"Q6=Software Engineer<br>Q4=Doctoral degree<br>Q3=India<br>=%{x}<br>Percentage (%)=%{y}\", \"legendgroup\": \"Q6=Software Engineer\", \"marker\": {\"color\": \"#EF553B\"}, \"name\": \"Q6=Software Engineer\", \"offsetgroup\": \"Q6=Software Engineer\", \"orientation\": \"v\", \"showlegend\": false, \"textposition\": \"auto\", \"type\": \"bar\", \"x\": [\"20-30,000\", \"0-10,000\", \"I do not wish to disclose my approximate yearly compensation\", \"10-20,000\"], \"xaxis\": \"x17\", \"y\": [0.338409475465313, 0.25951557093425603, 0.21754894851341552, 0.13054830287206268], \"yaxis\": \"y17\"}, {\"alignmentgroup\": \"True\", \"hoverlabel\": {\"namelength\": 0}, \"hovertemplate\": \"Q6=Software Engineer<br>Q4=Doctoral degree<br>Q3=China<br>=%{x}<br>Percentage (%)=%{y}\", \"legendgroup\": \"Q6=Software Engineer\", \"marker\": {\"color\": \"#EF553B\"}, \"name\": \"Q6=Software Engineer\", \"offsetgroup\": \"Q6=Software Engineer\", \"orientation\": \"v\", \"showlegend\": false, \"textposition\": \"auto\", \"type\": \"bar\", \"x\": [\"90-100,000\", \"40-50,000\", \"30-40,000\", \"0-10,000\"], \"xaxis\": \"x18\", \"y\": [0.3558718861209964, 0.2232142857142857, 0.20533880903490762, 0.17301038062283738], \"yaxis\": \"y18\"}, {\"alignmentgroup\": \"True\", \"hoverlabel\": {\"namelength\": 0}, \"hovertemplate\": \"Q6=Software Engineer<br>Q4=Bachelor\\u2019s degree<br>Q3=United States of America<br>=%{x}<br>Percentage (%)=%{y}\", \"legendgroup\": \"Q6=Software Engineer\", \"marker\": {\"color\": \"#EF553B\"}, \"name\": \"Q6=Software Engineer\", \"offsetgroup\": \"Q6=Software Engineer\", \"orientation\": \"v\", \"showlegend\": false, \"textposition\": \"auto\", \"type\": \"bar\", \"x\": [\"250-300,000\", \"400-500,000\", \"150-200,000\", \"100-125,000\", \"500,000+\", \"125-150,000\", \"200-250,000\", \"90-100,000\", \"300-400,000\", \"70-80,000\", \"80-90,000\", \"50-60,000\", \"60-70,000\", \"I do not wish to disclose my approximate yearly compensation\", \"40-50,000\", \"30-40,000\", \"10-20,000\", \"20-30,000\", \"0-10,000\"], \"xaxis\": \"x13\", \"y\": [12.903225806451612, 9.090909090909092, 7.391304347826087, 6.7114093959731544, 5.88235294117647, 5.821917808219178, 5.128205128205128, 4.270462633451958, 4.166666666666666, 3.8922155688622757, 3.829787234042553, 3.194103194103194, 2.8301886792452833, 1.9579405366207396, 1.3392857142857142, 0.6160164271047228, 0.39164490861618795, 0.338409475465313, 0.08650519031141869], \"yaxis\": \"y13\"}, {\"alignmentgroup\": \"True\", \"hoverlabel\": {\"namelength\": 0}, \"hovertemplate\": \"Q6=Software Engineer<br>Q4=Bachelor\\u2019s degree<br>Q3=India<br>=%{x}<br>Percentage (%)=%{y}\", \"legendgroup\": \"Q6=Software Engineer\", \"marker\": {\"color\": \"#EF553B\"}, \"name\": \"Q6=Software Engineer\", \"offsetgroup\": \"Q6=Software Engineer\", \"orientation\": \"v\", \"showlegend\": false, \"textposition\": \"auto\", \"type\": \"bar\", \"x\": [\"0-10,000\", \"400-500,000\", \"10-20,000\", \"I do not wish to disclose my approximate yearly compensation\", \"250-300,000\", \"500,000+\", \"20-30,000\", \"300-400,000\", \"30-40,000\", \"40-50,000\", \"60-70,000\", \"50-60,000\", \"70-80,000\", \"90-100,000\", \"80-90,000\"], \"xaxis\": \"x14\", \"y\": [14.359861591695502, 9.090909090909092, 9.007832898172325, 7.1065989847715745, 6.451612903225806, 5.88235294117647, 5.414551607445008, 4.166666666666666, 2.2587268993839835, 1.3392857142857142, 1.257861635220126, 0.9828009828009828, 0.8982035928143712, 0.7117437722419928, 0.425531914893617], \"yaxis\": \"y14\"}, {\"alignmentgroup\": \"True\", \"hoverlabel\": {\"namelength\": 0}, \"hovertemplate\": \"Q6=Software Engineer<br>Q4=Bachelor\\u2019s degree<br>Q3=China<br>=%{x}<br>Percentage (%)=%{y}\", \"legendgroup\": \"Q6=Software Engineer\", \"marker\": {\"color\": \"#EF553B\"}, \"name\": \"Q6=Software Engineer\", \"offsetgroup\": \"Q6=Software Engineer\", \"orientation\": \"v\", \"showlegend\": false, \"textposition\": \"auto\", \"type\": \"bar\", \"x\": [\"30-40,000\", \"20-30,000\", \"10-20,000\", \"I do not wish to disclose my approximate yearly compensation\", \"50-60,000\", \"0-10,000\", \"40-50,000\", \"60-70,000\"], \"xaxis\": \"x15\", \"y\": [1.2320328542094456, 1.1844331641285957, 1.0443864229765014, 0.9427121102248005, 0.7371007371007371, 0.6920415224913495, 0.6696428571428571, 0.628930817610063], \"yaxis\": \"y15\"}, {\"alignmentgroup\": \"True\", \"hoverlabel\": {\"namelength\": 0}, \"hovertemplate\": \"Q6=Software Engineer<br>Q4=Some college/university study without earning a bachelor\\u2019s degree<br>Q3=United States of America<br>=%{x}<br>Percentage (%)=%{y}\", \"legendgroup\": \"Q6=Software Engineer\", \"marker\": {\"color\": \"#EF553B\"}, \"name\": \"Q6=Software Engineer\", \"offsetgroup\": \"Q6=Software Engineer\", \"orientation\": \"v\", \"showlegend\": false, \"textposition\": \"auto\", \"type\": \"bar\", \"x\": [\"500,000+\", \"125-150,000\", \"150-200,000\", \"200-250,000\", \"80-90,000\", \"70-80,000\", \"100-125,000\", \"90-100,000\", \"60-70,000\", \"30-40,000\", \"I do not wish to disclose my approximate yearly compensation\"], \"xaxis\": \"x10\", \"y\": [5.88235294117647, 2.3972602739726026, 1.7391304347826086, 1.282051282051282, 1.276595744680851, 0.8982035928143712, 0.6711409395973155, 0.3558718861209964, 0.3144654088050315, 0.20533880903490762, 0.145032632342277], \"yaxis\": \"y10\"}, {\"alignmentgroup\": \"True\", \"hoverlabel\": {\"namelength\": 0}, \"hovertemplate\": \"Q6=Software Engineer<br>Q4=Some college/university study without earning a bachelor\\u2019s degree<br>Q3=India<br>=%{x}<br>Percentage (%)=%{y}\", \"legendgroup\": \"Q6=Software Engineer\", \"marker\": {\"color\": \"#EF553B\"}, \"name\": \"Q6=Software Engineer\", \"offsetgroup\": \"Q6=Software Engineer\", \"orientation\": \"v\", \"showlegend\": false, \"textposition\": \"auto\", \"type\": \"bar\", \"x\": [\"0-10,000\", \"I do not wish to disclose my approximate yearly compensation\", \"10-20,000\"], \"xaxis\": \"x11\", \"y\": [0.17301038062283738, 0.145032632342277, 0.13054830287206268], \"yaxis\": \"y11\"}, {\"alignmentgroup\": \"True\", \"hoverlabel\": {\"namelength\": 0}, \"hovertemplate\": \"Q6=Software Engineer<br>Q4=Some college/university study without earning a bachelor\\u2019s degree<br>Q3=China<br>=%{x}<br>Percentage (%)=%{y}\", \"legendgroup\": \"Q6=Software Engineer\", \"marker\": {\"color\": \"#EF553B\"}, \"name\": \"Q6=Software Engineer\", \"offsetgroup\": \"Q6=Software Engineer\", \"orientation\": \"v\", \"showlegend\": false, \"textposition\": \"auto\", \"type\": \"bar\", \"x\": [\"80-90,000\", \"20-30,000\", \"10-20,000\", \"0-10,000\", \"50-60,000\", \"I do not wish to disclose my approximate yearly compensation\"], \"xaxis\": \"x12\", \"y\": [0.425531914893617, 0.338409475465313, 0.26109660574412535, 0.25951557093425603, 0.2457002457002457, 0.0725163161711385], \"yaxis\": \"y12\"}, {\"alignmentgroup\": \"True\", \"hoverlabel\": {\"namelength\": 0}, \"hovertemplate\": \"Q6=Software Engineer<br>Q4=I prefer not to answer<br>Q3=United States of America<br>=%{x}<br>Percentage (%)=%{y}\", \"legendgroup\": \"Q6=Software Engineer\", \"marker\": {\"color\": \"#EF553B\"}, \"name\": \"Q6=Software Engineer\", \"offsetgroup\": \"Q6=Software Engineer\", \"orientation\": \"v\", \"showlegend\": false, \"textposition\": \"auto\", \"type\": \"bar\", \"x\": [\"70-80,000\", \"100-125,000\"], \"xaxis\": \"x7\", \"y\": [0.29940119760479045, 0.22371364653243847], \"yaxis\": \"y7\"}, {\"alignmentgroup\": \"True\", \"hoverlabel\": {\"namelength\": 0}, \"hovertemplate\": \"Q6=Software Engineer<br>Q4=I prefer not to answer<br>Q3=India<br>=%{x}<br>Percentage (%)=%{y}\", \"legendgroup\": \"Q6=Software Engineer\", \"marker\": {\"color\": \"#EF553B\"}, \"name\": \"Q6=Software Engineer\", \"offsetgroup\": \"Q6=Software Engineer\", \"orientation\": \"v\", \"showlegend\": false, \"textposition\": \"auto\", \"type\": \"bar\", \"x\": [\"I do not wish to disclose my approximate yearly compensation\", \"0-10,000\", \"30-40,000\", \"20-30,000\"], \"xaxis\": \"x8\", \"y\": [0.7251631617113851, 0.34602076124567477, 0.20533880903490762, 0.1692047377326565], \"yaxis\": \"y8\"}, {\"alignmentgroup\": \"True\", \"hoverlabel\": {\"namelength\": 0}, \"hovertemplate\": \"Q6=Software Engineer<br>Q4=I prefer not to answer<br>Q3=China<br>=%{x}<br>Percentage (%)=%{y}\", \"legendgroup\": \"Q6=Software Engineer\", \"marker\": {\"color\": \"#EF553B\"}, \"name\": \"Q6=Software Engineer\", \"offsetgroup\": \"Q6=Software Engineer\", \"orientation\": \"v\", \"showlegend\": false, \"textposition\": \"auto\", \"type\": \"bar\", \"x\": [\"I do not wish to disclose my approximate yearly compensation\", \"50-60,000\", \"30-40,000\", \"10-20,000\", \"0-10,000\"], \"xaxis\": \"x9\", \"y\": [0.36258158085569253, 0.2457002457002457, 0.20533880903490762, 0.13054830287206268, 0.08650519031141869], \"yaxis\": \"y9\"}, {\"alignmentgroup\": \"True\", \"hoverlabel\": {\"namelength\": 0}, \"hovertemplate\": \"Q6=Software Engineer<br>Q4=Professional degree<br>Q3=United States of America<br>=%{x}<br>Percentage (%)=%{y}\", \"legendgroup\": \"Q6=Software Engineer\", \"marker\": {\"color\": \"#EF553B\"}, \"name\": \"Q6=Software Engineer\", \"offsetgroup\": \"Q6=Software Engineer\", \"orientation\": \"v\", \"showlegend\": false, \"textposition\": \"auto\", \"type\": \"bar\", \"x\": [\"90-100,000\", \"100-125,000\", \"I do not wish to disclose my approximate yearly compensation\"], \"xaxis\": \"x4\", \"y\": [0.3558718861209964, 0.22371364653243847, 0.145032632342277], \"yaxis\": \"y4\"}, {\"alignmentgroup\": \"True\", \"hoverlabel\": {\"namelength\": 0}, \"hovertemplate\": \"Q6=Software Engineer<br>Q4=Professional degree<br>Q3=India<br>=%{x}<br>Percentage (%)=%{y}\", \"legendgroup\": \"Q6=Software Engineer\", \"marker\": {\"color\": \"#EF553B\"}, \"name\": \"Q6=Software Engineer\", \"offsetgroup\": \"Q6=Software Engineer\", \"orientation\": \"v\", \"showlegend\": false, \"textposition\": \"auto\", \"type\": \"bar\", \"x\": [\"10-20,000\", \"0-10,000\", \"I do not wish to disclose my approximate yearly compensation\", \"30-40,000\", \"20-30,000\"], \"xaxis\": \"x5\", \"y\": [0.7832898172323759, 0.6920415224913495, 0.5076142131979695, 0.20533880903490762, 0.1692047377326565], \"yaxis\": \"y5\"}, {\"alignmentgroup\": \"True\", \"hoverlabel\": {\"namelength\": 0}, \"hovertemplate\": \"Q6=Software Engineer<br>Q4=Professional degree<br>Q3=China<br>=%{x}<br>Percentage (%)=%{y}\", \"legendgroup\": \"Q6=Software Engineer\", \"marker\": {\"color\": \"#EF553B\"}, \"name\": \"Q6=Software Engineer\", \"offsetgroup\": \"Q6=Software Engineer\", \"orientation\": \"v\", \"showlegend\": false, \"textposition\": \"auto\", \"type\": \"bar\", \"x\": [\"0-10,000\", \"I do not wish to disclose my approximate yearly compensation\"], \"xaxis\": \"x6\", \"y\": [0.08650519031141869, 0.0725163161711385], \"yaxis\": \"y6\"}, {\"alignmentgroup\": \"True\", \"hoverlabel\": {\"namelength\": 0}, \"hovertemplate\": \"Q6=Software Engineer<br>Q4=No formal education past high school<br>Q3=United States of America<br>=%{x}<br>Percentage (%)=%{y}\", \"legendgroup\": \"Q6=Software Engineer\", \"marker\": {\"color\": \"#EF553B\"}, \"name\": \"Q6=Software Engineer\", \"offsetgroup\": \"Q6=Software Engineer\", \"orientation\": \"v\", \"showlegend\": false, \"textposition\": \"auto\", \"type\": \"bar\", \"x\": [\"70-80,000\", \"100-125,000\"], \"xaxis\": \"x\", \"y\": [0.29940119760479045, 0.22371364653243847], \"yaxis\": \"y\"}, {\"alignmentgroup\": \"True\", \"hoverlabel\": {\"namelength\": 0}, \"hovertemplate\": \"Q6=Software Engineer<br>Q4=No formal education past high school<br>Q3=India<br>=%{x}<br>Percentage (%)=%{y}\", \"legendgroup\": \"Q6=Software Engineer\", \"marker\": {\"color\": \"#EF553B\"}, \"name\": \"Q6=Software Engineer\", \"offsetgroup\": \"Q6=Software Engineer\", \"orientation\": \"v\", \"showlegend\": false, \"textposition\": \"auto\", \"type\": \"bar\", \"x\": [\"20-30,000\"], \"xaxis\": \"x2\", \"y\": [0.1692047377326565], \"yaxis\": \"y2\"}, {\"alignmentgroup\": \"True\", \"hoverlabel\": {\"namelength\": 0}, \"hovertemplate\": \"Q6=Software Engineer<br>Q4=No formal education past high school<br>Q3=China<br>=%{x}<br>Percentage (%)=%{y}\", \"legendgroup\": \"Q6=Software Engineer\", \"marker\": {\"color\": \"#EF553B\"}, \"name\": \"Q6=Software Engineer\", \"offsetgroup\": \"Q6=Software Engineer\", \"orientation\": \"v\", \"showlegend\": false, \"textposition\": \"auto\", \"type\": \"bar\", \"x\": [\"30-40,000\"], \"xaxis\": \"x3\", \"y\": [0.20533880903490762], \"yaxis\": \"y3\"}, {\"alignmentgroup\": \"True\", \"hoverlabel\": {\"namelength\": 0}, \"hovertemplate\": \"Q6=Data Engineer<br>Q4=Master\\u2019s degree<br>Q3=United States of America<br>=%{x}<br>Percentage (%)=%{y}\", \"legendgroup\": \"Q6=Data Engineer\", \"marker\": {\"color\": \"#00cc96\"}, \"name\": \"Q6=Data Engineer\", \"offsetgroup\": \"Q6=Data Engineer\", \"orientation\": \"v\", \"showlegend\": true, \"textposition\": \"auto\", \"type\": \"bar\", \"x\": [\"125-150,000\", \"300-400,000\", \"80-90,000\", \"150-200,000\", \"100-125,000\", \"200-250,000\", \"60-70,000\", \"70-80,000\", \"90-100,000\", \"50-60,000\", \"I do not wish to disclose my approximate yearly compensation\", \"20-30,000\", \"0-10,000\"], \"xaxis\": \"x19\", \"y\": [4.794520547945205, 4.166666666666666, 3.829787234042553, 3.0434782608695654, 2.684563758389262, 2.564102564102564, 1.8867924528301887, 1.4970059880239521, 1.0676156583629894, 0.7371007371007371, 0.580130529369108, 0.1692047377326565, 0.08650519031141869], \"yaxis\": \"y19\"}, {\"alignmentgroup\": \"True\", \"hoverlabel\": {\"namelength\": 0}, \"hovertemplate\": \"Q6=Data Engineer<br>Q4=Master\\u2019s degree<br>Q3=India<br>=%{x}<br>Percentage (%)=%{y}\", \"legendgroup\": \"Q6=Data Engineer\", \"marker\": {\"color\": \"#00cc96\"}, \"name\": \"Q6=Data Engineer\", \"offsetgroup\": \"Q6=Data Engineer\", \"orientation\": \"v\", \"showlegend\": false, \"textposition\": \"auto\", \"type\": \"bar\", \"x\": [\"0-10,000\", \"10-20,000\", \"I do not wish to disclose my approximate yearly compensation\", \"20-30,000\", \"100-125,000\", \"40-50,000\", \"150-200,000\", \"90-100,000\", \"50-60,000\", \"30-40,000\"], \"xaxis\": \"x20\", \"y\": [1.2975778546712802, 1.0443864229765014, 0.9427121102248005, 0.8460236886632826, 0.6711409395973155, 0.4464285714285714, 0.43478260869565216, 0.3558718861209964, 0.2457002457002457, 0.20533880903490762], \"yaxis\": \"y20\"}, {\"alignmentgroup\": \"True\", \"hoverlabel\": {\"namelength\": 0}, \"hovertemplate\": \"Q6=Data Engineer<br>Q4=Master\\u2019s degree<br>Q3=China<br>=%{x}<br>Percentage (%)=%{y}\", \"legendgroup\": \"Q6=Data Engineer\", \"marker\": {\"color\": \"#00cc96\"}, \"name\": \"Q6=Data Engineer\", \"offsetgroup\": \"Q6=Data Engineer\", \"orientation\": \"v\", \"showlegend\": false, \"textposition\": \"auto\", \"type\": \"bar\", \"x\": [\"250-300,000\", \"200-250,000\", \"0-10,000\", \"I do not wish to disclose my approximate yearly compensation\", \"40-50,000\", \"30-40,000\", \"10-20,000\", \"50-60,000\", \"60-70,000\", \"20-30,000\", \"80-90,000\", \"90-100,000\", \"100-125,000\"], \"xaxis\": \"x21\", \"y\": [3.225806451612903, 1.282051282051282, 1.2110726643598615, 0.9427121102248005, 0.8928571428571428, 0.8213552361396305, 0.7832898172323759, 0.7371007371007371, 0.628930817610063, 0.5076142131979695, 0.425531914893617, 0.3558718861209964, 0.22371364653243847], \"yaxis\": \"y21\"}, {\"alignmentgroup\": \"True\", \"hoverlabel\": {\"namelength\": 0}, \"hovertemplate\": \"Q6=Data Engineer<br>Q4=Doctoral degree<br>Q3=United States of America<br>=%{x}<br>Percentage (%)=%{y}\", \"legendgroup\": \"Q6=Data Engineer\", \"marker\": {\"color\": \"#00cc96\"}, \"name\": \"Q6=Data Engineer\", \"offsetgroup\": \"Q6=Data Engineer\", \"orientation\": \"v\", \"showlegend\": false, \"textposition\": \"auto\", \"type\": \"bar\", \"x\": [\"200-250,000\", \"150-200,000\", \"125-150,000\", \"100-125,000\", \"90-100,000\", \"60-70,000\"], \"xaxis\": \"x16\", \"y\": [1.282051282051282, 0.8695652173913043, 0.684931506849315, 0.6711409395973155, 0.3558718861209964, 0.3144654088050315], \"yaxis\": \"y16\"}, {\"alignmentgroup\": \"True\", \"hoverlabel\": {\"namelength\": 0}, \"hovertemplate\": \"Q6=Data Engineer<br>Q4=Doctoral degree<br>Q3=India<br>=%{x}<br>Percentage (%)=%{y}\", \"legendgroup\": \"Q6=Data Engineer\", \"marker\": {\"color\": \"#00cc96\"}, \"name\": \"Q6=Data Engineer\", \"offsetgroup\": \"Q6=Data Engineer\", \"orientation\": \"v\", \"showlegend\": false, \"textposition\": \"auto\", \"type\": \"bar\", \"x\": [\"40-50,000\", \"I do not wish to disclose my approximate yearly compensation\", \"0-10,000\"], \"xaxis\": \"x17\", \"y\": [0.2232142857142857, 0.145032632342277, 0.08650519031141869], \"yaxis\": \"y17\"}, {\"alignmentgroup\": \"True\", \"hoverlabel\": {\"namelength\": 0}, \"hovertemplate\": \"Q6=Data Engineer<br>Q4=Doctoral degree<br>Q3=China<br>=%{x}<br>Percentage (%)=%{y}\", \"legendgroup\": \"Q6=Data Engineer\", \"marker\": {\"color\": \"#00cc96\"}, \"name\": \"Q6=Data Engineer\", \"offsetgroup\": \"Q6=Data Engineer\", \"orientation\": \"v\", \"showlegend\": false, \"textposition\": \"auto\", \"type\": \"bar\", \"x\": [\"I do not wish to disclose my approximate yearly compensation\", \"30-40,000\", \"10-20,000\", \"0-10,000\"], \"xaxis\": \"x18\", \"y\": [0.21754894851341552, 0.20533880903490762, 0.13054830287206268, 0.08650519031141869], \"yaxis\": \"y18\"}, {\"alignmentgroup\": \"True\", \"hoverlabel\": {\"namelength\": 0}, \"hovertemplate\": \"Q6=Data Engineer<br>Q4=Bachelor\\u2019s degree<br>Q3=United States of America<br>=%{x}<br>Percentage (%)=%{y}\", \"legendgroup\": \"Q6=Data Engineer\", \"marker\": {\"color\": \"#00cc96\"}, \"name\": \"Q6=Data Engineer\", \"offsetgroup\": \"Q6=Data Engineer\", \"orientation\": \"v\", \"showlegend\": false, \"textposition\": \"auto\", \"type\": \"bar\", \"x\": [\"150-200,000\", \"250-300,000\", \"125-150,000\", \"100-125,000\", \"200-250,000\", \"80-90,000\", \"60-70,000\", \"90-100,000\", \"70-80,000\", \"50-60,000\", \"I do not wish to disclose my approximate yearly compensation\", \"40-50,000\", \"0-10,000\", \"20-30,000\"], \"xaxis\": \"x13\", \"y\": [3.4782608695652173, 3.225806451612903, 1.7123287671232876, 1.5659955257270695, 1.282051282051282, 1.276595744680851, 1.257861635220126, 1.0676156583629894, 0.8982035928143712, 0.7371007371007371, 0.5076142131979695, 0.2232142857142857, 0.17301038062283738, 0.1692047377326565], \"yaxis\": \"y13\"}, {\"alignmentgroup\": \"True\", \"hoverlabel\": {\"namelength\": 0}, \"hovertemplate\": \"Q6=Data Engineer<br>Q4=Bachelor\\u2019s degree<br>Q3=India<br>=%{x}<br>Percentage (%)=%{y}\", \"legendgroup\": \"Q6=Data Engineer\", \"marker\": {\"color\": \"#00cc96\"}, \"name\": \"Q6=Data Engineer\", \"offsetgroup\": \"Q6=Data Engineer\", \"orientation\": \"v\", \"showlegend\": false, \"textposition\": \"auto\", \"type\": \"bar\", \"x\": [\"10-20,000\", \"I do not wish to disclose my approximate yearly compensation\", \"0-10,000\", \"20-30,000\", \"50-60,000\", \"90-100,000\", \"60-70,000\", \"30-40,000\"], \"xaxis\": \"x14\", \"y\": [1.5665796344647518, 1.2327773749093547, 1.0380622837370241, 0.676818950930626, 0.4914004914004914, 0.3558718861209964, 0.3144654088050315, 0.20533880903490762], \"yaxis\": \"y14\"}, {\"alignmentgroup\": \"True\", \"hoverlabel\": {\"namelength\": 0}, \"hovertemplate\": \"Q6=Data Engineer<br>Q4=Bachelor\\u2019s degree<br>Q3=China<br>=%{x}<br>Percentage (%)=%{y}\", \"legendgroup\": \"Q6=Data Engineer\", \"marker\": {\"color\": \"#00cc96\"}, \"name\": \"Q6=Data Engineer\", \"offsetgroup\": \"Q6=Data Engineer\", \"orientation\": \"v\", \"showlegend\": false, \"textposition\": \"auto\", \"type\": \"bar\", \"x\": [\"10-20,000\", \"20-30,000\", \"30-40,000\", \"I do not wish to disclose my approximate yearly compensation\", \"0-10,000\"], \"xaxis\": \"x15\", \"y\": [0.7832898172323759, 0.5076142131979695, 0.41067761806981523, 0.36258158085569253, 0.25951557093425603], \"yaxis\": \"y15\"}, {\"alignmentgroup\": \"True\", \"hoverlabel\": {\"namelength\": 0}, \"hovertemplate\": \"Q6=Data Engineer<br>Q4=Some college/university study without earning a bachelor\\u2019s degree<br>Q3=United States of America<br>=%{x}<br>Percentage (%)=%{y}\", \"legendgroup\": \"Q6=Data Engineer\", \"marker\": {\"color\": \"#00cc96\"}, \"name\": \"Q6=Data Engineer\", \"offsetgroup\": \"Q6=Data Engineer\", \"orientation\": \"v\", \"showlegend\": false, \"textposition\": \"auto\", \"type\": \"bar\", \"x\": [\"90-100,000\", \"125-150,000\"], \"xaxis\": \"x10\", \"y\": [0.3558718861209964, 0.3424657534246575], \"yaxis\": \"y10\"}, {\"alignmentgroup\": \"True\", \"hoverlabel\": {\"namelength\": 0}, \"hovertemplate\": \"Q6=Data Engineer<br>Q4=Some college/university study without earning a bachelor\\u2019s degree<br>Q3=India<br>=%{x}<br>Percentage (%)=%{y}\", \"legendgroup\": \"Q6=Data Engineer\", \"marker\": {\"color\": \"#00cc96\"}, \"name\": \"Q6=Data Engineer\", \"offsetgroup\": \"Q6=Data Engineer\", \"orientation\": \"v\", \"showlegend\": false, \"textposition\": \"auto\", \"type\": \"bar\", \"x\": [\"0-10,000\"], \"xaxis\": \"x11\", \"y\": [0.08650519031141869], \"yaxis\": \"y11\"}, {\"alignmentgroup\": \"True\", \"hoverlabel\": {\"namelength\": 0}, \"hovertemplate\": \"Q6=Data Engineer<br>Q4=Some college/university study without earning a bachelor\\u2019s degree<br>Q3=China<br>=%{x}<br>Percentage (%)=%{y}\", \"legendgroup\": \"Q6=Data Engineer\", \"marker\": {\"color\": \"#00cc96\"}, \"name\": \"Q6=Data Engineer\", \"offsetgroup\": \"Q6=Data Engineer\", \"orientation\": \"v\", \"showlegend\": false, \"textposition\": \"auto\", \"type\": \"bar\", \"x\": [\"I do not wish to disclose my approximate yearly compensation\"], \"xaxis\": \"x12\", \"y\": [0.0725163161711385], \"yaxis\": \"y12\"}, {\"alignmentgroup\": \"True\", \"hoverlabel\": {\"namelength\": 0}, \"hovertemplate\": \"Q6=Data Engineer<br>Q4=I prefer not to answer<br>Q3=India<br>=%{x}<br>Percentage (%)=%{y}\", \"legendgroup\": \"Q6=Data Engineer\", \"marker\": {\"color\": \"#00cc96\"}, \"name\": \"Q6=Data Engineer\", \"offsetgroup\": \"Q6=Data Engineer\", \"orientation\": \"v\", \"showlegend\": false, \"textposition\": \"auto\", \"type\": \"bar\", \"x\": [\"I do not wish to disclose my approximate yearly compensation\"], \"xaxis\": \"x8\", \"y\": [0.0725163161711385], \"yaxis\": \"y8\"}, {\"alignmentgroup\": \"True\", \"hoverlabel\": {\"namelength\": 0}, \"hovertemplate\": \"Q6=Data Engineer<br>Q4=I prefer not to answer<br>Q3=China<br>=%{x}<br>Percentage (%)=%{y}\", \"legendgroup\": \"Q6=Data Engineer\", \"marker\": {\"color\": \"#00cc96\"}, \"name\": \"Q6=Data Engineer\", \"offsetgroup\": \"Q6=Data Engineer\", \"orientation\": \"v\", \"showlegend\": false, \"textposition\": \"auto\", \"type\": \"bar\", \"x\": [\"I do not wish to disclose my approximate yearly compensation\", \"0-10,000\"], \"xaxis\": \"x9\", \"y\": [0.21754894851341552, 0.08650519031141869], \"yaxis\": \"y9\"}, {\"alignmentgroup\": \"True\", \"hoverlabel\": {\"namelength\": 0}, \"hovertemplate\": \"Q6=Data Engineer<br>Q4=Professional degree<br>Q3=India<br>=%{x}<br>Percentage (%)=%{y}\", \"legendgroup\": \"Q6=Data Engineer\", \"marker\": {\"color\": \"#00cc96\"}, \"name\": \"Q6=Data Engineer\", \"offsetgroup\": \"Q6=Data Engineer\", \"orientation\": \"v\", \"showlegend\": false, \"textposition\": \"auto\", \"type\": \"bar\", \"x\": [\"20-30,000\"], \"xaxis\": \"x5\", \"y\": [0.1692047377326565], \"yaxis\": \"y5\"}, {\"alignmentgroup\": \"True\", \"hoverlabel\": {\"namelength\": 0}, \"hovertemplate\": \"Q6=Data Engineer<br>Q4=Professional degree<br>Q3=China<br>=%{x}<br>Percentage (%)=%{y}\", \"legendgroup\": \"Q6=Data Engineer\", \"marker\": {\"color\": \"#00cc96\"}, \"name\": \"Q6=Data Engineer\", \"offsetgroup\": \"Q6=Data Engineer\", \"orientation\": \"v\", \"showlegend\": false, \"textposition\": \"auto\", \"type\": \"bar\", \"x\": [\"70-80,000\"], \"xaxis\": \"x6\", \"y\": [0.29940119760479045], \"yaxis\": \"y6\"}, {\"alignmentgroup\": \"True\", \"hoverlabel\": {\"namelength\": 0}, \"hovertemplate\": \"Q6=Data Engineer<br>Q4=No formal education past high school<br>Q3=India<br>=%{x}<br>Percentage (%)=%{y}\", \"legendgroup\": \"Q6=Data Engineer\", \"marker\": {\"color\": \"#00cc96\"}, \"name\": \"Q6=Data Engineer\", \"offsetgroup\": \"Q6=Data Engineer\", \"orientation\": \"v\", \"showlegend\": false, \"textposition\": \"auto\", \"type\": \"bar\", \"x\": [\"0-10,000\"], \"xaxis\": \"x2\", \"y\": [0.08650519031141869], \"yaxis\": \"y2\"}],\n",
       "                        {\"annotations\": [{\"font\": {}, \"showarrow\": false, \"text\": \"Q3=United States of America\", \"x\": 0.15666666666666665, \"xanchor\": \"center\", \"xref\": \"paper\", \"y\": 0.9999999999999999, \"yanchor\": \"bottom\", \"yref\": \"paper\"}, {\"font\": {}, \"showarrow\": false, \"text\": \"Q3=India\", \"x\": 0.49, \"xanchor\": \"center\", \"xref\": \"paper\", \"y\": 0.9999999999999999, \"yanchor\": \"bottom\", \"yref\": \"paper\"}, {\"font\": {}, \"showarrow\": false, \"text\": \"Q3=China\", \"x\": 0.8233333333333333, \"xanchor\": \"center\", \"xref\": \"paper\", \"y\": 0.9999999999999999, \"yanchor\": \"bottom\", \"yref\": \"paper\"}, {\"font\": {}, \"showarrow\": false, \"text\": \"Q4=No formal education past high school\", \"textangle\": 90, \"x\": 0.98, \"xanchor\": \"left\", \"xref\": \"paper\", \"y\": 0.05857142857142857, \"yanchor\": \"middle\", \"yref\": \"paper\"}, {\"font\": {}, \"showarrow\": false, \"text\": \"Q4=Professional degree\", \"textangle\": 90, \"x\": 0.98, \"xanchor\": \"left\", \"xref\": \"paper\", \"y\": 0.2057142857142857, \"yanchor\": \"middle\", \"yref\": \"paper\"}, {\"font\": {}, \"showarrow\": false, \"text\": \"Q4=I prefer not to answer\", \"textangle\": 90, \"x\": 0.98, \"xanchor\": \"left\", \"xref\": \"paper\", \"y\": 0.35285714285714287, \"yanchor\": \"middle\", \"yref\": \"paper\"}, {\"font\": {}, \"showarrow\": false, \"text\": \"Q4=Some college/university study without earning a bachelor\\u2019s degree\", \"textangle\": 90, \"x\": 0.98, \"xanchor\": \"left\", \"xref\": \"paper\", \"y\": 0.49999999999999994, \"yanchor\": \"middle\", \"yref\": \"paper\"}, {\"font\": {}, \"showarrow\": false, \"text\": \"Q4=Bachelor\\u2019s degree\", \"textangle\": 90, \"x\": 0.98, \"xanchor\": \"left\", \"xref\": \"paper\", \"y\": 0.647142857142857, \"yanchor\": \"middle\", \"yref\": \"paper\"}, {\"font\": {}, \"showarrow\": false, \"text\": \"Q4=Doctoral degree\", \"textangle\": 90, \"x\": 0.98, \"xanchor\": \"left\", \"xref\": \"paper\", \"y\": 0.7942857142857143, \"yanchor\": \"middle\", \"yref\": \"paper\"}, {\"font\": {}, \"showarrow\": false, \"text\": \"Q4=Master\\u2019s degree\", \"textangle\": 90, \"x\": 0.98, \"xanchor\": \"left\", \"xref\": \"paper\", \"y\": 0.9414285714285713, \"yanchor\": \"middle\", \"yref\": \"paper\"}], \"barmode\": \"group\", \"height\": 3000, \"legend\": {\"tracegroupgap\": 0}, \"template\": {\"data\": {\"bar\": [{\"error_x\": {\"color\": \"#2a3f5f\"}, \"error_y\": {\"color\": \"#2a3f5f\"}, \"marker\": {\"line\": {\"color\": \"#E5ECF6\", \"width\": 0.5}}, \"type\": \"bar\"}], \"barpolar\": [{\"marker\": {\"line\": {\"color\": \"#E5ECF6\", \"width\": 0.5}}, \"type\": \"barpolar\"}], \"carpet\": [{\"aaxis\": {\"endlinecolor\": \"#2a3f5f\", \"gridcolor\": \"white\", \"linecolor\": \"white\", \"minorgridcolor\": \"white\", \"startlinecolor\": \"#2a3f5f\"}, \"baxis\": {\"endlinecolor\": \"#2a3f5f\", \"gridcolor\": \"white\", \"linecolor\": \"white\", \"minorgridcolor\": \"white\", \"startlinecolor\": \"#2a3f5f\"}, \"type\": \"carpet\"}], \"choropleth\": [{\"colorbar\": {\"outlinewidth\": 0, \"ticks\": \"\"}, \"type\": \"choropleth\"}], \"contour\": [{\"colorbar\": {\"outlinewidth\": 0, \"ticks\": \"\"}, \"colorscale\": [[0.0, \"#0d0887\"], [0.1111111111111111, \"#46039f\"], [0.2222222222222222, \"#7201a8\"], [0.3333333333333333, \"#9c179e\"], [0.4444444444444444, \"#bd3786\"], [0.5555555555555556, \"#d8576b\"], [0.6666666666666666, \"#ed7953\"], [0.7777777777777778, \"#fb9f3a\"], [0.8888888888888888, \"#fdca26\"], [1.0, \"#f0f921\"]], \"type\": \"contour\"}], \"contourcarpet\": [{\"colorbar\": {\"outlinewidth\": 0, \"ticks\": \"\"}, \"type\": \"contourcarpet\"}], \"heatmap\": [{\"colorbar\": {\"outlinewidth\": 0, \"ticks\": \"\"}, \"colorscale\": [[0.0, \"#0d0887\"], [0.1111111111111111, \"#46039f\"], [0.2222222222222222, \"#7201a8\"], [0.3333333333333333, \"#9c179e\"], [0.4444444444444444, \"#bd3786\"], [0.5555555555555556, \"#d8576b\"], [0.6666666666666666, \"#ed7953\"], [0.7777777777777778, \"#fb9f3a\"], [0.8888888888888888, \"#fdca26\"], [1.0, \"#f0f921\"]], \"type\": \"heatmap\"}], \"heatmapgl\": [{\"colorbar\": {\"outlinewidth\": 0, \"ticks\": \"\"}, \"colorscale\": [[0.0, \"#0d0887\"], [0.1111111111111111, \"#46039f\"], [0.2222222222222222, \"#7201a8\"], [0.3333333333333333, \"#9c179e\"], [0.4444444444444444, \"#bd3786\"], [0.5555555555555556, \"#d8576b\"], [0.6666666666666666, \"#ed7953\"], [0.7777777777777778, \"#fb9f3a\"], [0.8888888888888888, \"#fdca26\"], [1.0, \"#f0f921\"]], \"type\": \"heatmapgl\"}], \"histogram\": [{\"marker\": {\"colorbar\": {\"outlinewidth\": 0, \"ticks\": \"\"}}, \"type\": \"histogram\"}], \"histogram2d\": [{\"colorbar\": {\"outlinewidth\": 0, \"ticks\": \"\"}, \"colorscale\": [[0.0, \"#0d0887\"], [0.1111111111111111, \"#46039f\"], [0.2222222222222222, \"#7201a8\"], [0.3333333333333333, \"#9c179e\"], [0.4444444444444444, \"#bd3786\"], [0.5555555555555556, \"#d8576b\"], [0.6666666666666666, \"#ed7953\"], [0.7777777777777778, \"#fb9f3a\"], [0.8888888888888888, \"#fdca26\"], [1.0, \"#f0f921\"]], \"type\": \"histogram2d\"}], \"histogram2dcontour\": [{\"colorbar\": {\"outlinewidth\": 0, \"ticks\": \"\"}, \"colorscale\": [[0.0, \"#0d0887\"], [0.1111111111111111, \"#46039f\"], [0.2222222222222222, \"#7201a8\"], [0.3333333333333333, \"#9c179e\"], [0.4444444444444444, \"#bd3786\"], [0.5555555555555556, \"#d8576b\"], [0.6666666666666666, \"#ed7953\"], [0.7777777777777778, \"#fb9f3a\"], [0.8888888888888888, \"#fdca26\"], [1.0, \"#f0f921\"]], \"type\": \"histogram2dcontour\"}], \"mesh3d\": [{\"colorbar\": {\"outlinewidth\": 0, \"ticks\": \"\"}, \"type\": \"mesh3d\"}], \"parcoords\": [{\"line\": {\"colorbar\": {\"outlinewidth\": 0, \"ticks\": \"\"}}, \"type\": \"parcoords\"}], \"scatter\": [{\"marker\": {\"colorbar\": {\"outlinewidth\": 0, \"ticks\": \"\"}}, \"type\": \"scatter\"}], \"scatter3d\": [{\"line\": {\"colorbar\": {\"outlinewidth\": 0, \"ticks\": \"\"}}, \"marker\": {\"colorbar\": {\"outlinewidth\": 0, \"ticks\": \"\"}}, \"type\": \"scatter3d\"}], \"scattercarpet\": [{\"marker\": {\"colorbar\": {\"outlinewidth\": 0, \"ticks\": \"\"}}, \"type\": \"scattercarpet\"}], \"scattergeo\": [{\"marker\": {\"colorbar\": {\"outlinewidth\": 0, \"ticks\": \"\"}}, \"type\": \"scattergeo\"}], \"scattergl\": [{\"marker\": {\"colorbar\": {\"outlinewidth\": 0, \"ticks\": \"\"}}, \"type\": \"scattergl\"}], \"scattermapbox\": [{\"marker\": {\"colorbar\": {\"outlinewidth\": 0, \"ticks\": \"\"}}, \"type\": \"scattermapbox\"}], \"scatterpolar\": [{\"marker\": {\"colorbar\": {\"outlinewidth\": 0, \"ticks\": \"\"}}, \"type\": \"scatterpolar\"}], \"scatterpolargl\": [{\"marker\": {\"colorbar\": {\"outlinewidth\": 0, \"ticks\": \"\"}}, \"type\": \"scatterpolargl\"}], \"scatterternary\": [{\"marker\": {\"colorbar\": {\"outlinewidth\": 0, \"ticks\": \"\"}}, \"type\": \"scatterternary\"}], \"surface\": [{\"colorbar\": {\"outlinewidth\": 0, \"ticks\": \"\"}, \"colorscale\": [[0.0, \"#0d0887\"], [0.1111111111111111, \"#46039f\"], [0.2222222222222222, \"#7201a8\"], [0.3333333333333333, \"#9c179e\"], [0.4444444444444444, \"#bd3786\"], [0.5555555555555556, \"#d8576b\"], [0.6666666666666666, \"#ed7953\"], [0.7777777777777778, \"#fb9f3a\"], [0.8888888888888888, \"#fdca26\"], [1.0, \"#f0f921\"]], \"type\": \"surface\"}], \"table\": [{\"cells\": {\"fill\": {\"color\": \"#EBF0F8\"}, \"line\": {\"color\": \"white\"}}, \"header\": {\"fill\": {\"color\": \"#C8D4E3\"}, \"line\": {\"color\": \"white\"}}, \"type\": \"table\"}]}, \"layout\": {\"annotationdefaults\": {\"arrowcolor\": \"#2a3f5f\", \"arrowhead\": 0, \"arrowwidth\": 1}, \"colorscale\": {\"diverging\": [[0, \"#8e0152\"], [0.1, \"#c51b7d\"], [0.2, \"#de77ae\"], [0.3, \"#f1b6da\"], [0.4, \"#fde0ef\"], [0.5, \"#f7f7f7\"], [0.6, \"#e6f5d0\"], [0.7, \"#b8e186\"], [0.8, \"#7fbc41\"], [0.9, \"#4d9221\"], [1, \"#276419\"]], \"sequential\": [[0.0, \"#0d0887\"], [0.1111111111111111, \"#46039f\"], [0.2222222222222222, \"#7201a8\"], [0.3333333333333333, \"#9c179e\"], [0.4444444444444444, \"#bd3786\"], [0.5555555555555556, \"#d8576b\"], [0.6666666666666666, \"#ed7953\"], [0.7777777777777778, \"#fb9f3a\"], [0.8888888888888888, \"#fdca26\"], [1.0, \"#f0f921\"]], \"sequentialminus\": [[0.0, \"#0d0887\"], [0.1111111111111111, \"#46039f\"], [0.2222222222222222, \"#7201a8\"], [0.3333333333333333, \"#9c179e\"], [0.4444444444444444, \"#bd3786\"], [0.5555555555555556, \"#d8576b\"], [0.6666666666666666, \"#ed7953\"], [0.7777777777777778, \"#fb9f3a\"], [0.8888888888888888, \"#fdca26\"], [1.0, \"#f0f921\"]]}, \"colorway\": [\"#636efa\", \"#EF553B\", \"#00cc96\", \"#ab63fa\", \"#FFA15A\", \"#19d3f3\", \"#FF6692\", \"#B6E880\", \"#FF97FF\", \"#FECB52\"], \"font\": {\"color\": \"#2a3f5f\"}, \"geo\": {\"bgcolor\": \"white\", \"lakecolor\": \"white\", \"landcolor\": \"#E5ECF6\", \"showlakes\": true, \"showland\": true, \"subunitcolor\": \"white\"}, \"hoverlabel\": {\"align\": \"left\"}, \"hovermode\": \"closest\", \"mapbox\": {\"style\": \"light\"}, \"paper_bgcolor\": \"white\", \"plot_bgcolor\": \"#E5ECF6\", \"polar\": {\"angularaxis\": {\"gridcolor\": \"white\", \"linecolor\": \"white\", \"ticks\": \"\"}, \"bgcolor\": \"#E5ECF6\", \"radialaxis\": {\"gridcolor\": \"white\", \"linecolor\": \"white\", \"ticks\": \"\"}}, \"scene\": {\"xaxis\": {\"backgroundcolor\": \"#E5ECF6\", \"gridcolor\": \"white\", \"gridwidth\": 2, \"linecolor\": \"white\", \"showbackground\": true, \"ticks\": \"\", \"zerolinecolor\": \"white\"}, \"yaxis\": {\"backgroundcolor\": \"#E5ECF6\", \"gridcolor\": \"white\", \"gridwidth\": 2, \"linecolor\": \"white\", \"showbackground\": true, \"ticks\": \"\", \"zerolinecolor\": \"white\"}, \"zaxis\": {\"backgroundcolor\": \"#E5ECF6\", \"gridcolor\": \"white\", \"gridwidth\": 2, \"linecolor\": \"white\", \"showbackground\": true, \"ticks\": \"\", \"zerolinecolor\": \"white\"}}, \"shapedefaults\": {\"line\": {\"color\": \"#2a3f5f\"}}, \"ternary\": {\"aaxis\": {\"gridcolor\": \"white\", \"linecolor\": \"white\", \"ticks\": \"\"}, \"baxis\": {\"gridcolor\": \"white\", \"linecolor\": \"white\", \"ticks\": \"\"}, \"bgcolor\": \"#E5ECF6\", \"caxis\": {\"gridcolor\": \"white\", \"linecolor\": \"white\", \"ticks\": \"\"}}, \"title\": {\"x\": 0.05}, \"xaxis\": {\"automargin\": true, \"gridcolor\": \"white\", \"linecolor\": \"white\", \"ticks\": \"\", \"zerolinecolor\": \"white\", \"zerolinewidth\": 2}, \"yaxis\": {\"automargin\": true, \"gridcolor\": \"white\", \"linecolor\": \"white\", \"ticks\": \"\", \"zerolinecolor\": \"white\", \"zerolinewidth\": 2}}}, \"title\": {\"text\": \"Top 3 Countries: Compensation Breakdown by Role and Level of Education in 2018\"}, \"xaxis\": {\"anchor\": \"y\", \"domain\": [0.0, 0.3133333333333333], \"title\": {\"text\": \"\"}}, \"xaxis10\": {\"anchor\": \"y10\", \"domain\": [0.0, 0.3133333333333333], \"matches\": \"x\", \"showticklabels\": false}, \"xaxis11\": {\"anchor\": \"y11\", \"domain\": [0.3333333333333333, 0.6466666666666666], \"matches\": \"x\", \"showticklabels\": false}, \"xaxis12\": {\"anchor\": \"y12\", \"domain\": [0.6666666666666666, 0.98], \"matches\": \"x\", \"showticklabels\": false}, \"xaxis13\": {\"anchor\": \"y13\", \"domain\": [0.0, 0.3133333333333333], \"matches\": \"x\", \"showticklabels\": false}, \"xaxis14\": {\"anchor\": \"y14\", \"domain\": [0.3333333333333333, 0.6466666666666666], \"matches\": \"x\", \"showticklabels\": false}, \"xaxis15\": {\"anchor\": \"y15\", \"domain\": [0.6666666666666666, 0.98], \"matches\": \"x\", \"showticklabels\": false}, \"xaxis16\": {\"anchor\": \"y16\", \"domain\": [0.0, 0.3133333333333333], \"matches\": \"x\", \"showticklabels\": false}, \"xaxis17\": {\"anchor\": \"y17\", \"domain\": [0.3333333333333333, 0.6466666666666666], \"matches\": \"x\", \"showticklabels\": false}, \"xaxis18\": {\"anchor\": \"y18\", \"domain\": [0.6666666666666666, 0.98], \"matches\": \"x\", \"showticklabels\": false}, \"xaxis19\": {\"anchor\": \"y19\", \"domain\": [0.0, 0.3133333333333333], \"matches\": \"x\", \"showticklabels\": false}, \"xaxis2\": {\"anchor\": \"y2\", \"domain\": [0.3333333333333333, 0.6466666666666666], \"matches\": \"x\", \"title\": {\"text\": \"\"}}, \"xaxis20\": {\"anchor\": \"y20\", \"domain\": [0.3333333333333333, 0.6466666666666666], \"matches\": \"x\", \"showticklabels\": false}, \"xaxis21\": {\"anchor\": \"y21\", \"domain\": [0.6666666666666666, 0.98], \"matches\": \"x\", \"showticklabels\": false}, \"xaxis3\": {\"anchor\": \"y3\", \"domain\": [0.6666666666666666, 0.98], \"matches\": \"x\", \"title\": {\"text\": \"\"}}, \"xaxis4\": {\"anchor\": \"y4\", \"domain\": [0.0, 0.3133333333333333], \"matches\": \"x\", \"showticklabels\": false}, \"xaxis5\": {\"anchor\": \"y5\", \"domain\": [0.3333333333333333, 0.6466666666666666], \"matches\": \"x\", \"showticklabels\": false}, \"xaxis6\": {\"anchor\": \"y6\", \"domain\": [0.6666666666666666, 0.98], \"matches\": \"x\", \"showticklabels\": false}, \"xaxis7\": {\"anchor\": \"y7\", \"domain\": [0.0, 0.3133333333333333], \"matches\": \"x\", \"showticklabels\": false}, \"xaxis8\": {\"anchor\": \"y8\", \"domain\": [0.3333333333333333, 0.6466666666666666], \"matches\": \"x\", \"showticklabels\": false}, \"xaxis9\": {\"anchor\": \"y9\", \"domain\": [0.6666666666666666, 0.98], \"matches\": \"x\", \"showticklabels\": false}, \"yaxis\": {\"anchor\": \"x\", \"domain\": [0.0, 0.11714285714285715], \"title\": {\"text\": \"Percentage (%)\"}}, \"yaxis10\": {\"anchor\": \"x10\", \"domain\": [0.4414285714285714, 0.5585714285714285], \"matches\": \"y\", \"title\": {\"text\": \"Percentage (%)\"}}, \"yaxis11\": {\"anchor\": \"x11\", \"domain\": [0.4414285714285714, 0.5585714285714285], \"matches\": \"y\", \"showticklabels\": false}, \"yaxis12\": {\"anchor\": \"x12\", \"domain\": [0.4414285714285714, 0.5585714285714285], \"matches\": \"y\", \"showticklabels\": false}, \"yaxis13\": {\"anchor\": \"x13\", \"domain\": [0.5885714285714285, 0.7057142857142856], \"matches\": \"y\", \"title\": {\"text\": \"Percentage (%)\"}}, \"yaxis14\": {\"anchor\": \"x14\", \"domain\": [0.5885714285714285, 0.7057142857142856], \"matches\": \"y\", \"showticklabels\": false}, \"yaxis15\": {\"anchor\": \"x15\", \"domain\": [0.5885714285714285, 0.7057142857142856], \"matches\": \"y\", \"showticklabels\": false}, \"yaxis16\": {\"anchor\": \"x16\", \"domain\": [0.7357142857142858, 0.8528571428571429], \"matches\": \"y\", \"title\": {\"text\": \"Percentage (%)\"}}, \"yaxis17\": {\"anchor\": \"x17\", \"domain\": [0.7357142857142858, 0.8528571428571429], \"matches\": \"y\", \"showticklabels\": false}, \"yaxis18\": {\"anchor\": \"x18\", \"domain\": [0.7357142857142858, 0.8528571428571429], \"matches\": \"y\", \"showticklabels\": false}, \"yaxis19\": {\"anchor\": \"x19\", \"domain\": [0.8828571428571428, 0.9999999999999999], \"matches\": \"y\", \"title\": {\"text\": \"Percentage (%)\"}}, \"yaxis2\": {\"anchor\": \"x2\", \"domain\": [0.0, 0.11714285714285715], \"matches\": \"y\", \"showticklabels\": false}, \"yaxis20\": {\"anchor\": \"x20\", \"domain\": [0.8828571428571428, 0.9999999999999999], \"matches\": \"y\", \"showticklabels\": false}, \"yaxis21\": {\"anchor\": \"x21\", \"domain\": [0.8828571428571428, 0.9999999999999999], \"matches\": \"y\", \"showticklabels\": false}, \"yaxis3\": {\"anchor\": \"x3\", \"domain\": [0.0, 0.11714285714285715], \"matches\": \"y\", \"showticklabels\": false}, \"yaxis4\": {\"anchor\": \"x4\", \"domain\": [0.14714285714285713, 0.2642857142857143], \"matches\": \"y\", \"title\": {\"text\": \"Percentage (%)\"}}, \"yaxis5\": {\"anchor\": \"x5\", \"domain\": [0.14714285714285713, 0.2642857142857143], \"matches\": \"y\", \"showticklabels\": false}, \"yaxis6\": {\"anchor\": \"x6\", \"domain\": [0.14714285714285713, 0.2642857142857143], \"matches\": \"y\", \"showticklabels\": false}, \"yaxis7\": {\"anchor\": \"x7\", \"domain\": [0.29428571428571426, 0.4114285714285714], \"matches\": \"y\", \"title\": {\"text\": \"Percentage (%)\"}}, \"yaxis8\": {\"anchor\": \"x8\", \"domain\": [0.29428571428571426, 0.4114285714285714], \"matches\": \"y\", \"showticklabels\": false}, \"yaxis9\": {\"anchor\": \"x9\", \"domain\": [0.29428571428571426, 0.4114285714285714], \"matches\": \"y\", \"showticklabels\": false}},\n",
       "                        {\"responsive\": true}\n",
       "                    ).then(function(){\n",
       "                            \n",
       "var gd = document.getElementById('e3a62fa0-b8eb-4bb3-9e4f-31a0de94dfa5');\n",
       "var x = new MutationObserver(function (mutations, observer) {{\n",
       "        var display = window.getComputedStyle(gd).display;\n",
       "        if (!display || display === 'none') {{\n",
       "            console.log([gd, 'removed!']);\n",
       "            Plotly.purge(gd);\n",
       "            observer.disconnect();\n",
       "        }}\n",
       "}});\n",
       "\n",
       "// Listen for the removal of the full notebook cells\n",
       "var notebookContainer = gd.closest('#notebook-container');\n",
       "if (notebookContainer) {{\n",
       "    x.observe(notebookContainer, {childList: true});\n",
       "}}\n",
       "\n",
       "// Listen for the clearing of the current output cell\n",
       "var outputEl = gd.closest('.output');\n",
       "if (outputEl) {{\n",
       "    x.observe(outputEl, {childList: true});\n",
       "}}\n",
       "\n",
       "                        })\n",
       "                };\n",
       "                });\n",
       "            </script>\n",
       "        </div>"
      ]
     },
     "metadata": {},
     "output_type": "display_data"
    }
   ],
   "source": [
    "fig = px.bar(df_test, x = 'Q9', y = 'Percentage', title= ('Top {} Countries: Compensation Breakdown by Role and Level of Education in 2018').format(n), \n",
    "             color = 'Q6' , barmode='group', labels={'Percentage':'Percentage (%)', 'Q9':''}, facet_row='Q4', facet_col = 'Q3', height = 3000)\n",
    "fig.show()"
   ]
  },
  {
   "cell_type": "markdown",
   "metadata": {},
   "source": [
    "Notes:\n",
    "Disclaimer: These results do not segment by the years of experience of a respondent. The percentages are grouped by compensation. \n",
    "\n",
    "    1. In the United States, the most common compensation for data scientists with a Master's, Doctoral, or Bachelor's degree is 125-150,000 (28.42%), 200-25000+ (21.79%), and 250-300,000 (12.9%), respectively. In India, the most common compensation for data scientists with a Master's, Doctoral, or Bachelor's degree is 400-500,000 (9.09%), 500,000+ (4.17%), and 500,000+ (11.76%), respectively. In China, the most common compensation for data scientists with a Master's, Doctoral, or Bachelor's degree is 500,000+ (5.88%), 500,000+ (5.88%), and 90-100,000 (0.35%), respectively. Key takeaway: Data Scientist wages in the USA are much different in magnitude than in China and India. As a Data Scientist with advanced education -- with a Master's or Doctoral degree -- in China and India, you are most likely to earn 400,000+. A larger percentage of Data Scientists in the USA earn more than 125,000 than in China and India. Although India and China's most common level of compensation for advanced degree holders is greater than in the USA, there are more jobs in the USA for Data Scientists to earn 125,000+. \n",
    "    2. Software Engineer Compensation in Top-3 Countries with Varying Levels of Education: In the United States, the most common compensation for data scientists with a Master's, Doctoral, or Bachelor's degree is 300-400,000 (16.67%), 400-500,000+ (18.18%), and 250-300,000+ (12.90%), respectively. In India, the most common compensation for data scientists with a Master's, Doctoral, or Bachelor's degree is 0-10,000 (6.14%), 20-30,000+ (0.34%), and 0-10,000 (14.36%), respectively. In China, the most common compensation for data scientists with a Master's, Doctoral, or Bachelor's degree is 30-40,000 (2.05%), 40-50,000+ (0.22%), and 30-40,000 (1.23%), respectively. Key takeaway: Software engineering wages in the USA far outweigh China and India. Regardless of education level, the most common compensation level in India and China is within a range of 20,000 from a base of 10,000. In the USA, SWEs with doctoral or Master's level education is more likely to earn greater than 100,000 than SWEs with a bachelor's degree.\n",
    "    3. Data Engineer Compensation in Top-3 Countries with Varying Levels of Education: In the United States, the most common compensation for data engineers with a Master's, Doctoral, or Bachelor's degree is 125-150,000 (4.79%), 200-250,000 (1.28%), and 150-200,000+ (3.48%), respectively. In India, the most common compensation for data engineers with a Master's, Doctoral, or Bachelor's degree is 0-10,000 (1.29%), 40-50,000 (0.22%), and 10-20,000 (1.57%), respectively. In China, the most common compensation for data engineers with a Master's, Doctoral, or Bachelor's degree is 0-10,000 (1.21%), Not disclosed (0.30%), and 10-20,000 (1.29%), respectively. "
   ]
  },
  {
   "cell_type": "code",
   "execution_count": null,
   "metadata": {},
   "outputs": [],
   "source": []
  },
  {
   "cell_type": "code",
   "execution_count": null,
   "metadata": {},
   "outputs": [],
   "source": []
  },
  {
   "cell_type": "code",
   "execution_count": null,
   "metadata": {},
   "outputs": [],
   "source": []
  },
  {
   "cell_type": "code",
   "execution_count": null,
   "metadata": {},
   "outputs": [],
   "source": []
  },
  {
   "cell_type": "code",
   "execution_count": null,
   "metadata": {},
   "outputs": [],
   "source": []
  },
  {
   "cell_type": "code",
   "execution_count": null,
   "metadata": {},
   "outputs": [],
   "source": []
  },
  {
   "cell_type": "code",
   "execution_count": null,
   "metadata": {},
   "outputs": [],
   "source": []
  },
  {
   "cell_type": "markdown",
   "metadata": {},
   "source": [
    "## How does compensation and education per role vary in the Top-10 Most Represented Countries? \n"
   ]
  },
  {
   "cell_type": "code",
   "execution_count": null,
   "metadata": {},
   "outputs": [],
   "source": []
  },
  {
   "cell_type": "code",
   "execution_count": null,
   "metadata": {},
   "outputs": [],
   "source": []
  },
  {
   "cell_type": "code",
   "execution_count": null,
   "metadata": {},
   "outputs": [],
   "source": []
  },
  {
   "cell_type": "code",
   "execution_count": null,
   "metadata": {},
   "outputs": [],
   "source": []
  },
  {
   "cell_type": "markdown",
   "metadata": {},
   "source": [
    "## Is it harder for females to break into these roles related to data science? (i.e., do they generally have more education or any other indicators that prove this?)"
   ]
  },
  {
   "cell_type": "code",
   "execution_count": null,
   "metadata": {},
   "outputs": [],
   "source": []
  },
  {
   "cell_type": "code",
   "execution_count": null,
   "metadata": {},
   "outputs": [],
   "source": []
  },
  {
   "cell_type": "code",
   "execution_count": null,
   "metadata": {},
   "outputs": [],
   "source": []
  },
  {
   "cell_type": "markdown",
   "metadata": {},
   "source": [
    "## What are the barriers data scientists face to scale their work? What skills do they need?\n"
   ]
  },
  {
   "cell_type": "code",
   "execution_count": null,
   "metadata": {},
   "outputs": [],
   "source": []
  },
  {
   "cell_type": "code",
   "execution_count": null,
   "metadata": {},
   "outputs": [],
   "source": []
  },
  {
   "cell_type": "markdown",
   "metadata": {},
   "source": [
    "## How are data scientists handling bias in algorithms?"
   ]
  },
  {
   "cell_type": "markdown",
   "metadata": {},
   "source": [
    "### What is the education level of Data Science and ML respondents? ##"
   ]
  },
  {
   "cell_type": "code",
   "execution_count": null,
   "metadata": {},
   "outputs": [],
   "source": []
  }
 ],
 "metadata": {
  "kernelspec": {
   "display_name": "Python 3",
   "language": "python",
   "name": "python3"
  },
  "language_info": {
   "codemirror_mode": {
    "name": "ipython",
    "version": 3
   },
   "file_extension": ".py",
   "mimetype": "text/x-python",
   "name": "python",
   "nbconvert_exporter": "python",
   "pygments_lexer": "ipython3",
   "version": "3.6.4"
  }
 },
 "nbformat": 4,
 "nbformat_minor": 2
}
