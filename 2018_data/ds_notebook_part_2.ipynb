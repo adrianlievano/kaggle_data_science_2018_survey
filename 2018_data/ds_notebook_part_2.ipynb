{
 "cells": [
  {
   "cell_type": "markdown",
   "metadata": {},
   "source": [
    "handling questions with multiple parts"
   ]
  },
  {
   "cell_type": "code",
   "execution_count": 3,
   "metadata": {},
   "outputs": [
    {
     "name": "stderr",
     "output_type": "stream",
     "text": [
      "/Users/adrianlievano/anaconda3/lib/python3.6/site-packages/IPython/core/interactiveshell.py:2728: DtypeWarning: Columns (25) have mixed types. Specify dtype option on import or set low_memory=False.\n",
      "  interactivity=interactivity, compiler=compiler, result=result)\n",
      "/Users/adrianlievano/anaconda3/lib/python3.6/site-packages/IPython/core/interactiveshell.py:2728: DtypeWarning: Columns (0,2,8,10,21,23,24,25,26,27,28,44,56,64,83,85,87,107,109,123,125,150,157,172,174,194,210,218,219,223,246,249,262,264,276,277,278,279,280,281,282,283,284,285,286,287,288,289,290,304,306,325,326,329,341,368,371,384,385,389,390,391,393,394) have mixed types. Specify dtype option on import or set low_memory=False.\n",
      "  interactivity=interactivity, compiler=compiler, result=result)\n"
     ]
    }
   ],
   "source": [
    "import pandas as pd\n",
    "import numpy as np \n",
    "\n",
    "df_freeForm = pd.read_csv('kaggle-survey-2018/freeFormResponses.csv')\n",
    "df_multi_choice = pd.read_csv('kaggle-survey-2018/multipleChoiceResponses.csv')\n",
    "df_survey_schema = pd.read_csv('kaggle-survey-2018/SurveySchema.csv')"
   ]
  },
  {
   "cell_type": "code",
   "execution_count": 101,
   "metadata": {},
   "outputs": [],
   "source": [
    "def createDictofCatQuestions(n, df):\n",
    "    '''Input: \n",
    "        n is the number of parts for each question that we want to keep.\n",
    "        df: the dataframe of questions with multiple parts. \n",
    "       Returns:\n",
    "           A dictionary of keys that correspond to the question with its values as all the parts. \n",
    "    '''\n",
    "    part_cols = []\n",
    "    n = 5\n",
    "    counter = 0\n",
    "    questions_with_parts = []\n",
    "    q_dict = dict()\n",
    "\n",
    "    for col in df.columns:\n",
    "        try:\n",
    "            column_name_list = col.split('_')\n",
    "            if 'Part' in column_name_list:\n",
    "                if (int(column_name_list[-1]) <= n):\n",
    "                    part_cols.append(col)\n",
    "                else:\n",
    "                    pass\n",
    "            \n",
    "                if column_name_list[0] not in questions_with_parts:\n",
    "                    questions_with_parts.append(column_name_list[0])     \n",
    "        except:\n",
    "            continue\n",
    "\n",
    "    for i in range(0, len(part_cols), 5):\n",
    "        #print(part_cols[i:i+5])\n",
    "        if part_cols[i][0:3] not in q_dict.keys():\n",
    "            q_dict[part_cols[i][0:3]] = part_cols[i:i+5]\n",
    "            \n",
    "    return q_dict"
   ]
  },
  {
   "cell_type": "code",
   "execution_count": 102,
   "metadata": {},
   "outputs": [
    {
     "data": {
      "text/plain": [
       "{'Q11': ['Q11_Part_1', 'Q11_Part_2', 'Q11_Part_3', 'Q11_Part_4', 'Q11_Part_5'],\n",
       " 'Q13': ['Q13_Part_1', 'Q13_Part_2', 'Q13_Part_3', 'Q13_Part_4', 'Q13_Part_5'],\n",
       " 'Q14': ['Q14_Part_1', 'Q14_Part_2', 'Q14_Part_3', 'Q14_Part_4', 'Q14_Part_5'],\n",
       " 'Q15': ['Q15_Part_1', 'Q15_Part_2', 'Q15_Part_3', 'Q15_Part_4', 'Q15_Part_5'],\n",
       " 'Q16': ['Q16_Part_1', 'Q16_Part_2', 'Q16_Part_3', 'Q16_Part_4', 'Q16_Part_5'],\n",
       " 'Q19': ['Q19_Part_1', 'Q19_Part_2', 'Q19_Part_3', 'Q19_Part_4', 'Q19_Part_5'],\n",
       " 'Q21': ['Q21_Part_1', 'Q21_Part_2', 'Q21_Part_3', 'Q21_Part_4', 'Q21_Part_5'],\n",
       " 'Q27': ['Q27_Part_1', 'Q27_Part_2', 'Q27_Part_3', 'Q27_Part_4', 'Q27_Part_5'],\n",
       " 'Q28': ['Q28_Part_1', 'Q28_Part_2', 'Q28_Part_3', 'Q28_Part_4', 'Q28_Part_5'],\n",
       " 'Q29': ['Q29_Part_1', 'Q29_Part_2', 'Q29_Part_3', 'Q29_Part_4', 'Q29_Part_5'],\n",
       " 'Q30': ['Q30_Part_1', 'Q30_Part_2', 'Q30_Part_3', 'Q30_Part_4', 'Q30_Part_5'],\n",
       " 'Q31': ['Q31_Part_1', 'Q31_Part_2', 'Q31_Part_3', 'Q31_Part_4', 'Q31_Part_5'],\n",
       " 'Q33': ['Q33_Part_1', 'Q33_Part_2', 'Q33_Part_3', 'Q33_Part_4', 'Q33_Part_5'],\n",
       " 'Q34': ['Q34_Part_1', 'Q34_Part_2', 'Q34_Part_3', 'Q34_Part_4', 'Q34_Part_5'],\n",
       " 'Q35': ['Q35_Part_1', 'Q35_Part_2', 'Q35_Part_3', 'Q35_Part_4', 'Q35_Part_5'],\n",
       " 'Q36': ['Q36_Part_1', 'Q36_Part_2', 'Q36_Part_3', 'Q36_Part_4', 'Q36_Part_5'],\n",
       " 'Q38': ['Q38_Part_1', 'Q38_Part_2', 'Q38_Part_3', 'Q38_Part_4', 'Q38_Part_5'],\n",
       " 'Q39': ['Q39_Part_1', 'Q39_Part_2', 'Q41_Part_1', 'Q41_Part_2', 'Q41_Part_3'],\n",
       " 'Q42': ['Q42_Part_1', 'Q42_Part_2', 'Q42_Part_3', 'Q42_Part_4', 'Q42_Part_5'],\n",
       " 'Q44': ['Q44_Part_1', 'Q44_Part_2', 'Q44_Part_3', 'Q44_Part_4', 'Q44_Part_5'],\n",
       " 'Q45': ['Q45_Part_1', 'Q45_Part_2', 'Q45_Part_3', 'Q45_Part_4', 'Q45_Part_5'],\n",
       " 'Q47': ['Q47_Part_1', 'Q47_Part_2', 'Q47_Part_3', 'Q47_Part_4', 'Q47_Part_5'],\n",
       " 'Q49': ['Q49_Part_1', 'Q49_Part_2', 'Q49_Part_3', 'Q49_Part_4', 'Q49_Part_5'],\n",
       " 'Q50': ['Q50_Part_1', 'Q50_Part_2', 'Q50_Part_3', 'Q50_Part_4', 'Q50_Part_5']}"
      ]
     },
     "execution_count": 102,
     "metadata": {},
     "output_type": "execute_result"
    }
   ],
   "source": [
    "q_dict = createDictofCatQuestions(5, df_multi_choice)\n",
    "q_dict"
   ]
  },
  {
   "cell_type": "code",
   "execution_count": 116,
   "metadata": {},
   "outputs": [],
   "source": [
    "def createDataFrames(n, df):\n",
    "    '''\n",
    "    Input: A dictionary of keys that correspond to the question with its values as all the parts. \n",
    "    output: A dictionary of dataframes for each key\n",
    "    '''\n",
    "    q_dict = createDictofCatQuestions(n, df)\n",
    "    df_dict = dict()\n",
    "    for key in q_dict:\n",
    "        df_dict[key] = pd.DataFrame()\n",
    "        df_dict[key] = pd.concat([df_dict[key], df[q_dict[key]]], axis = 1)\n",
    "    \n",
    "    return df_dict"
   ]
  },
  {
   "cell_type": "code",
   "execution_count": 117,
   "metadata": {},
   "outputs": [],
   "source": [
    "df_dict = createDataFrames(q_dict, df_multi_choice)"
   ]
  },
  {
   "cell_type": "code",
   "execution_count": 118,
   "metadata": {},
   "outputs": [
    {
     "data": {
      "text/plain": [
       "dict_keys(['Q11', 'Q13', 'Q14', 'Q15', 'Q16', 'Q19', 'Q21', 'Q27', 'Q28', 'Q29', 'Q30', 'Q31', 'Q33', 'Q34', 'Q35', 'Q36', 'Q38', 'Q39', 'Q42', 'Q44', 'Q45', 'Q47', 'Q49', 'Q50'])"
      ]
     },
     "execution_count": 118,
     "metadata": {},
     "output_type": "execute_result"
    }
   ],
   "source": [
    "df_dict.keys()"
   ]
  },
  {
   "cell_type": "code",
   "execution_count": 128,
   "metadata": {},
   "outputs": [
    {
     "name": "stderr",
     "output_type": "stream",
     "text": [
      "/Users/adrianlievano/anaconda3/lib/python3.6/site-packages/IPython/core/interactiveshell.py:2728: DtypeWarning: Columns (0,2,8,10,21,23,24,25,26,27,28,44,56,64,83,85,87,107,109,123,125,150,157,172,174,194,210,218,219,223,246,249,262,264,276,277,278,279,280,281,282,283,284,285,286,287,288,289,290,304,306,325,326,329,341,368,371,384,385,389,390,391,393,394) have mixed types. Specify dtype option on import or set low_memory=False.\n",
      "  interactivity=interactivity, compiler=compiler, result=result)\n"
     ]
    },
    {
     "data": {
      "text/html": [
       "<div>\n",
       "<style scoped>\n",
       "    .dataframe tbody tr th:only-of-type {\n",
       "        vertical-align: middle;\n",
       "    }\n",
       "\n",
       "    .dataframe tbody tr th {\n",
       "        vertical-align: top;\n",
       "    }\n",
       "\n",
       "    .dataframe thead th {\n",
       "        text-align: right;\n",
       "    }\n",
       "</style>\n",
       "<table border=\"1\" class=\"dataframe\">\n",
       "  <thead>\n",
       "    <tr style=\"text-align: right;\">\n",
       "      <th></th>\n",
       "      <th>Q11_Part_1</th>\n",
       "      <th>Q11_Part_2</th>\n",
       "      <th>Q11_Part_3</th>\n",
       "      <th>Q11_Part_4</th>\n",
       "      <th>Q11_Part_5</th>\n",
       "    </tr>\n",
       "  </thead>\n",
       "  <tbody>\n",
       "    <tr>\n",
       "      <th>0</th>\n",
       "      <td>Analyze and understand data to influence produ...</td>\n",
       "      <td>Build and/or run a machine learning service th...</td>\n",
       "      <td>Build and/or run the data infrastructure that ...</td>\n",
       "      <td>NaN</td>\n",
       "      <td>Do research that advances the state of the art...</td>\n",
       "    </tr>\n",
       "    <tr>\n",
       "      <th>1</th>\n",
       "      <td>NaN</td>\n",
       "      <td>NaN</td>\n",
       "      <td>NaN</td>\n",
       "      <td>NaN</td>\n",
       "      <td>NaN</td>\n",
       "    </tr>\n",
       "    <tr>\n",
       "      <th>2</th>\n",
       "      <td>Analyze and understand data to influence produ...</td>\n",
       "      <td>NaN</td>\n",
       "      <td>NaN</td>\n",
       "      <td>NaN</td>\n",
       "      <td>NaN</td>\n",
       "    </tr>\n",
       "    <tr>\n",
       "      <th>3</th>\n",
       "      <td>NaN</td>\n",
       "      <td>NaN</td>\n",
       "      <td>NaN</td>\n",
       "      <td>NaN</td>\n",
       "      <td>NaN</td>\n",
       "    </tr>\n",
       "    <tr>\n",
       "      <th>4</th>\n",
       "      <td>NaN</td>\n",
       "      <td>NaN</td>\n",
       "      <td>NaN</td>\n",
       "      <td>NaN</td>\n",
       "      <td>NaN</td>\n",
       "    </tr>\n",
       "  </tbody>\n",
       "</table>\n",
       "</div>"
      ],
      "text/plain": [
       "                                          Q11_Part_1  \\\n",
       "0  Analyze and understand data to influence produ...   \n",
       "1                                                NaN   \n",
       "2  Analyze and understand data to influence produ...   \n",
       "3                                                NaN   \n",
       "4                                                NaN   \n",
       "\n",
       "                                          Q11_Part_2  \\\n",
       "0  Build and/or run a machine learning service th...   \n",
       "1                                                NaN   \n",
       "2                                                NaN   \n",
       "3                                                NaN   \n",
       "4                                                NaN   \n",
       "\n",
       "                                          Q11_Part_3 Q11_Part_4  \\\n",
       "0  Build and/or run the data infrastructure that ...        NaN   \n",
       "1                                                NaN        NaN   \n",
       "2                                                NaN        NaN   \n",
       "3                                                NaN        NaN   \n",
       "4                                                NaN        NaN   \n",
       "\n",
       "                                          Q11_Part_5  \n",
       "0  Do research that advances the state of the art...  \n",
       "1                                                NaN  \n",
       "2                                                NaN  \n",
       "3                                                NaN  \n",
       "4                                                NaN  "
      ]
     },
     "execution_count": 128,
     "metadata": {},
     "output_type": "execute_result"
    }
   ],
   "source": [
    "df_multi_choice = pd.read_csv('kaggle-survey-2018/multipleChoiceResponses.csv')\n",
    "df_multi_choice = df_multi_choice[1:].reset_index().drop(['index'], axis = 1)\n",
    "df_dict = createDataFrames(q_dict, df_multi_choice)\n",
    "df_11 = df_dict['Q11']\n",
    "df_11.head()"
   ]
  },
  {
   "cell_type": "code",
   "execution_count": null,
   "metadata": {},
   "outputs": [],
   "source": []
  }
 ],
 "metadata": {
  "kernelspec": {
   "display_name": "Python 3",
   "language": "python",
   "name": "python3"
  },
  "language_info": {
   "codemirror_mode": {
    "name": "ipython",
    "version": 3
   },
   "file_extension": ".py",
   "mimetype": "text/x-python",
   "name": "python",
   "nbconvert_exporter": "python",
   "pygments_lexer": "ipython3",
   "version": "3.6.4"
  }
 },
 "nbformat": 4,
 "nbformat_minor": 2
}
